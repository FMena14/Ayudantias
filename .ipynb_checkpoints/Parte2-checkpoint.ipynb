{
 "cells": [
  {
   "cell_type": "markdown",
   "metadata": {},
   "source": [
    "# Back Propagation from Scratch\n",
    "\n",
    "En esta sección se trabajará con los algoritmos que resuelven las redes neuronales *Feed Forward*, es decir, los algoritmos que encuentran valores óptimos para sus pesos. Para esto se implementará estos algoritmos desde 0 (*from scratch*) teniendo unicamente el apoyo de librerías para operaciones básicas como lo entrega **numpy**."
   ]
  },
  {
   "cell_type": "markdown",
   "metadata": {},
   "source": [
    "### a) Entrenar una red **FF**"
   ]
  },
  {
   "cell_type": "code",
   "execution_count": 22,
   "metadata": {
    "collapsed": false
   },
   "outputs": [
    {
     "name": "stdout",
     "output_type": "stream",
     "text": [
      "hola mundo\n"
     ]
    }
   ],
   "source": [
    "import numpy as np\n",
    "\n",
    "epsilon =  1e-15\n",
    "#----funcion de activacion y gradiente\n",
    "def sigmoid(x):\n",
    "    if x > 0:\n",
    "        x = np.maximum(epsilon, x) #si x es muy pequeño\n",
    "    if x <0:\n",
    "        x = np.maximum(-600,x)  #si x es muy negativo\n",
    "    return 1 / (1 + np.exp(-x))\n",
    "    \n",
    "def gradient_sigmoid(x):\n",
    "    return sigmoid(x)*(1-sigmoid(x))\n",
    "\n",
    "#---funcion de perdida y gradiente\n",
    "def loss_function(y,ypred):\n",
    "    #binary\n",
    "    ypred = np.maximum(epsilon, ypred)\n",
    "    return -1.0*( y*np.log(ypred) + np.subtract(1,y)*np.log(np.subtract(1,ypred)) ) \n",
    "\n",
    "    #error cuadratico\n",
    "    #return np.pow(y-ypred,2)/2\n",
    "def gradient_loss_function(y,ypred):\n",
    "    #binary\n",
    "    ypred = np.maximum(epsilon, ypred)\n",
    "    return -1.0* ( y-ypred)/(ypred*np.subtract(1,ypred))\n",
    "    \n",
    "    #error cuadratico\n",
    "    #return y-ypred\n",
    "\n",
    "#funcion que crea la arquitectura y crea las matrices \n",
    "#necesarias para almacenar informacion\n",
    "def crear_arquitectura(input_dim,H,O,L):\n",
    "    # numero de neuronas por capa\n",
    "    S = range(L)\n",
    "    S[0] = input_dim #input\n",
    "    S[1] = H #oculta\n",
    "    S[2] = O #salida\n",
    "    \n",
    "    #inicializan matrices de salidas de neuronas\n",
    "    A = range(L)\n",
    "    A_der = range(L) \n",
    "    for l in range(0,L):\n",
    "        A[l] = np.zeros(S[l]) #salida de capa l\n",
    "        A_der[l] = A[l].copy()       #salida derivada de capa l\n",
    "        \n",
    "    #inicializa matrices que guardan derividas\n",
    "    Error_salida = range(L)\n",
    "    Error_peso = range(L)\n",
    "    for l in range(0,L):\n",
    "        Error_salida[l] = np.zeros(S[l]) # error salida de capa l\n",
    "    for l in range(0,L-1):\n",
    "        Error_peso[l] = np.zeros((S[l],S[l+1]))    \n",
    "        \n",
    "    return S,A,A_der, Error_salida, Error_peso\n",
    "\n",
    "#inicializa pesos\n",
    "def init(L,S): \n",
    "    WM = range(L-1)\n",
    "    for l in range(0,L-1):\n",
    "        #WM[l] = np.zeros((S[l],S[l+1]))\n",
    "        WM[l] = np.random.rand(S[l],S[l+1])\n",
    "    return WM  \n",
    "\n",
    "#realiza un forward pass de un par (xi,yi)\n",
    "def forward_pass(xi,yi,L,WM, A,A_der,S):\n",
    "    A[0] = xi.copy() #inicializa el input\n",
    "    for l in range(0,L-1): #por cada transicion entre capas {0,L-2}        \n",
    "        for s in range(0,S[l+1]): #por cada neurona de la capa siguiente\n",
    "            aux = np.dot( WM[l][:,s], A[l])\n",
    "            A[l+1][s] = sigmoid(aux).copy()\n",
    "            A_der[l+1][s] = gradient_sigmoid(aux).copy()\n",
    "\n",
    "def backward_pass(xi,yi,L,WM,A,A_der,S, Error_salida,Error_peso,lr):\n",
    "    #calcula el error en la ultima capa\n",
    "    for s in range(0,S[L-1]): \n",
    "        #arquitectura con multiples salidas (y es un vector)\n",
    "        ypred = A[L-1].copy()\n",
    "        Error_salida[L-1][s] = gradient_loss_function(yi[s], ypred[s])\n",
    "        Error_peso[L-2][:,s] = np.dot(Error_salida[L-1][s], np.dot(A_der[L-1][s], A[L-2]) )\n",
    "        \n",
    "        #actualizar pesos en vector\n",
    "        WM[L-2][:,s] = WM[L-2][:,s] - lr*Error_peso[L-2][:,s]\n",
    "    #calcula el error recurisvamente\n",
    "    for l in np.arange(L-2,0,-1): #desde la penultima capa hasta la segunda {L-2,1}\n",
    "        for s in range(0,S[l]): #para cada neurona en la capa l\n",
    "            Error_salida[l][s] = np.sum(Error_salida[l+1])\n",
    "            Error_peso[l-1][:,s] =  np.dot( Error_salida[l][s], np.dot( A_der[l][s], A[l-1]) )\n",
    "            \n",
    "            #actualizar pesos en vector\n",
    "            WM[l-1][:,s] = WM[l-1][:,s] - lr*Error_peso[l-1][:,s]\n",
    "            \n",
    "#estructura de red neuronal con sus atributos necesarios\n",
    "class red_neuronal:\n",
    "    def __init__(self,args):\n",
    "        self.L = args[0]\n",
    "        self.input_dim = args[1]\n",
    "        self.H = args[2]\n",
    "        self.O = args[3]\n",
    "        self.S, self.A, self.A_der,self.E_salida,self.E_pesos = crear_arquitectura(\n",
    "                                                                    self.input_dim,\n",
    "                                                                    self.H,\n",
    "                                                                    self.O,\n",
    "                                                                    self.L\n",
    "                                                                    )\n",
    "        self.WM = init(self.L,self.S)          \n",
    "        \n",
    "    def entrenar(self,X,Y,lr,epochs):\n",
    "        loss_por_epoch = []\n",
    "        error_por_epoch = []\n",
    "        for i in range(epochs): #criterio de parada\n",
    "            loss = []\n",
    "            error =[]\n",
    "            \n",
    "            #con sgd un ejemplo a la vez\n",
    "            datos = zip(X,Y)\n",
    "            np.random.shuffle(datos)\n",
    "            for xi,yi in datos: \n",
    "                #actualizan las salidas\n",
    "                forward_pass(xi,yi,self.L,self.WM, self.A,self.A_der,self.S)\n",
    "                \n",
    "                #medir el error y loss\n",
    "                ypred = self.A[self.L-1].copy()\n",
    "                loss.append(loss_function(yi,ypred))\n",
    "                error.append( 1 - yi[np.argmax(ypred)] )\n",
    "            \n",
    "                #actualizan los pesos\n",
    "                backward_pass(xi,yi,self.L,self.WM,self.A,self.A_der,self.S,self.E_salida,self.E_pesos,lr)\n",
    "            loss_por_epoch.append( np.mean(loss) )\n",
    "            error_por_epoch.append( np.mean(error) )\n",
    "        return loss_por_epoch,error_por_epoch\n",
    "                  \n",
    "print \"hola mundo\""
   ]
  },
  {
   "cell_type": "markdown",
   "metadata": {},
   "source": [
    "En la celda anterior se implementan las 4 funciones solicitadas las cuales inicializan los pesos en la primera iteración para la red neuronal, implementar el *forward pass* el cual entrega un input a la red pasando a través de todas las capas, generando el output correspondiente, el *backward pass* el cual calcula la pérdida (*loss*) en la última capa y esta es traspasada hacia atrás actualizando los pesos a cada capa. Finalmente se implementa la rutina que entrena a la red ejemplo por ejemplo una cantidad de *epochs* fijos.  \n",
    "Detalles de la implementación anterior es que se cambiaron los indices asociados a la notación vista en clases, ya que para python los indices inician en 0 en vez de 1, por lo que se implementó de esa forma, donde la capa y pesos iniciales parten desde el indice 0.  \n",
    "La actualización de los pesos es vectorial, es decir, se actualizan los pesos de todas las neuronas que llegan a la neurona *s* de alguna capa en particular. \n",
    "Más detalles de la implementación son los siguientes:  \n",
    "* S es una lista \n",
    "    * $S[l]$ es la cantidad de neuronas de la capa *l*\n",
    "* A y A_der es lista de arrays numpy\n",
    "    * $A[l][s]$ es la salida de la neurona *s* en la capa *l*\n",
    "* WM es una lista de matrices numpy\n",
    "    * $WM[l][s,:]$ pesos de los valores que salen de la neurona *s* de la capa *l*\n",
    "    * $WM[l][:,s]$ pesos de los valores que entran a la *s* en la capa *l+1* \n",
    "* Error son listas de matrices numpy\n",
    "    * $Error[l][s]$ es la derivada del error sobre la salida o pesos de la neurona *s* en la capa *l*\n",
    "\n",
    "Las distintas funciones implementadas reciben los argumentos necesarios para ejecutarse, siendo algunos de los descritos anteriormente. La función de activación implementada es la sigmoidal y la función de pérdida es la *binary cross entropy*."
   ]
  },
  {
   "cell_type": "markdown",
   "metadata": {},
   "source": [
    "### b) Predicciones con la red"
   ]
  },
  {
   "cell_type": "code",
   "execution_count": 272,
   "metadata": {
    "collapsed": false
   },
   "outputs": [],
   "source": [
    "#FF  = red ya entrenada\n",
    "def predecir(X_test,y_test,FF):\n",
    "    n_test = len(y_test)\n",
    "    print \"numero de ejemplos: \",n_test\n",
    "    \n",
    "    predicciones = []\n",
    "    for xi,yi in zip(X_test,y_test): #para n_test ejemplos\n",
    "        y_hat = forward_pass(xi,yi,FF.L,FF.WM, FF.A,FF.A_der,FF.S)\n",
    "        predicciones.append(y_hat)\n",
    "    return predicciones"
   ]
  },
  {
   "cell_type": "markdown",
   "metadata": {},
   "source": [
    "La función anterior predice la salida de la red neuronal para un conjunto de entradas, realizando un *forward pass* para cada dato de entrada y prediciendo su salida."
   ]
  },
  {
   "cell_type": "markdown",
   "metadata": {},
   "source": [
    "### c) Probar programa creado"
   ]
  },
  {
   "cell_type": "code",
   "execution_count": 23,
   "metadata": {
    "collapsed": false
   },
   "outputs": [
    {
     "name": "stdout",
     "output_type": "stream",
     "text": [
      "(210, 7)\n",
      "(210,)\n"
     ]
    }
   ],
   "source": [
    "from sklearn.preprocessing import StandardScaler\n",
    "import pandas as pd\n",
    "url = 'http://archive.ics.uci.edu/ml/machine-learning-databases/00236/seeds_dataset.txt'\n",
    "df = pd.read_csv(url, sep=r'\\s+',header=None)\n",
    "X_train = df.ix[:,0:6]\n",
    "y_train = df.ix[:,7]\n",
    "scaler = StandardScaler().fit(X_train)\n",
    "X_train = scaler.transform(X_train)\n",
    "\n",
    "print X_train.shape\n",
    "print y_train.shape"
   ]
  },
  {
   "cell_type": "markdown",
   "metadata": {},
   "source": [
    "El dataset sobre el cual se probará el programa de una red neuronal *Feed Forward* es el de **seeds**, con 210 filas representando los distintos ejemplos y con 7 atributos para lograr realizar la tarea adecuadamente. La tarea consta en clasificar un ejemplo como un tipo de semilla en específico (3 clases), por lo que es una tarea de clasificación de multiclases."
   ]
  },
  {
   "cell_type": "code",
   "execution_count": 24,
   "metadata": {
    "collapsed": true
   },
   "outputs": [],
   "source": [
    "def softmax(x):\n",
    "    retorno = np.zeros(len(x))\n",
    "    suma =0.0\n",
    "    for i in x:\n",
    "        valor = np.maximum(epsilon,i)\n",
    "        suma+=np.exp(valor)\n",
    "    for i in range(len(x)):\n",
    "        valor = np.maximum(epsilon,x[i])\n",
    "        retorno[i] = np.exp(valor)/suma #salida normalizada\n",
    "    return retorno\n",
    "def gradient_softmax(x):\n",
    "    return softmax(x)*(1-softmax(x))\n",
    "\n",
    "def forward_pass(xi,yi,L,WM, A,A_der,S):\n",
    "    A[0] = xi.copy() #inicializa el input\n",
    "    for l in range(0,L-1): #por cada capa        \n",
    "        for s in range(0,S[l+1]): #por cada neurona de la capa siguiente\n",
    "            aux = np.dot( WM[l][:,s], A[l])\n",
    "            A[l+1][s] = sigmoid(aux)\n",
    "            A_der[l+1][s] = gradient_sigmoid(aux)\n",
    "    #ultima capa softmax\n",
    "    A[L-1] = softmax(A[L-1]) \n",
    "    A_der[L-1] = gradient_softmax(A[L-1])\n",
    "    return A[L-1].copy()"
   ]
  },
  {
   "cell_type": "markdown",
   "metadata": {},
   "source": [
    "Se añade la función de activación softmax a la última capa debido a que el problema de multiclases lo amerita y así tener la capa de salida normalizada, ya que la clasificación es mutuamente excluyente por lo que un ejemplo solo pertenece a una clase."
   ]
  },
  {
   "cell_type": "code",
   "execution_count": 45,
   "metadata": {
    "collapsed": false
   },
   "outputs": [
    {
     "name": "stdout",
     "output_type": "stream",
     "text": [
      "1\n",
      "[1 0 0]\n",
      "(210, 3)\n"
     ]
    }
   ],
   "source": [
    "#y en un hot vector\n",
    "nuevo_df = pd.get_dummies(df,columns =[7])\n",
    "casi_y = nuevo_df.ix[:,7:10]\n",
    "y_hotvector = np.asarray(casi_y)\n",
    "print y_train[0]\n",
    "print y_hotvector[0]\n",
    "print y_hotvector.shape\n",
    "\n",
    "#Creacion de la red FF\n",
    "L = 3\n",
    "input_dim = X_train.shape[1]\n",
    "H = 32 #hidden\n",
    "O = 3 #outpit\n",
    "FF = red_neuronal([L,input_dim,H,O])\n",
    "loss,error = FF.entrenar(X_train,y_hotvector,lr = 0.5 ,epochs = 100)"
   ]
  },
  {
   "cell_type": "markdown",
   "metadata": {},
   "source": [
    "En primer lugar se transforma el *target* en un vector de 3 dimensiones representando cada clase donde tiene un 1 en la clase que corresponde al ejemplo, es decir, un **hot vector**.  \n",
    "En la celda anterior se entrena la red creada con 3 capas, 32 neuronas en la capa escondida y 3 neuronas en la capa de salida debido a que el problema es un problema de clasificación de 3 clases. La función de activación seleccionada anteriormente es la sigmoidal, esencial para problemas de clasificación. La función de pérdida es la *binary cross entropy*.  \n",
    "Se entrena la red con *learning rate* de 0.5 y número de epochs igual a 100."
   ]
  },
  {
   "cell_type": "code",
   "execution_count": 282,
   "metadata": {
    "collapsed": false
   },
   "outputs": [
    {
     "name": "stdout",
     "output_type": "stream",
     "text": [
      "numero de ejemplos:  210\n",
      "[array([ 0.42230625,  0.15538749,  0.42230625]), array([ 0.42230678,  0.15538643,  0.42230678]), array([ 0.32901517,  0.32179987,  0.34918496]), array([ 0.36236482,  0.23696194,  0.40067324]), array([ 0.40862035,  0.18275931,  0.40862035])]\n"
     ]
    }
   ],
   "source": [
    "print predecir(X_train,y_hotvector ,FF)[:5]"
   ]
  },
  {
   "cell_type": "markdown",
   "metadata": {},
   "source": [
    "En la celda anterior se verifica que funciona el programa creado anteriormente para hacer prediciones con la red neuronal creada, entregando una predicción para cada valor del conjunto requerido."
   ]
  },
  {
   "cell_type": "code",
   "execution_count": 46,
   "metadata": {
    "collapsed": false
   },
   "outputs": [
    {
     "data": {
      "image/png": "[encoded data removed]",
      "text/plain": [
       "<matplotlib.figure.Figure at 0x7f335e267690>"
      ]
     },
     "metadata": {},
     "output_type": "display_data"
    },
    {
     "data": {
      "text/plain": [
       "<matplotlib.figure.Figure at 0x7f335dde9210>"
      ]
     },
     "metadata": {},
     "output_type": "display_data"
    },
    {
     "data": {
      "image/png": "[encoded data removed]",
      "text/plain": [
       "<matplotlib.figure.Figure at 0x7f335dde9050>"
      ]
     },
     "metadata": {},
     "output_type": "display_data"
    }
   ],
   "source": [
    "import matplotlib.pyplot as plt\n",
    "plt.figure(figsize=(12,6))\n",
    "plt.title(\"Binary Cross entropy loss\")\n",
    "plt.plot(np.arange(1,101),loss)\n",
    "plt.xlabel('Epochs')\n",
    "plt.ylabel('Loss')\n",
    "plt.ylim(0,0.7)\n",
    "plt.show()\n",
    "plt.clf()\n",
    "\n",
    "plt.figure(figsize=(12,6))\n",
    "plt.title(\"Error de clasificacion\")\n",
    "plt.plot(np.arange(1,101),error)\n",
    "plt.xlabel('Epochs')\n",
    "plt.ylabel('Error')\n",
    "plt.ylim(0,0.7)\n",
    "plt.show()"
   ]
  },
  {
   "cell_type": "markdown",
   "metadata": {},
   "source": [
    "En la celda anterior se presentan dos gráficos. En el primero se aprecia la función objetivo, que en este caso es el **binary cross entropy** dado que no existe regularizador. En este gráfico hay varios montes/cimas, esto significa que el algoritmo va explorando distintas regiones del espacio de búsqueda de una manera aleatoria debido a su variación, pero a medida que avanzan los epochs se mantiene una tendencia constante a descender el error. \n",
    "\n",
    "En el segundo gráfico, se ve el error de clasificación de la red neuronal implementada a medida que se realizan epochs, este error es máximo (100%) cuando la predicción es incorrrecta y es mínimo (0%) cuando la predicción es correcta. Se puede visualizar que hay grandes cambios en el valor del error, esto se debe a la estricta evaluación. Esto es, las cimas del error implican que para esos epochs, el modelo clasificó a la mayoría de los datos de forma errónea, o sea, le otorgó una mayor probabilidad de clasificación a la etiqueta incorrecta. A medida que van aumentando los epochs, el modelo logra aprender y ajustarse de buena manera para mantener un error bajo, aproximadamente del 10%.  \n",
    "Se puede ver la forma mas *suave* de la función de pérdida **binary cross entroy**, esto es para explorar de una mejor manera el espacio de búsqueda que una función tan *tosca* como el error de clasificación."
   ]
  },
  {
   "cell_type": "markdown",
   "metadata": {
    "collapsed": true
   },
   "source": [
    "### d) weight decay"
   ]
  },
  {
   "cell_type": "code",
   "execution_count": 1,
   "metadata": {
    "collapsed": true
   },
   "outputs": [],
   "source": [
    "def backward_pass(xi,yi,L,WM,A,A_der,S, Error_salida,Error_peso,lr,weight_decay):\n",
    "    #...\n",
    "    WM[l-1][:,s] = (1- weight_decay) * WM[l-1][:,s] - lr*Error_peso[l-1][:,s]\n",
    "    #...\n",
    "    \n",
    "\n",
    "def entrenar(self,X,Y,lr,epochs,weight_decay):\n",
    "    #...\n",
    "    backward_pass(xi,yi,self.L,self.WM,self.A,self.A_der,self.S,self.E_salida,self.E_pesos,lr,weight_decay)\n",
    "    #...\n",
    "\n",
    "#actualizar weight decay"
   ]
  },
  {
   "cell_type": "markdown",
   "metadata": {},
   "source": [
    "Esto muestra cómo se debería añadir la variación al algoritmo, *weight decay*, para que se reste y decaiga los pesos en cada *epoch*, actuando como regularización."
   ]
  }
 ],
 "metadata": {
  "kernelspec": {
   "display_name": "Python 2",
   "language": "python",
   "name": "python2"
  },
  "language_info": {
   "codemirror_mode": {
    "name": "ipython",
    "version": 2
   },
   "file_extension": ".py",
   "mimetype": "text/x-python",
   "name": "python",
   "nbconvert_exporter": "python",
   "pygments_lexer": "ipython2",
   "version": "2.7.9"
  }
 },
 "nbformat": 4,
 "nbformat_minor": 1
}
