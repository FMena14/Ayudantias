{
 "cells": [
  {
   "cell_type": "markdown",
   "metadata": {},
   "source": [
    "# Heartbeat Sounds\n",
    "link: https://www.kaggle.com/kinguistics/heartbeat-sounds"
   ]
  },
  {
   "cell_type": "code",
   "execution_count": 1,
   "metadata": {},
   "outputs": [
    {
     "data": {
      "text/html": [
       "<div>\n",
       "<style>\n",
       "    .dataframe thead tr:only-child th {\n",
       "        text-align: right;\n",
       "    }\n",
       "\n",
       "    .dataframe thead th {\n",
       "        text-align: left;\n",
       "    }\n",
       "\n",
       "    .dataframe tbody tr th {\n",
       "        vertical-align: top;\n",
       "    }\n",
       "</style>\n",
       "<table border=\"1\" class=\"dataframe\">\n",
       "  <thead>\n",
       "    <tr style=\"text-align: right;\">\n",
       "      <th></th>\n",
       "      <th>dataset</th>\n",
       "      <th>fname</th>\n",
       "      <th>label</th>\n",
       "      <th>sublabel</th>\n",
       "    </tr>\n",
       "  </thead>\n",
       "  <tbody>\n",
       "    <tr>\n",
       "      <th>0</th>\n",
       "      <td>a</td>\n",
       "      <td>set_a/artifact__201012172012.wav</td>\n",
       "      <td>artifact</td>\n",
       "      <td>NaN</td>\n",
       "    </tr>\n",
       "    <tr>\n",
       "      <th>1</th>\n",
       "      <td>a</td>\n",
       "      <td>set_a/artifact__201105040918.wav</td>\n",
       "      <td>artifact</td>\n",
       "      <td>NaN</td>\n",
       "    </tr>\n",
       "    <tr>\n",
       "      <th>2</th>\n",
       "      <td>a</td>\n",
       "      <td>set_a/artifact__201105041959.wav</td>\n",
       "      <td>artifact</td>\n",
       "      <td>NaN</td>\n",
       "    </tr>\n",
       "    <tr>\n",
       "      <th>3</th>\n",
       "      <td>a</td>\n",
       "      <td>set_a/artifact__201105051017.wav</td>\n",
       "      <td>artifact</td>\n",
       "      <td>NaN</td>\n",
       "    </tr>\n",
       "    <tr>\n",
       "      <th>4</th>\n",
       "      <td>a</td>\n",
       "      <td>set_a/artifact__201105060108.wav</td>\n",
       "      <td>artifact</td>\n",
       "      <td>NaN</td>\n",
       "    </tr>\n",
       "  </tbody>\n",
       "</table>\n",
       "</div>"
      ],
      "text/plain": [
       "  dataset                             fname     label  sublabel\n",
       "0       a  set_a/artifact__201012172012.wav  artifact       NaN\n",
       "1       a  set_a/artifact__201105040918.wav  artifact       NaN\n",
       "2       a  set_a/artifact__201105041959.wav  artifact       NaN\n",
       "3       a  set_a/artifact__201105051017.wav  artifact       NaN\n",
       "4       a  set_a/artifact__201105060108.wav  artifact       NaN"
      ]
     },
     "execution_count": 1,
     "metadata": {},
     "output_type": "execute_result"
    }
   ],
   "source": [
    "import pandas as pd\n",
    "import numpy as np\n",
    "\n",
    "path_a = './heartbeat-sounds/'\n",
    "df =pd.read_csv(path_a+'set_a.csv')\n",
    "df.head()"
   ]
  },
  {
   "cell_type": "code",
   "execution_count": 2,
   "metadata": {},
   "outputs": [
    {
     "data": {
      "text/plain": [
       "(176, 4)"
      ]
     },
     "execution_count": 2,
     "metadata": {},
     "output_type": "execute_result"
    }
   ],
   "source": [
    "df.shape"
   ]
  },
  {
   "cell_type": "code",
   "execution_count": 3,
   "metadata": {
    "collapsed": true
   },
   "outputs": [],
   "source": [
    "from scipy.io import wavfile\n",
    "def clean_filename(fname, string):   \n",
    "    file_name = fname.split('/')[1]\n",
    "    if file_name[:2] == '__':        \n",
    "        file_name = string + file_name\n",
    "    return file_name\n",
    "SAMPLE_RATE = 44100\n",
    "def load_wav_file(name, path):\n",
    "    s, b = wavfile.read(path + name)\n",
    "    assert s == SAMPLE_RATE\n",
    "    return b"
   ]
  },
  {
   "cell_type": "code",
   "execution_count": 4,
   "metadata": {
    "collapsed": true
   },
   "outputs": [],
   "source": [
    "def padd_zeros(array,length):\n",
    "    aux = np.zeros(length)\n",
    "    aux[:array.shape[0]] = array\n",
    "    return aux.tolist()\n",
    "\n",
    "def repeat_to_length(arr, length):\n",
    "    \"\"\"Repeats the numpy 1D array to given length, and makes datatype float\"\"\"\n",
    "    result = np.empty((length, ), dtype = 'float32')\n",
    "    l = len(arr)\n",
    "    pos = 0\n",
    "    while pos + l <= length:\n",
    "        result[pos:pos+l] = arr\n",
    "        pos += l\n",
    "    if pos < length:\n",
    "        result[pos:length] = arr[:length-pos]\n",
    "    return result\n",
    "new_df = pd.DataFrame({'file_name' : df['fname'].apply(clean_filename, string='Aunlabelledtest')})  \n",
    "new_df['time_series'] = new_df['file_name'].apply(load_wav_file, path='./heartbeat-sounds/set_a/')    \n",
    "new_df['len_series'] = new_df['time_series'].apply(len)\n",
    "MAX_LEN = max(new_df['len_series'])\n",
    "new_df['time_series'] = new_df['time_series'].apply(padd_zeros, length=MAX_LEN) "
   ]
  },
  {
   "cell_type": "markdown",
   "metadata": {},
   "source": [
    "porque podria ser?"
   ]
  },
  {
   "cell_type": "markdown",
   "metadata": {},
   "source": [
    "New labels por https://www.kaggle.com/toregil/new-labels-for-set-a"
   ]
  },
  {
   "cell_type": "code",
   "execution_count": 5,
   "metadata": {
    "collapsed": true
   },
   "outputs": [],
   "source": [
    "new_labels =[0, 0, 0, 0, 0, 0, 0, 0, 0, 0, 0, 0, 0, 0, 0, 0, 0, 0, 0, 0, 0, 0, 0, 0, 0, \n",
    "             0, 0, 0, 0, 0, 0, 0, 0, 0, 0, 0, 0, 0, 0, 0, 2, 1, 1, 1, 1, 1, 1, 1, 1, 1,\n",
    "             1, 1, 1, 1, 1, 2, 1, 1, 1, 2, 2, 2, 1, 1, 2, 1, 2, 2, 1, 2, 2, 2, 2, 2, 2,\n",
    "             2, 2, 2, 2, 2, 2, 2, 2, 2, 2, 2, 2, 2, 2, 2, 2, 2, 2, 1, 1, 1, 1, 1, 1, 1,\n",
    "             1, 2, 1, 1, 1, 1, 1, 2, 1, 1, 1, 1, 1, 1, 1, 2, 2, 1, 1, 1, 1, 1, 2, 1, 0,\n",
    "             2, 2, 1, 1, 1, 1, 1, 0, 1, 0, 1, 1, 1, 2, 1, 0, 1, 1, 1, 1, 1, 2, 0, 0, 0, \n",
    "             0, 0, 0, 0, 1, 0, 0, 0, 0, 0, 0, 1, 0, 2, 1, 2, 2, 2, 2, 2, 2, 2, 2, 2, 2, 2]\n",
    "labels = ['artifact','normal/extrahls', 'murmur']\n",
    "new_labels = [labels[i] for i in new_labels]\n",
    "new_df['target'] = new_labels"
   ]
  },
  {
   "cell_type": "code",
   "execution_count": 6,
   "metadata": {},
   "outputs": [
    {
     "data": {
      "text/html": [
       "<div>\n",
       "<style>\n",
       "    .dataframe thead tr:only-child th {\n",
       "        text-align: right;\n",
       "    }\n",
       "\n",
       "    .dataframe thead th {\n",
       "        text-align: left;\n",
       "    }\n",
       "\n",
       "    .dataframe tbody tr th {\n",
       "        vertical-align: top;\n",
       "    }\n",
       "</style>\n",
       "<table border=\"1\" class=\"dataframe\">\n",
       "  <thead>\n",
       "    <tr style=\"text-align: right;\">\n",
       "      <th></th>\n",
       "      <th>file_name</th>\n",
       "      <th>time_series</th>\n",
       "      <th>len_series</th>\n",
       "      <th>target</th>\n",
       "    </tr>\n",
       "  </thead>\n",
       "  <tbody>\n",
       "    <tr>\n",
       "      <th>0</th>\n",
       "      <td>artifact__201012172012.wav</td>\n",
       "      <td>[1.0, -3.0, -1.0, -7.0, -9.0, -2.0, -6.0, -5.0...</td>\n",
       "      <td>396900</td>\n",
       "      <td>artifact</td>\n",
       "    </tr>\n",
       "    <tr>\n",
       "      <th>1</th>\n",
       "      <td>artifact__201105040918.wav</td>\n",
       "      <td>[-2.0, 3.0, -4.0, 4.0, -3.0, 2.0, -1.0, 0.0, 0...</td>\n",
       "      <td>396900</td>\n",
       "      <td>artifact</td>\n",
       "    </tr>\n",
       "    <tr>\n",
       "      <th>2</th>\n",
       "      <td>artifact__201105041959.wav</td>\n",
       "      <td>[6.0, -4.0, -9.0, -1.0, -4.0, 1.0, -5.0, 2.0, ...</td>\n",
       "      <td>396900</td>\n",
       "      <td>artifact</td>\n",
       "    </tr>\n",
       "    <tr>\n",
       "      <th>3</th>\n",
       "      <td>artifact__201105051017.wav</td>\n",
       "      <td>[-85.0, -198.0, -214.0, -173.0, -177.0, -206.0...</td>\n",
       "      <td>396900</td>\n",
       "      <td>artifact</td>\n",
       "    </tr>\n",
       "    <tr>\n",
       "      <th>4</th>\n",
       "      <td>artifact__201105060108.wav</td>\n",
       "      <td>[53.0, -35.0, 47.0, 170.0, 340.0, 436.0, 535.0...</td>\n",
       "      <td>396900</td>\n",
       "      <td>artifact</td>\n",
       "    </tr>\n",
       "  </tbody>\n",
       "</table>\n",
       "</div>"
      ],
      "text/plain": [
       "                    file_name  \\\n",
       "0  artifact__201012172012.wav   \n",
       "1  artifact__201105040918.wav   \n",
       "2  artifact__201105041959.wav   \n",
       "3  artifact__201105051017.wav   \n",
       "4  artifact__201105060108.wav   \n",
       "\n",
       "                                         time_series  len_series    target  \n",
       "0  [1.0, -3.0, -1.0, -7.0, -9.0, -2.0, -6.0, -5.0...      396900  artifact  \n",
       "1  [-2.0, 3.0, -4.0, 4.0, -3.0, 2.0, -1.0, 0.0, 0...      396900  artifact  \n",
       "2  [6.0, -4.0, -9.0, -1.0, -4.0, 1.0, -5.0, 2.0, ...      396900  artifact  \n",
       "3  [-85.0, -198.0, -214.0, -173.0, -177.0, -206.0...      396900  artifact  \n",
       "4  [53.0, -35.0, 47.0, 170.0, 340.0, 436.0, 535.0...      396900  artifact  "
      ]
     },
     "execution_count": 6,
     "metadata": {},
     "output_type": "execute_result"
    }
   ],
   "source": [
    "new_df.head()"
   ]
  },
  {
   "cell_type": "code",
   "execution_count": 7,
   "metadata": {},
   "outputs": [
    {
     "data": {
      "text/plain": [
       "normal/extrahls    65\n",
       "artifact           58\n",
       "murmur             53\n",
       "Name: target, dtype: int64"
      ]
     },
     "execution_count": 7,
     "metadata": {},
     "output_type": "execute_result"
    }
   ],
   "source": [
    "new_df['target'].value_counts()"
   ]
  },
  {
   "cell_type": "markdown",
   "metadata": {},
   "source": [
    "### CODIFICAR"
   ]
  },
  {
   "cell_type": "code",
   "execution_count": 6,
   "metadata": {},
   "outputs": [
    {
     "data": {
      "text/html": [
       "<div>\n",
       "<style>\n",
       "    .dataframe thead tr:only-child th {\n",
       "        text-align: right;\n",
       "    }\n",
       "\n",
       "    .dataframe thead th {\n",
       "        text-align: left;\n",
       "    }\n",
       "\n",
       "    .dataframe tbody tr th {\n",
       "        vertical-align: top;\n",
       "    }\n",
       "</style>\n",
       "<table border=\"1\" class=\"dataframe\">\n",
       "  <thead>\n",
       "    <tr style=\"text-align: right;\">\n",
       "      <th></th>\n",
       "      <th>file_name</th>\n",
       "      <th>time_series</th>\n",
       "      <th>len_series</th>\n",
       "      <th>target</th>\n",
       "    </tr>\n",
       "  </thead>\n",
       "  <tbody>\n",
       "    <tr>\n",
       "      <th>0</th>\n",
       "      <td>artifact__201012172012.wav</td>\n",
       "      <td>[1.0, -3.0, -1.0, -7.0, -9.0, -2.0, -6.0, -5.0...</td>\n",
       "      <td>396900</td>\n",
       "      <td>0</td>\n",
       "    </tr>\n",
       "    <tr>\n",
       "      <th>1</th>\n",
       "      <td>artifact__201105040918.wav</td>\n",
       "      <td>[-2.0, 3.0, -4.0, 4.0, -3.0, 2.0, -1.0, 0.0, 0...</td>\n",
       "      <td>396900</td>\n",
       "      <td>0</td>\n",
       "    </tr>\n",
       "    <tr>\n",
       "      <th>2</th>\n",
       "      <td>artifact__201105041959.wav</td>\n",
       "      <td>[6.0, -4.0, -9.0, -1.0, -4.0, 1.0, -5.0, 2.0, ...</td>\n",
       "      <td>396900</td>\n",
       "      <td>0</td>\n",
       "    </tr>\n",
       "    <tr>\n",
       "      <th>3</th>\n",
       "      <td>artifact__201105051017.wav</td>\n",
       "      <td>[-85.0, -198.0, -214.0, -173.0, -177.0, -206.0...</td>\n",
       "      <td>396900</td>\n",
       "      <td>0</td>\n",
       "    </tr>\n",
       "    <tr>\n",
       "      <th>4</th>\n",
       "      <td>artifact__201105060108.wav</td>\n",
       "      <td>[53.0, -35.0, 47.0, 170.0, 340.0, 436.0, 535.0...</td>\n",
       "      <td>396900</td>\n",
       "      <td>0</td>\n",
       "    </tr>\n",
       "  </tbody>\n",
       "</table>\n",
       "</div>"
      ],
      "text/plain": [
       "                    file_name  \\\n",
       "0  artifact__201012172012.wav   \n",
       "1  artifact__201105040918.wav   \n",
       "2  artifact__201105041959.wav   \n",
       "3  artifact__201105051017.wav   \n",
       "4  artifact__201105060108.wav   \n",
       "\n",
       "                                         time_series  len_series  target  \n",
       "0  [1.0, -3.0, -1.0, -7.0, -9.0, -2.0, -6.0, -5.0...      396900       0  \n",
       "1  [-2.0, 3.0, -4.0, 4.0, -3.0, 2.0, -1.0, 0.0, 0...      396900       0  \n",
       "2  [6.0, -4.0, -9.0, -1.0, -4.0, 1.0, -5.0, 2.0, ...      396900       0  \n",
       "3  [-85.0, -198.0, -214.0, -173.0, -177.0, -206.0...      396900       0  \n",
       "4  [53.0, -35.0, 47.0, 170.0, 340.0, 436.0, 535.0...      396900       0  "
      ]
     },
     "execution_count": 6,
     "metadata": {},
     "output_type": "execute_result"
    }
   ],
   "source": [
    "new_df[\"target\"] = new_df[\"target\"].astype('category')\n",
    "cat_columns = new_df.select_dtypes(['category']).columns\n",
    "new_df[cat_columns] = new_df[cat_columns].apply(lambda x: x.cat.codes)\n",
    "\n",
    "new_df.head()"
   ]
  },
  {
   "cell_type": "markdown",
   "metadata": {},
   "source": [
    "## Shuffle"
   ]
  },
  {
   "cell_type": "code",
   "execution_count": 7,
   "metadata": {
    "collapsed": true
   },
   "outputs": [],
   "source": [
    "new_df = new_df.sample(frac=1,random_state=44)"
   ]
  },
  {
   "cell_type": "code",
   "execution_count": 8,
   "metadata": {
    "collapsed": true
   },
   "outputs": [],
   "source": [
    "X = np.stack(new_df['time_series'].values, axis=0)\n",
    "y = new_df.target.values"
   ]
  },
  {
   "cell_type": "markdown",
   "metadata": {},
   "source": [
    "# preprocesamiento"
   ]
  },
  {
   "cell_type": "markdown",
   "metadata": {},
   "source": [
    "### Fourier"
   ]
  },
  {
   "cell_type": "code",
   "execution_count": 9,
   "metadata": {
    "collapsed": true
   },
   "outputs": [],
   "source": [
    "X_fourier = np.abs(np.fft.fft(X))\n",
    "\n",
    "#X_process = X_resampled.copy()\n",
    "#for i in range(X_resampled.shape[0]):\n",
    "#    sequence = X_resampled[i]\n",
    "#    X_process[i] = signal.cwt(sequence, signal.ricker, [1])"
   ]
  },
  {
   "cell_type": "markdown",
   "metadata": {},
   "source": [
    "### Wavelets"
   ]
  },
  {
   "cell_type": "code",
   "execution_count": 34,
   "metadata": {},
   "outputs": [
    {
     "data": {
      "text/plain": [
       "(176, 396900)"
      ]
     },
     "execution_count": 34,
     "metadata": {},
     "output_type": "execute_result"
    }
   ],
   "source": [
    "from scipy import signal\n",
    "X_wavelets = []\n",
    "for i in range(X_fourier.shape[0]):\n",
    "    sequence = X_fourier[i,:].copy()\n",
    "    sequence_w = signal.cwt(sequence,signal.ricker, [1])[0]\n",
    "    X_wavelets.append(sequence_w)\n",
    "X_wavelets = np.array(X_wavelets)\n",
    "X_wavelets.shape"
   ]
  },
  {
   "cell_type": "markdown",
   "metadata": {},
   "source": [
    "### Muestreo"
   ]
  },
  {
   "cell_type": "code",
   "execution_count": 49,
   "metadata": {},
   "outputs": [
    {
     "data": {
      "text/plain": [
       "(176, 396900)"
      ]
     },
     "execution_count": 49,
     "metadata": {},
     "output_type": "execute_result"
    }
   ],
   "source": [
    "X_fourier.shape"
   ]
  },
  {
   "cell_type": "code",
   "execution_count": 37,
   "metadata": {},
   "outputs": [
    {
     "data": {
      "text/plain": [
       "(176, 99225)"
      ]
     },
     "execution_count": 37,
     "metadata": {},
     "output_type": "execute_result"
    }
   ],
   "source": [
    "from scipy import signal\n",
    "X_resampled2 = []\n",
    "for i in range(X_wavelets.shape[0]):\n",
    "    secuencia = X_wavelets[i,:].copy()\n",
    "    secuencia_resampled = signal.decimate(secuencia, 4)\n",
    "    X_resampled2.append(secuencia_resampled)\n",
    "X_resampled2 = np.array(X_resampled2)\n",
    "X_resampled2.shape"
   ]
  },
  {
   "cell_type": "code",
   "execution_count": 10,
   "metadata": {},
   "outputs": [
    {
     "data": {
      "text/plain": [
       "(176, 100000)"
      ]
     },
     "execution_count": 10,
     "metadata": {},
     "output_type": "execute_result"
    }
   ],
   "source": [
    "from scipy import signal\n",
    "X_resampled = []\n",
    "for i in range(X_fourier.shape[0]):\n",
    "    secuencia = X_fourier[i,:].copy()\n",
    "    secuencia_resampled = signal.resample(secuencia, 100000)\n",
    "    X_resampled.append(secuencia_resampled)\n",
    "X_resampled = np.array(X_resampled)\n",
    "X_resampled.shape"
   ]
  },
  {
   "cell_type": "code",
   "execution_count": 13,
   "metadata": {},
   "outputs": [
    {
     "data": {
      "image/png": "[encoded data removed]",
      "text/plain": [
       "<matplotlib.figure.Figure at 0x7fd07bf235d0>"
      ]
     },
     "metadata": {},
     "output_type": "display_data"
    }
   ],
   "source": [
    "import matplotlib.pyplot as plt\n",
    "plt.title(\"Audio bruto\")\n",
    "plt.plot(X[2])\n",
    "plt.show()"
   ]
  },
  {
   "cell_type": "code",
   "execution_count": 14,
   "metadata": {},
   "outputs": [
    {
     "data": {
      "image/png": "[encoded data removed]",
      "text/plain": [
       "<matplotlib.figure.Figure at 0x7fd03df5a990>"
      ]
     },
     "metadata": {},
     "output_type": "display_data"
    }
   ],
   "source": [
    "plt.plot(X_fourier[2])\n",
    "plt.title(\"Audio Procesado\")\n",
    "plt.show()"
   ]
  },
  {
   "cell_type": "code",
   "execution_count": 15,
   "metadata": {
    "scrolled": true
   },
   "outputs": [
    {
     "ename": "NameError",
     "evalue": "name 'X_wavelets' is not defined",
     "output_type": "error",
     "traceback": [
      "\u001b[0;31m---------------------------------------------------------------------------\u001b[0m",
      "\u001b[0;31mNameError\u001b[0m                                 Traceback (most recent call last)",
      "\u001b[0;32m<ipython-input-15-1aa1ed524819>\u001b[0m in \u001b[0;36m<module>\u001b[0;34m()\u001b[0m\n\u001b[0;32m----> 1\u001b[0;31m \u001b[0mplt\u001b[0m\u001b[0;34m.\u001b[0m\u001b[0mplot\u001b[0m\u001b[0;34m(\u001b[0m\u001b[0mX_wavelets\u001b[0m\u001b[0;34m[\u001b[0m\u001b[0;36m2\u001b[0m\u001b[0;34m]\u001b[0m\u001b[0;34m)\u001b[0m\u001b[0;34m\u001b[0m\u001b[0m\n\u001b[0m\u001b[1;32m      2\u001b[0m \u001b[0mplt\u001b[0m\u001b[0;34m.\u001b[0m\u001b[0mtitle\u001b[0m\u001b[0;34m(\u001b[0m\u001b[0;34m\"Audio Wavelets\"\u001b[0m\u001b[0;34m)\u001b[0m\u001b[0;34m\u001b[0m\u001b[0m\n\u001b[1;32m      3\u001b[0m \u001b[0mplt\u001b[0m\u001b[0;34m.\u001b[0m\u001b[0mshow\u001b[0m\u001b[0;34m(\u001b[0m\u001b[0;34m)\u001b[0m\u001b[0;34m\u001b[0m\u001b[0m\n",
      "\u001b[0;31mNameError\u001b[0m: name 'X_wavelets' is not defined"
     ]
    }
   ],
   "source": [
    "plt.plot(X_wavelets[2])\n",
    "plt.title(\"Audio Wavelets\")\n",
    "plt.show()"
   ]
  },
  {
   "cell_type": "code",
   "execution_count": 16,
   "metadata": {},
   "outputs": [
    {
     "data": {
      "image/png": "[encoded data removed]",
      "text/plain": [
       "<matplotlib.figure.Figure at 0x7fd03a6c8950>"
      ]
     },
     "metadata": {},
     "output_type": "display_data"
    }
   ],
   "source": [
    "plt.plot(X_resampled[2])\n",
    "plt.title(\"Audio muestreado1\")\n",
    "plt.show()"
   ]
  },
  {
   "cell_type": "code",
   "execution_count": 40,
   "metadata": {},
   "outputs": [
    {
     "data": {
      "image/png": "[encoded data removed]",
      "text/plain": [
       "<matplotlib.figure.Figure at 0x7f277987eb10>"
      ]
     },
     "metadata": {},
     "output_type": "display_data"
    }
   ],
   "source": [
    "plt.plot(X_resampled2[2])\n",
    "plt.title(\"Audio muestreado2\")\n",
    "plt.show()"
   ]
  },
  {
   "cell_type": "markdown",
   "metadata": {},
   "source": [
    "### un train y un test"
   ]
  },
  {
   "cell_type": "code",
   "execution_count": 11,
   "metadata": {
    "collapsed": true
   },
   "outputs": [],
   "source": [
    "from sklearn.model_selection import train_test_split\n",
    "X_train, X_test, y_train, y_test = train_test_split(X_resampled, y, \n",
    "                                                    test_size=0.25, random_state=42)"
   ]
  },
  {
   "cell_type": "markdown",
   "metadata": {},
   "source": [
    "quizas al ser muy pocos datos el dejar afuera un conjunto, compromete considerablemente el algoritmo... solucion cross validation?"
   ]
  },
  {
   "cell_type": "markdown",
   "metadata": {},
   "source": [
    "### Escalar"
   ]
  },
  {
   "cell_type": "code",
   "execution_count": 12,
   "metadata": {
    "collapsed": true
   },
   "outputs": [],
   "source": [
    "from sklearn.preprocessing import StandardScaler\n",
    "std = StandardScaler()\n",
    "std.fit(X_train)\n",
    "X_train = std.transform(X_train)\n",
    "X_test = std.transform(X_test)"
   ]
  },
  {
   "cell_type": "markdown",
   "metadata": {},
   "source": [
    "### PCA"
   ]
  },
  {
   "cell_type": "code",
   "execution_count": 13,
   "metadata": {
    "scrolled": true
   },
   "outputs": [
    {
     "data": {
      "text/plain": [
       "array([[ -4.49773948e+01,  -1.50322155e+01],\n",
       "       [ -6.53253680e+01,   8.51175736e+00],\n",
       "       [ -6.56422898e+01,   2.62692783e+00],\n",
       "       [ -6.66823089e+01,   1.00206910e+00],\n",
       "       [ -7.19248438e+01,   8.04432036e+00],\n",
       "       [ -7.17410406e+01,   8.91203751e+00],\n",
       "       [ -7.16901333e+01,   8.76365418e+00],\n",
       "       [ -5.17037630e+01,   1.37039585e+01],\n",
       "       [ -7.15011575e+01,   7.70174589e+00],\n",
       "       [ -7.12082519e+01,   7.64867936e+00],\n",
       "       [ -7.20453885e+01,   8.61205685e+00],\n",
       "       [ -7.02114471e+01,   6.86338634e+00],\n",
       "       [ -7.19731660e+01,   8.45799844e+00],\n",
       "       [ -6.80254814e+01,   5.93625874e+00],\n",
       "       [ -6.04741642e+01,  -5.51044247e+00],\n",
       "       [ -6.89233929e+01,   8.61150119e+00],\n",
       "       [ -7.23302561e+01,   8.78117502e+00],\n",
       "       [ -7.15567835e+01,   7.91899856e+00],\n",
       "       [ -5.37034639e+01,   1.30672934e+01],\n",
       "       [ -7.20730999e+01,   8.79487598e+00],\n",
       "       [ -6.59137320e+01,  -8.72033274e-01],\n",
       "       [ -7.32232965e+01,   9.68186936e+00],\n",
       "       [ -7.18356423e+01,   8.16862778e+00],\n",
       "       [ -3.14081788e+00,  -1.74867796e+01],\n",
       "       [ -7.07656490e+01,   8.14242840e+00],\n",
       "       [ -6.88803087e+01,   6.72768109e+00],\n",
       "       [ -7.15161598e+01,   7.86236119e+00],\n",
       "       [ -7.01756152e+01,   4.84354534e+00],\n",
       "       [ -5.60315952e+01,  -2.05260681e-01],\n",
       "       [ -5.81241823e+01,   6.23246168e+00],\n",
       "       [ -7.08404251e+01,   7.64713789e+00],\n",
       "       [ -6.90582642e+01,   6.55550996e+00],\n",
       "       [ -1.54225623e+01,   2.10273675e+00],\n",
       "       [ -7.25807593e+01,   8.90041456e+00],\n",
       "       [ -6.93170124e+01,   3.98434691e+00],\n",
       "       [ -6.94975254e+01,   8.23869597e+00],\n",
       "       [ -3.59113366e+01,  -4.52483696e+00],\n",
       "       [  4.54418286e+01,   7.23492788e+00],\n",
       "       [ -7.12633842e+01,   8.69071856e+00],\n",
       "       [  7.58320529e+01,  -4.66670985e+01],\n",
       "       [ -7.14373270e+01,   7.14761406e+00],\n",
       "       [ -6.97544872e+01,   7.82502898e+00],\n",
       "       [ -5.31952097e+01,   1.22257924e+00],\n",
       "       [ -5.77089099e+01,  -1.39436362e+00],\n",
       "       [ -7.15964288e+01,   8.69014076e+00],\n",
       "       [ -7.17367075e+01,   7.94644236e+00],\n",
       "       [ -6.58241188e+01,   3.13697361e+00],\n",
       "       [ -7.05831644e+01,   6.00934398e+00],\n",
       "       [ -7.22531866e+01,   8.75583406e+00],\n",
       "       [ -5.01676134e+01,  -6.24443230e+00],\n",
       "       [ -7.28661042e+01,   9.30247336e+00],\n",
       "       [ -6.81617744e+01,   3.05152861e+00],\n",
       "       [ -1.58115695e+01,  -6.45763425e+00],\n",
       "       [  4.25869058e+02,  -1.00917201e+02],\n",
       "       [ -7.21614459e+01,   8.65501321e+00],\n",
       "       [ -7.03684808e+01,   7.77232655e+00],\n",
       "       [ -3.14834417e+01,  -1.63362656e+01],\n",
       "       [ -6.93868874e+01,   7.16122677e+00],\n",
       "       [ -6.15641856e+01,  -4.32778568e+00],\n",
       "       [ -6.35023053e+01,   4.88602411e+00],\n",
       "       [ -7.25145620e+01,   9.16784117e+00],\n",
       "       [ -7.24069857e+01,   9.40049035e+00],\n",
       "       [ -7.09465626e+01,   9.22166701e+00],\n",
       "       [ -6.90667359e+01,   6.42773295e+00],\n",
       "       [ -7.22654762e+01,   8.76878340e+00],\n",
       "       [ -7.11690760e+01,   8.03218491e+00],\n",
       "       [ -7.17528926e+01,   7.83020796e+00],\n",
       "       [ -6.79770100e+01,   4.30799862e+00],\n",
       "       [ -7.21219756e+01,   8.94716693e+00],\n",
       "       [  1.70999088e+03,  -2.36629521e+02],\n",
       "       [ -2.89200405e+01,  -1.52385473e+01],\n",
       "       [ -1.28022086e+01,  -4.27909134e+01],\n",
       "       [ -6.60164257e+01,   2.17754365e+00],\n",
       "       [ -7.12321879e+01,   7.79653746e+00],\n",
       "       [ -6.63929473e+01,   3.34062317e+00],\n",
       "       [  4.09289603e+01,   3.60792946e+00],\n",
       "       [ -6.93484485e+01,   8.60488949e+00],\n",
       "       [ -7.30337782e+01,   9.48757304e+00],\n",
       "       [ -7.22085449e+01,   9.09441597e+00],\n",
       "       [ -7.11139643e+01,   6.76379433e+00],\n",
       "       [ -6.97628969e+01,   8.05877458e+00],\n",
       "       [ -7.20543358e+01,   9.10629849e+00],\n",
       "       [ -6.63726184e+01,   3.89886956e+00],\n",
       "       [ -6.58945401e+01,   5.50358016e+00],\n",
       "       [  1.62728091e+02,  -3.93549260e+01],\n",
       "       [ -7.16492680e+01,   7.95513532e+00],\n",
       "       [ -6.96472714e+01,   8.60180959e+00],\n",
       "       [ -7.17060542e+01,   9.17981625e+00],\n",
       "       [ -6.77427082e+01,   5.24736661e+00],\n",
       "       [ -7.12870423e+01,   7.61412706e+00],\n",
       "       [ -7.18563932e+01,   8.20276853e+00],\n",
       "       [ -7.11217555e+01,   6.61368378e+00],\n",
       "       [ -7.14093568e+01,   7.92568680e+00],\n",
       "       [ -3.32475597e+01,  -4.33480232e+00],\n",
       "       [ -5.27703232e+01,   5.52283379e+00],\n",
       "       [ -6.89462937e+01,   5.68801695e+00],\n",
       "       [ -6.16206176e+01,  -4.79390976e+00],\n",
       "       [ -7.20784997e+01,   8.79146262e+00],\n",
       "       [ -6.84175026e+01,   6.77242151e+00],\n",
       "       [ -7.07156070e+01,   8.69116165e+00],\n",
       "       [ -6.83508429e+01,   4.77576247e+00],\n",
       "       [ -7.22770580e+01,   8.81425112e+00],\n",
       "       [ -5.88159151e+01,  -2.27549962e+00],\n",
       "       [ -6.74609190e+01,   6.30755805e+00],\n",
       "       [ -7.18277564e+01,   7.93805163e+00],\n",
       "       [ -5.64746977e+01,   5.59666850e+00],\n",
       "       [ -6.58511932e+01,   2.51141841e+00],\n",
       "       [  1.17799435e+03,  -3.19375053e+02],\n",
       "       [ -6.83347711e+01,   7.26433661e+00],\n",
       "       [ -7.08380319e+01,   8.38647469e+00],\n",
       "       [ -6.55888233e+01,   5.82566867e+00],\n",
       "       [ -5.02129726e+01,   4.06565893e+00],\n",
       "       [ -7.17089751e+01,   8.14336100e+00],\n",
       "       [  1.74457330e+02,   8.17009602e+00],\n",
       "       [ -7.16047905e+01,   7.77868300e+00],\n",
       "       [ -7.19098581e+01,   8.08420197e+00],\n",
       "       [ -6.89565704e+01,   7.67377474e+00],\n",
       "       [ -6.87901545e+01,   8.99814694e+00],\n",
       "       [  1.43178984e+02,  -4.30390584e+01],\n",
       "       [ -7.11584241e+01,   7.99115657e+00],\n",
       "       [ -6.80481191e+01,   5.13796938e+00],\n",
       "       [ -6.22780829e+01,   2.29322908e-02],\n",
       "       [ -6.57408158e+01,   1.41117697e+00],\n",
       "       [  2.81136289e+02,  -6.08280132e+01],\n",
       "       [ -3.50844693e+01,  -2.70115804e+01],\n",
       "       [  1.41123102e+03,  -3.60162300e+02],\n",
       "       [ -7.19203956e+01,   8.41500082e+00],\n",
       "       [ -6.92405369e+01,   6.67421910e+00],\n",
       "       [ -6.99238361e+01,   8.45711537e+00],\n",
       "       [ -7.21928283e+01,   8.67464708e+00],\n",
       "       [  2.06689215e+03,   6.80975792e+02],\n",
       "       [ -2.47248846e+01,  -4.31695495e+01]])"
      ]
     },
     "execution_count": 13,
     "metadata": {},
     "output_type": "execute_result"
    }
   ],
   "source": [
    "#PCA Y LDA\n",
    "from sklearn.decomposition import PCA\n",
    "model = PCA(n_components=2)\n",
    "model.fit(X_train)\n",
    "X_pca_train = model.transform(X_train)\n",
    "X_pca_test = model.transform(X_test)\n",
    "X_pca_train"
   ]
  },
  {
   "cell_type": "code",
   "execution_count": 44,
   "metadata": {},
   "outputs": [
    {
     "data": {
      "text/plain": [
       "(132, 2)"
      ]
     },
     "execution_count": 44,
     "metadata": {},
     "output_type": "execute_result"
    }
   ],
   "source": [
    "X_pca_train.shape"
   ]
  },
  {
   "cell_type": "code",
   "execution_count": 15,
   "metadata": {},
   "outputs": [
    {
     "data": {
      "image/png": "[encoded data removed]",
      "text/plain": [
       "<matplotlib.figure.Figure at 0x7f93c1ae6890>"
      ]
     },
     "metadata": {},
     "output_type": "display_data"
    }
   ],
   "source": [
    "import matplotlib.pyplot as plt\n",
    "plt.scatter(X_pca_train[:,0],X_pca_train[:,1],label=\"Entrenamiento\")\n",
    "#plt.scatter(X_pca_test[:,0],X_pca_test[:,1],label=\"Pruebas\")\n",
    "plt.legend()\n",
    "plt.show()"
   ]
  },
  {
   "cell_type": "markdown",
   "metadata": {},
   "source": [
    "### LDA"
   ]
  },
  {
   "cell_type": "code",
   "execution_count": 16,
   "metadata": {},
   "outputs": [
    {
     "name": "stderr",
     "output_type": "stream",
     "text": [
      "/home/panshop/anaconda2/lib/python2.7/site-packages/sklearn/discriminant_analysis.py:387: UserWarning: Variables are collinear.\n",
      "  warnings.warn(\"Variables are collinear.\")\n"
     ]
    },
    {
     "data": {
      "text/plain": [
       "array([[-5.61483765, -1.3892484 ],\n",
       "       [ 1.57750458,  4.70310749],\n",
       "       [-5.54935433, -1.37827063],\n",
       "       [-5.61027842, -1.37071985],\n",
       "       [ 4.92831293, -3.59542215],\n",
       "       [-4.77150521, -0.74825963],\n",
       "       [ 4.86167207, -3.49042665],\n",
       "       [ 1.58259345,  4.65906908],\n",
       "       [ 5.03200638, -3.53070749],\n",
       "       [ 5.05007328, -3.37943245],\n",
       "       [ 1.53987919,  4.72413495],\n",
       "       [ 1.59054611,  4.6300172 ],\n",
       "       [ 1.34131905,  4.16045722],\n",
       "       [ 1.64719201,  4.59610084],\n",
       "       [-5.61584261, -1.37433496],\n",
       "       [-5.5243754 , -1.49081153],\n",
       "       [ 4.92984212, -3.46895161],\n",
       "       [ 4.93588983, -3.45102207],\n",
       "       [ 1.58497675,  4.6057345 ],\n",
       "       [ 4.726356  , -3.1171423 ],\n",
       "       [ 1.56750561,  4.70938031],\n",
       "       [ 2.13175552,  1.71276609],\n",
       "       [ 4.98221687, -3.40290582],\n",
       "       [ 4.97569843, -3.47326359],\n",
       "       [ 5.0375358 , -3.48852593],\n",
       "       [ 4.98949811, -3.50241716],\n",
       "       [ 4.86162681, -3.59391185],\n",
       "       [ 5.00640385, -3.45436425],\n",
       "       [-5.61413644, -1.3739054 ],\n",
       "       [ 1.57820683,  4.62390289],\n",
       "       [ 5.06565978, -3.56940661],\n",
       "       [ 1.64957061,  4.79557024],\n",
       "       [-5.61515332, -1.37724229],\n",
       "       [ 1.66628539,  4.13167242],\n",
       "       [ 1.66806077,  4.66676033],\n",
       "       [ 1.47216119,  4.32374725],\n",
       "       [-5.6168934 , -1.37878264],\n",
       "       [-5.6153022 , -1.36463953],\n",
       "       [ 5.0329002 , -3.16512099],\n",
       "       [-5.6134167 , -1.37427092],\n",
       "       [ 4.97635049, -3.39977175],\n",
       "       [ 1.56748614,  4.63935534],\n",
       "       [-5.61624574, -1.34363312],\n",
       "       [-5.61432436, -1.37431177],\n",
       "       [-5.53627509, -1.31003166],\n",
       "       [ 1.71755785,  3.98695743],\n",
       "       [ 1.62726283,  4.72921658],\n",
       "       [ 1.61932517,  4.7722036 ],\n",
       "       [ 1.57705831,  4.55082096],\n",
       "       [-5.61523522, -1.35762902],\n",
       "       [-1.94137026,  2.59172688],\n",
       "       [ 1.62773049,  4.68157012],\n",
       "       [-5.61864121, -1.36905891],\n",
       "       [-5.61459677, -1.37488439],\n",
       "       [ 4.94294051, -3.30208002],\n",
       "       [ 1.66030927,  4.50232216],\n",
       "       [-5.61309871, -1.35780821],\n",
       "       [ 1.84894595,  4.52486477],\n",
       "       [-5.61381407, -1.37280178],\n",
       "       [-5.56693327, -1.32007558],\n",
       "       [ 1.30812163,  2.33993129],\n",
       "       [-1.15636612, -2.80161761],\n",
       "       [-5.60885528, -1.37742915],\n",
       "       [ 1.63650811,  4.86658185],\n",
       "       [ 4.91422968, -3.44309935],\n",
       "       [ 1.56951229,  4.55157402],\n",
       "       [ 5.01031348, -3.5066482 ],\n",
       "       [ 1.46352778,  4.40843238],\n",
       "       [ 1.45702128,  4.13809729],\n",
       "       [-5.61488751, -1.37443042],\n",
       "       [-5.61473397, -1.3920777 ],\n",
       "       [-5.61667932, -1.37851949],\n",
       "       [ 5.02508391, -3.33307283],\n",
       "       [ 5.07584209, -3.60028507],\n",
       "       [ 1.5972246 ,  4.70401572],\n",
       "       [-5.61483071, -1.37431105],\n",
       "       [-5.5249236 , -1.14549846],\n",
       "       [-1.98961742, -0.48556323],\n",
       "       [ 0.9294196 ,  3.04051959],\n",
       "       [ 1.72801169,  4.82079909],\n",
       "       [ 1.40703737,  3.94977449],\n",
       "       [ 2.95119249,  0.76226532],\n",
       "       [ 1.66319506,  4.77455699],\n",
       "       [ 5.00420013, -3.41876495],\n",
       "       [-5.6148392 , -1.37391532],\n",
       "       [ 5.00594524, -3.58136811],\n",
       "       [ 1.71449232,  4.47322904],\n",
       "       [-5.11654034, -0.90134132],\n",
       "       [ 4.92273162, -3.29256234],\n",
       "       [ 5.04313437, -3.36611599],\n",
       "       [ 5.01124566, -3.47956723],\n",
       "       [ 4.97438858, -3.49593207],\n",
       "       [ 0.97092238,  2.65084974],\n",
       "       [-5.61548903, -1.38381586],\n",
       "       [ 1.62062371,  4.69892943],\n",
       "       [-5.47657633, -1.42370584],\n",
       "       [ 5.00251125, -3.48633387],\n",
       "       [ 4.69727737, -3.32284374],\n",
       "       [-5.63515547, -1.33722668],\n",
       "       [ 1.40816735,  4.38060191],\n",
       "       [ 4.98857741, -3.50539905],\n",
       "       [ 1.64295393,  2.62276225],\n",
       "       [-5.61692828, -1.37245159],\n",
       "       [-5.51199923, -1.39498228],\n",
       "       [ 5.00840316, -3.39000514],\n",
       "       [ 1.57227975,  4.67105269],\n",
       "       [ 1.60663006,  4.70074373],\n",
       "       [-5.61464627, -1.37531432],\n",
       "       [ 1.61514573,  4.64823516],\n",
       "       [ 4.98965442, -3.32348855],\n",
       "       [ 1.6587972 ,  4.58826568],\n",
       "       [-5.63833092, -1.39406221],\n",
       "       [-5.5165268 , -1.33211804],\n",
       "       [-5.61605994, -1.36967077],\n",
       "       [ 4.43558652, -2.17169628],\n",
       "       [ 4.96819736, -3.47404805],\n",
       "       [ 5.16715684, -3.38949544],\n",
       "       [-5.39537768, -1.26924668],\n",
       "       [-5.6127145 , -1.37308585],\n",
       "       [ 5.00981416, -3.48649611],\n",
       "       [ 1.5402823 ,  4.57743364],\n",
       "       [ 4.99918127, -3.45650218],\n",
       "       [ 1.62937916,  4.71232153],\n",
       "       [-5.61525289, -1.37440996],\n",
       "       [-5.60844072, -1.38355311],\n",
       "       [-5.61453505, -1.37486325],\n",
       "       [ 4.98817712, -3.38963649],\n",
       "       [-5.23138503, -0.79389451],\n",
       "       [-5.624818  , -1.23945247],\n",
       "       [ 1.64619731,  4.54295266],\n",
       "       [-5.6147778 , -1.37394256],\n",
       "       [-5.61359348, -1.37593042]])"
      ]
     },
     "execution_count": 16,
     "metadata": {},
     "output_type": "execute_result"
    }
   ],
   "source": [
    "from sklearn.discriminant_analysis import LinearDiscriminantAnalysis as LDA\n",
    "model_lda = LDA(n_components=2)\n",
    "model_lda.fit(X_train,y_train)\n",
    "X_lda_train = model_lda.transform(X_train)\n",
    "X_lda_test = model_lda.transform(X_test)\n",
    "X_lda_train"
   ]
  },
  {
   "cell_type": "markdown",
   "metadata": {},
   "source": [
    "si les arroja error explicar porque les sale"
   ]
  },
  {
   "cell_type": "code",
   "execution_count": 46,
   "metadata": {},
   "outputs": [
    {
     "data": {
      "text/plain": [
       "(132, 2)"
      ]
     },
     "execution_count": 46,
     "metadata": {},
     "output_type": "execute_result"
    }
   ],
   "source": [
    "X_lda_train.shape"
   ]
  },
  {
   "cell_type": "code",
   "execution_count": 18,
   "metadata": {},
   "outputs": [
    {
     "data": {
      "image/png": "[encoded data removed]",
      "text/plain": [
       "<matplotlib.figure.Figure at 0x7f93bfa90490>"
      ]
     },
     "metadata": {},
     "output_type": "display_data"
    }
   ],
   "source": [
    "plt.scatter(X_lda_train[:,0],X_lda_train[:,1],label=\"Entrenamiento\")\n",
    "#plt.scatter(X_lda_test[:,0],X_lda_test[:,1],label=\"Pruebas\")\n",
    "plt.legend()\n",
    "plt.show()"
   ]
  },
  {
   "cell_type": "markdown",
   "metadata": {},
   "source": [
    "## Evaluar modelos"
   ]
  },
  {
   "cell_type": "markdown",
   "metadata": {},
   "source": [
    "### Regresion logistica"
   ]
  },
  {
   "cell_type": "code",
   "execution_count": 25,
   "metadata": {
    "collapsed": true
   },
   "outputs": [],
   "source": [
    "from sklearn.linear_model import LogisticRegression"
   ]
  },
  {
   "cell_type": "code",
   "execution_count": 26,
   "metadata": {
    "collapsed": true
   },
   "outputs": [],
   "source": [
    "score_trains1 = []\n",
    "score_trains2 = []\n",
    "score_tests1 = []\n",
    "score_tests2 = []\n",
    "Cs = [0.0001,0.001,0.01,0.1,1,10,100,1000,10000]\n",
    "for c in Cs:\n",
    "    model = LogisticRegression(C =c )\n",
    "    \n",
    "    model.fit(X_lda_train,y_train)\n",
    "    score_trains1.append(model.score(X_lda_train,y_train))\n",
    "    score_tests1.append(model.score(X_lda_test,y_test))   \n",
    "    \n",
    "    model = LogisticRegression(C =c )\n",
    "    model.fit(X_pca_train,y_train)\n",
    "    score_trains2.append(model.score(X_pca_train,y_train))\n",
    "    score_tests2.append(model.score(X_pca_test,y_test))   "
   ]
  },
  {
   "cell_type": "code",
   "execution_count": 27,
   "metadata": {},
   "outputs": [
    {
     "data": {
      "image/png": "[encoded data removed]",
      "text/plain": [
       "<matplotlib.figure.Figure at 0x7f6a54c1add0>"
      ]
     },
     "metadata": {},
     "output_type": "display_data"
    }
   ],
   "source": [
    "import matplotlib.pyplot as plt\n",
    "plt.figure(figsize=(12,6))\n",
    "plt.plot(Cs,score_trains1,label=\"entrenamiento LDA\")\n",
    "plt.plot(Cs,score_trains2,label=\"entrenamiento PCA\")\n",
    "plt.plot(Cs,score_tests1,label=\"Pruebas LDA\")\n",
    "plt.plot(Cs,score_tests2,label=\"Pruebas PCA\")\n",
    "plt.xticks(Cs)\n",
    "plt.xscale('log')\n",
    "plt.xlabel(\"Parametro C\")\n",
    "plt.legend()\n",
    "plt.title(\"Score\")\n",
    "plt.show()"
   ]
  },
  {
   "cell_type": "code",
   "execution_count": 63,
   "metadata": {},
   "outputs": [
    {
     "name": "stdout",
     "output_type": "stream",
     "text": [
      "Score con PCA in train:  0.545454545455\n",
      "Score con PCA in test:  0.5\n"
     ]
    }
   ],
   "source": [
    "model = LogisticRegression(C=1)\n",
    "model.fit(X_pca_train,y_train)\n",
    "print \"Score con PCA in train: \",model.score(X_pca_train,y_train)\n",
    "print \"Score con PCA in test: \",model.score(X_pca_test,y_test)"
   ]
  },
  {
   "cell_type": "code",
   "execution_count": 64,
   "metadata": {},
   "outputs": [
    {
     "name": "stdout",
     "output_type": "stream",
     "text": [
      "Score con LDA in train:  0.969696969697\n",
      "Score con LDA in test:  0.659090909091\n"
     ]
    }
   ],
   "source": [
    "model = LogisticRegression(C=0.0001)\n",
    "model.fit(X_lda_train,y_train)\n",
    "print \"Score con LDA in train: \",model.score(X_lda_train,y_train)\n",
    "print \"Score con LDA in test: \",model.score(X_lda_test,y_test)"
   ]
  },
  {
   "cell_type": "markdown",
   "metadata": {},
   "source": [
    "## Decision tree"
   ]
  },
  {
   "cell_type": "code",
   "execution_count": 29,
   "metadata": {
    "collapsed": true
   },
   "outputs": [],
   "source": [
    "from sklearn.tree import DecisionTreeClassifier as Tree"
   ]
  },
  {
   "cell_type": "code",
   "execution_count": 30,
   "metadata": {
    "collapsed": true
   },
   "outputs": [],
   "source": [
    "score_trains1 = []\n",
    "score_trains2 = []\n",
    "score_tests1 = []\n",
    "score_tests2 = []\n",
    "\n",
    "\n",
    "for i in range(1,30):\n",
    "    model = Tree(max_depth=i)\n",
    "    \n",
    "    model.fit(X_lda_train,y_train)\n",
    "    score_trains1.append(model.score(X_lda_train,y_train))\n",
    "    score_tests1.append(model.score(X_lda_test,y_test)) \n",
    "    \n",
    "    model = Tree(max_depth=i)\n",
    "    model.fit(X_pca_train,y_train)\n",
    "    score_trains2.append(model.score(X_pca_train,y_train))\n",
    "    score_tests2.append(model.score(X_pca_test,y_test))"
   ]
  },
  {
   "cell_type": "code",
   "execution_count": 31,
   "metadata": {},
   "outputs": [
    {
     "data": {
      "image/png": "[encoded data removed]",
      "text/plain": [
       "<matplotlib.figure.Figure at 0x7f6a9b7a7e10>"
      ]
     },
     "metadata": {},
     "output_type": "display_data"
    }
   ],
   "source": [
    "import matplotlib.pyplot as plt\n",
    "plt.figure(figsize=(12,6))\n",
    "plt.plot(range(1,30),score_trains1,label=\"entrenamiento LDA\")\n",
    "plt.plot(range(1,30),score_trains2,label=\"entrenamiento PCA\")\n",
    "plt.plot(range(1,30),score_tests1,label=\"Pruebas LDA\")\n",
    "plt.plot(range(1,30),score_tests2,label=\"Pruebas PCA\")\n",
    "plt.xlabel(\"Parametro Max Depth\")\n",
    "plt.legend()\n",
    "plt.title(\"Score\")\n",
    "plt.show()"
   ]
  },
  {
   "cell_type": "code",
   "execution_count": 67,
   "metadata": {},
   "outputs": [
    {
     "name": "stdout",
     "output_type": "stream",
     "text": [
      "Score con PCA in train:  0.787878787879\n",
      "Score con PCA in test:  0.5\n"
     ]
    }
   ],
   "source": [
    "model = Tree(max_depth=5)\n",
    "model.fit(X_pca_train,y_train)\n",
    "print \"Score con PCA in train: \",model.score(X_pca_train,y_train)\n",
    "print \"Score con PCA in test: \",model.score(X_pca_test,y_test)"
   ]
  },
  {
   "cell_type": "code",
   "execution_count": 68,
   "metadata": {},
   "outputs": [
    {
     "name": "stdout",
     "output_type": "stream",
     "text": [
      "Score con LDA in train:  0.992424242424\n",
      "Score con LDA in test:  0.5\n"
     ]
    }
   ],
   "source": [
    "model = Tree(max_depth=3)\n",
    "model.fit(X_lda_train,y_train)\n",
    "print \"Score con LDA in train: \",model.score(X_lda_train,y_train)\n",
    "print \"Score con LDA in test: \",model.score(X_lda_test,y_test)"
   ]
  },
  {
   "cell_type": "markdown",
   "metadata": {
    "collapsed": true
   },
   "source": [
    "## SVM"
   ]
  },
  {
   "cell_type": "code",
   "execution_count": null,
   "metadata": {
    "collapsed": true
   },
   "outputs": [],
   "source": []
  },
  {
   "cell_type": "code",
   "execution_count": 22,
   "metadata": {
    "scrolled": true
   },
   "outputs": [
    {
     "name": "stdout",
     "output_type": "stream",
     "text": [
      "Score con PCA in train:  0.55303030303\n",
      "Score con PCA in test:  0.568181818182\n",
      "Score con LDA in train:  0.969696969697\n",
      "Score con LDA in test:  0.681818181818\n"
     ]
    }
   ],
   "source": [
    "from sklearn.svm import SVC\n",
    "#use interactive if you want!\n",
    "model = SVC(C=0.01,kernel='linear') #default rbf\n",
    "model.fit(X_pca_train,y_train)\n",
    "print \"Score con PCA in train: \",model.score(X_pca_train,y_train)\n",
    "print \"Score con PCA in test: \",model.score(X_pca_test,y_test)\n",
    "\n",
    "model = SVC(C=0.01,kernel='linear')\n",
    "model.fit(X_lda_train,y_train)\n",
    "print \"Score con LDA in train: \",model.score(X_lda_train,y_train)\n",
    "print \"Score con LDA in test: \",model.score(X_lda_test,y_test)"
   ]
  },
  {
   "cell_type": "code",
   "execution_count": 23,
   "metadata": {
    "collapsed": true
   },
   "outputs": [],
   "source": [
    "score_trains1 = []\n",
    "score_trains2 = []\n",
    "score_tests1 = []\n",
    "score_tests2 = []\n",
    "Cs = [0.0001,0.001,0.01,0.1,1,10,100,1000,10000]\n",
    "for c in Cs:\n",
    "    model = SVC(C=c,kernel='linear') #default rbf\n",
    "\n",
    "    \n",
    "    model.fit(X_lda_train,y_train)\n",
    "    score_trains1.append(model.score(X_lda_train,y_train))\n",
    "    score_tests1.append(model.score(X_lda_test,y_test))   \n",
    "    \n",
    "    model = SVC(C=c,kernel='linear') #default rbf\n",
    "\n",
    "    model.fit(X_pca_train,y_train)\n",
    "    score_trains2.append(model.score(X_pca_train,y_train))\n",
    "    score_tests2.append(model.score(X_pca_test,y_test))   "
   ]
  },
  {
   "cell_type": "code",
   "execution_count": 24,
   "metadata": {},
   "outputs": [
    {
     "data": {
      "image/png": "[encoded data removed]",
      "text/plain": [
       "<matplotlib.figure.Figure at 0x7fd03a515490>"
      ]
     },
     "metadata": {},
     "output_type": "display_data"
    }
   ],
   "source": [
    "import matplotlib.pyplot as plt\n",
    "plt.figure(figsize=(12,6))\n",
    "plt.plot(Cs,score_trains1,label=\"entrenamiento LDA\")\n",
    "plt.plot(Cs,score_trains2,label=\"entrenamiento PCA\")\n",
    "plt.plot(Cs,score_tests1,label=\"Pruebas LDA\")\n",
    "plt.plot(Cs,score_tests2,label=\"Pruebas PCA\")\n",
    "plt.xticks(Cs)\n",
    "plt.xscale('log')\n",
    "plt.xlabel(\"Parametro C\")\n",
    "plt.legend()\n",
    "plt.title(\"Score\")\n",
    "plt.show()"
   ]
  },
  {
   "cell_type": "markdown",
   "metadata": {
    "collapsed": true
   },
   "source": [
    "## LDA Y QDA"
   ]
  },
  {
   "cell_type": "code",
   "execution_count": 33,
   "metadata": {},
   "outputs": [
    {
     "name": "stdout",
     "output_type": "stream",
     "text": [
      "--Clasificador LDA--\n",
      "Score con PCA in train:  0.462121212121\n",
      "Score con PCA in test:  0.568181818182\n",
      "Score con LDA in train:  0.969696969697\n",
      "Score con LDA in test:  0.75\n",
      "--Clasificador QDA--\n",
      "Score con PCA in train:  0.5\n",
      "Score con PCA in test:  0.5\n",
      "Score con LDA in train:  1.0\n",
      "Score con LDA in test:  0.568181818182\n"
     ]
    }
   ],
   "source": [
    "from sklearn.discriminant_analysis import LinearDiscriminantAnalysis as LDA\n",
    "from sklearn.discriminant_analysis import QuadraticDiscriminantAnalysis as QDA\n",
    "\n",
    "print \"--Clasificador LDA--\"\n",
    "model = LDA()\n",
    "model.fit(X_pca_train,y_train)\n",
    "print \"Score con PCA in train: \",model.score(X_pca_train,y_train)\n",
    "print \"Score con PCA in test: \",model.score(X_pca_test,y_test)\n",
    "\n",
    "model = LDA()\n",
    "model.fit(X_lda_train,y_train)\n",
    "print \"Score con LDA in train: \",model.score(X_lda_train,y_train)\n",
    "print \"Score con LDA in test: \",model.score(X_lda_test,y_test)\n",
    "\n",
    "print \"--Clasificador QDA--\"\n",
    "model = QDA()\n",
    "model.fit(X_pca_train,y_train)\n",
    "print \"Score con PCA in train: \",model.score(X_pca_train,y_train)\n",
    "print \"Score con PCA in test: \",model.score(X_pca_test,y_test)\n",
    "\n",
    "model = QDA()\n",
    "model.fit(X_lda_train,y_train)\n",
    "print \"Score con LDA in train: \",model.score(X_lda_train,y_train)\n",
    "print \"Score con LDA in test: \",model.score(X_lda_test,y_test)"
   ]
  },
  {
   "cell_type": "code",
   "execution_count": null,
   "metadata": {
    "collapsed": true
   },
   "outputs": [],
   "source": []
  },
  {
   "cell_type": "markdown",
   "metadata": {},
   "source": [
    "## KNN"
   ]
  },
  {
   "cell_type": "code",
   "execution_count": 34,
   "metadata": {},
   "outputs": [
    {
     "name": "stdout",
     "output_type": "stream",
     "text": [
      "Score con PCA in train:  0.734848484848\n",
      "Score con PCA in test:  0.545454545455\n",
      "Score con LDA in train:  0.969696969697\n",
      "Score con LDA in test:  0.75\n"
     ]
    }
   ],
   "source": [
    "from sklearn.neighbors import KNeighborsClassifier\n",
    "\n",
    "model = KNeighborsClassifier()\n",
    "model.fit(X_pca_train,y_train)\n",
    "print \"Score con PCA in train: \",model.score(X_pca_train,y_train)\n",
    "print \"Score con PCA in test: \",model.score(X_pca_test,y_test)\n",
    "\n",
    "model = KNeighborsClassifier()\n",
    "model.fit(X_lda_train,y_train)\n",
    "print \"Score con LDA in train: \",model.score(X_lda_train,y_train)\n",
    "print \"Score con LDA in test: \",model.score(X_lda_test,y_test)"
   ]
  },
  {
   "cell_type": "markdown",
   "metadata": {},
   "source": [
    "# Female/Male voice\n",
    "link: https://www.kaggle.com/primaryobjects/voicegender/data"
   ]
  },
  {
   "cell_type": "code",
   "execution_count": 98,
   "metadata": {},
   "outputs": [
    {
     "data": {
      "text/html": [
       "<div>\n",
       "<style>\n",
       "    .dataframe thead tr:only-child th {\n",
       "        text-align: right;\n",
       "    }\n",
       "\n",
       "    .dataframe thead th {\n",
       "        text-align: left;\n",
       "    }\n",
       "\n",
       "    .dataframe tbody tr th {\n",
       "        vertical-align: top;\n",
       "    }\n",
       "</style>\n",
       "<table border=\"1\" class=\"dataframe\">\n",
       "  <thead>\n",
       "    <tr style=\"text-align: right;\">\n",
       "      <th></th>\n",
       "      <th>meanfreq</th>\n",
       "      <th>sd</th>\n",
       "      <th>median</th>\n",
       "      <th>Q25</th>\n",
       "      <th>Q75</th>\n",
       "      <th>IQR</th>\n",
       "      <th>skew</th>\n",
       "      <th>kurt</th>\n",
       "      <th>sp.ent</th>\n",
       "      <th>sfm</th>\n",
       "      <th>...</th>\n",
       "      <th>centroid</th>\n",
       "      <th>meanfun</th>\n",
       "      <th>minfun</th>\n",
       "      <th>maxfun</th>\n",
       "      <th>meandom</th>\n",
       "      <th>mindom</th>\n",
       "      <th>maxdom</th>\n",
       "      <th>dfrange</th>\n",
       "      <th>modindx</th>\n",
       "      <th>label</th>\n",
       "    </tr>\n",
       "  </thead>\n",
       "  <tbody>\n",
       "    <tr>\n",
       "      <th>0</th>\n",
       "      <td>0.059781</td>\n",
       "      <td>0.064241</td>\n",
       "      <td>0.032027</td>\n",
       "      <td>0.015071</td>\n",
       "      <td>0.090193</td>\n",
       "      <td>0.075122</td>\n",
       "      <td>12.863462</td>\n",
       "      <td>274.402906</td>\n",
       "      <td>0.893369</td>\n",
       "      <td>0.491918</td>\n",
       "      <td>...</td>\n",
       "      <td>0.059781</td>\n",
       "      <td>0.084279</td>\n",
       "      <td>0.015702</td>\n",
       "      <td>0.275862</td>\n",
       "      <td>0.007812</td>\n",
       "      <td>0.007812</td>\n",
       "      <td>0.007812</td>\n",
       "      <td>0.000000</td>\n",
       "      <td>0.000000</td>\n",
       "      <td>male</td>\n",
       "    </tr>\n",
       "    <tr>\n",
       "      <th>1</th>\n",
       "      <td>0.066009</td>\n",
       "      <td>0.067310</td>\n",
       "      <td>0.040229</td>\n",
       "      <td>0.019414</td>\n",
       "      <td>0.092666</td>\n",
       "      <td>0.073252</td>\n",
       "      <td>22.423285</td>\n",
       "      <td>634.613855</td>\n",
       "      <td>0.892193</td>\n",
       "      <td>0.513724</td>\n",
       "      <td>...</td>\n",
       "      <td>0.066009</td>\n",
       "      <td>0.107937</td>\n",
       "      <td>0.015826</td>\n",
       "      <td>0.250000</td>\n",
       "      <td>0.009014</td>\n",
       "      <td>0.007812</td>\n",
       "      <td>0.054688</td>\n",
       "      <td>0.046875</td>\n",
       "      <td>0.052632</td>\n",
       "      <td>male</td>\n",
       "    </tr>\n",
       "    <tr>\n",
       "      <th>2</th>\n",
       "      <td>0.077316</td>\n",
       "      <td>0.083829</td>\n",
       "      <td>0.036718</td>\n",
       "      <td>0.008701</td>\n",
       "      <td>0.131908</td>\n",
       "      <td>0.123207</td>\n",
       "      <td>30.757155</td>\n",
       "      <td>1024.927705</td>\n",
       "      <td>0.846389</td>\n",
       "      <td>0.478905</td>\n",
       "      <td>...</td>\n",
       "      <td>0.077316</td>\n",
       "      <td>0.098706</td>\n",
       "      <td>0.015656</td>\n",
       "      <td>0.271186</td>\n",
       "      <td>0.007990</td>\n",
       "      <td>0.007812</td>\n",
       "      <td>0.015625</td>\n",
       "      <td>0.007812</td>\n",
       "      <td>0.046512</td>\n",
       "      <td>male</td>\n",
       "    </tr>\n",
       "    <tr>\n",
       "      <th>3</th>\n",
       "      <td>0.151228</td>\n",
       "      <td>0.072111</td>\n",
       "      <td>0.158011</td>\n",
       "      <td>0.096582</td>\n",
       "      <td>0.207955</td>\n",
       "      <td>0.111374</td>\n",
       "      <td>1.232831</td>\n",
       "      <td>4.177296</td>\n",
       "      <td>0.963322</td>\n",
       "      <td>0.727232</td>\n",
       "      <td>...</td>\n",
       "      <td>0.151228</td>\n",
       "      <td>0.088965</td>\n",
       "      <td>0.017798</td>\n",
       "      <td>0.250000</td>\n",
       "      <td>0.201497</td>\n",
       "      <td>0.007812</td>\n",
       "      <td>0.562500</td>\n",
       "      <td>0.554688</td>\n",
       "      <td>0.247119</td>\n",
       "      <td>male</td>\n",
       "    </tr>\n",
       "    <tr>\n",
       "      <th>4</th>\n",
       "      <td>0.135120</td>\n",
       "      <td>0.079146</td>\n",
       "      <td>0.124656</td>\n",
       "      <td>0.078720</td>\n",
       "      <td>0.206045</td>\n",
       "      <td>0.127325</td>\n",
       "      <td>1.101174</td>\n",
       "      <td>4.333713</td>\n",
       "      <td>0.971955</td>\n",
       "      <td>0.783568</td>\n",
       "      <td>...</td>\n",
       "      <td>0.135120</td>\n",
       "      <td>0.106398</td>\n",
       "      <td>0.016931</td>\n",
       "      <td>0.266667</td>\n",
       "      <td>0.712812</td>\n",
       "      <td>0.007812</td>\n",
       "      <td>5.484375</td>\n",
       "      <td>5.476562</td>\n",
       "      <td>0.208274</td>\n",
       "      <td>male</td>\n",
       "    </tr>\n",
       "  </tbody>\n",
       "</table>\n",
       "<p>5 rows × 21 columns</p>\n",
       "</div>"
      ],
      "text/plain": [
       "   meanfreq        sd    median       Q25       Q75       IQR       skew  \\\n",
       "0  0.059781  0.064241  0.032027  0.015071  0.090193  0.075122  12.863462   \n",
       "1  0.066009  0.067310  0.040229  0.019414  0.092666  0.073252  22.423285   \n",
       "2  0.077316  0.083829  0.036718  0.008701  0.131908  0.123207  30.757155   \n",
       "3  0.151228  0.072111  0.158011  0.096582  0.207955  0.111374   1.232831   \n",
       "4  0.135120  0.079146  0.124656  0.078720  0.206045  0.127325   1.101174   \n",
       "\n",
       "          kurt    sp.ent       sfm  ...    centroid   meanfun    minfun  \\\n",
       "0   274.402906  0.893369  0.491918  ...    0.059781  0.084279  0.015702   \n",
       "1   634.613855  0.892193  0.513724  ...    0.066009  0.107937  0.015826   \n",
       "2  1024.927705  0.846389  0.478905  ...    0.077316  0.098706  0.015656   \n",
       "3     4.177296  0.963322  0.727232  ...    0.151228  0.088965  0.017798   \n",
       "4     4.333713  0.971955  0.783568  ...    0.135120  0.106398  0.016931   \n",
       "\n",
       "     maxfun   meandom    mindom    maxdom   dfrange   modindx  label  \n",
       "0  0.275862  0.007812  0.007812  0.007812  0.000000  0.000000   male  \n",
       "1  0.250000  0.009014  0.007812  0.054688  0.046875  0.052632   male  \n",
       "2  0.271186  0.007990  0.007812  0.015625  0.007812  0.046512   male  \n",
       "3  0.250000  0.201497  0.007812  0.562500  0.554688  0.247119   male  \n",
       "4  0.266667  0.712812  0.007812  5.484375  5.476562  0.208274   male  \n",
       "\n",
       "[5 rows x 21 columns]"
      ]
     },
     "execution_count": 98,
     "metadata": {},
     "output_type": "execute_result"
    }
   ],
   "source": [
    "import pandas as pd\n",
    "import numpy as np\n",
    "df =pd.read_csv('./gendervoice/voice.csv')\n",
    "df.head()"
   ]
  },
  {
   "cell_type": "code",
   "execution_count": 99,
   "metadata": {},
   "outputs": [
    {
     "data": {
      "text/plain": [
       "(3168, 21)"
      ]
     },
     "execution_count": 99,
     "metadata": {},
     "output_type": "execute_result"
    }
   ],
   "source": [
    "df.shape"
   ]
  },
  {
   "cell_type": "markdown",
   "metadata": {},
   "source": [
    "probar crear caract a mano (handcrafting features)"
   ]
  }
 ],
 "metadata": {
  "kernelspec": {
   "display_name": "Python 2",
   "language": "python",
   "name": "python2"
  },
  "language_info": {
   "codemirror_mode": {
    "name": "ipython",
    "version": 2
   },
   "file_extension": ".py",
   "mimetype": "text/x-python",
   "name": "python",
   "nbconvert_exporter": "python",
   "pygments_lexer": "ipython2",
   "version": "2.7.13"
  }
 },
 "nbformat": 4,
 "nbformat_minor": 2
}
