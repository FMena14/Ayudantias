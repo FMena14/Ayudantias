{
 "cells": [
  {
   "cell_type": "markdown",
   "metadata": {},
   "source": [
    "## Nuevas Posibilidades para prox semestre.."
   ]
  },
  {
   "cell_type": "markdown",
   "metadata": {},
   "source": [
    "### Clases categóricas\n",
    "---\n",
    "Utilizar categorías jerárquicas\n",
    "EJ: Emociones"
   ]
  },
  {
   "cell_type": "code",
   "execution_count": null,
   "metadata": {},
   "outputs": [],
   "source": []
  },
  {
   "cell_type": "markdown",
   "metadata": {},
   "source": [
    "### Plotear función de probabilidad de LDA y QDA (en Tarea 2)\n",
    "---\n",
    "eso"
   ]
  },
  {
   "cell_type": "code",
   "execution_count": null,
   "metadata": {},
   "outputs": [],
   "source": []
  },
  {
   "cell_type": "markdown",
   "metadata": {},
   "source": [
    "### Pharagraph vector (en tarea 2 con texto)\n",
    "---\n",
    "sentencia/*pharagraph* a un vector (como word2vec)  \n",
    "link: https://towardsdatascience.com/another-twitter-sentiment-analysis-with-python-part-6-doc2vec-603f11832504"
   ]
  },
  {
   "cell_type": "code",
   "execution_count": 9,
   "metadata": {},
   "outputs": [
    {
     "name": "stdout",
     "output_type": "stream",
     "text": [
      "Word2Vec(vocab=6, size=100, alpha=0.025)\n"
     ]
    },
    {
     "data": {
      "text/plain": [
       "(3, 60)"
      ]
     },
     "execution_count": 9,
     "metadata": {},
     "output_type": "execute_result"
    }
   ],
   "source": [
    "##word2vec\n",
    "from gensim.models import Word2Vec\n",
    "vector_size = 100\n",
    "aux = [[\"There\",\"is\",\"new\"],[\"No\",\"there\",\"istn\"]]\n",
    "model_word2vec = Word2Vec(size=vector_size, window=5, min_count=1, workers=4)\n",
    "model_word2vec.build_vocab(aux)\n",
    "model_word2vec"
   ]
  },
  {
   "cell_type": "code",
   "execution_count": null,
   "metadata": {},
   "outputs": [],
   "source": [
    "model_word2vec.train(aux,total_examples=len(aux),epochs=10)"
   ]
  },
  {
   "cell_type": "code",
   "execution_count": 13,
   "metadata": {
    "scrolled": true
   },
   "outputs": [
    {
     "data": {
      "text/plain": [
       "array([ 5.0027116e-04,  9.6989871e-04,  3.5140736e-03,  1.9777631e-03,\n",
       "        5.4073596e-05, -2.8485905e-03, -4.6180841e-03,  4.1187061e-03,\n",
       "        1.3292414e-03, -1.1586362e-03, -1.7697273e-03,  2.1792194e-03,\n",
       "       -4.4923378e-03, -1.0204881e-03,  9.5802789e-06, -3.6631920e-04,\n",
       "        3.3345504e-04, -2.8327527e-04, -4.7602174e-03, -2.3427203e-03,\n",
       "        1.7882744e-04,  5.1501940e-04, -4.5454442e-03,  2.2203492e-03,\n",
       "        2.0009084e-03, -4.1343854e-03,  4.3344102e-03,  2.1968479e-03,\n",
       "       -4.9918531e-03,  7.6730043e-04, -4.1663176e-03,  3.5763942e-03,\n",
       "        4.4400715e-03, -3.0042841e-03,  2.7987789e-03,  1.8852325e-03,\n",
       "       -4.0983511e-03, -1.4440649e-03,  3.2763600e-03,  2.5559226e-03,\n",
       "        7.6595735e-04, -5.8689489e-05,  1.7590059e-03,  4.3752147e-03,\n",
       "       -4.1650166e-04, -3.3906449e-03, -8.7038905e-04,  2.0273710e-03,\n",
       "        3.4579285e-03, -4.4464981e-03,  2.7942697e-03,  6.2237604e-04,\n",
       "       -5.0756574e-04, -4.8400350e-03,  9.3302230e-04, -2.1722391e-03,\n",
       "       -3.0546410e-03,  2.8211942e-03, -3.8749103e-03,  4.2974418e-03,\n",
       "       -3.2253561e-03,  2.1676775e-03,  4.1114289e-04,  2.7349971e-03,\n",
       "        2.7088439e-03, -4.4075786e-03,  3.9183642e-03,  1.6607622e-03,\n",
       "       -2.0484403e-03,  9.0827711e-04,  4.1980566e-03,  2.6191024e-03,\n",
       "        5.9091055e-04, -1.1474896e-03, -4.3819179e-03,  1.1511932e-03,\n",
       "       -1.9818607e-03, -8.2457589e-04,  3.8786579e-03, -4.9505406e-03,\n",
       "        4.4422317e-04, -1.4135906e-03, -2.4812743e-03, -2.5891934e-03,\n",
       "       -3.8436046e-03, -4.8126071e-03, -1.2040365e-03,  3.0121775e-03,\n",
       "        1.3852837e-03, -2.3079794e-03,  8.4531435e-04, -3.5157450e-03,\n",
       "       -3.2860362e-03, -3.9473628e-03, -8.5855092e-05,  2.3134360e-03,\n",
       "        9.4295299e-04,  5.3480826e-04, -3.0014603e-03,  2.7018918e-03],\n",
       "      dtype=float32)"
      ]
     },
     "execution_count": 13,
     "metadata": {},
     "output_type": "execute_result"
    }
   ],
   "source": [
    "model_word2vec.wv[\"is\"]"
   ]
  },
  {
   "cell_type": "code",
   "execution_count": 30,
   "metadata": {},
   "outputs": [
    {
     "data": {
      "text/plain": [
       "[('No', 0.015310347080230713),\n",
       " ('istn', 0.015214521437883377),\n",
       " ('There', -0.03619123622775078),\n",
       " ('there', -0.05391447991132736),\n",
       " ('new', -0.06512922793626785)]"
      ]
     },
     "execution_count": 30,
     "metadata": {},
     "output_type": "execute_result"
    }
   ],
   "source": [
    "model_word2vec.wv.most_similar(\"is\")"
   ]
  },
  {
   "cell_type": "code",
   "execution_count": 19,
   "metadata": {},
   "outputs": [],
   "source": [
    "#doc2vec\n",
    "from gensim.test.utils import common_texts\n",
    "from gensim.models.doc2vec import Doc2Vec, TaggedDocument\n",
    "data = [\"I love machine learning. Its awesome.\",\n",
    "        \"I love coding in python\",\n",
    "        \"I love building chatbots\",\n",
    "        \"they chat amagingly well\"]\n",
    "\n",
    "tagged_data = [TaggedDocument(words=word_tokenize(doc.lower()), tags=[str(i)]) for i, doc in enumerate(data)]\n",
    "\n",
    "documents = [TaggedDocument(doc, [i]) for i, doc in enumerate(common_texts)]\n",
    "model = Doc2Vec(vector_size=5, window=2, min_count=1, workers=4)\n",
    "model.build_vocab(documents)"
   ]
  },
  {
   "cell_type": "code",
   "execution_count": 8,
   "metadata": {},
   "outputs": [
    {
     "data": {
      "text/plain": [
       "<gensim.models.doc2vec.Doc2Vec at 0x7f71fbdff610>"
      ]
     },
     "execution_count": 8,
     "metadata": {},
     "output_type": "execute_result"
    }
   ],
   "source": [
    "model.train(data...)"
   ]
  },
  {
   "cell_type": "code",
   "execution_count": 20,
   "metadata": {},
   "outputs": [
    {
     "data": {
      "text/plain": [
       "[TaggedDocument(words=['human', 'interface', 'computer'], tags=[0]),\n",
       " TaggedDocument(words=['survey', 'user', 'computer', 'system', 'response', 'time'], tags=[1]),\n",
       " TaggedDocument(words=['eps', 'user', 'interface', 'system'], tags=[2]),\n",
       " TaggedDocument(words=['system', 'human', 'system', 'eps'], tags=[3]),\n",
       " TaggedDocument(words=['user', 'response', 'time'], tags=[4]),\n",
       " TaggedDocument(words=['trees'], tags=[5]),\n",
       " TaggedDocument(words=['graph', 'trees'], tags=[6]),\n",
       " TaggedDocument(words=['graph', 'minors', 'trees'], tags=[7]),\n",
       " TaggedDocument(words=['graph', 'minors', 'survey'], tags=[8])]"
      ]
     },
     "execution_count": 20,
     "metadata": {},
     "output_type": "execute_result"
    }
   ],
   "source": [
    "documents"
   ]
  },
  {
   "cell_type": "code",
   "execution_count": 31,
   "metadata": {},
   "outputs": [
    {
     "data": {
      "text/plain": [
       "array([ 0.0024887 , -0.05627669, -0.06986899, -0.07042406,  0.04209945],\n",
       "      dtype=float32)"
      ]
     },
     "execution_count": 31,
     "metadata": {},
     "output_type": "execute_result"
    }
   ],
   "source": [
    "#vec of doc with id1\n",
    "model.docvecs[1]"
   ]
  },
  {
   "cell_type": "code",
   "execution_count": 28,
   "metadata": {},
   "outputs": [
    {
     "name": "stderr",
     "output_type": "stream",
     "text": [
      "/home/fmena/anaconda2/lib/python2.7/site-packages/gensim/matutils.py:737: FutureWarning: Conversion of the second argument of issubdtype from `int` to `np.signedinteger` is deprecated. In future, it will be treated as `np.int64 == np.dtype(int).type`.\n",
      "  if np.issubdtype(vec.dtype, np.int):\n"
     ]
    },
    {
     "data": {
      "text/plain": [
       "[(2, 0.574091911315918),\n",
       " (3, 0.29283517599105835),\n",
       " (7, 0.27800416946411133),\n",
       " (0, 0.12466037273406982),\n",
       " (8, 0.047116026282310486),\n",
       " (6, -0.22851577401161194),\n",
       " (5, -0.41595548391342163),\n",
       " (4, -0.828620433807373)]"
      ]
     },
     "execution_count": 28,
     "metadata": {},
     "output_type": "execute_result"
    }
   ],
   "source": [
    "model.docvecs.most_similar(1)"
   ]
  },
  {
   "cell_type": "code",
   "execution_count": 21,
   "metadata": {},
   "outputs": [
    {
     "data": {
      "text/plain": [
       "array([ 0.02154704, -0.0407275 ,  0.0893827 , -0.08148807,  0.01009372],\n",
       "      dtype=float32)"
      ]
     },
     "execution_count": 21,
     "metadata": {},
     "output_type": "execute_result"
    }
   ],
   "source": [
    "#to get vector of document that are not present in corpus \n",
    "model.infer_vector([\"test\", \"new\"])"
   ]
  },
  {
   "cell_type": "code",
   "execution_count": 17,
   "metadata": {},
   "outputs": [
    {
     "data": {
      "text/plain": [
       "array([ 0.08088907, -0.00060955, -0.06263673,  0.07858457, -0.01640345],\n",
       "      dtype=float32)"
      ]
     },
     "execution_count": 17,
     "metadata": {},
     "output_type": "execute_result"
    }
   ],
   "source": [
    "model.wv[\"human\"]"
   ]
  },
  {
   "cell_type": "markdown",
   "metadata": {},
   "source": [
    "### Cry Baby dataset\n",
    "---\n",
    "https://github.com/gveres/donateacry-corpus\n",
    "1000 audios en total.. poco"
   ]
  },
  {
   "cell_type": "markdown",
   "metadata": {},
   "source": [
    "### Regresión no lineal por ventana\n",
    "---\n",
    "Regresión por ventana para series de tiempo..\n",
    "Definir una ventana y hacer regresion (posible tarea 3 y comparar vs Markov..)"
   ]
  },
  {
   "cell_type": "markdown",
   "metadata": {},
   "source": [
    "### Localización\n",
    "---\n",
    "Utilizando dataset de internet o el que nos pasó Felipe Berrios."
   ]
  }
 ],
 "metadata": {
  "kernelspec": {
   "display_name": "Python [default]",
   "language": "python",
   "name": "python2"
  },
  "language_info": {
   "codemirror_mode": {
    "name": "ipython",
    "version": 2
   },
   "file_extension": ".py",
   "mimetype": "text/x-python",
   "name": "python",
   "nbconvert_exporter": "python",
   "pygments_lexer": "ipython2",
   "version": "2.7.15"
  }
 },
 "nbformat": 4,
 "nbformat_minor": 2
}
