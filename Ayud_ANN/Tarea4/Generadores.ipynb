{
 "cells": [
  {
   "cell_type": "markdown",
   "metadata": {},
   "source": [
    "* VAE: https://blog.keras.io/building-autoencoders-in-keras.html\n",
    "* GAN: https://www.kdnuggets.com/2016/07/mnist-generative-adversarial-model-keras.html\n",
    "* GAN2: https://towardsdatascience.com/gan-by-example-using-keras-on-tensorflow-backend-1a6d515a60d0"
   ]
  }
 ],
 "metadata": {
  "kernelspec": {
   "display_name": "Python 2",
   "language": "python",
   "name": "python2"
  },
  "language_info": {
   "codemirror_mode": {
    "name": "ipython",
    "version": 2
   },
   "file_extension": ".py",
   "mimetype": "text/x-python",
   "name": "python",
   "nbconvert_exporter": "python",
   "pygments_lexer": "ipython2",
   "version": "2.7.14"
  }
 },
 "nbformat": 4,
 "nbformat_minor": 2
}
