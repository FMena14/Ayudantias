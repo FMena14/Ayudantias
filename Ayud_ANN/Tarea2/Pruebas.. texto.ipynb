{
 "cells": [
  {
   "cell_type": "code",
   "execution_count": 1,
   "metadata": {},
   "outputs": [
    {
     "name": "stderr",
     "output_type": "stream",
     "text": [
      "b'Skipping line 281837: expected 25 fields, saw 34\\n'\n"
     ]
    },
    {
     "data": {
      "text/html": [
       "<div>\n",
       "<style scoped>\n",
       "    .dataframe tbody tr th:only-of-type {\n",
       "        vertical-align: middle;\n",
       "    }\n",
       "\n",
       "    .dataframe tbody tr th {\n",
       "        vertical-align: top;\n",
       "    }\n",
       "\n",
       "    .dataframe thead th {\n",
       "        text-align: right;\n",
       "    }\n",
       "</style>\n",
       "<table border=\"1\" class=\"dataframe\">\n",
       "  <thead>\n",
       "    <tr style=\"text-align: right;\">\n",
       "      <th></th>\n",
       "      <th>lemma</th>\n",
       "      <th>word</th>\n",
       "      <th>pos</th>\n",
       "      <th>tag</th>\n",
       "      <th>prev-iob</th>\n",
       "    </tr>\n",
       "  </thead>\n",
       "  <tbody>\n",
       "    <tr>\n",
       "      <th>0</th>\n",
       "      <td>thousand</td>\n",
       "      <td>Thousands</td>\n",
       "      <td>NNS</td>\n",
       "      <td>O</td>\n",
       "      <td>__START1__</td>\n",
       "    </tr>\n",
       "    <tr>\n",
       "      <th>1</th>\n",
       "      <td>of</td>\n",
       "      <td>of</td>\n",
       "      <td>IN</td>\n",
       "      <td>O</td>\n",
       "      <td>O</td>\n",
       "    </tr>\n",
       "    <tr>\n",
       "      <th>2</th>\n",
       "      <td>demonstr</td>\n",
       "      <td>demonstrators</td>\n",
       "      <td>NNS</td>\n",
       "      <td>O</td>\n",
       "      <td>O</td>\n",
       "    </tr>\n",
       "    <tr>\n",
       "      <th>3</th>\n",
       "      <td>have</td>\n",
       "      <td>have</td>\n",
       "      <td>VBP</td>\n",
       "      <td>O</td>\n",
       "      <td>O</td>\n",
       "    </tr>\n",
       "    <tr>\n",
       "      <th>4</th>\n",
       "      <td>march</td>\n",
       "      <td>marched</td>\n",
       "      <td>VBN</td>\n",
       "      <td>O</td>\n",
       "      <td>O</td>\n",
       "    </tr>\n",
       "  </tbody>\n",
       "</table>\n",
       "</div>"
      ],
      "text/plain": [
       "      lemma           word  pos tag    prev-iob\n",
       "0  thousand      Thousands  NNS   O  __START1__\n",
       "1        of             of   IN   O           O\n",
       "2  demonstr  demonstrators  NNS   O           O\n",
       "3      have           have  VBP   O           O\n",
       "4     march        marched  VBN   O           O"
      ]
     },
     "execution_count": 1,
     "metadata": {},
     "output_type": "execute_result"
    }
   ],
   "source": [
    "import numpy as np\n",
    "import pandas as pd\n",
    "df_ner = pd.read_csv(\"./ner.csv\", encoding =\"cp1252\", error_bad_lines=False)\n",
    "df_ner.dropna(inplace=True)\n",
    "dataset = df_ner.loc[:,[\"lemma\",\"word\",\"pos\",\"tag\",\"prev-iob\"]]\n",
    "dataset.head()"
   ]
  },
  {
   "cell_type": "code",
   "execution_count": 7,
   "metadata": {},
   "outputs": [],
   "source": [
    "n_used = 100000 #data to use\n",
    "dataX,dataY = [],[]\n",
    "sentence, labels_sentence = [], []\n",
    "lemmas,labels = set(), set()  #uniques\n",
    "for fila in dataset.values[:n_used]:\n",
    "    if fila[-1]==\"__START1__\": \n",
    "        dataX.append(sentence)\n",
    "        dataY.append(labels_sentence)\n",
    "        sentence= []\n",
    "        labels_sentence = []\n",
    "    lemmas.add(fila[0])\n",
    "    labels.add(fila[3])\n",
    "    sentence.append(fila[0]) #add lemma\n",
    "    labels_sentence.append(fila[3]) #TAG\n",
    "dataX = dataX[1:]\n",
    "dataY = dataY[1:]"
   ]
  },
  {
   "cell_type": "code",
   "execution_count": 8,
   "metadata": {},
   "outputs": [],
   "source": [
    "n_labels = len(labels)\n",
    "lab2idx = {t: i for i, t in enumerate(labels)}\n",
    "dataY = [[lab2idx[ner] for ner in ner_tags ] for ner_tags in dataY]"
   ]
  },
  {
   "cell_type": "code",
   "execution_count": null,
   "metadata": {},
   "outputs": [],
   "source": []
  },
  {
   "cell_type": "code",
   "execution_count": 4,
   "metadata": {
    "scrolled": true
   },
   "outputs": [
    {
     "data": {
      "text/plain": [
       "<gensim.models.word2vec.Word2Vec at 0x7fea08e1cba8>"
      ]
     },
     "execution_count": 4,
     "metadata": {},
     "output_type": "execute_result"
    }
   ],
   "source": [
    "from gensim.models import Word2Vec\n",
    "EMBEDDING_DIM = 32\n",
    "window_size = 5\n",
    "nb_epoch = 5\n",
    "batch_size = 6000\n",
    "model = Word2Vec(dataX, size=EMBEDDING_DIM, window=window_size,batch_words=batch_size,iter=nb_epoch,\n",
    "                 min_count=3, negative=5,sg=1) #sg=1 mean skip-gram\n",
    "model"
   ]
  },
  {
   "cell_type": "code",
   "execution_count": 10,
   "metadata": {},
   "outputs": [
    {
     "name": "stdout",
     "output_type": "stream",
     "text": [
      "Tamano del vocabulario:  3144\n"
     ]
    }
   ],
   "source": [
    "vocab_words = list(model.wv.vocab)\n",
    "print(\"Tamano del vocabulario: \",len(vocab_words))"
   ]
  },
  {
   "cell_type": "code",
   "execution_count": 5,
   "metadata": {
    "scrolled": true
   },
   "outputs": [],
   "source": [
    "embeddings_index = {vocab_word: model.wv[vocab_word] for vocab_word in model.wv.vocab}"
   ]
  },
  {
   "cell_type": "code",
   "execution_count": 9,
   "metadata": {},
   "outputs": [],
   "source": [
    "lemma2idx = {w: i for i, w in enumerate(lemmas)} #Converting text to numbers\n",
    "n_lemmas = len(lemmas)\n",
    "\n",
    "dataX = [[lemma2idx[lemma] for lemma in sentence ] for sentence in dataX]"
   ]
  },
  {
   "cell_type": "code",
   "execution_count": null,
   "metadata": {},
   "outputs": [],
   "source": []
  },
  {
   "cell_type": "code",
   "execution_count": 26,
   "metadata": {
    "scrolled": true
   },
   "outputs": [
    {
     "data": {
      "text/plain": [
       "array([[ 0.        ,  0.        ,  0.        , ...,  0.        ,\n",
       "         0.        ,  0.        ],\n",
       "       [ 0.        ,  0.        ,  0.        , ...,  0.        ,\n",
       "         0.        ,  0.        ],\n",
       "       [ 0.        ,  0.        ,  0.        , ...,  0.        ,\n",
       "         0.        ,  0.        ],\n",
       "       ..., \n",
       "       [ 0.05347466,  0.0790691 , -0.12822857, ..., -0.26420334,\n",
       "        -0.17218229,  0.02646903],\n",
       "       [ 0.10988804,  0.10135647, -0.17103973, ..., -0.37504655,\n",
       "        -0.27834073,  0.06954294],\n",
       "       [ 0.        ,  0.        ,  0.        , ...,  0.        ,\n",
       "         0.        ,  0.        ]])"
      ]
     },
     "execution_count": 26,
     "metadata": {},
     "output_type": "execute_result"
    }
   ],
   "source": [
    "embedding_matrix = np.zeros((n_lemmas+1, EMBEDDING_DIM))\n",
    "for word, i in lemma2idx.items():\n",
    "    embedding_vector = embeddings_index.get(word)\n",
    "    if embedding_vector is not None: #if word does not has embedding\n",
    "        embedding_matrix[i] = embedding_vector\n",
    "embedding_matrix"
   ]
  },
  {
   "cell_type": "code",
   "execution_count": 18,
   "metadata": {},
   "outputs": [],
   "source": []
  },
  {
   "cell_type": "code",
   "execution_count": null,
   "metadata": {},
   "outputs": [],
   "source": []
  },
  {
   "cell_type": "code",
   "execution_count": 21,
   "metadata": {},
   "outputs": [
    {
     "data": {
      "text/plain": [
       "(4543, 34)"
      ]
     },
     "execution_count": 21,
     "metadata": {},
     "output_type": "execute_result"
    }
   ],
   "source": [
    "X.shape"
   ]
  },
  {
   "cell_type": "code",
   "execution_count": 27,
   "metadata": {},
   "outputs": [
    {
     "data": {
      "text/plain": [
       "(7513, 32)"
      ]
     },
     "execution_count": 27,
     "metadata": {},
     "output_type": "execute_result"
    }
   ],
   "source": [
    "embedding_matrix.shape"
   ]
  },
  {
   "cell_type": "code",
   "execution_count": null,
   "metadata": {},
   "outputs": [],
   "source": []
  },
  {
   "cell_type": "code",
   "execution_count": 22,
   "metadata": {},
   "outputs": [],
   "source": [
    "from sklearn.model_selection import train_test_split\n",
    "X_train, X_test, y_train, y_test = train_test_split(X, y, test_size=0.3,random_state=22)"
   ]
  },
  {
   "cell_type": "code",
   "execution_count": 24,
   "metadata": {
    "scrolled": true
   },
   "outputs": [
    {
     "data": {
      "text/plain": [
       "(3180, 34)"
      ]
     },
     "execution_count": 24,
     "metadata": {},
     "output_type": "execute_result"
    }
   ],
   "source": [
    "X_train.shape"
   ]
  },
  {
   "cell_type": "code",
   "execution_count": 29,
   "metadata": {},
   "outputs": [
    {
     "data": {
      "text/plain": [
       "(7513, 32)"
      ]
     },
     "execution_count": 29,
     "metadata": {},
     "output_type": "execute_result"
    }
   ],
   "source": [
    "embedding_matrix.shape"
   ]
  },
  {
   "cell_type": "code",
   "execution_count": 31,
   "metadata": {},
   "outputs": [],
   "source": [
    "n_lemmas+=1\n",
    "n_labels+=1"
   ]
  },
  {
   "cell_type": "code",
   "execution_count": 32,
   "metadata": {},
   "outputs": [
    {
     "name": "stdout",
     "output_type": "stream",
     "text": [
      "_________________________________________________________________\n",
      "Layer (type)                 Output Shape              Param #   \n",
      "=================================================================\n",
      "embedding_3 (Embedding)      (None, 34, 32)            240416    \n",
      "_________________________________________________________________\n",
      "lstm_1 (LSTM)                (None, 34, 100)           53200     \n",
      "_________________________________________________________________\n",
      "dropout_1 (Dropout)          (None, 34, 100)           0         \n",
      "_________________________________________________________________\n",
      "dense_1 (Dense)              (None, 34, 18)            1818      \n",
      "=================================================================\n",
      "Total params: 295,434\n",
      "Trainable params: 55,018\n",
      "Non-trainable params: 240,416\n",
      "_________________________________________________________________\n",
      "Train on 3180 samples, validate on 1363 samples\n",
      "Epoch 1/10\n",
      "3180/3180 [==============================] - 4s 1ms/step - loss: 2.0487 - val_loss: 1.6018\n",
      "Epoch 2/10\n",
      "3180/3180 [==============================] - 2s 547us/step - loss: 1.3990 - val_loss: 1.1465\n",
      "Epoch 3/10\n",
      "3180/3180 [==============================] - 2s 542us/step - loss: 0.9803 - val_loss: 0.8374\n",
      "Epoch 4/10\n",
      "3180/3180 [==============================] - 2s 544us/step - loss: 0.7902 - val_loss: 0.7269\n",
      "Epoch 5/10\n",
      "3180/3180 [==============================] - 2s 551us/step - loss: 0.7102 - val_loss: 0.6694\n",
      "Epoch 6/10\n",
      "3180/3180 [==============================] - 2s 575us/step - loss: 0.6625 - val_loss: 0.6331\n",
      "Epoch 7/10\n",
      "3180/3180 [==============================] - 2s 552us/step - loss: 0.6312 - val_loss: 0.6035\n",
      "Epoch 8/10\n",
      "3180/3180 [==============================] - 2s 554us/step - loss: 0.6030 - val_loss: 0.5791\n",
      "Epoch 9/10\n",
      "3180/3180 [==============================] - 2s 551us/step - loss: 0.5812 - val_loss: 0.5590\n",
      "Epoch 10/10\n",
      "3180/3180 [==============================] - 2s 553us/step - loss: 0.5619 - val_loss: 0.5409\n"
     ]
    },
    {
     "data": {
      "text/plain": [
       "<keras.callbacks.History at 0x7fe9d9f69be0>"
      ]
     },
     "execution_count": 32,
     "metadata": {},
     "output_type": "execute_result"
    }
   ],
   "source": [
    "from keras.models import Sequential\n",
    "from keras.layers import LSTM, Embedding, Dense, Dropout\n",
    "model = Sequential()\n",
    "model.add(Embedding(input_dim=n_lemmas, output_dim=EMBEDDING_DIM, input_length=34,trainable=False,\n",
    "                   weights = [embedding_matrix]))\n",
    "model.add(LSTM(units=100,return_sequences=True))\n",
    "model.add(Dropout(0.2))\n",
    "model.add(Dense(n_labels, activation='softmax'))\n",
    "model.summary()\n",
    "model.compile(loss='categorical_crossentropy', optimizer='adam')\n",
    "model.fit(X_train, y_train, validation_data=(X_test, y_test), epochs=10, batch_size=128)"
   ]
  },
  {
   "cell_type": "code",
   "execution_count": null,
   "metadata": {},
   "outputs": [],
   "source": []
  },
  {
   "cell_type": "code",
   "execution_count": 1,
   "metadata": {},
   "outputs": [
    {
     "name": "stderr",
     "output_type": "stream",
     "text": [
      "Using TensorFlow backend.\n"
     ]
    }
   ],
   "source": [
    "from keras.datasets import mnist\n",
    "import numpy as np\n",
    "(x_train, y_train), (x_test, y_test) = mnist.load_data()\n",
    "x_train = x_train[:,:,:,None] #add channels\n",
    "x_test = x_test[:,:,:,None]\n",
    "img_rows, img_cols,channel = x_train.shape[1:]\n",
    "original_img_size = (img_rows, img_cols,channel) # input image dimensions"
   ]
  },
  {
   "cell_type": "code",
   "execution_count": 2,
   "metadata": {},
   "outputs": [],
   "source": [
    "x_train = x_train.astype('float32') / 255. #and x_test\n",
    "x_test = x_test.astype('float32') / 255. #and x_test\n",
    "\n",
    "#...#Define here your validation set\n",
    "import keras\n",
    "Y_train = keras.utils.to_categorical(y_train, 10)\n",
    "Y_test = keras.utils.to_categorical(y_test, 10)"
   ]
  },
  {
   "cell_type": "code",
   "execution_count": 41,
   "metadata": {},
   "outputs": [
    {
     "data": {
      "text/plain": [
       "1.0"
      ]
     },
     "execution_count": 41,
     "metadata": {},
     "output_type": "execute_result"
    }
   ],
   "source": [
    "x_train.max()"
   ]
  },
  {
   "cell_type": "code",
   "execution_count": 69,
   "metadata": {
    "scrolled": true
   },
   "outputs": [
    {
     "name": "stdout",
     "output_type": "stream",
     "text": [
      "Train on 60000 samples, validate on 10000 samples\n",
      "Epoch 1/30\n",
      " 5216/60000 [=>............................] - ETA: 8s - loss: 0.2853"
     ]
    },
    {
     "ename": "KeyboardInterrupt",
     "evalue": "",
     "output_type": "error",
     "traceback": [
      "\u001b[0;31m---------------------------------------------------------------------------\u001b[0m",
      "\u001b[0;31mKeyboardInterrupt\u001b[0m                         Traceback (most recent call last)",
      "\u001b[0;32m<ipython-input-69-f4cbe56a4dbc>\u001b[0m in \u001b[0;36m<module>\u001b[0;34m()\u001b[0m\n\u001b[1;32m      9\u001b[0m \u001b[0mencoder\u001b[0m \u001b[0;34m=\u001b[0m \u001b[0mModel\u001b[0m\u001b[0;34m(\u001b[0m\u001b[0minputs\u001b[0m\u001b[0;34m=\u001b[0m\u001b[0minput_img\u001b[0m\u001b[0;34m,\u001b[0m \u001b[0moutputs\u001b[0m\u001b[0;34m=\u001b[0m\u001b[0mencoded\u001b[0m\u001b[0;34m)\u001b[0m\u001b[0;34m\u001b[0m\u001b[0m\n\u001b[1;32m     10\u001b[0m \u001b[0mautoencoder\u001b[0m\u001b[0;34m.\u001b[0m\u001b[0mcompile\u001b[0m\u001b[0;34m(\u001b[0m\u001b[0moptimizer\u001b[0m\u001b[0;34m=\u001b[0m\u001b[0;34m'rmsprop'\u001b[0m\u001b[0;34m,\u001b[0m \u001b[0mloss\u001b[0m\u001b[0;34m=\u001b[0m\u001b[0;34m'binary_crossentropy'\u001b[0m\u001b[0;34m)\u001b[0m\u001b[0;34m\u001b[0m\u001b[0m\n\u001b[0;32m---> 11\u001b[0;31m \u001b[0mautoencoder\u001b[0m\u001b[0;34m.\u001b[0m\u001b[0mfit\u001b[0m\u001b[0;34m(\u001b[0m\u001b[0mx_train\u001b[0m\u001b[0;34m,\u001b[0m\u001b[0mx_train\u001b[0m\u001b[0;34m,\u001b[0m\u001b[0mepochs\u001b[0m\u001b[0;34m=\u001b[0m\u001b[0;36m30\u001b[0m\u001b[0;34m,\u001b[0m\u001b[0mbatch_size\u001b[0m\u001b[0;34m=\u001b[0m\u001b[0;36m32\u001b[0m\u001b[0;34m,\u001b[0m\u001b[0mvalidation_data\u001b[0m\u001b[0;34m=\u001b[0m\u001b[0;34m(\u001b[0m\u001b[0mx_test\u001b[0m\u001b[0;34m,\u001b[0m\u001b[0mx_test\u001b[0m\u001b[0;34m)\u001b[0m\u001b[0;34m)\u001b[0m\u001b[0;34m\u001b[0m\u001b[0m\n\u001b[0m\u001b[1;32m     12\u001b[0m \u001b[0mautoencoder\u001b[0m\u001b[0;34m.\u001b[0m\u001b[0msave\u001b[0m\u001b[0;34m(\u001b[0m\u001b[0;34m'basic_autoencoder.h5'\u001b[0m\u001b[0;34m)\u001b[0m\u001b[0;34m\u001b[0m\u001b[0m\n",
      "\u001b[0;32m~/anaconda2/envs/py3/lib/python3.5/site-packages/keras/engine/training.py\u001b[0m in \u001b[0;36mfit\u001b[0;34m(self, x, y, batch_size, epochs, verbose, callbacks, validation_split, validation_data, shuffle, class_weight, sample_weight, initial_epoch, steps_per_epoch, validation_steps, **kwargs)\u001b[0m\n\u001b[1;32m   1040\u001b[0m                                         \u001b[0minitial_epoch\u001b[0m\u001b[0;34m=\u001b[0m\u001b[0minitial_epoch\u001b[0m\u001b[0;34m,\u001b[0m\u001b[0;34m\u001b[0m\u001b[0m\n\u001b[1;32m   1041\u001b[0m                                         \u001b[0msteps_per_epoch\u001b[0m\u001b[0;34m=\u001b[0m\u001b[0msteps_per_epoch\u001b[0m\u001b[0;34m,\u001b[0m\u001b[0;34m\u001b[0m\u001b[0m\n\u001b[0;32m-> 1042\u001b[0;31m                                         validation_steps=validation_steps)\n\u001b[0m\u001b[1;32m   1043\u001b[0m \u001b[0;34m\u001b[0m\u001b[0m\n\u001b[1;32m   1044\u001b[0m     def evaluate(self, x=None, y=None,\n",
      "\u001b[0;32m~/anaconda2/envs/py3/lib/python3.5/site-packages/keras/engine/training_arrays.py\u001b[0m in \u001b[0;36mfit_loop\u001b[0;34m(model, f, ins, out_labels, batch_size, epochs, verbose, callbacks, val_f, val_ins, shuffle, callback_metrics, initial_epoch, steps_per_epoch, validation_steps)\u001b[0m\n\u001b[1;32m    197\u001b[0m                     \u001b[0mins_batch\u001b[0m\u001b[0;34m[\u001b[0m\u001b[0mi\u001b[0m\u001b[0;34m]\u001b[0m \u001b[0;34m=\u001b[0m \u001b[0mins_batch\u001b[0m\u001b[0;34m[\u001b[0m\u001b[0mi\u001b[0m\u001b[0;34m]\u001b[0m\u001b[0;34m.\u001b[0m\u001b[0mtoarray\u001b[0m\u001b[0;34m(\u001b[0m\u001b[0;34m)\u001b[0m\u001b[0;34m\u001b[0m\u001b[0m\n\u001b[1;32m    198\u001b[0m \u001b[0;34m\u001b[0m\u001b[0m\n\u001b[0;32m--> 199\u001b[0;31m                 \u001b[0mouts\u001b[0m \u001b[0;34m=\u001b[0m \u001b[0mf\u001b[0m\u001b[0;34m(\u001b[0m\u001b[0mins_batch\u001b[0m\u001b[0;34m)\u001b[0m\u001b[0;34m\u001b[0m\u001b[0m\n\u001b[0m\u001b[1;32m    200\u001b[0m                 \u001b[0;32mif\u001b[0m \u001b[0;32mnot\u001b[0m \u001b[0misinstance\u001b[0m\u001b[0;34m(\u001b[0m\u001b[0mouts\u001b[0m\u001b[0;34m,\u001b[0m \u001b[0mlist\u001b[0m\u001b[0;34m)\u001b[0m\u001b[0;34m:\u001b[0m\u001b[0;34m\u001b[0m\u001b[0m\n\u001b[1;32m    201\u001b[0m                     \u001b[0mouts\u001b[0m \u001b[0;34m=\u001b[0m \u001b[0;34m[\u001b[0m\u001b[0mouts\u001b[0m\u001b[0;34m]\u001b[0m\u001b[0;34m\u001b[0m\u001b[0m\n",
      "\u001b[0;32m~/anaconda2/envs/py3/lib/python3.5/site-packages/keras/backend/tensorflow_backend.py\u001b[0m in \u001b[0;36m__call__\u001b[0;34m(self, inputs)\u001b[0m\n\u001b[1;32m   2659\u001b[0m                 \u001b[0;32mreturn\u001b[0m \u001b[0mself\u001b[0m\u001b[0;34m.\u001b[0m\u001b[0m_legacy_call\u001b[0m\u001b[0;34m(\u001b[0m\u001b[0minputs\u001b[0m\u001b[0;34m)\u001b[0m\u001b[0;34m\u001b[0m\u001b[0m\n\u001b[1;32m   2660\u001b[0m \u001b[0;34m\u001b[0m\u001b[0m\n\u001b[0;32m-> 2661\u001b[0;31m             \u001b[0;32mreturn\u001b[0m \u001b[0mself\u001b[0m\u001b[0;34m.\u001b[0m\u001b[0m_call\u001b[0m\u001b[0;34m(\u001b[0m\u001b[0minputs\u001b[0m\u001b[0;34m)\u001b[0m\u001b[0;34m\u001b[0m\u001b[0m\n\u001b[0m\u001b[1;32m   2662\u001b[0m         \u001b[0;32melse\u001b[0m\u001b[0;34m:\u001b[0m\u001b[0;34m\u001b[0m\u001b[0m\n\u001b[1;32m   2663\u001b[0m             \u001b[0;32mif\u001b[0m \u001b[0mpy_any\u001b[0m\u001b[0;34m(\u001b[0m\u001b[0mis_tensor\u001b[0m\u001b[0;34m(\u001b[0m\u001b[0mx\u001b[0m\u001b[0;34m)\u001b[0m \u001b[0;32mfor\u001b[0m \u001b[0mx\u001b[0m \u001b[0;32min\u001b[0m \u001b[0minputs\u001b[0m\u001b[0;34m)\u001b[0m\u001b[0;34m:\u001b[0m\u001b[0;34m\u001b[0m\u001b[0m\n",
      "\u001b[0;32m~/anaconda2/envs/py3/lib/python3.5/site-packages/keras/backend/tensorflow_backend.py\u001b[0m in \u001b[0;36m_call\u001b[0;34m(self, inputs)\u001b[0m\n\u001b[1;32m   2629\u001b[0m                                 \u001b[0msymbol_vals\u001b[0m\u001b[0;34m,\u001b[0m\u001b[0;34m\u001b[0m\u001b[0m\n\u001b[1;32m   2630\u001b[0m                                 session)\n\u001b[0;32m-> 2631\u001b[0;31m         \u001b[0mfetched\u001b[0m \u001b[0;34m=\u001b[0m \u001b[0mself\u001b[0m\u001b[0;34m.\u001b[0m\u001b[0m_callable_fn\u001b[0m\u001b[0;34m(\u001b[0m\u001b[0;34m*\u001b[0m\u001b[0marray_vals\u001b[0m\u001b[0;34m)\u001b[0m\u001b[0;34m\u001b[0m\u001b[0m\n\u001b[0m\u001b[1;32m   2632\u001b[0m         \u001b[0;32mreturn\u001b[0m \u001b[0mfetched\u001b[0m\u001b[0;34m[\u001b[0m\u001b[0;34m:\u001b[0m\u001b[0mlen\u001b[0m\u001b[0;34m(\u001b[0m\u001b[0mself\u001b[0m\u001b[0;34m.\u001b[0m\u001b[0moutputs\u001b[0m\u001b[0;34m)\u001b[0m\u001b[0;34m]\u001b[0m\u001b[0;34m\u001b[0m\u001b[0m\n\u001b[1;32m   2633\u001b[0m \u001b[0;34m\u001b[0m\u001b[0m\n",
      "\u001b[0;32m~/anaconda2/envs/py3/lib/python3.5/site-packages/tensorflow/python/client/session.py\u001b[0m in \u001b[0;36m__call__\u001b[0;34m(self, *args)\u001b[0m\n\u001b[1;32m   1449\u001b[0m         \u001b[0;32mif\u001b[0m \u001b[0mself\u001b[0m\u001b[0;34m.\u001b[0m\u001b[0m_session\u001b[0m\u001b[0;34m.\u001b[0m\u001b[0m_created_with_new_api\u001b[0m\u001b[0;34m:\u001b[0m\u001b[0;34m\u001b[0m\u001b[0m\n\u001b[1;32m   1450\u001b[0m           return tf_session.TF_SessionRunCallable(\n\u001b[0;32m-> 1451\u001b[0;31m               self._session._session, self._handle, args, status, None)\n\u001b[0m\u001b[1;32m   1452\u001b[0m         \u001b[0;32melse\u001b[0m\u001b[0;34m:\u001b[0m\u001b[0;34m\u001b[0m\u001b[0m\n\u001b[1;32m   1453\u001b[0m           return tf_session.TF_DeprecatedSessionRunCallable(\n",
      "\u001b[0;31mKeyboardInterrupt\u001b[0m: "
     ]
    }
   ],
   "source": [
    "from keras.layers import Input, Dense, Flatten,Reshape\n",
    "from keras.models import Model\n",
    "input_img = Input(shape=original_img_size)\n",
    "input_fl = Flatten()(input_img) #to get a vector representation\n",
    "encoded = Dense(32, activation='relu')(input_fl)\n",
    "decoded = Dense(np.prod(original_img_size), activation='sigmoid')(encoded)\n",
    "decoded = Reshape(original_img_size)(decoded)\n",
    "autoencoder = Model(inputs=input_img, outputs=decoded)\n",
    "encoder = Model(inputs=input_img, outputs=encoded)\n",
    "autoencoder.compile(optimizer='rmsprop', loss='binary_crossentropy')\n",
    "autoencoder.fit(x_train,x_train,epochs=30,batch_size=32,validation_data=(x_test,x_test))\n",
    "autoencoder.save('basic_autoencoder.h5')"
   ]
  },
  {
   "cell_type": "code",
   "execution_count": 68,
   "metadata": {
    "scrolled": true
   },
   "outputs": [
    {
     "name": "stdout",
     "output_type": "stream",
     "text": [
      "_________________________________________________________________\n",
      "Layer (type)                 Output Shape              Param #   \n",
      "=================================================================\n",
      "input_26 (InputLayer)        (None, 28, 28, 1)         0         \n",
      "_________________________________________________________________\n",
      "conv2d_29 (Conv2D)           (None, 28, 28, 16)        160       \n",
      "_________________________________________________________________\n",
      "max_pooling2d_19 (MaxPooling (None, 14, 14, 16)        0         \n",
      "_________________________________________________________________\n",
      "conv2d_30 (Conv2D)           (None, 14, 14, 32)        4640      \n",
      "_________________________________________________________________\n",
      "max_pooling2d_20 (MaxPooling (None, 7, 7, 32)          0         \n",
      "_________________________________________________________________\n",
      "flatten_20 (Flatten)         (None, 1568)              0         \n",
      "_________________________________________________________________\n",
      "dense_29 (Dense)             (None, 32)                50208     \n",
      "_________________________________________________________________\n",
      "dense_30 (Dense)             (None, 1568)              51744     \n",
      "_________________________________________________________________\n",
      "reshape_18 (Reshape)         (None, 7, 7, 32)          0         \n",
      "_________________________________________________________________\n",
      "conv2d_31 (Conv2D)           (None, 7, 7, 32)          9248      \n",
      "_________________________________________________________________\n",
      "up_sampling2d_5 (UpSampling2 (None, 14, 14, 32)        0         \n",
      "_________________________________________________________________\n",
      "conv2d_32 (Conv2D)           (None, 14, 14, 16)        4624      \n",
      "_________________________________________________________________\n",
      "up_sampling2d_6 (UpSampling2 (None, 28, 28, 16)        0         \n",
      "_________________________________________________________________\n",
      "conv2d_33 (Conv2D)           (None, 28, 28, 1)         145       \n",
      "=================================================================\n",
      "Total params: 120,769\n",
      "Trainable params: 120,769\n",
      "Non-trainable params: 0\n",
      "_________________________________________________________________\n",
      "Train on 60000 samples, validate on 10000 samples\n",
      "Epoch 1/30\n",
      " 4928/60000 [=>............................] - ETA: 1:17 - loss: 0.2702"
     ]
    },
    {
     "ename": "KeyboardInterrupt",
     "evalue": "",
     "output_type": "error",
     "traceback": [
      "\u001b[0;31m---------------------------------------------------------------------------\u001b[0m",
      "\u001b[0;31mKeyboardInterrupt\u001b[0m                         Traceback (most recent call last)",
      "\u001b[0;32m<ipython-input-68-05eb793e6b54>\u001b[0m in \u001b[0;36m<module>\u001b[0;34m()\u001b[0m\n\u001b[1;32m     18\u001b[0m \u001b[0mautoencoder\u001b[0m\u001b[0;34m.\u001b[0m\u001b[0mcompile\u001b[0m\u001b[0;34m(\u001b[0m\u001b[0moptimizer\u001b[0m\u001b[0;34m=\u001b[0m\u001b[0;34m'rmsprop'\u001b[0m\u001b[0;34m,\u001b[0m \u001b[0mloss\u001b[0m\u001b[0;34m=\u001b[0m\u001b[0;34m'binary_crossentropy'\u001b[0m\u001b[0;34m)\u001b[0m\u001b[0;34m\u001b[0m\u001b[0m\n\u001b[1;32m     19\u001b[0m \u001b[0mautoencoder\u001b[0m\u001b[0;34m.\u001b[0m\u001b[0msummary\u001b[0m\u001b[0;34m(\u001b[0m\u001b[0;34m)\u001b[0m\u001b[0;34m\u001b[0m\u001b[0m\n\u001b[0;32m---> 20\u001b[0;31m \u001b[0mautoencoder\u001b[0m\u001b[0;34m.\u001b[0m\u001b[0mfit\u001b[0m\u001b[0;34m(\u001b[0m\u001b[0mx_train\u001b[0m\u001b[0;34m,\u001b[0m\u001b[0mx_train\u001b[0m\u001b[0;34m,\u001b[0m\u001b[0mepochs\u001b[0m\u001b[0;34m=\u001b[0m\u001b[0;36m30\u001b[0m\u001b[0;34m,\u001b[0m\u001b[0mbatch_size\u001b[0m\u001b[0;34m=\u001b[0m\u001b[0;36m32\u001b[0m\u001b[0;34m,\u001b[0m\u001b[0mvalidation_data\u001b[0m\u001b[0;34m=\u001b[0m\u001b[0;34m(\u001b[0m\u001b[0mx_test\u001b[0m\u001b[0;34m,\u001b[0m\u001b[0mx_test\u001b[0m\u001b[0;34m)\u001b[0m\u001b[0;34m)\u001b[0m\u001b[0;34m\u001b[0m\u001b[0m\n\u001b[0m",
      "\u001b[0;32m~/anaconda2/envs/py3/lib/python3.5/site-packages/keras/engine/training.py\u001b[0m in \u001b[0;36mfit\u001b[0;34m(self, x, y, batch_size, epochs, verbose, callbacks, validation_split, validation_data, shuffle, class_weight, sample_weight, initial_epoch, steps_per_epoch, validation_steps, **kwargs)\u001b[0m\n\u001b[1;32m   1040\u001b[0m                                         \u001b[0minitial_epoch\u001b[0m\u001b[0;34m=\u001b[0m\u001b[0minitial_epoch\u001b[0m\u001b[0;34m,\u001b[0m\u001b[0;34m\u001b[0m\u001b[0m\n\u001b[1;32m   1041\u001b[0m                                         \u001b[0msteps_per_epoch\u001b[0m\u001b[0;34m=\u001b[0m\u001b[0msteps_per_epoch\u001b[0m\u001b[0;34m,\u001b[0m\u001b[0;34m\u001b[0m\u001b[0m\n\u001b[0;32m-> 1042\u001b[0;31m                                         validation_steps=validation_steps)\n\u001b[0m\u001b[1;32m   1043\u001b[0m \u001b[0;34m\u001b[0m\u001b[0m\n\u001b[1;32m   1044\u001b[0m     def evaluate(self, x=None, y=None,\n",
      "\u001b[0;32m~/anaconda2/envs/py3/lib/python3.5/site-packages/keras/engine/training_arrays.py\u001b[0m in \u001b[0;36mfit_loop\u001b[0;34m(model, f, ins, out_labels, batch_size, epochs, verbose, callbacks, val_f, val_ins, shuffle, callback_metrics, initial_epoch, steps_per_epoch, validation_steps)\u001b[0m\n\u001b[1;32m    197\u001b[0m                     \u001b[0mins_batch\u001b[0m\u001b[0;34m[\u001b[0m\u001b[0mi\u001b[0m\u001b[0;34m]\u001b[0m \u001b[0;34m=\u001b[0m \u001b[0mins_batch\u001b[0m\u001b[0;34m[\u001b[0m\u001b[0mi\u001b[0m\u001b[0;34m]\u001b[0m\u001b[0;34m.\u001b[0m\u001b[0mtoarray\u001b[0m\u001b[0;34m(\u001b[0m\u001b[0;34m)\u001b[0m\u001b[0;34m\u001b[0m\u001b[0m\n\u001b[1;32m    198\u001b[0m \u001b[0;34m\u001b[0m\u001b[0m\n\u001b[0;32m--> 199\u001b[0;31m                 \u001b[0mouts\u001b[0m \u001b[0;34m=\u001b[0m \u001b[0mf\u001b[0m\u001b[0;34m(\u001b[0m\u001b[0mins_batch\u001b[0m\u001b[0;34m)\u001b[0m\u001b[0;34m\u001b[0m\u001b[0m\n\u001b[0m\u001b[1;32m    200\u001b[0m                 \u001b[0;32mif\u001b[0m \u001b[0;32mnot\u001b[0m \u001b[0misinstance\u001b[0m\u001b[0;34m(\u001b[0m\u001b[0mouts\u001b[0m\u001b[0;34m,\u001b[0m \u001b[0mlist\u001b[0m\u001b[0;34m)\u001b[0m\u001b[0;34m:\u001b[0m\u001b[0;34m\u001b[0m\u001b[0m\n\u001b[1;32m    201\u001b[0m                     \u001b[0mouts\u001b[0m \u001b[0;34m=\u001b[0m \u001b[0;34m[\u001b[0m\u001b[0mouts\u001b[0m\u001b[0;34m]\u001b[0m\u001b[0;34m\u001b[0m\u001b[0m\n",
      "\u001b[0;32m~/anaconda2/envs/py3/lib/python3.5/site-packages/keras/backend/tensorflow_backend.py\u001b[0m in \u001b[0;36m__call__\u001b[0;34m(self, inputs)\u001b[0m\n\u001b[1;32m   2659\u001b[0m                 \u001b[0;32mreturn\u001b[0m \u001b[0mself\u001b[0m\u001b[0;34m.\u001b[0m\u001b[0m_legacy_call\u001b[0m\u001b[0;34m(\u001b[0m\u001b[0minputs\u001b[0m\u001b[0;34m)\u001b[0m\u001b[0;34m\u001b[0m\u001b[0m\n\u001b[1;32m   2660\u001b[0m \u001b[0;34m\u001b[0m\u001b[0m\n\u001b[0;32m-> 2661\u001b[0;31m             \u001b[0;32mreturn\u001b[0m \u001b[0mself\u001b[0m\u001b[0;34m.\u001b[0m\u001b[0m_call\u001b[0m\u001b[0;34m(\u001b[0m\u001b[0minputs\u001b[0m\u001b[0;34m)\u001b[0m\u001b[0;34m\u001b[0m\u001b[0m\n\u001b[0m\u001b[1;32m   2662\u001b[0m         \u001b[0;32melse\u001b[0m\u001b[0;34m:\u001b[0m\u001b[0;34m\u001b[0m\u001b[0m\n\u001b[1;32m   2663\u001b[0m             \u001b[0;32mif\u001b[0m \u001b[0mpy_any\u001b[0m\u001b[0;34m(\u001b[0m\u001b[0mis_tensor\u001b[0m\u001b[0;34m(\u001b[0m\u001b[0mx\u001b[0m\u001b[0;34m)\u001b[0m \u001b[0;32mfor\u001b[0m \u001b[0mx\u001b[0m \u001b[0;32min\u001b[0m \u001b[0minputs\u001b[0m\u001b[0;34m)\u001b[0m\u001b[0;34m:\u001b[0m\u001b[0;34m\u001b[0m\u001b[0m\n",
      "\u001b[0;32m~/anaconda2/envs/py3/lib/python3.5/site-packages/keras/backend/tensorflow_backend.py\u001b[0m in \u001b[0;36m_call\u001b[0;34m(self, inputs)\u001b[0m\n\u001b[1;32m   2629\u001b[0m                                 \u001b[0msymbol_vals\u001b[0m\u001b[0;34m,\u001b[0m\u001b[0;34m\u001b[0m\u001b[0m\n\u001b[1;32m   2630\u001b[0m                                 session)\n\u001b[0;32m-> 2631\u001b[0;31m         \u001b[0mfetched\u001b[0m \u001b[0;34m=\u001b[0m \u001b[0mself\u001b[0m\u001b[0;34m.\u001b[0m\u001b[0m_callable_fn\u001b[0m\u001b[0;34m(\u001b[0m\u001b[0;34m*\u001b[0m\u001b[0marray_vals\u001b[0m\u001b[0;34m)\u001b[0m\u001b[0;34m\u001b[0m\u001b[0m\n\u001b[0m\u001b[1;32m   2632\u001b[0m         \u001b[0;32mreturn\u001b[0m \u001b[0mfetched\u001b[0m\u001b[0;34m[\u001b[0m\u001b[0;34m:\u001b[0m\u001b[0mlen\u001b[0m\u001b[0;34m(\u001b[0m\u001b[0mself\u001b[0m\u001b[0;34m.\u001b[0m\u001b[0moutputs\u001b[0m\u001b[0;34m)\u001b[0m\u001b[0;34m]\u001b[0m\u001b[0;34m\u001b[0m\u001b[0m\n\u001b[1;32m   2633\u001b[0m \u001b[0;34m\u001b[0m\u001b[0m\n",
      "\u001b[0;32m~/anaconda2/envs/py3/lib/python3.5/site-packages/tensorflow/python/client/session.py\u001b[0m in \u001b[0;36m__call__\u001b[0;34m(self, *args)\u001b[0m\n\u001b[1;32m   1449\u001b[0m         \u001b[0;32mif\u001b[0m \u001b[0mself\u001b[0m\u001b[0;34m.\u001b[0m\u001b[0m_session\u001b[0m\u001b[0;34m.\u001b[0m\u001b[0m_created_with_new_api\u001b[0m\u001b[0;34m:\u001b[0m\u001b[0;34m\u001b[0m\u001b[0m\n\u001b[1;32m   1450\u001b[0m           return tf_session.TF_SessionRunCallable(\n\u001b[0;32m-> 1451\u001b[0;31m               self._session._session, self._handle, args, status, None)\n\u001b[0m\u001b[1;32m   1452\u001b[0m         \u001b[0;32melse\u001b[0m\u001b[0;34m:\u001b[0m\u001b[0;34m\u001b[0m\u001b[0m\n\u001b[1;32m   1453\u001b[0m           return tf_session.TF_DeprecatedSessionRunCallable(\n",
      "\u001b[0;31mKeyboardInterrupt\u001b[0m: "
     ]
    }
   ],
   "source": [
    "from keras.layers import Input,Conv2D,Flatten,Dense,MaxPooling2D, UpSampling2D\n",
    "input_img = Input(shape=original_img_size)\n",
    "x = Conv2D(16, (3, 3), activation='relu', padding='same')(input_img)\n",
    "x = MaxPooling2D((2, 2))(x)\n",
    "x = Conv2D(32, (3, 3), activation='relu', padding='same')(x)\n",
    "x = MaxPooling2D((2, 2))(x)\n",
    "before_F_shape =  (x.shape[1].value, x.shape[2].value, x.shape[3].value)\n",
    "x = Flatten()(x)\n",
    "encoded = Dense(32, activation='relu')(x)\n",
    "x = Dense(np.prod(before_F_shape),activation='relu')(encoded)\n",
    "x = Reshape(before_F_shape)(x)\n",
    "x = Conv2D(32, (3, 3), activation='relu', padding='same')(x)\n",
    "x = UpSampling2D((2, 2))(x)\n",
    "x = Conv2D(16, (3, 3), activation='relu', padding='same')(x)\n",
    "x = UpSampling2D((2, 2))(x)\n",
    "decoded = Conv2D(1, (3, 3), activation='sigmoid', padding='same')(x)\n",
    "autoencoder = Model(input_img, decoded)\n",
    "autoencoder.compile(optimizer='rmsprop', loss='binary_crossentropy')\n",
    "autoencoder.summary()\n",
    "autoencoder.fit(x_train,x_train,epochs=30,batch_size=32,validation_data=(x_test,x_test))\n"
   ]
  },
  {
   "cell_type": "code",
   "execution_count": 65,
   "metadata": {},
   "outputs": [
    {
     "data": {
      "text/plain": [
       "(7, 7, 32)"
      ]
     },
     "execution_count": 65,
     "metadata": {},
     "output_type": "execute_result"
    }
   ],
   "source": []
  },
  {
   "cell_type": "code",
   "execution_count": 26,
   "metadata": {},
   "outputs": [
    {
     "name": "stdout",
     "output_type": "stream",
     "text": [
      "_________________________________________________________________\n",
      "Layer (type)                 Output Shape              Param #   \n",
      "=================================================================\n",
      "input_8 (InputLayer)         (None, 28, 28, 1)         0         \n",
      "_________________________________________________________________\n",
      "flatten_7 (Flatten)          (None, 784)               0         \n",
      "_________________________________________________________________\n",
      "dense_13 (Dense)             (None, 32)                25120     \n",
      "_________________________________________________________________\n",
      "dense_14 (Dense)             (None, 784)               25872     \n",
      "_________________________________________________________________\n",
      "reshape_6 (Reshape)          (None, 28, 28, 1)         0         \n",
      "=================================================================\n",
      "Total params: 50,992\n",
      "Trainable params: 50,992\n",
      "Non-trainable params: 0\n",
      "_________________________________________________________________\n"
     ]
    }
   ],
   "source": [
    "autoencoder.summary()"
   ]
  },
  {
   "cell_type": "code",
   "execution_count": null,
   "metadata": {},
   "outputs": [],
   "source": [
    "??"
   ]
  },
  {
   "cell_type": "code",
   "execution_count": 45,
   "metadata": {},
   "outputs": [
    {
     "data": {
      "image/png": "[encoded data removed]",
      "text/plain": [
       "<matplotlib.figure.Figure at 0x7fa03ea0b7f0>"
      ]
     },
     "metadata": {},
     "output_type": "display_data"
    }
   ],
   "source": [
    "#encoded_test = encoder.predict(x_test)\n",
    "#decoded_test = decoder.predict(encoded_test)\n",
    "decoded_test = autoencoder.predict(x_test)\n",
    "import matplotlib.pyplot as plt\n",
    "n = 10\n",
    "plt.figure(figsize=(20, 4))\n",
    "for i in range(n):\n",
    "    ax = plt.subplot(2, n, i + 1)\n",
    "    plt.imshow(x_test[i].reshape(28, 28),cmap='gray')\n",
    "    ax.get_xaxis().set_visible(False)\n",
    "    ax.get_yaxis().set_visible(False)\n",
    "    ax = plt.subplot(2, n, i + 1 + n)\n",
    "    plt.imshow(decoded_test[i].reshape(28, 28),cmap='gray')\n",
    "    ax.get_xaxis().set_visible(False)\n",
    "    ax.get_yaxis().set_visible(False)\n",
    "plt.show()"
   ]
  },
  {
   "cell_type": "code",
   "execution_count": null,
   "metadata": {},
   "outputs": [],
   "source": []
  },
  {
   "cell_type": "code",
   "execution_count": 10,
   "metadata": {},
   "outputs": [],
   "source": [
    "from keras.layers import Input,Conv2D,Flatten,Dense,MaxPool2D\n",
    "from keras.models import Model\n",
    "filters = 32 # number of convolutional filters to use\n",
    "num_conv = 3 # convolution kernel size\n",
    "intermediate_dim = 128\n",
    "\n",
    "#cambia\n",
    "latent_dim = 10\n",
    "\n",
    "x = Input(shape=original_img_size)\n",
    "conv_1 = Conv2D(filters,kernel_size=num_conv,padding='same', activation='relu')(x)\n",
    "conv_2 = Conv2D(filters,kernel_size=num_conv,padding='same', activation='relu')(conv_1)\n",
    "conv_3 = Conv2D(filters*2, kernel_size=num_conv, padding='same', activation='relu', strides=2)(conv_2)\n",
    "flat = Flatten()(conv_3)\n",
    "hidden = Dense(intermediate_dim, activation='relu')(flat)\n",
    "\n",
    "#cambio..\n",
    "logits_z = Dense(latent_dim,activation='linear')(hidden) #log(p(z))\n",
    "encoder = Model(x, logits_z) # build a model to project inputs on the latent space\n"
   ]
  },
  {
   "cell_type": "code",
   "execution_count": 11,
   "metadata": {},
   "outputs": [],
   "source": [
    "import keras.backend as K\n",
    "from keras.layers import Reshape,Conv2DTranspose,Activation\n",
    "shape_before_flattening = K.int_shape(conv_3)[1:] # we instantiate these layers separately to reuse them later\n",
    "decoder_hid = Dense(intermediate_dim, activation='relu')\n",
    "decoder_upsample = Dense(np.prod(shape_before_flattening), activation='relu')\n",
    "decoder_reshape = Reshape(shape_before_flattening)\n",
    "decoder_deconv_1 = Conv2DTranspose(filters,kernel_size=num_conv, padding='same',strides=2,activation='relu')\n",
    "decoder_deconv_2 = Conv2DTranspose(filters,kernel_size=num_conv,padding='same', activation='relu')\n",
    "decoder_mean_squash = Conv2DTranspose(channel, kernel_size=num_conv,padding='same', activation='sigmoid')"
   ]
  },
  {
   "cell_type": "code",
   "execution_count": 14,
   "metadata": {
    "scrolled": true
   },
   "outputs": [
    {
     "name": "stdout",
     "output_type": "stream",
     "text": [
      "_________________________________________________________________\n",
      "Layer (type)                 Output Shape              Param #   \n",
      "=================================================================\n",
      "input_2 (InputLayer)         (None, 28, 28, 1)         0         \n",
      "_________________________________________________________________\n",
      "conv2d_4 (Conv2D)            (None, 28, 28, 32)        320       \n",
      "_________________________________________________________________\n",
      "conv2d_5 (Conv2D)            (None, 28, 28, 32)        9248      \n",
      "_________________________________________________________________\n",
      "conv2d_6 (Conv2D)            (None, 14, 14, 64)        18496     \n",
      "_________________________________________________________________\n",
      "flatten_2 (Flatten)          (None, 12544)             0         \n",
      "_________________________________________________________________\n",
      "dense_5 (Dense)              (None, 128)               1605760   \n",
      "_________________________________________________________________\n",
      "dense_6 (Dense)              (None, 10)                1290      \n",
      "_________________________________________________________________\n",
      "lambda_3 (Lambda)            (None, 10)                0         \n",
      "_________________________________________________________________\n",
      "dense_7 (Dense)              (None, 128)               1408      \n",
      "_________________________________________________________________\n",
      "dense_8 (Dense)              (None, 12544)             1618176   \n",
      "_________________________________________________________________\n",
      "reshape_2 (Reshape)          (None, 14, 14, 64)        0         \n",
      "_________________________________________________________________\n",
      "conv2d_transpose_4 (Conv2DTr (None, 28, 28, 32)        18464     \n",
      "_________________________________________________________________\n",
      "conv2d_transpose_5 (Conv2DTr (None, 28, 28, 32)        9248      \n",
      "_________________________________________________________________\n",
      "conv2d_transpose_6 (Conv2DTr (None, 28, 28, 1)         289       \n",
      "=================================================================\n",
      "Total params: 3,282,699\n",
      "Trainable params: 3,282,699\n",
      "Non-trainable params: 0\n",
      "_________________________________________________________________\n"
     ]
    }
   ],
   "source": [
    "def sample_gumbel(shape,eps=K.epsilon()):\n",
    "    \"\"\"Inverse Sample function from Gumbel(0, 1)\"\"\"\n",
    "    U = K.random_uniform(shape, 0, 1)\n",
    "    return - K.log( -K.log(U + eps) + eps)\n",
    "        \n",
    "def sampling(logits_z):\n",
    "    \"\"\" Perform a Gumbel-Softmax sampling\"\"\"\n",
    "    tau = K.variable(2/3, name=\"temperature\") \n",
    "    z = logits_z + sample_gumbel(K.shape(logits_z)) # logits + gumbel noise\n",
    "    return keras.activations.softmax( z/tau )    \n",
    "\n",
    "from keras.layers import Lambda\n",
    "z = Lambda(sampling, output_shape=(latent_dim,))(logits_z)\n",
    "#para arriba cambio...\n",
    "\n",
    "hid_decoded = decoder_hid(z)\n",
    "up_decoded = decoder_upsample(hid_decoded)\n",
    "reshape_decoded =  decoder_reshape(up_decoded)\n",
    "deconv_1_decoded = decoder_deconv_1(reshape_decoded)\n",
    "x_decoded_relu = decoder_deconv_2(deconv_1_decoded)\n",
    "x_decoded_mean_squash = decoder_mean_squash(x_decoded_relu)\n",
    "vae_norm = Model(x, x_decoded_mean_squash) # instantiate VAE model\n",
    "vae_norm.summary()\n",
    "\n"
   ]
  },
  {
   "cell_type": "code",
   "execution_count": 15,
   "metadata": {
    "scrolled": true
   },
   "outputs": [
    {
     "name": "stdout",
     "output_type": "stream",
     "text": [
      "_________________________________________________________________\n",
      "Layer (type)                 Output Shape              Param #   \n",
      "=================================================================\n",
      "input_2 (InputLayer)         (None, 28, 28, 1)         0         \n",
      "_________________________________________________________________\n",
      "conv2d_4 (Conv2D)            (None, 28, 28, 32)        320       \n",
      "_________________________________________________________________\n",
      "conv2d_5 (Conv2D)            (None, 28, 28, 32)        9248      \n",
      "_________________________________________________________________\n",
      "conv2d_6 (Conv2D)            (None, 14, 14, 64)        18496     \n",
      "_________________________________________________________________\n",
      "flatten_2 (Flatten)          (None, 12544)             0         \n",
      "_________________________________________________________________\n",
      "dense_5 (Dense)              (None, 128)               1605760   \n",
      "_________________________________________________________________\n",
      "dense_6 (Dense)              (None, 10)                1290      \n",
      "_________________________________________________________________\n",
      "lambda_3 (Lambda)            (None, 10)                0         \n",
      "_________________________________________________________________\n",
      "dense_7 (Dense)              (None, 128)               1408      \n",
      "_________________________________________________________________\n",
      "dense_8 (Dense)              (None, 12544)             1618176   \n",
      "_________________________________________________________________\n",
      "reshape_2 (Reshape)          (None, 14, 14, 64)        0         \n",
      "_________________________________________________________________\n",
      "conv2d_transpose_4 (Conv2DTr (None, 28, 28, 32)        18464     \n",
      "_________________________________________________________________\n",
      "conv2d_transpose_5 (Conv2DTr (None, 28, 28, 32)        9248      \n",
      "_________________________________________________________________\n",
      "conv2d_transpose_6 (Conv2DTr (None, 28, 28, 1)         289       \n",
      "=================================================================\n",
      "Total params: 3,282,699\n",
      "Trainable params: 3,282,699\n",
      "Non-trainable params: 0\n",
      "_________________________________________________________________\n"
     ]
    }
   ],
   "source": [
    "choised_loss =  keras.metrics.binary_crossentropy(K.flatten(x),K.flatten(x_decoded_mean_squash))\n",
    "reconstruction_loss = img_rows * img_cols * channel* choised_loss\n",
    "\n",
    "#KL cambia:\n",
    "dist =  keras.activations.softmax(logits_z) # =p(z)\n",
    "dist_neg_entropy = K.sum(dist * K.log(dist + K.epsilon()), axis=1)\n",
    "kl_disc_loss =  np.log(latent_dim) + dist_neg_entropy #discrete KL-loss\n",
    "vae_loss = K.mean(reconstruction_loss + kl_disc_loss)\n",
    "\n",
    "vae_norm.add_loss(vae_loss)\n",
    "vae_norm.summary()\n"
   ]
  },
  {
   "cell_type": "code",
   "execution_count": 153,
   "metadata": {
    "scrolled": true
   },
   "outputs": [
    {
     "name": "stderr",
     "output_type": "stream",
     "text": [
      "/home/casapanshop/anaconda2/envs/py3/lib/python3.5/site-packages/ipykernel/__main__.py:3: UserWarning: Output \"conv2d_transpose_6\" missing from loss dictionary. We assume this was done on purpose, and we will not be expecting any data to be passed to \"conv2d_transpose_6\" during training.\n",
      "  app.launch_new_instance()\n"
     ]
    },
    {
     "name": "stdout",
     "output_type": "stream",
     "text": [
      "Train on 60000 samples, validate on 10000 samples\n",
      "Epoch 1/25\n",
      "60000/60000 [==============================] - 18s 301us/step - loss: 138.1076 - val_loss: 138.6182\n",
      "Epoch 2/25\n",
      "60000/60000 [==============================] - 17s 280us/step - loss: 137.1350 - val_loss: 139.8848\n",
      "Epoch 3/25\n",
      "60000/60000 [==============================] - 17s 281us/step - loss: 136.3050 - val_loss: 135.7248\n",
      "Epoch 4/25\n",
      "60000/60000 [==============================] - 17s 280us/step - loss: 135.5400 - val_loss: 136.2309\n",
      "Epoch 5/25\n",
      "60000/60000 [==============================] - 17s 279us/step - loss: 134.9025 - val_loss: 134.9311\n",
      "Epoch 6/25\n",
      "60000/60000 [==============================] - 17s 279us/step - loss: 134.4601 - val_loss: 135.2788\n",
      "Epoch 7/25\n",
      "60000/60000 [==============================] - 17s 279us/step - loss: 133.7722 - val_loss: 133.9731\n",
      "Epoch 8/25\n",
      "60000/60000 [==============================] - 17s 282us/step - loss: 133.3055 - val_loss: 133.6667\n",
      "Epoch 9/25\n",
      "60000/60000 [==============================] - 17s 284us/step - loss: 132.7804 - val_loss: 133.1550\n",
      "Epoch 10/25\n",
      "60000/60000 [==============================] - 17s 286us/step - loss: 132.5055 - val_loss: 133.8186\n",
      "Epoch 11/25\n",
      "60000/60000 [==============================] - 17s 284us/step - loss: 132.0732 - val_loss: 132.5945\n",
      "Epoch 12/25\n",
      "60000/60000 [==============================] - 17s 278us/step - loss: 131.5256 - val_loss: 131.2716\n",
      "Epoch 13/25\n",
      "60000/60000 [==============================] - 17s 285us/step - loss: 131.3121 - val_loss: 130.8322\n",
      "Epoch 14/25\n",
      "60000/60000 [==============================] - 17s 279us/step - loss: 130.9246 - val_loss: 130.9984\n",
      "Epoch 15/25\n",
      "60000/60000 [==============================] - 17s 278us/step - loss: 130.4236 - val_loss: 130.8325\n",
      "Epoch 16/25\n",
      "60000/60000 [==============================] - 17s 278us/step - loss: 130.2755 - val_loss: 130.6602\n",
      "Epoch 17/25\n",
      "60000/60000 [==============================] - 16s 274us/step - loss: 129.9069 - val_loss: 131.0847\n",
      "Epoch 18/25\n",
      "60000/60000 [==============================] - 17s 279us/step - loss: 129.7133 - val_loss: 128.8709\n",
      "Epoch 19/25\n",
      "60000/60000 [==============================] - 17s 278us/step - loss: 129.4060 - val_loss: 130.3154\n",
      "Epoch 20/25\n",
      "60000/60000 [==============================] - 17s 276us/step - loss: 129.1874 - val_loss: 130.0773\n",
      "Epoch 21/25\n",
      "60000/60000 [==============================] - 16s 274us/step - loss: 129.0726 - val_loss: 129.4568\n",
      "Epoch 22/25\n",
      "60000/60000 [==============================] - 17s 275us/step - loss: 128.8686 - val_loss: 129.4143\n",
      "Epoch 23/25\n",
      "60000/60000 [==============================] - 17s 277us/step - loss: 128.3805 - val_loss: 128.0150\n",
      "Epoch 24/25\n",
      "60000/60000 [==============================] - 16s 274us/step - loss: 128.3933 - val_loss: 129.0224\n",
      "Epoch 25/25\n",
      "60000/60000 [==============================] - 17s 276us/step - loss: 128.0752 - val_loss: 127.7739\n"
     ]
    },
    {
     "data": {
      "text/plain": [
       "<keras.callbacks.History at 0x7fdf4b1e2128>"
      ]
     },
     "execution_count": 153,
     "metadata": {},
     "output_type": "execute_result"
    }
   ],
   "source": [
    "batch_size = 64\n",
    "epochs =  25\n",
    "vae_norm.compile(optimizer='rmsprop')\n",
    "vae_norm.fit(x_train,epochs=epochs, batch_size=batch_size,validation_data=(x_test, None))"
   ]
  },
  {
   "cell_type": "code",
   "execution_count": 154,
   "metadata": {},
   "outputs": [
    {
     "data": {
      "text/plain": [
       "array([[9.93214577e-09, 3.42115709e-05, 3.34711804e-05, ...,\n",
       "        9.18326557e-01, 7.88376778e-02, 1.22381802e-08],\n",
       "       [5.01510799e-02, 1.18385833e-04, 1.04509264e-01, ...,\n",
       "        2.30292767e-06, 2.50481698e-05, 2.21619487e-01],\n",
       "       [4.96984764e-09, 2.85342723e-01, 7.14640677e-01, ...,\n",
       "        8.22795391e-06, 9.44979983e-10, 4.77221238e-06],\n",
       "       ...,\n",
       "       [2.92682046e-07, 3.96850646e-01, 3.09091178e-03, ...,\n",
       "        4.07346815e-01, 6.24903696e-05, 1.12699415e-03],\n",
       "       [1.94816457e-05, 1.52378857e-06, 4.45192470e-08, ...,\n",
       "        6.37474470e-03, 8.71460512e-03, 2.05271999e-06],\n",
       "       [3.02969944e-04, 6.97063399e-07, 1.66004733e-03, ...,\n",
       "        5.49713430e-09, 4.10732959e-08, 1.04517244e-06]], dtype=float32)"
      ]
     },
     "execution_count": 154,
     "metadata": {},
     "output_type": "execute_result"
    }
   ],
   "source": [
    "def softmax(x):\n",
    "    \"\"\"Compute softmax values for each sets of scores in x.\"\"\"\n",
    "    e_x = np.exp(x - x.max(axis=-1,keepdims=True) )\n",
    "    return e_x / e_x.sum(axis=-1, keepdims=True)\n",
    "p_z_train = softmax(encoder.predict(x_train))\n",
    "p_z_test = softmax(encoder.predict(x_test))\n",
    "y_train_pred = p_z_train.argmax(axis=-1)\n",
    "y_test_pred = p_z_test.argmax(axis=-1)\n",
    "p_z_test"
   ]
  },
  {
   "cell_type": "code",
   "execution_count": 155,
   "metadata": {},
   "outputs": [
    {
     "name": "stdout",
     "output_type": "stream",
     "text": [
      "0.31587453023976225\n",
      "0.323335570035452\n"
     ]
    }
   ],
   "source": [
    "from sklearn.metrics import normalized_mutual_info_score\n",
    "print(normalized_mutual_info_score(y_train, y_train_pred))\n",
    "print(normalized_mutual_info_score(y_test, y_test_pred))\n"
   ]
  },
  {
   "cell_type": "code",
   "execution_count": null,
   "metadata": {},
   "outputs": [],
   "source": []
  },
  {
   "cell_type": "code",
   "execution_count": 156,
   "metadata": {},
   "outputs": [],
   "source": [
    "decoder_input = Input(shape=(latent_dim,))\n",
    "_hid_decoded = decoder_hid(decoder_input)\n",
    "_up_decoded = decoder_upsample(_hid_decoded)\n",
    "_reshape_decoded = decoder_reshape(_up_decoded)\n",
    "_deconv_1_decoded = decoder_deconv_1(_reshape_decoded)\n",
    "_x_decoded_relu = decoder_deconv_2(_deconv_1_decoded)\n",
    "_x_decoded_mean_squash = decoder_mean_squash(_x_decoded_relu)\n",
    "generator = Model(decoder_input, _x_decoded_mean_squash) "
   ]
  },
  {
   "cell_type": "code",
   "execution_count": 157,
   "metadata": {
    "scrolled": true
   },
   "outputs": [
    {
     "data": {
      "image/png": "[encoded data removed]",
      "text/plain": [
       "<Figure size 720x720 with 1 Axes>"
      ]
     },
     "metadata": {},
     "output_type": "display_data"
    }
   ],
   "source": [
    "predictions =np.zeros((img_cols * 1 ,img_cols* latent_dim))\n",
    "for i in range(latent_dim):\n",
    "    activate_aux = np.zeros((1,10))\n",
    "    activate_aux[:,i] = 1 #activate a class\n",
    "    predictions[:, i * img_cols: (i + 1) * img_cols] = np.squeeze(generator.predict(activate_aux))\n",
    "    \n",
    "import matplotlib.pyplot as plt\n",
    "plt.figure(figsize=(10, 10))\n",
    "plt.imshow(predictions, cmap='gnuplot2')\n",
    "pos = np.arange(img_cols/2, img_cols*latent_dim, img_cols)\n",
    "plt.xticks(pos,range(latent_dim))\n",
    "plt.show()"
   ]
  },
  {
   "cell_type": "code",
   "execution_count": null,
   "metadata": {},
   "outputs": [],
   "source": []
  },
  {
   "cell_type": "code",
   "execution_count": null,
   "metadata": {},
   "outputs": [],
   "source": []
  },
  {
   "cell_type": "code",
   "execution_count": 173,
   "metadata": {
    "scrolled": true
   },
   "outputs": [
    {
     "data": {
      "text/plain": [
       "(100, 80, 80, 3)"
      ]
     },
     "execution_count": 173,
     "metadata": {},
     "output_type": "execute_result"
    }
   ],
   "source": [
    "import numpy as np\n",
    "import os\n",
    "folder = \"/home/fmena/Desktop/ML_usm/Ayud_ANN/Tarea2/data/Semantic dataset100\"\n",
    "\n",
    "data = [archivo.split(\".\")[0] for archivo in os.listdir(folder+\"/image\")]\n",
    "\n",
    "from PIL import Image\n",
    "X_image = []\n",
    "for archivo in data:\n",
    "    I = Image.open(folder+\"/image/\"+archivo+\".jpg\")\n",
    "    I = np.asarray(I.resize( (80,80),Image.ANTIALIAS ))\n",
    "    X_image.append(I)\n",
    "X_image = np.asarray(X_image)\n",
    "X_image.shape"
   ]
  },
  {
   "cell_type": "code",
   "execution_count": 174,
   "metadata": {},
   "outputs": [
    {
     "data": {
      "text/plain": [
       "(100, 80, 80)"
      ]
     },
     "execution_count": 174,
     "metadata": {},
     "output_type": "execute_result"
    }
   ],
   "source": [
    "Y_image = []\n",
    "for archivo in data:\n",
    "    I = Image.open(folder+\"/ground-truth/\"+archivo+\".png\")\n",
    "    I = np.asarray(I.resize( (80,80),Image.ANTIALIAS ))\n",
    "    Y_image.append(I)\n",
    "Y_image = np.asarray(Y_image)\n",
    "Y_image.shape"
   ]
  },
  {
   "cell_type": "code",
   "execution_count": 71,
   "metadata": {},
   "outputs": [
    {
     "data": {
      "image/png": "[encoded data removed]",
      "text/plain": [
       "<Figure size 432x288 with 1 Axes>"
      ]
     },
     "metadata": {},
     "output_type": "display_data"
    }
   ],
   "source": [
    "import matplotlib.pyplot as plt\n",
    "plt.imshow(X_image[0])\n",
    "plt.show()"
   ]
  },
  {
   "cell_type": "code",
   "execution_count": 79,
   "metadata": {
    "scrolled": true
   },
   "outputs": [
    {
     "data": {
      "image/png": "[encoded data removed]",
      "text/plain": [
       "<Figure size 432x288 with 1 Axes>"
      ]
     },
     "metadata": {},
     "output_type": "display_data"
    }
   ],
   "source": [
    "plt.imshow(Y_image[0])\n",
    "plt.show()"
   ]
  },
  {
   "cell_type": "code",
   "execution_count": null,
   "metadata": {},
   "outputs": [],
   "source": []
  },
  {
   "cell_type": "code",
   "execution_count": 176,
   "metadata": {
    "scrolled": true
   },
   "outputs": [
    {
     "name": "stdout",
     "output_type": "stream",
     "text": [
      "_________________________________________________________________\n",
      "Layer (type)                 Output Shape              Param #   \n",
      "=================================================================\n",
      "conv2d_83 (Conv2D)           (None, 80, 80, 32)        896       \n",
      "_________________________________________________________________\n",
      "conv2d_84 (Conv2D)           (None, 80, 80, 32)        9248      \n",
      "_________________________________________________________________\n",
      "max_pooling2d_27 (MaxPooling (None, 40, 40, 32)        0         \n",
      "_________________________________________________________________\n",
      "conv2d_85 (Conv2D)           (None, 40, 40, 64)        18496     \n",
      "_________________________________________________________________\n",
      "conv2d_86 (Conv2D)           (None, 40, 40, 64)        36928     \n",
      "_________________________________________________________________\n",
      "max_pooling2d_28 (MaxPooling (None, 20, 20, 64)        0         \n",
      "_________________________________________________________________\n",
      "conv2d_87 (Conv2D)           (None, 20, 20, 128)       73856     \n",
      "_________________________________________________________________\n",
      "conv2d_88 (Conv2D)           (None, 20, 20, 128)       147584    \n",
      "_________________________________________________________________\n",
      "conv2d_transpose_55 (Conv2DT (None, 20, 20, 32)        36896     \n",
      "_________________________________________________________________\n",
      "conv2d_transpose_56 (Conv2DT (None, 20, 20, 32)        9248      \n",
      "_________________________________________________________________\n",
      "up_sampling2d_16 (UpSampling (None, 40, 40, 32)        0         \n",
      "_________________________________________________________________\n",
      "conv2d_transpose_57 (Conv2DT (None, 80, 80, 1)         289       \n",
      "=================================================================\n",
      "Total params: 333,441\n",
      "Trainable params: 333,441\n",
      "Non-trainable params: 0\n",
      "_________________________________________________________________\n"
     ]
    }
   ],
   "source": [
    "#https://arxiv.org/pdf/1511.00561v2.pdf \n",
    "\n",
    "from keras.models import Sequential\n",
    "from keras.layers import Conv2D,MaxPool2D, Conv2DTranspose, UpSampling2D, BatchNormalization\n",
    "\n",
    "model = Sequential()\n",
    "\n",
    "#ENCODER PART\n",
    "model.add(Conv2D(32, (3, 3), activation='relu', padding='same',input_shape=X_image.shape[1:]))\n",
    "#model.add(BatchNormalization())\n",
    "model.add(Conv2D(32, (3, 3), activation='relu', padding='same'))\n",
    "#model.add(BatchNormalization())\n",
    "model.add(MaxPool2D((2, 2)))\n",
    "\n",
    "model.add(Conv2D(64, (3, 3), activation='relu', padding='same'))\n",
    "#model.add(BatchNormalization())\n",
    "model.add(Conv2D(64, (3, 3), activation='relu', padding='same'))\n",
    "#model.add(BatchNormalization())\n",
    "model.add(MaxPool2D((2, 2)))\n",
    "\n",
    "model.add(Conv2D(128, (3, 3), activation='relu', padding='same'))\n",
    "#model.add(BatchNormalization())\n",
    "model.add(Conv2D(128, (3, 3), activation='relu', padding='same'))\n",
    "#model.add(BatchNormalization())\n",
    "#model.add(MaxPool2D((2, 2), strides=(2,2)))\n",
    "\n",
    "#DECODER PART\n",
    "#model.add(UpSampling2d((2, 2), strides=(2,2)))\n",
    "#model.add(Conv2DTranspose(256, (3, 3), activation='relu', padding='same'))\n",
    "#model.add(BatchNormalization())\n",
    "#model.add(Conv2DTranspose(256, (3, 3), activation='relu', padding='same'))\n",
    "#model.add(BatchNormalization())\n",
    "\n",
    "#model.add(UpSampling2D((2, 2)))\n",
    "\n",
    "#model.add(Conv2DTranspose(128, (3, 3), activation='relu', padding='same'))\n",
    "#model.add(BatchNormalization())\n",
    "#model.add(Conv2DTranspose(128, (3, 3), activation='relu', padding='same'))\n",
    "#model.add(BatchNormalization())\n",
    "\n",
    "#model.add(UpSampling2D((2, 2)))\n",
    "#model.add(Conv2DTranspose(64, (3, 3), activation='relu', padding='same'))\n",
    "#model.add(BatchNormalization())\n",
    "#model.add(Conv2DTranspose(64, (3, 3), activation='relu', padding='same'))\n",
    "#model.add(BatchNormalization())\n",
    "\n",
    "#model.add(UpSampling2D((2, 2)))\n",
    "model.add(Conv2DTranspose(32, (3, 3), activation='relu', padding='same'))\n",
    "#model.add(BatchNormalization())\n",
    "model.add(Conv2DTranspose(32, (3, 3), activation='relu', padding='same'))\n",
    "#model.add(BatchNormalization())\n",
    "model.add(UpSampling2D((2, 2)))\n",
    "\n",
    "#una que lleve a size original??\n",
    "model.add(Conv2DTranspose(1, (3, 3), strides=(2,2), activation='sigmoid', padding='same')) #pixel-wise classification\n",
    "\n",
    "model.summary()"
   ]
  },
  {
   "cell_type": "code",
   "execution_count": 178,
   "metadata": {},
   "outputs": [],
   "source": [
    "X_image = X_image/255.\n",
    "Y_image = Y_image/255.\n",
    "Y_image = Y_image[:,:,:,None]"
   ]
  },
  {
   "cell_type": "code",
   "execution_count": 179,
   "metadata": {
    "scrolled": true
   },
   "outputs": [
    {
     "name": "stdout",
     "output_type": "stream",
     "text": [
      "Epoch 1/100\n",
      "100/100 [==============================] - 4s 44ms/step - loss: 0.7068\n",
      "Epoch 2/100\n",
      "100/100 [==============================] - 0s 1ms/step - loss: 0.7599\n",
      "Epoch 3/100\n",
      "100/100 [==============================] - 0s 1ms/step - loss: 0.6708\n",
      "Epoch 4/100\n",
      "100/100 [==============================] - 0s 1ms/step - loss: 0.6360\n",
      "Epoch 5/100\n",
      "100/100 [==============================] - 0s 1ms/step - loss: 0.6479\n",
      "Epoch 6/100\n",
      "100/100 [==============================] - 0s 1ms/step - loss: 0.6578\n",
      "Epoch 7/100\n",
      "100/100 [==============================] - 0s 1ms/step - loss: 0.6457\n",
      "Epoch 8/100\n",
      "100/100 [==============================] - 0s 1ms/step - loss: 0.6123\n",
      "Epoch 9/100\n",
      "100/100 [==============================] - 0s 1ms/step - loss: 0.6435\n",
      "Epoch 10/100\n",
      "100/100 [==============================] - 0s 1ms/step - loss: 0.6361\n",
      "Epoch 11/100\n",
      "100/100 [==============================] - 0s 1ms/step - loss: 0.5993\n",
      "Epoch 12/100\n",
      "100/100 [==============================] - 0s 1ms/step - loss: 0.6154\n",
      "Epoch 13/100\n",
      "100/100 [==============================] - 0s 1ms/step - loss: 0.5851\n",
      "Epoch 14/100\n",
      "100/100 [==============================] - 0s 1ms/step - loss: 0.5833\n",
      "Epoch 15/100\n",
      "100/100 [==============================] - 0s 1ms/step - loss: 0.5692\n",
      "Epoch 16/100\n",
      "100/100 [==============================] - 0s 1ms/step - loss: 0.6085\n",
      "Epoch 17/100\n",
      "100/100 [==============================] - 0s 1ms/step - loss: 0.5772\n",
      "Epoch 18/100\n",
      "100/100 [==============================] - 0s 1ms/step - loss: 0.5783\n",
      "Epoch 19/100\n",
      "100/100 [==============================] - 0s 1ms/step - loss: 0.5619\n",
      "Epoch 20/100\n",
      "100/100 [==============================] - 0s 1ms/step - loss: 0.6245\n",
      "Epoch 21/100\n",
      "100/100 [==============================] - 0s 1ms/step - loss: 0.5627\n",
      "Epoch 22/100\n",
      "100/100 [==============================] - 0s 1ms/step - loss: 0.5624\n",
      "Epoch 23/100\n",
      "100/100 [==============================] - 0s 1ms/step - loss: 0.5382\n",
      "Epoch 24/100\n",
      "100/100 [==============================] - 0s 1ms/step - loss: 0.6104\n",
      "Epoch 25/100\n",
      "100/100 [==============================] - 0s 1ms/step - loss: 0.5431\n",
      "Epoch 26/100\n",
      "100/100 [==============================] - 0s 1ms/step - loss: 0.6388\n",
      "Epoch 27/100\n",
      "100/100 [==============================] - 0s 1ms/step - loss: 0.5375\n",
      "Epoch 28/100\n",
      "100/100 [==============================] - 0s 1ms/step - loss: 0.5327\n",
      "Epoch 29/100\n",
      "100/100 [==============================] - 0s 1ms/step - loss: 0.5702\n",
      "Epoch 30/100\n",
      "100/100 [==============================] - 0s 1ms/step - loss: 0.6082\n",
      "Epoch 31/100\n",
      "100/100 [==============================] - 0s 1ms/step - loss: 0.5351\n",
      "Epoch 32/100\n",
      "100/100 [==============================] - 0s 1ms/step - loss: 0.5606\n",
      "Epoch 33/100\n",
      "100/100 [==============================] - 0s 1ms/step - loss: 0.5526\n",
      "Epoch 34/100\n",
      "100/100 [==============================] - 0s 1ms/step - loss: 0.5211\n",
      "Epoch 35/100\n",
      "100/100 [==============================] - 0s 1ms/step - loss: 0.7166\n",
      "Epoch 36/100\n",
      "100/100 [==============================] - 0s 1ms/step - loss: 0.5360\n",
      "Epoch 37/100\n",
      "100/100 [==============================] - 0s 1ms/step - loss: 0.5300\n",
      "Epoch 38/100\n",
      "100/100 [==============================] - 0s 1ms/step - loss: 0.5262\n",
      "Epoch 39/100\n",
      "100/100 [==============================] - 0s 1ms/step - loss: 0.5114\n",
      "Epoch 40/100\n",
      "100/100 [==============================] - 0s 1ms/step - loss: 0.5591\n",
      "Epoch 41/100\n",
      "100/100 [==============================] - 0s 1ms/step - loss: 0.5156\n",
      "Epoch 42/100\n",
      "100/100 [==============================] - 0s 1ms/step - loss: 0.5185\n",
      "Epoch 43/100\n",
      "100/100 [==============================] - 0s 1ms/step - loss: 0.5443\n",
      "Epoch 44/100\n",
      "100/100 [==============================] - 0s 1ms/step - loss: 0.5065\n",
      "Epoch 45/100\n",
      "100/100 [==============================] - 0s 1ms/step - loss: 0.5076\n",
      "Epoch 46/100\n",
      "100/100 [==============================] - 0s 1ms/step - loss: 0.5801\n",
      "Epoch 47/100\n",
      "100/100 [==============================] - 0s 1ms/step - loss: 0.5115\n",
      "Epoch 48/100\n",
      "100/100 [==============================] - 0s 1ms/step - loss: 0.5066\n",
      "Epoch 49/100\n",
      "100/100 [==============================] - 0s 1ms/step - loss: 0.5498\n",
      "Epoch 50/100\n",
      "100/100 [==============================] - 0s 1ms/step - loss: 0.5038\n",
      "Epoch 51/100\n",
      "100/100 [==============================] - 0s 1ms/step - loss: 0.5152\n",
      "Epoch 52/100\n",
      "100/100 [==============================] - 0s 1ms/step - loss: 0.5242\n",
      "Epoch 53/100\n",
      "100/100 [==============================] - 0s 1ms/step - loss: 0.5040\n",
      "Epoch 54/100\n",
      "100/100 [==============================] - 0s 1ms/step - loss: 0.5174\n",
      "Epoch 55/100\n",
      "100/100 [==============================] - 0s 1ms/step - loss: 0.5010\n",
      "Epoch 56/100\n",
      "100/100 [==============================] - 0s 1ms/step - loss: 0.5234\n",
      "Epoch 57/100\n",
      "100/100 [==============================] - 0s 1ms/step - loss: 0.4956\n",
      "Epoch 58/100\n",
      "100/100 [==============================] - 0s 1ms/step - loss: 0.5018\n",
      "Epoch 59/100\n",
      "100/100 [==============================] - 0s 1ms/step - loss: 0.5102\n",
      "Epoch 60/100\n",
      "100/100 [==============================] - 0s 1ms/step - loss: 0.4925\n",
      "Epoch 61/100\n",
      "100/100 [==============================] - 0s 1ms/step - loss: 0.4860\n",
      "Epoch 62/100\n",
      "100/100 [==============================] - 0s 1ms/step - loss: 0.4971\n",
      "Epoch 63/100\n",
      "100/100 [==============================] - 0s 1ms/step - loss: 0.5529\n",
      "Epoch 64/100\n",
      "100/100 [==============================] - 0s 1ms/step - loss: 0.4865\n",
      "Epoch 65/100\n",
      "100/100 [==============================] - 0s 1ms/step - loss: 0.4886\n",
      "Epoch 66/100\n",
      "100/100 [==============================] - 0s 1ms/step - loss: 0.5143\n",
      "Epoch 67/100\n",
      "100/100 [==============================] - 0s 1ms/step - loss: 0.5114\n",
      "Epoch 68/100\n",
      "100/100 [==============================] - 0s 1ms/step - loss: 0.5015\n",
      "Epoch 69/100\n",
      "100/100 [==============================] - 0s 1ms/step - loss: 0.4963\n",
      "Epoch 70/100\n",
      "100/100 [==============================] - 0s 1ms/step - loss: 0.4692\n",
      "Epoch 71/100\n",
      "100/100 [==============================] - 0s 1ms/step - loss: 0.5161\n",
      "Epoch 72/100\n",
      "100/100 [==============================] - 0s 1ms/step - loss: 0.4696\n",
      "Epoch 73/100\n",
      "100/100 [==============================] - 0s 1ms/step - loss: 0.6907\n",
      "Epoch 74/100\n",
      "100/100 [==============================] - 0s 1ms/step - loss: 0.4910\n",
      "Epoch 75/100\n",
      "100/100 [==============================] - 0s 1ms/step - loss: 0.4783\n",
      "Epoch 76/100\n",
      "100/100 [==============================] - 0s 1ms/step - loss: 0.4986\n",
      "Epoch 77/100\n",
      "100/100 [==============================] - 0s 1ms/step - loss: 0.4752\n",
      "Epoch 78/100\n",
      "100/100 [==============================] - 0s 1ms/step - loss: 0.4735\n",
      "Epoch 79/100\n",
      "100/100 [==============================] - 0s 1ms/step - loss: 0.4826\n",
      "Epoch 80/100\n",
      "100/100 [==============================] - 0s 1ms/step - loss: 0.4719\n",
      "Epoch 81/100\n",
      "100/100 [==============================] - 0s 1ms/step - loss: 0.4689\n",
      "Epoch 82/100\n",
      "100/100 [==============================] - 0s 1ms/step - loss: 0.4691\n",
      "Epoch 83/100\n",
      "100/100 [==============================] - 0s 1ms/step - loss: 0.5609\n",
      "Epoch 84/100\n",
      "100/100 [==============================] - 0s 1ms/step - loss: 0.4963\n",
      "Epoch 85/100\n",
      "100/100 [==============================] - 0s 1ms/step - loss: 0.4643\n",
      "Epoch 86/100\n",
      "100/100 [==============================] - 0s 1ms/step - loss: 0.4615\n",
      "Epoch 87/100\n",
      "100/100 [==============================] - 0s 1ms/step - loss: 0.4804\n",
      "Epoch 88/100\n",
      "100/100 [==============================] - 0s 1ms/step - loss: 0.4628\n",
      "Epoch 89/100\n",
      "100/100 [==============================] - 0s 1ms/step - loss: 0.4689\n",
      "Epoch 90/100\n",
      "100/100 [==============================] - 0s 1ms/step - loss: 0.4689\n",
      "Epoch 91/100\n",
      "100/100 [==============================] - 0s 1ms/step - loss: 0.4840\n",
      "Epoch 92/100\n",
      "100/100 [==============================] - 0s 1ms/step - loss: 0.4686\n",
      "Epoch 93/100\n",
      "100/100 [==============================] - 0s 1ms/step - loss: 0.4744\n",
      "Epoch 94/100\n",
      "100/100 [==============================] - 0s 1ms/step - loss: 0.6470\n",
      "Epoch 95/100\n",
      "100/100 [==============================] - 0s 1ms/step - loss: 0.4896\n",
      "Epoch 96/100\n",
      "100/100 [==============================] - 0s 1ms/step - loss: 0.4627\n",
      "Epoch 97/100\n",
      "100/100 [==============================] - 0s 1ms/step - loss: 0.4593\n",
      "Epoch 98/100\n",
      "100/100 [==============================] - 0s 1ms/step - loss: 0.4568\n",
      "Epoch 99/100\n"
     ]
    },
    {
     "name": "stdout",
     "output_type": "stream",
     "text": [
      "100/100 [==============================] - 0s 1ms/step - loss: 0.4441\n",
      "Epoch 100/100\n",
      "100/100 [==============================] - 0s 1ms/step - loss: 0.4429\n"
     ]
    },
    {
     "data": {
      "text/plain": [
       "<keras.callbacks.History at 0x7f9461a5c320>"
      ]
     },
     "execution_count": 179,
     "metadata": {},
     "output_type": "execute_result"
    }
   ],
   "source": [
    "model.compile(loss='binary_crossentropy',optimizer='rmsprop')\n",
    "model.fit(X_image,Y_image,epochs=100,batch_size=32)"
   ]
  },
  {
   "cell_type": "code",
   "execution_count": null,
   "metadata": {},
   "outputs": [],
   "source": []
  },
  {
   "cell_type": "code",
   "execution_count": 180,
   "metadata": {
    "scrolled": true
   },
   "outputs": [
    {
     "data": {
      "text/plain": [
       "array([[[0.05108603, 0.0462476 , 0.03700586, ..., 0.09741623,\n",
       "         0.08527576, 0.09741623],\n",
       "        [0.05603036, 0.0394941 , 0.0201833 , ..., 0.0763008 ,\n",
       "         0.05944319, 0.0763008 ],\n",
       "        [0.03904895, 0.02138425, 0.02411032, ..., 0.05314611,\n",
       "         0.05611108, 0.05314611],\n",
       "        ...,\n",
       "        [0.31772795, 0.26154277, 0.24046957, ..., 0.29150397,\n",
       "         0.2885826 , 0.29150397],\n",
       "        [0.2984385 , 0.25497612, 0.24359964, ..., 0.28677422,\n",
       "         0.29162857, 0.28677422],\n",
       "        [0.31772795, 0.26154277, 0.24046957, ..., 0.29150397,\n",
       "         0.2885826 , 0.29150397]],\n",
       "\n",
       "       [[0.14945522, 0.1427985 , 0.12788102, ..., 0.24193178,\n",
       "         0.22179037, 0.24193178],\n",
       "        [0.16169529, 0.13173865, 0.0980425 , ..., 0.20985115,\n",
       "         0.19496804, 0.20985115],\n",
       "        [0.12947047, 0.09477232, 0.10107353, ..., 0.18168516,\n",
       "         0.1732395 , 0.18168516],\n",
       "        ...,\n",
       "        [0.3375127 , 0.2839663 , 0.26879236, ..., 0.17884172,\n",
       "         0.1779175 , 0.17884172],\n",
       "        [0.3227046 , 0.27751726, 0.27399305, ..., 0.18293075,\n",
       "         0.17526577, 0.18293075],\n",
       "        [0.3375127 , 0.2839663 , 0.26879236, ..., 0.17884172,\n",
       "         0.1779175 , 0.17884172]],\n",
       "\n",
       "       [[0.0329822 , 0.02757109, 0.02155603, ..., 0.13966723,\n",
       "         0.11734009, 0.13966723],\n",
       "        [0.03806639, 0.02426209, 0.01064502, ..., 0.10736057,\n",
       "         0.09060071, 0.10736057],\n",
       "        [0.02249195, 0.0111085 , 0.01206922, ..., 0.07947832,\n",
       "         0.07679649, 0.07947832],\n",
       "        ...,\n",
       "        [0.3576009 , 0.31355754, 0.3015868 , ..., 0.26070094,\n",
       "         0.26019052, 0.26070094],\n",
       "        [0.3381422 , 0.30950546, 0.2956978 , ..., 0.2566809 ,\n",
       "         0.25779954, 0.2566809 ],\n",
       "        [0.3576009 , 0.31355754, 0.3015868 , ..., 0.26070094,\n",
       "         0.26019052, 0.26070094]],\n",
       "\n",
       "       ...,\n",
       "\n",
       "       [[0.00718243, 0.00515769, 0.00395822, ..., 0.06142291,\n",
       "         0.05253828, 0.06142291],\n",
       "        [0.0083764 , 0.00407222, 0.0009378 , ..., 0.04810044,\n",
       "         0.03771747, 0.04810044],\n",
       "        [0.00439214, 0.0013941 , 0.00177305, ..., 0.02991042,\n",
       "         0.02987919, 0.02991042],\n",
       "        ...,\n",
       "        [0.24849121, 0.181779  , 0.17199954, ..., 0.41834483,\n",
       "         0.415336  , 0.41834483],\n",
       "        [0.21307756, 0.16613522, 0.15548241, ..., 0.4132882 ,\n",
       "         0.410911  , 0.4132882 ],\n",
       "        [0.24849121, 0.181779  , 0.17199954, ..., 0.41834483,\n",
       "         0.415336  , 0.41834483]],\n",
       "\n",
       "       [[0.17980461, 0.17699932, 0.15647623, ..., 0.04095025,\n",
       "         0.03355888, 0.04095025],\n",
       "        [0.1803926 , 0.15939322, 0.11205983, ..., 0.0280542 ,\n",
       "         0.0196666 , 0.0280542 ],\n",
       "        [0.16386755, 0.12713477, 0.12798136, ..., 0.01632452,\n",
       "         0.01634997, 0.01632452],\n",
       "        ...,\n",
       "        [0.18203704, 0.11232549, 0.10190567, ..., 0.33667535,\n",
       "         0.3334778 , 0.33667535],\n",
       "        [0.15127805, 0.10451833, 0.0898176 , ..., 0.32950428,\n",
       "         0.3312331 , 0.32950428],\n",
       "        [0.18203704, 0.11232549, 0.10190567, ..., 0.33667535,\n",
       "         0.3334778 , 0.33667535]],\n",
       "\n",
       "       [[0.0412198 , 0.03657138, 0.0277236 , ..., 0.14657173,\n",
       "         0.13184448, 0.14657173],\n",
       "        [0.04891603, 0.03014864, 0.01427069, ..., 0.12394441,\n",
       "         0.11331488, 0.12394441],\n",
       "        [0.03101322, 0.01536248, 0.01715288, ..., 0.09168228,\n",
       "         0.09600883, 0.09168228],\n",
       "        ...,\n",
       "        [0.22875062, 0.15315142, 0.13569653, ..., 0.22239387,\n",
       "         0.21971199, 0.22239387],\n",
       "        [0.19298467, 0.1496239 , 0.12536475, ..., 0.22136159,\n",
       "         0.21733834, 0.22136159],\n",
       "        [0.22875062, 0.15315142, 0.13569653, ..., 0.22239387,\n",
       "         0.21971199, 0.22239387]]], dtype=float32)"
      ]
     },
     "execution_count": 180,
     "metadata": {},
     "output_type": "execute_result"
    }
   ],
   "source": [
    "Y_hat = np.squeeze( model.predict(X_image))\n",
    "Y_hat"
   ]
  },
  {
   "cell_type": "code",
   "execution_count": 188,
   "metadata": {},
   "outputs": [],
   "source": [
    "n_s = 1"
   ]
  },
  {
   "cell_type": "code",
   "execution_count": 189,
   "metadata": {},
   "outputs": [
    {
     "data": {
      "image/png": "[encoded data removed]",
      "text/plain": [
       "<Figure size 432x288 with 1 Axes>"
      ]
     },
     "metadata": {},
     "output_type": "display_data"
    }
   ],
   "source": [
    "import matplotlib.pyplot as plt\n",
    "plt.imshow(X_image[n_s],cmap='gray')\n",
    "plt.show()"
   ]
  },
  {
   "cell_type": "code",
   "execution_count": 190,
   "metadata": {
    "scrolled": true
   },
   "outputs": [
    {
     "data": {
      "image/png": "[encoded data removed]",
      "text/plain": [
       "<Figure size 432x288 with 1 Axes>"
      ]
     },
     "metadata": {},
     "output_type": "display_data"
    }
   ],
   "source": [
    "import matplotlib.pyplot as plt\n",
    "plt.imshow(Y_hat[n_s],cmap='gray')\n",
    "plt.show()"
   ]
  },
  {
   "cell_type": "code",
   "execution_count": 184,
   "metadata": {},
   "outputs": [
    {
     "data": {
      "image/png": "[encoded data removed]",
      "text/plain": [
       "<Figure size 432x288 with 1 Axes>"
      ]
     },
     "metadata": {},
     "output_type": "display_data"
    }
   ],
   "source": [
    "plt.imshow(np.squeeze(Y_image[n_s]),cmap='gray')\n",
    "plt.show()"
   ]
  },
  {
   "cell_type": "code",
   "execution_count": null,
   "metadata": {},
   "outputs": [],
   "source": []
  },
  {
   "cell_type": "code",
   "execution_count": 151,
   "metadata": {
    "scrolled": true
   },
   "outputs": [
    {
     "name": "stdout",
     "output_type": "stream",
     "text": [
      "Train on 100 samples, validate on 100 samples\n",
      "Epoch 1/1\n",
      "100/100 [==============================] - 2s 18ms/step - loss: 0.5971 - acc: 0.5802 - val_loss: 0.5624 - val_acc: 0.5890\n",
      "Train on 100 samples, validate on 100 samples\n",
      "Epoch 1/1\n",
      "100/100 [==============================] - 0s 4ms/step - loss: 0.6110 - acc: 0.5741 - val_loss: 0.5524 - val_acc: 0.5895\n",
      "Train on 100 samples, validate on 100 samples\n",
      "Epoch 1/1\n",
      "100/100 [==============================] - 0s 4ms/step - loss: 0.5428 - acc: 0.6044 - val_loss: 0.5863 - val_acc: 0.5763\n",
      "Train on 100 samples, validate on 100 samples\n",
      "Epoch 1/1\n",
      "100/100 [==============================] - 0s 4ms/step - loss: 0.5561 - acc: 0.5964 - val_loss: 0.5619 - val_acc: 0.5951\n",
      "Train on 100 samples, validate on 100 samples\n",
      "Epoch 1/1\n",
      "100/100 [==============================] - 0s 4ms/step - loss: 0.5562 - acc: 0.5957 - val_loss: 0.6098 - val_acc: 0.5650\n",
      "Train on 100 samples, validate on 100 samples\n",
      "Epoch 1/1\n",
      "100/100 [==============================] - 0s 4ms/step - loss: 0.5218 - acc: 0.6128 - val_loss: 0.5435 - val_acc: 0.6057\n",
      "Train on 100 samples, validate on 100 samples\n",
      "Epoch 1/1\n",
      "100/100 [==============================] - 0s 4ms/step - loss: 0.5236 - acc: 0.6095 - val_loss: 0.5649 - val_acc: 0.6037\n",
      "Train on 100 samples, validate on 100 samples\n",
      "Epoch 1/1\n",
      "100/100 [==============================] - 0s 4ms/step - loss: 0.5465 - acc: 0.6008 - val_loss: 0.6564 - val_acc: 0.5702\n",
      "Train on 100 samples, validate on 100 samples\n",
      "Epoch 1/1\n",
      "100/100 [==============================] - 0s 4ms/step - loss: 0.5601 - acc: 0.5953 - val_loss: 0.6703 - val_acc: 0.5716\n",
      "Train on 100 samples, validate on 100 samples\n",
      "Epoch 1/1\n",
      "100/100 [==============================] - 0s 4ms/step - loss: 0.5593 - acc: 0.5960 - val_loss: 0.6087 - val_acc: 0.5810\n",
      "Train on 100 samples, validate on 100 samples\n",
      "Epoch 1/1\n",
      "100/100 [==============================] - 0s 4ms/step - loss: 0.5563 - acc: 0.5959 - val_loss: 0.6409 - val_acc: 0.5867\n",
      "Train on 100 samples, validate on 100 samples\n",
      "Epoch 1/1\n",
      "100/100 [==============================] - 0s 4ms/step - loss: 0.5515 - acc: 0.5950 - val_loss: 0.6115 - val_acc: 0.5809\n",
      "Train on 100 samples, validate on 100 samples\n",
      "Epoch 1/1\n",
      "100/100 [==============================] - 0s 4ms/step - loss: 0.5175 - acc: 0.6149 - val_loss: 0.6105 - val_acc: 0.5651\n",
      "Train on 100 samples, validate on 100 samples\n",
      "Epoch 1/1\n",
      "100/100 [==============================] - 0s 4ms/step - loss: 0.5377 - acc: 0.6015 - val_loss: 0.6529 - val_acc: 0.5653\n",
      "Train on 100 samples, validate on 100 samples\n",
      "Epoch 1/1\n",
      "100/100 [==============================] - 0s 4ms/step - loss: 0.5405 - acc: 0.5984 - val_loss: 0.7225 - val_acc: 0.5608\n",
      "Train on 100 samples, validate on 100 samples\n",
      "Epoch 1/1\n",
      "100/100 [==============================] - 0s 4ms/step - loss: 0.5400 - acc: 0.6048 - val_loss: 0.5361 - val_acc: 0.6040\n",
      "Train on 100 samples, validate on 100 samples\n",
      "Epoch 1/1\n",
      "100/100 [==============================] - 0s 4ms/step - loss: 0.5358 - acc: 0.6030 - val_loss: 0.5358 - val_acc: 0.5997\n",
      "Train on 100 samples, validate on 100 samples\n",
      "Epoch 1/1\n",
      "100/100 [==============================] - 0s 4ms/step - loss: 0.5143 - acc: 0.6159 - val_loss: 0.5807 - val_acc: 0.5841\n",
      "Train on 100 samples, validate on 100 samples\n",
      "Epoch 1/1\n",
      "100/100 [==============================] - 0s 4ms/step - loss: 0.5456 - acc: 0.6010 - val_loss: 0.5914 - val_acc: 0.5912\n",
      "Train on 100 samples, validate on 100 samples\n",
      "Epoch 1/1\n",
      "100/100 [==============================] - 0s 4ms/step - loss: 0.5172 - acc: 0.6124 - val_loss: 0.5928 - val_acc: 0.5805\n",
      "Train on 100 samples, validate on 100 samples\n",
      "Epoch 1/1\n",
      "100/100 [==============================] - 0s 4ms/step - loss: 0.5484 - acc: 0.5976 - val_loss: 0.5899 - val_acc: 0.5798\n",
      "Train on 100 samples, validate on 100 samples\n",
      "Epoch 1/1\n",
      "100/100 [==============================] - 0s 4ms/step - loss: 0.5217 - acc: 0.6115 - val_loss: 0.5371 - val_acc: 0.6030\n",
      "Train on 100 samples, validate on 100 samples\n",
      "Epoch 1/1\n",
      "100/100 [==============================] - 0s 4ms/step - loss: 0.5468 - acc: 0.5989 - val_loss: 0.5936 - val_acc: 0.5784\n",
      "Train on 100 samples, validate on 100 samples\n",
      "Epoch 1/1\n",
      "100/100 [==============================] - 0s 4ms/step - loss: 0.5116 - acc: 0.6150 - val_loss: 0.5251 - val_acc: 0.6091\n",
      "Train on 100 samples, validate on 100 samples\n",
      "Epoch 1/1\n",
      "100/100 [==============================] - 0s 4ms/step - loss: 0.5226 - acc: 0.6097 - val_loss: 0.5148 - val_acc: 0.6121\n",
      "Train on 100 samples, validate on 100 samples\n",
      "Epoch 1/1\n",
      "100/100 [==============================] - 0s 4ms/step - loss: 0.5044 - acc: 0.6201 - val_loss: 0.5976 - val_acc: 0.5956\n",
      "Train on 100 samples, validate on 100 samples\n",
      "Epoch 1/1\n",
      "100/100 [==============================] - 0s 4ms/step - loss: 0.5159 - acc: 0.6145 - val_loss: 0.5545 - val_acc: 0.6017\n",
      "Train on 100 samples, validate on 100 samples\n",
      "Epoch 1/1\n",
      "100/100 [==============================] - 0s 4ms/step - loss: 0.5501 - acc: 0.5953 - val_loss: 0.6252 - val_acc: 0.5822\n",
      "Train on 100 samples, validate on 100 samples\n",
      "Epoch 1/1\n",
      "100/100 [==============================] - 0s 4ms/step - loss: 0.5197 - acc: 0.6087 - val_loss: 0.5947 - val_acc: 0.5889\n",
      "Train on 100 samples, validate on 100 samples\n",
      "Epoch 1/1\n",
      "100/100 [==============================] - 0s 4ms/step - loss: 0.4975 - acc: 0.6217 - val_loss: 0.5807 - val_acc: 0.5984\n",
      "Train on 100 samples, validate on 100 samples\n",
      "Epoch 1/1\n",
      "100/100 [==============================] - 0s 4ms/step - loss: 0.5100 - acc: 0.6133 - val_loss: 0.6461 - val_acc: 0.5939\n",
      "Train on 100 samples, validate on 100 samples\n",
      "Epoch 1/1\n",
      "100/100 [==============================] - 0s 4ms/step - loss: 0.5166 - acc: 0.6115 - val_loss: 0.6548 - val_acc: 0.5933\n",
      "Train on 100 samples, validate on 100 samples\n",
      "Epoch 1/1\n",
      "100/100 [==============================] - 0s 4ms/step - loss: 0.5075 - acc: 0.6140 - val_loss: 0.7148 - val_acc: 0.5397\n",
      "Train on 100 samples, validate on 100 samples\n",
      "Epoch 1/1\n",
      "100/100 [==============================] - 0s 4ms/step - loss: 0.5411 - acc: 0.6010 - val_loss: 0.5815 - val_acc: 0.5817\n",
      "Train on 100 samples, validate on 100 samples\n",
      "Epoch 1/1\n",
      "100/100 [==============================] - 0s 4ms/step - loss: 0.5015 - acc: 0.6187 - val_loss: 0.5914 - val_acc: 0.5657\n",
      "Train on 100 samples, validate on 100 samples\n",
      "Epoch 1/1\n",
      "100/100 [==============================] - 0s 4ms/step - loss: 0.5298 - acc: 0.6035 - val_loss: 0.5271 - val_acc: 0.6066\n",
      "Train on 100 samples, validate on 100 samples\n",
      "Epoch 1/1\n",
      "100/100 [==============================] - 0s 4ms/step - loss: 0.5398 - acc: 0.6007 - val_loss: 0.5556 - val_acc: 0.5948\n",
      "Train on 100 samples, validate on 100 samples\n",
      "Epoch 1/1\n",
      "100/100 [==============================] - 0s 4ms/step - loss: 0.5156 - acc: 0.6129 - val_loss: 0.5476 - val_acc: 0.6002\n",
      "Train on 100 samples, validate on 100 samples\n",
      "Epoch 1/1\n",
      "100/100 [==============================] - 0s 4ms/step - loss: 0.4975 - acc: 0.6223 - val_loss: 0.5316 - val_acc: 0.6054\n",
      "Train on 100 samples, validate on 100 samples\n",
      "Epoch 1/1\n",
      "100/100 [==============================] - 0s 4ms/step - loss: 0.4994 - acc: 0.6187 - val_loss: 0.5548 - val_acc: 0.5978\n",
      "Train on 100 samples, validate on 100 samples\n",
      "Epoch 1/1\n",
      "100/100 [==============================] - 0s 4ms/step - loss: 0.5002 - acc: 0.6172 - val_loss: 0.6327 - val_acc: 0.5760\n",
      "Train on 100 samples, validate on 100 samples\n",
      "Epoch 1/1\n",
      "100/100 [==============================] - 0s 4ms/step - loss: 0.5439 - acc: 0.5951 - val_loss: 0.5769 - val_acc: 0.5891\n",
      "Train on 100 samples, validate on 100 samples\n",
      "Epoch 1/1\n",
      "100/100 [==============================] - 0s 4ms/step - loss: 0.4877 - acc: 0.6251 - val_loss: 0.6297 - val_acc: 0.5889\n",
      "Train on 100 samples, validate on 100 samples\n",
      "Epoch 1/1\n",
      "100/100 [==============================] - 0s 4ms/step - loss: 0.5274 - acc: 0.6071 - val_loss: 0.6283 - val_acc: 0.5698\n",
      "Train on 100 samples, validate on 100 samples\n",
      "Epoch 1/1\n",
      "100/100 [==============================] - 0s 4ms/step - loss: 0.5051 - acc: 0.6158 - val_loss: 0.5643 - val_acc: 0.5951\n",
      "Train on 100 samples, validate on 100 samples\n",
      "Epoch 1/1\n",
      "100/100 [==============================] - 0s 4ms/step - loss: 0.5354 - acc: 0.6000 - val_loss: 0.7002 - val_acc: 0.5644\n",
      "Train on 100 samples, validate on 100 samples\n",
      "Epoch 1/1\n"
     ]
    },
    {
     "name": "stdout",
     "output_type": "stream",
     "text": [
      "100/100 [==============================] - 0s 4ms/step - loss: 0.5030 - acc: 0.6196 - val_loss: 0.5780 - val_acc: 0.5889\n",
      "Train on 100 samples, validate on 100 samples\n",
      "Epoch 1/1\n",
      "100/100 [==============================] - 0s 4ms/step - loss: 0.4985 - acc: 0.6205 - val_loss: 0.6456 - val_acc: 0.5712\n",
      "Train on 100 samples, validate on 100 samples\n",
      "Epoch 1/1\n",
      "100/100 [==============================] - 0s 4ms/step - loss: 0.5116 - acc: 0.6104 - val_loss: 0.5714 - val_acc: 0.5952\n",
      "Train on 100 samples, validate on 100 samples\n",
      "Epoch 1/1\n",
      "100/100 [==============================] - 0s 4ms/step - loss: 0.4970 - acc: 0.6225 - val_loss: 0.6431 - val_acc: 0.5744\n",
      "Train on 100 samples, validate on 100 samples\n",
      "Epoch 1/1\n",
      "100/100 [==============================] - 0s 4ms/step - loss: 0.5210 - acc: 0.6086 - val_loss: 0.6997 - val_acc: 0.5502\n",
      "Train on 100 samples, validate on 100 samples\n",
      "Epoch 1/1\n",
      "100/100 [==============================] - 0s 4ms/step - loss: 0.5144 - acc: 0.6120 - val_loss: 1.0921 - val_acc: 0.4836\n",
      "Train on 100 samples, validate on 100 samples\n",
      "Epoch 1/1\n",
      "100/100 [==============================] - 0s 4ms/step - loss: 0.4983 - acc: 0.6186 - val_loss: 0.6841 - val_acc: 0.5630\n",
      "Train on 100 samples, validate on 100 samples\n",
      "Epoch 1/1\n",
      "100/100 [==============================] - 0s 4ms/step - loss: 0.5207 - acc: 0.6084 - val_loss: 0.5993 - val_acc: 0.5911\n",
      "Train on 100 samples, validate on 100 samples\n",
      "Epoch 1/1\n",
      "100/100 [==============================] - 0s 4ms/step - loss: 0.4871 - acc: 0.6243 - val_loss: 0.6563 - val_acc: 0.5676\n",
      "Train on 100 samples, validate on 100 samples\n",
      "Epoch 1/1\n",
      "100/100 [==============================] - 0s 4ms/step - loss: 0.5151 - acc: 0.6112 - val_loss: 0.6168 - val_acc: 0.5685\n",
      "Train on 100 samples, validate on 100 samples\n",
      "Epoch 1/1\n",
      "100/100 [==============================] - 0s 4ms/step - loss: 0.5125 - acc: 0.6141 - val_loss: 0.7605 - val_acc: 0.5386\n",
      "Train on 100 samples, validate on 100 samples\n",
      "Epoch 1/1\n",
      "100/100 [==============================] - 0s 4ms/step - loss: 0.4918 - acc: 0.6215 - val_loss: 0.7179 - val_acc: 0.5468\n",
      "Train on 100 samples, validate on 100 samples\n",
      "Epoch 1/1\n",
      "100/100 [==============================] - 0s 4ms/step - loss: 0.4993 - acc: 0.6168 - val_loss: 1.1396 - val_acc: 0.4671\n",
      "Train on 100 samples, validate on 100 samples\n",
      "Epoch 1/1\n",
      "100/100 [==============================] - 0s 4ms/step - loss: 0.5057 - acc: 0.6170 - val_loss: 0.6477 - val_acc: 0.5600\n",
      "Train on 100 samples, validate on 100 samples\n",
      "Epoch 1/1\n",
      "100/100 [==============================] - 0s 4ms/step - loss: 0.5146 - acc: 0.6096 - val_loss: 0.6827 - val_acc: 0.5196\n",
      "Train on 100 samples, validate on 100 samples\n",
      "Epoch 1/1\n",
      "100/100 [==============================] - 0s 4ms/step - loss: 0.4933 - acc: 0.6243 - val_loss: 0.7124 - val_acc: 0.5176\n",
      "Train on 100 samples, validate on 100 samples\n",
      "Epoch 1/1\n",
      "100/100 [==============================] - 0s 4ms/step - loss: 0.5044 - acc: 0.6149 - val_loss: 0.8012 - val_acc: 0.5135\n",
      "Train on 100 samples, validate on 100 samples\n",
      "Epoch 1/1\n",
      "100/100 [==============================] - 0s 4ms/step - loss: 0.4996 - acc: 0.6176 - val_loss: 0.7220 - val_acc: 0.5454\n",
      "Train on 100 samples, validate on 100 samples\n",
      "Epoch 1/1\n",
      "100/100 [==============================] - 0s 4ms/step - loss: 0.4868 - acc: 0.6242 - val_loss: 0.7088 - val_acc: 0.5371\n",
      "Train on 100 samples, validate on 100 samples\n",
      "Epoch 1/1\n",
      "100/100 [==============================] - 0s 4ms/step - loss: 0.4844 - acc: 0.6249 - val_loss: 0.6666 - val_acc: 0.5576\n",
      "Train on 100 samples, validate on 100 samples\n",
      "Epoch 1/1\n",
      "100/100 [==============================] - 0s 4ms/step - loss: 0.4910 - acc: 0.6212 - val_loss: 0.6552 - val_acc: 0.5584\n",
      "Train on 100 samples, validate on 100 samples\n",
      "Epoch 1/1\n",
      "100/100 [==============================] - 0s 4ms/step - loss: 0.5450 - acc: 0.5972 - val_loss: 0.7307 - val_acc: 0.5485\n",
      "Train on 100 samples, validate on 100 samples\n",
      "Epoch 1/1\n",
      "100/100 [==============================] - 0s 4ms/step - loss: 0.4902 - acc: 0.6209 - val_loss: 0.8270 - val_acc: 0.5297\n",
      "Train on 100 samples, validate on 100 samples\n",
      "Epoch 1/1\n",
      "100/100 [==============================] - 0s 4ms/step - loss: 0.4997 - acc: 0.6169 - val_loss: 0.7247 - val_acc: 0.5453\n",
      "Train on 100 samples, validate on 100 samples\n",
      "Epoch 1/1\n",
      "100/100 [==============================] - 0s 4ms/step - loss: 0.4823 - acc: 0.6277 - val_loss: 0.5762 - val_acc: 0.5838\n",
      "Train on 100 samples, validate on 100 samples\n",
      "Epoch 1/1\n",
      "100/100 [==============================] - 0s 4ms/step - loss: 0.4896 - acc: 0.6240 - val_loss: 0.5658 - val_acc: 0.5873\n",
      "Train on 100 samples, validate on 100 samples\n",
      "Epoch 1/1\n",
      "100/100 [==============================] - 0s 4ms/step - loss: 0.4723 - acc: 0.6309 - val_loss: 0.5576 - val_acc: 0.5930\n",
      "Train on 100 samples, validate on 100 samples\n",
      "Epoch 1/1\n",
      "100/100 [==============================] - 0s 4ms/step - loss: 0.4775 - acc: 0.6279 - val_loss: 0.5392 - val_acc: 0.6049\n",
      "Train on 100 samples, validate on 100 samples\n",
      "Epoch 1/1\n",
      "100/100 [==============================] - 0s 4ms/step - loss: 0.4906 - acc: 0.6208 - val_loss: 0.5719 - val_acc: 0.5808\n",
      "Train on 100 samples, validate on 100 samples\n",
      "Epoch 1/1\n",
      "100/100 [==============================] - 0s 4ms/step - loss: 0.4843 - acc: 0.6236 - val_loss: 0.5626 - val_acc: 0.6008\n",
      "Train on 100 samples, validate on 100 samples\n",
      "Epoch 1/1\n",
      "100/100 [==============================] - 0s 4ms/step - loss: 0.4961 - acc: 0.6207 - val_loss: 0.5823 - val_acc: 0.5765\n",
      "Train on 100 samples, validate on 100 samples\n",
      "Epoch 1/1\n",
      "100/100 [==============================] - 0s 4ms/step - loss: 0.4840 - acc: 0.6239 - val_loss: 0.5451 - val_acc: 0.6031\n",
      "Train on 100 samples, validate on 100 samples\n",
      "Epoch 1/1\n",
      "100/100 [==============================] - 0s 4ms/step - loss: 0.4838 - acc: 0.6237 - val_loss: 0.5657 - val_acc: 0.5973\n",
      "Train on 100 samples, validate on 100 samples\n",
      "Epoch 1/1\n",
      "100/100 [==============================] - 0s 4ms/step - loss: 0.4918 - acc: 0.6193 - val_loss: 0.6314 - val_acc: 0.5606\n",
      "Train on 100 samples, validate on 100 samples\n",
      "Epoch 1/1\n",
      "100/100 [==============================] - 0s 4ms/step - loss: 0.5074 - acc: 0.6131 - val_loss: 0.6120 - val_acc: 0.5691\n",
      "Train on 100 samples, validate on 100 samples\n",
      "Epoch 1/1\n",
      "100/100 [==============================] - 0s 4ms/step - loss: 0.4868 - acc: 0.6233 - val_loss: 0.5088 - val_acc: 0.6137\n",
      "Train on 100 samples, validate on 100 samples\n",
      "Epoch 1/1\n",
      "100/100 [==============================] - 0s 4ms/step - loss: 0.4674 - acc: 0.6318 - val_loss: 0.5555 - val_acc: 0.5989\n",
      "Train on 100 samples, validate on 100 samples\n",
      "Epoch 1/1\n",
      "100/100 [==============================] - 0s 4ms/step - loss: 0.4734 - acc: 0.6267 - val_loss: 0.5342 - val_acc: 0.6083\n",
      "Train on 100 samples, validate on 100 samples\n",
      "Epoch 1/1\n",
      "100/100 [==============================] - 0s 4ms/step - loss: 0.4765 - acc: 0.6265 - val_loss: 0.5095 - val_acc: 0.6145\n",
      "Train on 100 samples, validate on 100 samples\n",
      "Epoch 1/1\n",
      "100/100 [==============================] - 0s 4ms/step - loss: 0.4634 - acc: 0.6340 - val_loss: 0.6692 - val_acc: 0.5483\n",
      "Train on 100 samples, validate on 100 samples\n",
      "Epoch 1/1\n",
      "100/100 [==============================] - 0s 4ms/step - loss: 0.4760 - acc: 0.6269 - val_loss: 0.5426 - val_acc: 0.5998\n",
      "Train on 100 samples, validate on 100 samples\n",
      "Epoch 1/1\n",
      "100/100 [==============================] - 0s 4ms/step - loss: 0.4731 - acc: 0.6292 - val_loss: 0.5352 - val_acc: 0.5977\n",
      "Train on 100 samples, validate on 100 samples\n",
      "Epoch 1/1\n",
      "100/100 [==============================] - 0s 4ms/step - loss: 0.4771 - acc: 0.6241 - val_loss: 0.5418 - val_acc: 0.6016\n",
      "Train on 100 samples, validate on 100 samples\n",
      "Epoch 1/1\n",
      "100/100 [==============================] - 0s 4ms/step - loss: 0.4721 - acc: 0.6287 - val_loss: 0.5177 - val_acc: 0.6157\n",
      "Train on 100 samples, validate on 100 samples\n",
      "Epoch 1/1\n",
      "100/100 [==============================] - 0s 4ms/step - loss: 0.4798 - acc: 0.6264 - val_loss: 0.6776 - val_acc: 0.5549\n",
      "Train on 100 samples, validate on 100 samples\n",
      "Epoch 1/1\n",
      "100/100 [==============================] - 0s 4ms/step - loss: 0.4708 - acc: 0.6296 - val_loss: 0.6492 - val_acc: 0.5620\n",
      "Train on 100 samples, validate on 100 samples\n",
      "Epoch 1/1\n"
     ]
    },
    {
     "name": "stdout",
     "output_type": "stream",
     "text": [
      "100/100 [==============================] - 0s 4ms/step - loss: 0.4751 - acc: 0.6281 - val_loss: 0.5928 - val_acc: 0.5741\n",
      "Train on 100 samples, validate on 100 samples\n",
      "Epoch 1/1\n",
      "100/100 [==============================] - 0s 4ms/step - loss: 0.4726 - acc: 0.6270 - val_loss: 0.5962 - val_acc: 0.5764\n",
      "Train on 100 samples, validate on 100 samples\n",
      "Epoch 1/1\n",
      "100/100 [==============================] - 0s 4ms/step - loss: 0.4828 - acc: 0.6238 - val_loss: 0.9136 - val_acc: 0.4920\n",
      "Train on 100 samples, validate on 100 samples\n",
      "Epoch 1/1\n",
      "100/100 [==============================] - 0s 4ms/step - loss: 0.4698 - acc: 0.6284 - val_loss: 0.5787 - val_acc: 0.5894\n",
      "Train on 100 samples, validate on 100 samples\n",
      "Epoch 1/1\n",
      "100/100 [==============================] - 0s 4ms/step - loss: 0.4688 - acc: 0.6300 - val_loss: 0.6134 - val_acc: 0.5763\n",
      "Train on 100 samples, validate on 100 samples\n",
      "Epoch 1/1\n",
      "100/100 [==============================] - 0s 4ms/step - loss: 0.4827 - acc: 0.6236 - val_loss: 0.5653 - val_acc: 0.5978\n",
      "Train on 100 samples, validate on 100 samples\n",
      "Epoch 1/1\n",
      "100/100 [==============================] - 0s 4ms/step - loss: 0.4594 - acc: 0.6350 - val_loss: 0.5642 - val_acc: 0.5929\n",
      "Train on 100 samples, validate on 100 samples\n",
      "Epoch 1/1\n",
      "100/100 [==============================] - 0s 4ms/step - loss: 0.4777 - acc: 0.6246 - val_loss: 0.5320 - val_acc: 0.6051\n"
     ]
    }
   ],
   "source": [
    "### denoising??\n",
    "from numpy.random import binomial\n",
    "T = 100\n",
    "for _ in range(T):\n",
    "    noise_level = np.random.randint(4,10)/10.\n",
    "    noise_mask = binomial(n=1,p=noise_level,size=X_image.shape)\n",
    "    X_augmented = X_image*noise_mask\n",
    "    model.fit(X_augmented,Y_image,epochs=1,batch_size=32,validation_data=(X_image,Y_image))"
   ]
  },
  {
   "cell_type": "code",
   "execution_count": null,
   "metadata": {},
   "outputs": [],
   "source": []
  },
  {
   "cell_type": "code",
   "execution_count": 172,
   "metadata": {},
   "outputs": [
    {
     "name": "stdout",
     "output_type": "stream",
     "text": [
      "0.6691001021067786\n",
      "[0.76401647 0.84546099]\n"
     ]
    }
   ],
   "source": [
    "from sklearn.metrics import precision_score, recall_score\n",
    "Y_label = Y_hat.flatten() >0.5\n",
    "Y_hat_label = Y_image.flatten() >0.5\n",
    "print(precision_score(Y_label, Y_hat_label, average='macro' ))\n",
    "print(recall_score(Y_label, Y_hat_label, average=None , labels=[0,1]))\n"
   ]
  },
  {
   "cell_type": "code",
   "execution_count": null,
   "metadata": {},
   "outputs": [],
   "source": []
  },
  {
   "cell_type": "code",
   "execution_count": null,
   "metadata": {},
   "outputs": [],
   "source": [
    "##audio files...\n"
   ]
  },
  {
   "cell_type": "code",
   "execution_count": null,
   "metadata": {},
   "outputs": [],
   "source": []
  }
 ],
 "metadata": {
  "kernelspec": {
   "display_name": "Python [conda env:py3]",
   "language": "python",
   "name": "conda-env-py3-py"
  },
  "language_info": {
   "codemirror_mode": {
    "name": "ipython",
    "version": 3
   },
   "file_extension": ".py",
   "mimetype": "text/x-python",
   "name": "python",
   "nbconvert_exporter": "python",
   "pygments_lexer": "ipython3",
   "version": "3.5.5"
  }
 },
 "nbformat": 4,
 "nbformat_minor": 2
}
