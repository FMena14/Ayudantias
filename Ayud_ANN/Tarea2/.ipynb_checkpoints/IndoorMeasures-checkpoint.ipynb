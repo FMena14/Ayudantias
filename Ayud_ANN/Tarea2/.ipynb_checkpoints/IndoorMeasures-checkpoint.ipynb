{
 "cells": [
  {
   "cell_type": "code",
   "execution_count": 17,
   "metadata": {},
   "outputs": [
    {
     "data": {
      "text/html": [
       "<div>\n",
       "<style scoped>\n",
       "    .dataframe tbody tr th:only-of-type {\n",
       "        vertical-align: middle;\n",
       "    }\n",
       "\n",
       "    .dataframe tbody tr th {\n",
       "        vertical-align: top;\n",
       "    }\n",
       "\n",
       "    .dataframe thead th {\n",
       "        text-align: right;\n",
       "    }\n",
       "</style>\n",
       "<table border=\"1\" class=\"dataframe\">\n",
       "  <thead>\n",
       "    <tr style=\"text-align: right;\">\n",
       "      <th></th>\n",
       "      <th>X</th>\n",
       "      <th>Y</th>\n",
       "      <th>C1hA</th>\n",
       "      <th>0kxZ</th>\n",
       "      <th>tvMX</th>\n",
       "      <th>OlYb</th>\n",
       "      <th>7rk5</th>\n",
       "      <th>F39L</th>\n",
       "      <th>VNSF</th>\n",
       "      <th>tkxI</th>\n",
       "    </tr>\n",
       "  </thead>\n",
       "  <tbody>\n",
       "    <tr>\n",
       "      <th>0</th>\n",
       "      <td>2.0</td>\n",
       "      <td>8.0</td>\n",
       "      <td>-66</td>\n",
       "      <td>-92</td>\n",
       "      <td>-84</td>\n",
       "      <td>-84</td>\n",
       "      <td>-92</td>\n",
       "      <td>-93</td>\n",
       "      <td>-98</td>\n",
       "      <td>-96</td>\n",
       "    </tr>\n",
       "    <tr>\n",
       "      <th>1</th>\n",
       "      <td>2.0</td>\n",
       "      <td>8.0</td>\n",
       "      <td>-66</td>\n",
       "      <td>-94</td>\n",
       "      <td>-84</td>\n",
       "      <td>-84</td>\n",
       "      <td>-94</td>\n",
       "      <td>-93</td>\n",
       "      <td>-98</td>\n",
       "      <td>-96</td>\n",
       "    </tr>\n",
       "    <tr>\n",
       "      <th>2</th>\n",
       "      <td>2.0</td>\n",
       "      <td>8.0</td>\n",
       "      <td>-66</td>\n",
       "      <td>-94</td>\n",
       "      <td>-84</td>\n",
       "      <td>-84</td>\n",
       "      <td>-94</td>\n",
       "      <td>-93</td>\n",
       "      <td>-98</td>\n",
       "      <td>-100</td>\n",
       "    </tr>\n",
       "    <tr>\n",
       "      <th>3</th>\n",
       "      <td>2.0</td>\n",
       "      <td>8.0</td>\n",
       "      <td>-66</td>\n",
       "      <td>-94</td>\n",
       "      <td>-84</td>\n",
       "      <td>-84</td>\n",
       "      <td>-94</td>\n",
       "      <td>-80</td>\n",
       "      <td>-98</td>\n",
       "      <td>-100</td>\n",
       "    </tr>\n",
       "    <tr>\n",
       "      <th>4</th>\n",
       "      <td>2.0</td>\n",
       "      <td>8.0</td>\n",
       "      <td>-66</td>\n",
       "      <td>-94</td>\n",
       "      <td>-84</td>\n",
       "      <td>-84</td>\n",
       "      <td>-94</td>\n",
       "      <td>-74</td>\n",
       "      <td>-98</td>\n",
       "      <td>-100</td>\n",
       "    </tr>\n",
       "  </tbody>\n",
       "</table>\n",
       "</div>"
      ],
      "text/plain": [
       "     X    Y  C1hA  0kxZ  tvMX  OlYb  7rk5  F39L  VNSF  tkxI\n",
       "0  2.0  8.0   -66   -92   -84   -84   -92   -93   -98   -96\n",
       "1  2.0  8.0   -66   -94   -84   -84   -94   -93   -98   -96\n",
       "2  2.0  8.0   -66   -94   -84   -84   -94   -93   -98  -100\n",
       "3  2.0  8.0   -66   -94   -84   -84   -94   -80   -98  -100\n",
       "4  2.0  8.0   -66   -94   -84   -84   -94   -74   -98  -100"
      ]
     },
     "execution_count": 17,
     "metadata": {},
     "output_type": "execute_result"
    }
   ],
   "source": [
    "import pandas as pd\n",
    "import numpy as np\n",
    "df = pd.read_csv(\"./pos/IndoorFingerprint.csv\")\n",
    "df.head()"
   ]
  },
  {
   "cell_type": "code",
   "execution_count": 2,
   "metadata": {},
   "outputs": [
    {
     "data": {
      "text/html": [
       "<div>\n",
       "<style scoped>\n",
       "    .dataframe tbody tr th:only-of-type {\n",
       "        vertical-align: middle;\n",
       "    }\n",
       "\n",
       "    .dataframe tbody tr th {\n",
       "        vertical-align: top;\n",
       "    }\n",
       "\n",
       "    .dataframe thead th {\n",
       "        text-align: right;\n",
       "    }\n",
       "</style>\n",
       "<table border=\"1\" class=\"dataframe\">\n",
       "  <thead>\n",
       "    <tr style=\"text-align: right;\">\n",
       "      <th></th>\n",
       "      <th>X</th>\n",
       "      <th>Y</th>\n",
       "      <th>C1hA</th>\n",
       "      <th>0kxZ</th>\n",
       "      <th>tvMX</th>\n",
       "      <th>OlYb</th>\n",
       "      <th>7rk5</th>\n",
       "      <th>F39L</th>\n",
       "      <th>VNSF</th>\n",
       "      <th>tkxI</th>\n",
       "    </tr>\n",
       "  </thead>\n",
       "  <tbody>\n",
       "    <tr>\n",
       "      <th>6595</th>\n",
       "      <td>2.0</td>\n",
       "      <td>20.0</td>\n",
       "      <td>-98</td>\n",
       "      <td>-65</td>\n",
       "      <td>-94</td>\n",
       "      <td>-90</td>\n",
       "      <td>-101</td>\n",
       "      <td>-78</td>\n",
       "      <td>-99</td>\n",
       "      <td>-102</td>\n",
       "    </tr>\n",
       "    <tr>\n",
       "      <th>6596</th>\n",
       "      <td>2.0</td>\n",
       "      <td>20.0</td>\n",
       "      <td>-98</td>\n",
       "      <td>-68</td>\n",
       "      <td>-88</td>\n",
       "      <td>-99</td>\n",
       "      <td>-101</td>\n",
       "      <td>-78</td>\n",
       "      <td>-99</td>\n",
       "      <td>-102</td>\n",
       "    </tr>\n",
       "    <tr>\n",
       "      <th>6597</th>\n",
       "      <td>2.0</td>\n",
       "      <td>20.0</td>\n",
       "      <td>-92</td>\n",
       "      <td>-68</td>\n",
       "      <td>-88</td>\n",
       "      <td>-99</td>\n",
       "      <td>-101</td>\n",
       "      <td>-78</td>\n",
       "      <td>-99</td>\n",
       "      <td>-102</td>\n",
       "    </tr>\n",
       "    <tr>\n",
       "      <th>6598</th>\n",
       "      <td>2.0</td>\n",
       "      <td>20.0</td>\n",
       "      <td>-92</td>\n",
       "      <td>-69</td>\n",
       "      <td>-90</td>\n",
       "      <td>-99</td>\n",
       "      <td>-101</td>\n",
       "      <td>-79</td>\n",
       "      <td>-99</td>\n",
       "      <td>-102</td>\n",
       "    </tr>\n",
       "    <tr>\n",
       "      <th>6599</th>\n",
       "      <td>2.0</td>\n",
       "      <td>20.0</td>\n",
       "      <td>-92</td>\n",
       "      <td>-69</td>\n",
       "      <td>-88</td>\n",
       "      <td>-95</td>\n",
       "      <td>-101</td>\n",
       "      <td>-79</td>\n",
       "      <td>-99</td>\n",
       "      <td>-102</td>\n",
       "    </tr>\n",
       "  </tbody>\n",
       "</table>\n",
       "</div>"
      ],
      "text/plain": [
       "        X     Y  C1hA  0kxZ  tvMX  OlYb  7rk5  F39L  VNSF  tkxI\n",
       "6595  2.0  20.0   -98   -65   -94   -90  -101   -78   -99  -102\n",
       "6596  2.0  20.0   -98   -68   -88   -99  -101   -78   -99  -102\n",
       "6597  2.0  20.0   -92   -68   -88   -99  -101   -78   -99  -102\n",
       "6598  2.0  20.0   -92   -69   -90   -99  -101   -79   -99  -102\n",
       "6599  2.0  20.0   -92   -69   -88   -95  -101   -79   -99  -102"
      ]
     },
     "execution_count": 2,
     "metadata": {},
     "output_type": "execute_result"
    }
   ],
   "source": [
    "df.tail()"
   ]
  },
  {
   "cell_type": "code",
   "execution_count": 2,
   "metadata": {},
   "outputs": [
    {
     "data": {
      "text/plain": [
       "(6600, 10)"
      ]
     },
     "execution_count": 2,
     "metadata": {},
     "output_type": "execute_result"
    }
   ],
   "source": [
    "df.shape"
   ]
  },
  {
   "cell_type": "code",
   "execution_count": 164,
   "metadata": {},
   "outputs": [
    {
     "data": {
      "text/plain": [
       "1980.0"
      ]
     },
     "execution_count": 164,
     "metadata": {},
     "output_type": "execute_result"
    }
   ],
   "source": [
    "0.3*6600"
   ]
  },
  {
   "cell_type": "code",
   "execution_count": 195,
   "metadata": {},
   "outputs": [
    {
     "data": {
      "text/plain": [
       "array([4141, 4492, 5891, ..., 5225, 1821, 2809])"
      ]
     },
     "execution_count": 195,
     "metadata": {},
     "output_type": "execute_result"
    }
   ],
   "source": [
    "aux = np.random.choice(np.arange(df.shape[0]),1980,replace=False)\n",
    "aux"
   ]
  },
  {
   "cell_type": "code",
   "execution_count": 196,
   "metadata": {},
   "outputs": [],
   "source": [
    "np.savetxt('mask_test.csv',aux,delimiter=',',fmt='%i')"
   ]
  },
  {
   "cell_type": "code",
   "execution_count": 4,
   "metadata": {},
   "outputs": [
    {
     "ename": "NameError",
     "evalue": "name 'X' is not defined",
     "output_type": "error",
     "traceback": [
      "\u001b[0;31m---------------------------------------------------------------------------\u001b[0m",
      "\u001b[0;31mNameError\u001b[0m                                 Traceback (most recent call last)",
      "\u001b[0;32m<ipython-input-4-a5c0035cb0f8>\u001b[0m in \u001b[0;36m<module>\u001b[0;34m()\u001b[0m\n\u001b[1;32m      1\u001b[0m \u001b[0mmask_test\u001b[0m \u001b[0;34m=\u001b[0m \u001b[0mnp\u001b[0m\u001b[0;34m.\u001b[0m\u001b[0mloadtxt\u001b[0m\u001b[0;34m(\u001b[0m\u001b[0;34m'mask_test.csv'\u001b[0m\u001b[0;34m,\u001b[0m\u001b[0mdtype\u001b[0m\u001b[0;34m=\u001b[0m\u001b[0;34m\"i\"\u001b[0m\u001b[0;34m)\u001b[0m\u001b[0;34m\u001b[0m\u001b[0m\n\u001b[0;32m----> 2\u001b[0;31m \u001b[0mX_test\u001b[0m \u001b[0;34m=\u001b[0m \u001b[0mX\u001b[0m\u001b[0;34m[\u001b[0m\u001b[0mmask_test\u001b[0m\u001b[0;34m]\u001b[0m\u001b[0;34m\u001b[0m\u001b[0m\n\u001b[0m\u001b[1;32m      3\u001b[0m \u001b[0mX_train\u001b[0m \u001b[0;34m=\u001b[0m \u001b[0mnp\u001b[0m\u001b[0;34m.\u001b[0m\u001b[0mdelete\u001b[0m\u001b[0;34m(\u001b[0m\u001b[0mX\u001b[0m\u001b[0;34m,\u001b[0m\u001b[0mmask_test\u001b[0m\u001b[0;34m,\u001b[0m\u001b[0maxis\u001b[0m\u001b[0;34m=\u001b[0m\u001b[0;36m0\u001b[0m\u001b[0;34m)\u001b[0m\u001b[0;34m\u001b[0m\u001b[0m\n\u001b[1;32m      4\u001b[0m \u001b[0;31m#same for labels y\u001b[0m\u001b[0;34m\u001b[0m\u001b[0;34m\u001b[0m\u001b[0m\n\u001b[1;32m      5\u001b[0m \u001b[0mX_train\u001b[0m\u001b[0;34m.\u001b[0m\u001b[0mshape\u001b[0m\u001b[0;34m\u001b[0m\u001b[0m\n",
      "\u001b[0;31mNameError\u001b[0m: name 'X' is not defined"
     ]
    }
   ],
   "source": [
    "mask_test = np.loadtxt('mask_test.csv',dtype=\"i\")\n",
    "X_test = X[mask_test]\n",
    "X_train = np.delete(X,mask_test,axis=0)\n",
    "#same for labels y\n",
    "X_train.shape"
   ]
  },
  {
   "cell_type": "code",
   "execution_count": 193,
   "metadata": {},
   "outputs": [
    {
     "data": {
      "text/plain": [
       "array([[   2.,    8.,  -66., ...,  -93.,  -98.,  -96.],\n",
       "       [   2.,    8.,  -66., ...,  -93.,  -98., -100.],\n",
       "       [   2.,    8.,  -66., ...,  -80.,  -98., -100.],\n",
       "       ...,\n",
       "       [   2.,   20.,  -98., ...,  -78.,  -99., -102.],\n",
       "       [   2.,   20.,  -98., ...,  -78.,  -99., -102.],\n",
       "       [   2.,   20.,  -92., ...,  -78.,  -99., -102.]])"
      ]
     },
     "execution_count": 193,
     "metadata": {},
     "output_type": "execute_result"
    }
   ],
   "source": [
    "np.delete(X,mask_test,axis=0)"
   ]
  },
  {
   "cell_type": "code",
   "execution_count": 87,
   "metadata": {},
   "outputs": [
    {
     "name": "stdout",
     "output_type": "stream",
     "text": [
      "[ 2.  6. 10. 14. 18. 22. 26. 30. 34. 38. 42.]\n",
      "[ 8. 12. 16. 20.]\n"
     ]
    }
   ],
   "source": [
    "print(df[\"X\"].unique())\n",
    "print(df[\"Y\"].unique())"
   ]
  },
  {
   "cell_type": "markdown",
   "metadata": {},
   "source": [
    "#### Descripcion de etiquetas\n",
    "C1hA =\n",
    "0kxZ =\n",
    "tvMX = Beacon (intensidad dBm)\n",
    "OlYb =\n",
    "7rk5 =\n",
    "F39L =\n",
    "VNSF = \n",
    "tkxl ="
   ]
  },
  {
   "cell_type": "code",
   "execution_count": 7,
   "metadata": {},
   "outputs": [
    {
     "data": {
      "image/png": "[encoded data removed]",
      "text/plain": [
       "<matplotlib.figure.Figure at 0x7ff1f9c59a50>"
      ]
     },
     "metadata": {},
     "output_type": "display_data"
    }
   ],
   "source": [
    "import matplotlib.pyplot as plt\n",
    "%matplotlib inline\n",
    "plt.scatter(df[\"X\"],df[\"Y\"])\n",
    "\n",
    "x_ticks = np.arange(0, 49, 8)\n",
    "y_ticks = np.arange(5, 22, 4)\n",
    "plt.xticks(x_ticks)\n",
    "plt.yticks(y_ticks)\n",
    "plt.grid(color='r', linestyle='-', linewidth=2,pickradius=100)\n",
    "plt.ylabel(\"y position\")\n",
    "plt.xlabel(\"x position\")\n",
    "\n",
    "#plt.grid(which='minor', alpha=0.9)\n",
    "#plt.grid(which='major', alpha=0.9)\n",
    "plt.show()"
   ]
  },
  {
   "cell_type": "code",
   "execution_count": 130,
   "metadata": {},
   "outputs": [
    {
     "data": {
      "text/plain": [
       "4"
      ]
     },
     "execution_count": 130,
     "metadata": {},
     "output_type": "execute_result"
    }
   ],
   "source": [
    "np.where(y_ticks>20)[0][0]"
   ]
  },
  {
   "cell_type": "code",
   "execution_count": 8,
   "metadata": {},
   "outputs": [
    {
     "data": {
      "text/plain": [
       "0"
      ]
     },
     "execution_count": 8,
     "metadata": {},
     "output_type": "execute_result"
    }
   ],
   "source": [
    "def between(array,number):\n",
    "    for i in np.arange(len(array)-1):\n",
    "        if(number > array[i]  and number < array[i+1] ):\n",
    "            return i\n",
    "    print(number)\n",
    "between(x_ticks,5)"
   ]
  },
  {
   "cell_type": "code",
   "execution_count": 9,
   "metadata": {},
   "outputs": [],
   "source": [
    "n_class = 24\n",
    "y_labels = []\n",
    "for x,y in zip(df[\"X\"],df[\"Y\"]):\n",
    "    pos_x = np.where(x_ticks>x)[0][0]\n",
    "    pos_y = np.where(y_ticks>y)[0][0]\n",
    "\n",
    "    y_labels.append(str(pos_x)+'-'+str(pos_y))\n",
    "y_labels = np.asarray(y_labels)"
   ]
  },
  {
   "cell_type": "code",
   "execution_count": 10,
   "metadata": {},
   "outputs": [
    {
     "data": {
      "text/plain": [
       "array(['1-4', '1-4', '1-4', '1-4', '1-4', '1-4', '1-4', '1-4', '1-4',\n",
       "       '1-4'], dtype='|S3')"
      ]
     },
     "execution_count": 10,
     "metadata": {},
     "output_type": "execute_result"
    }
   ],
   "source": [
    "y_labels[-10:]"
   ]
  },
  {
   "cell_type": "code",
   "execution_count": 11,
   "metadata": {},
   "outputs": [
    {
     "data": {
      "text/html": [
       "<div>\n",
       "<style scoped>\n",
       "    .dataframe tbody tr th:only-of-type {\n",
       "        vertical-align: middle;\n",
       "    }\n",
       "\n",
       "    .dataframe tbody tr th {\n",
       "        vertical-align: top;\n",
       "    }\n",
       "\n",
       "    .dataframe thead th {\n",
       "        text-align: right;\n",
       "    }\n",
       "</style>\n",
       "<table border=\"1\" class=\"dataframe\">\n",
       "  <thead>\n",
       "    <tr style=\"text-align: right;\">\n",
       "      <th></th>\n",
       "      <th>X</th>\n",
       "      <th>Y</th>\n",
       "      <th>C1hA</th>\n",
       "      <th>0kxZ</th>\n",
       "      <th>tvMX</th>\n",
       "      <th>OlYb</th>\n",
       "      <th>7rk5</th>\n",
       "      <th>F39L</th>\n",
       "      <th>VNSF</th>\n",
       "      <th>tkxI</th>\n",
       "    </tr>\n",
       "  </thead>\n",
       "  <tbody>\n",
       "    <tr>\n",
       "      <th>6595</th>\n",
       "      <td>2.0</td>\n",
       "      <td>20.0</td>\n",
       "      <td>-98</td>\n",
       "      <td>-65</td>\n",
       "      <td>-94</td>\n",
       "      <td>-90</td>\n",
       "      <td>-101</td>\n",
       "      <td>-78</td>\n",
       "      <td>-99</td>\n",
       "      <td>-102</td>\n",
       "    </tr>\n",
       "    <tr>\n",
       "      <th>6596</th>\n",
       "      <td>2.0</td>\n",
       "      <td>20.0</td>\n",
       "      <td>-98</td>\n",
       "      <td>-68</td>\n",
       "      <td>-88</td>\n",
       "      <td>-99</td>\n",
       "      <td>-101</td>\n",
       "      <td>-78</td>\n",
       "      <td>-99</td>\n",
       "      <td>-102</td>\n",
       "    </tr>\n",
       "    <tr>\n",
       "      <th>6597</th>\n",
       "      <td>2.0</td>\n",
       "      <td>20.0</td>\n",
       "      <td>-92</td>\n",
       "      <td>-68</td>\n",
       "      <td>-88</td>\n",
       "      <td>-99</td>\n",
       "      <td>-101</td>\n",
       "      <td>-78</td>\n",
       "      <td>-99</td>\n",
       "      <td>-102</td>\n",
       "    </tr>\n",
       "    <tr>\n",
       "      <th>6598</th>\n",
       "      <td>2.0</td>\n",
       "      <td>20.0</td>\n",
       "      <td>-92</td>\n",
       "      <td>-69</td>\n",
       "      <td>-90</td>\n",
       "      <td>-99</td>\n",
       "      <td>-101</td>\n",
       "      <td>-79</td>\n",
       "      <td>-99</td>\n",
       "      <td>-102</td>\n",
       "    </tr>\n",
       "    <tr>\n",
       "      <th>6599</th>\n",
       "      <td>2.0</td>\n",
       "      <td>20.0</td>\n",
       "      <td>-92</td>\n",
       "      <td>-69</td>\n",
       "      <td>-88</td>\n",
       "      <td>-95</td>\n",
       "      <td>-101</td>\n",
       "      <td>-79</td>\n",
       "      <td>-99</td>\n",
       "      <td>-102</td>\n",
       "    </tr>\n",
       "  </tbody>\n",
       "</table>\n",
       "</div>"
      ],
      "text/plain": [
       "        X     Y  C1hA  0kxZ  tvMX  OlYb  7rk5  F39L  VNSF  tkxI\n",
       "6595  2.0  20.0   -98   -65   -94   -90  -101   -78   -99  -102\n",
       "6596  2.0  20.0   -98   -68   -88   -99  -101   -78   -99  -102\n",
       "6597  2.0  20.0   -92   -68   -88   -99  -101   -78   -99  -102\n",
       "6598  2.0  20.0   -92   -69   -90   -99  -101   -79   -99  -102\n",
       "6599  2.0  20.0   -92   -69   -88   -95  -101   -79   -99  -102"
      ]
     },
     "execution_count": 11,
     "metadata": {},
     "output_type": "execute_result"
    }
   ],
   "source": [
    "df.tail()"
   ]
  },
  {
   "cell_type": "markdown",
   "metadata": {},
   "source": [
    "df[\"position\"] = y_labels #position categorized\n",
    "df.head()"
   ]
  },
  {
   "cell_type": "code",
   "execution_count": 13,
   "metadata": {},
   "outputs": [
    {
     "data": {
      "text/html": [
       "<div>\n",
       "<style scoped>\n",
       "    .dataframe tbody tr th:only-of-type {\n",
       "        vertical-align: middle;\n",
       "    }\n",
       "\n",
       "    .dataframe tbody tr th {\n",
       "        vertical-align: top;\n",
       "    }\n",
       "\n",
       "    .dataframe thead th {\n",
       "        text-align: right;\n",
       "    }\n",
       "</style>\n",
       "<table border=\"1\" class=\"dataframe\">\n",
       "  <thead>\n",
       "    <tr style=\"text-align: right;\">\n",
       "      <th></th>\n",
       "      <th>1-1</th>\n",
       "      <th>1-2</th>\n",
       "      <th>1-3</th>\n",
       "      <th>1-4</th>\n",
       "      <th>2-1</th>\n",
       "      <th>2-2</th>\n",
       "      <th>2-3</th>\n",
       "      <th>2-4</th>\n",
       "      <th>3-1</th>\n",
       "      <th>3-2</th>\n",
       "      <th>...</th>\n",
       "      <th>4-3</th>\n",
       "      <th>4-4</th>\n",
       "      <th>5-1</th>\n",
       "      <th>5-2</th>\n",
       "      <th>5-3</th>\n",
       "      <th>5-4</th>\n",
       "      <th>6-1</th>\n",
       "      <th>6-2</th>\n",
       "      <th>6-3</th>\n",
       "      <th>6-4</th>\n",
       "    </tr>\n",
       "  </thead>\n",
       "  <tbody>\n",
       "    <tr>\n",
       "      <th>0</th>\n",
       "      <td>1</td>\n",
       "      <td>0</td>\n",
       "      <td>0</td>\n",
       "      <td>0</td>\n",
       "      <td>0</td>\n",
       "      <td>0</td>\n",
       "      <td>0</td>\n",
       "      <td>0</td>\n",
       "      <td>0</td>\n",
       "      <td>0</td>\n",
       "      <td>...</td>\n",
       "      <td>0</td>\n",
       "      <td>0</td>\n",
       "      <td>0</td>\n",
       "      <td>0</td>\n",
       "      <td>0</td>\n",
       "      <td>0</td>\n",
       "      <td>0</td>\n",
       "      <td>0</td>\n",
       "      <td>0</td>\n",
       "      <td>0</td>\n",
       "    </tr>\n",
       "    <tr>\n",
       "      <th>1</th>\n",
       "      <td>1</td>\n",
       "      <td>0</td>\n",
       "      <td>0</td>\n",
       "      <td>0</td>\n",
       "      <td>0</td>\n",
       "      <td>0</td>\n",
       "      <td>0</td>\n",
       "      <td>0</td>\n",
       "      <td>0</td>\n",
       "      <td>0</td>\n",
       "      <td>...</td>\n",
       "      <td>0</td>\n",
       "      <td>0</td>\n",
       "      <td>0</td>\n",
       "      <td>0</td>\n",
       "      <td>0</td>\n",
       "      <td>0</td>\n",
       "      <td>0</td>\n",
       "      <td>0</td>\n",
       "      <td>0</td>\n",
       "      <td>0</td>\n",
       "    </tr>\n",
       "    <tr>\n",
       "      <th>2</th>\n",
       "      <td>1</td>\n",
       "      <td>0</td>\n",
       "      <td>0</td>\n",
       "      <td>0</td>\n",
       "      <td>0</td>\n",
       "      <td>0</td>\n",
       "      <td>0</td>\n",
       "      <td>0</td>\n",
       "      <td>0</td>\n",
       "      <td>0</td>\n",
       "      <td>...</td>\n",
       "      <td>0</td>\n",
       "      <td>0</td>\n",
       "      <td>0</td>\n",
       "      <td>0</td>\n",
       "      <td>0</td>\n",
       "      <td>0</td>\n",
       "      <td>0</td>\n",
       "      <td>0</td>\n",
       "      <td>0</td>\n",
       "      <td>0</td>\n",
       "    </tr>\n",
       "    <tr>\n",
       "      <th>3</th>\n",
       "      <td>1</td>\n",
       "      <td>0</td>\n",
       "      <td>0</td>\n",
       "      <td>0</td>\n",
       "      <td>0</td>\n",
       "      <td>0</td>\n",
       "      <td>0</td>\n",
       "      <td>0</td>\n",
       "      <td>0</td>\n",
       "      <td>0</td>\n",
       "      <td>...</td>\n",
       "      <td>0</td>\n",
       "      <td>0</td>\n",
       "      <td>0</td>\n",
       "      <td>0</td>\n",
       "      <td>0</td>\n",
       "      <td>0</td>\n",
       "      <td>0</td>\n",
       "      <td>0</td>\n",
       "      <td>0</td>\n",
       "      <td>0</td>\n",
       "    </tr>\n",
       "    <tr>\n",
       "      <th>4</th>\n",
       "      <td>1</td>\n",
       "      <td>0</td>\n",
       "      <td>0</td>\n",
       "      <td>0</td>\n",
       "      <td>0</td>\n",
       "      <td>0</td>\n",
       "      <td>0</td>\n",
       "      <td>0</td>\n",
       "      <td>0</td>\n",
       "      <td>0</td>\n",
       "      <td>...</td>\n",
       "      <td>0</td>\n",
       "      <td>0</td>\n",
       "      <td>0</td>\n",
       "      <td>0</td>\n",
       "      <td>0</td>\n",
       "      <td>0</td>\n",
       "      <td>0</td>\n",
       "      <td>0</td>\n",
       "      <td>0</td>\n",
       "      <td>0</td>\n",
       "    </tr>\n",
       "  </tbody>\n",
       "</table>\n",
       "<p>5 rows × 24 columns</p>\n",
       "</div>"
      ],
      "text/plain": [
       "   1-1  1-2  1-3  1-4  2-1  2-2  2-3  2-4  3-1  3-2 ...   4-3  4-4  5-1  5-2  \\\n",
       "0    1    0    0    0    0    0    0    0    0    0 ...     0    0    0    0   \n",
       "1    1    0    0    0    0    0    0    0    0    0 ...     0    0    0    0   \n",
       "2    1    0    0    0    0    0    0    0    0    0 ...     0    0    0    0   \n",
       "3    1    0    0    0    0    0    0    0    0    0 ...     0    0    0    0   \n",
       "4    1    0    0    0    0    0    0    0    0    0 ...     0    0    0    0   \n",
       "\n",
       "   5-3  5-4  6-1  6-2  6-3  6-4  \n",
       "0    0    0    0    0    0    0  \n",
       "1    0    0    0    0    0    0  \n",
       "2    0    0    0    0    0    0  \n",
       "3    0    0    0    0    0    0  \n",
       "4    0    0    0    0    0    0  \n",
       "\n",
       "[5 rows x 24 columns]"
      ]
     },
     "execution_count": 13,
     "metadata": {},
     "output_type": "execute_result"
    }
   ],
   "source": [
    "y_final = pd.get_dummies(y_labels) #one hot vector of 24 posible class (grid)\n",
    "y_final.head()"
   ]
  },
  {
   "cell_type": "code",
   "execution_count": 14,
   "metadata": {},
   "outputs": [
    {
     "data": {
      "text/plain": [
       "1-1    300\n",
       "1-2    300\n",
       "1-3    300\n",
       "1-4    300\n",
       "2-1    300\n",
       "2-2    300\n",
       "2-3    300\n",
       "2-4    300\n",
       "3-1    300\n",
       "3-2    300\n",
       "3-3    300\n",
       "3-4    300\n",
       "4-1    300\n",
       "4-2    300\n",
       "4-3    300\n",
       "4-4    300\n",
       "5-1    300\n",
       "5-2    300\n",
       "5-3    300\n",
       "5-4    300\n",
       "6-1    150\n",
       "6-2    150\n",
       "6-3    150\n",
       "6-4    150\n",
       "dtype: int64"
      ]
     },
     "execution_count": 14,
     "metadata": {},
     "output_type": "execute_result"
    }
   ],
   "source": [
    "#plot counts\n",
    "import seaborn as sns\n",
    "np.sum(y_final)\n",
    "#sns.countplot(y_final)"
   ]
  },
  {
   "cell_type": "code",
   "execution_count": 19,
   "metadata": {},
   "outputs": [
    {
     "data": {
      "text/plain": [
       "array([[ -66,  -92,  -84, ...,  -93,  -98,  -96],\n",
       "       [ -66,  -94,  -84, ...,  -93,  -98,  -96],\n",
       "       [ -66,  -94,  -84, ...,  -93,  -98, -100],\n",
       "       ...,\n",
       "       [ -92,  -68,  -88, ...,  -78,  -99, -102],\n",
       "       [ -92,  -69,  -90, ...,  -79,  -99, -102],\n",
       "       [ -92,  -69,  -88, ...,  -79,  -99, -102]])"
      ]
     },
     "execution_count": 19,
     "metadata": {},
     "output_type": "execute_result"
    }
   ],
   "source": [
    "df.drop([\"X\",\"Y\"],axis=1,inplace=True)\n",
    "X_train = df.values\n",
    "X_train"
   ]
  },
  {
   "cell_type": "code",
   "execution_count": 20,
   "metadata": {},
   "outputs": [
    {
     "name": "stderr",
     "output_type": "stream",
     "text": [
      "/home/panshop/anaconda2/lib/python2.7/site-packages/sklearn/utils/validation.py:475: DataConversionWarning: Data with input dtype int64 was converted to float64 by StandardScaler.\n",
      "  warnings.warn(msg, DataConversionWarning)\n"
     ]
    }
   ],
   "source": [
    "from sklearn.preprocessing import StandardScaler\n",
    "scaler = StandardScaler().fit(X_train)\n",
    "X_train_scaled = scaler.transform(X_train)"
   ]
  },
  {
   "cell_type": "code",
   "execution_count": null,
   "metadata": {
    "scrolled": true
   },
   "outputs": [
    {
     "name": "stderr",
     "output_type": "stream",
     "text": [
      "/home/panshop/anaconda2/lib/python2.7/site-packages/h5py/__init__.py:36: FutureWarning: Conversion of the second argument of issubdtype from `float` to `np.floating` is deprecated. In future, it will be treated as `np.float64 == np.dtype(float).type`.\n",
      "  from ._conv import register_converters as _register_converters\n",
      "Using TensorFlow backend.\n"
     ]
    },
    {
     "name": "stdout",
     "output_type": "stream",
     "text": [
      "Train on 5280 samples, validate on 1320 samples\n",
      "Epoch 1/300\n"
     ]
    }
   ],
   "source": [
    "from keras.models import Sequential\n",
    "from keras.layers.core import Dense, Activation\n",
    "model = Sequential()\n",
    "model.add(Dense(200, input_dim=X_train.shape[1]))\n",
    "model.add(Activation('sigmoid'))\n",
    "model.add(Dense(n_class,activation=\"softmax\"))\n",
    "model.compile(optimizer='rmsprop',loss='categorical_crossentropy')\n",
    "model.fit(X_train_scaled, y_final.as_matrix(), epochs=300,verbose=1 ,validation_split=0.2)"
   ]
  },
  {
   "cell_type": "code",
   "execution_count": null,
   "metadata": {},
   "outputs": [],
   "source": []
  }
 ],
 "metadata": {
  "kernelspec": {
   "display_name": "Python 2",
   "language": "python",
   "name": "python2"
  },
  "language_info": {
   "codemirror_mode": {
    "name": "ipython",
    "version": 2
   },
   "file_extension": ".py",
   "mimetype": "text/x-python",
   "name": "python",
   "nbconvert_exporter": "python",
   "pygments_lexer": "ipython2",
   "version": "2.7.14"
  }
 },
 "nbformat": 4,
 "nbformat_minor": 2
}
