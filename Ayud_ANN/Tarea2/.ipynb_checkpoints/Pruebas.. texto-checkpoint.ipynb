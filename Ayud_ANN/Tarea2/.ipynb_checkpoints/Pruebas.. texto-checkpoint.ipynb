{
 "cells": [
  {
   "cell_type": "code",
   "execution_count": 1,
   "metadata": {},
   "outputs": [
    {
     "name": "stderr",
     "output_type": "stream",
     "text": [
      "b'Skipping line 281837: expected 25 fields, saw 34\\n'\n"
     ]
    },
    {
     "data": {
      "text/html": [
       "<div>\n",
       "<style scoped>\n",
       "    .dataframe tbody tr th:only-of-type {\n",
       "        vertical-align: middle;\n",
       "    }\n",
       "\n",
       "    .dataframe tbody tr th {\n",
       "        vertical-align: top;\n",
       "    }\n",
       "\n",
       "    .dataframe thead th {\n",
       "        text-align: right;\n",
       "    }\n",
       "</style>\n",
       "<table border=\"1\" class=\"dataframe\">\n",
       "  <thead>\n",
       "    <tr style=\"text-align: right;\">\n",
       "      <th></th>\n",
       "      <th>lemma</th>\n",
       "      <th>word</th>\n",
       "      <th>pos</th>\n",
       "      <th>tag</th>\n",
       "      <th>prev-iob</th>\n",
       "    </tr>\n",
       "  </thead>\n",
       "  <tbody>\n",
       "    <tr>\n",
       "      <th>0</th>\n",
       "      <td>thousand</td>\n",
       "      <td>Thousands</td>\n",
       "      <td>NNS</td>\n",
       "      <td>O</td>\n",
       "      <td>__START1__</td>\n",
       "    </tr>\n",
       "    <tr>\n",
       "      <th>1</th>\n",
       "      <td>of</td>\n",
       "      <td>of</td>\n",
       "      <td>IN</td>\n",
       "      <td>O</td>\n",
       "      <td>O</td>\n",
       "    </tr>\n",
       "    <tr>\n",
       "      <th>2</th>\n",
       "      <td>demonstr</td>\n",
       "      <td>demonstrators</td>\n",
       "      <td>NNS</td>\n",
       "      <td>O</td>\n",
       "      <td>O</td>\n",
       "    </tr>\n",
       "    <tr>\n",
       "      <th>3</th>\n",
       "      <td>have</td>\n",
       "      <td>have</td>\n",
       "      <td>VBP</td>\n",
       "      <td>O</td>\n",
       "      <td>O</td>\n",
       "    </tr>\n",
       "    <tr>\n",
       "      <th>4</th>\n",
       "      <td>march</td>\n",
       "      <td>marched</td>\n",
       "      <td>VBN</td>\n",
       "      <td>O</td>\n",
       "      <td>O</td>\n",
       "    </tr>\n",
       "  </tbody>\n",
       "</table>\n",
       "</div>"
      ],
      "text/plain": [
       "      lemma           word  pos tag    prev-iob\n",
       "0  thousand      Thousands  NNS   O  __START1__\n",
       "1        of             of   IN   O           O\n",
       "2  demonstr  demonstrators  NNS   O           O\n",
       "3      have           have  VBP   O           O\n",
       "4     march        marched  VBN   O           O"
      ]
     },
     "execution_count": 1,
     "metadata": {},
     "output_type": "execute_result"
    }
   ],
   "source": [
    "import numpy as np\n",
    "import pandas as pd\n",
    "df_ner = pd.read_csv(\"./ner.csv\", encoding =\"cp1252\", error_bad_lines=False)\n",
    "df_ner.dropna(inplace=True)\n",
    "dataset = df_ner.loc[:,[\"lemma\",\"word\",\"pos\",\"tag\",\"prev-iob\"]]\n",
    "dataset.head()"
   ]
  },
  {
   "cell_type": "code",
   "execution_count": null,
   "metadata": {},
   "outputs": [],
   "source": []
  },
  {
   "cell_type": "code",
   "execution_count": 7,
   "metadata": {},
   "outputs": [],
   "source": [
    "n_used = 100000 #data to use\n",
    "dataX,dataY = [],[]\n",
    "sentence, labels_sentence = [], []\n",
    "lemmas,labels = set(), set()  #uniques\n",
    "for fila in dataset.values[:n_used]:\n",
    "    if fila[-1]==\"__START1__\": \n",
    "        dataX.append(sentence)\n",
    "        dataY.append(labels_sentence)\n",
    "        sentence= []\n",
    "        labels_sentence = []\n",
    "    lemmas.add(fila[0])\n",
    "    labels.add(fila[3])\n",
    "    sentence.append(fila[0]) #add lemma\n",
    "    labels_sentence.append(fila[3]) #TAG\n",
    "dataX = dataX[1:]\n",
    "dataY = dataY[1:]"
   ]
  },
  {
   "cell_type": "code",
   "execution_count": 8,
   "metadata": {},
   "outputs": [],
   "source": [
    "n_labels = len(labels)\n",
    "lab2idx = {t: i for i, t in enumerate(labels)}\n",
    "dataY = [[lab2idx[ner] for ner in ner_tags ] for ner_tags in dataY]"
   ]
  },
  {
   "cell_type": "code",
   "execution_count": null,
   "metadata": {},
   "outputs": [],
   "source": []
  },
  {
   "cell_type": "code",
   "execution_count": 4,
   "metadata": {
    "scrolled": true
   },
   "outputs": [
    {
     "data": {
      "text/plain": [
       "<gensim.models.word2vec.Word2Vec at 0x7fea08e1cba8>"
      ]
     },
     "execution_count": 4,
     "metadata": {},
     "output_type": "execute_result"
    }
   ],
   "source": [
    "from gensim.models import Word2Vec\n",
    "EMBEDDING_DIM = 32\n",
    "window_size = 5\n",
    "nb_epoch = 5\n",
    "batch_size = 6000\n",
    "model = Word2Vec(dataX, size=EMBEDDING_DIM, window=window_size,batch_words=batch_size,iter=nb_epoch,\n",
    "                 min_count=3, negative=5,sg=1) #sg=1 mean skip-gram\n",
    "model"
   ]
  },
  {
   "cell_type": "code",
   "execution_count": 10,
   "metadata": {},
   "outputs": [
    {
     "name": "stdout",
     "output_type": "stream",
     "text": [
      "Tamano del vocabulario:  3144\n"
     ]
    }
   ],
   "source": [
    "vocab_words = list(model.wv.vocab)\n",
    "print(\"Tamano del vocabulario: \",len(vocab_words))"
   ]
  },
  {
   "cell_type": "code",
   "execution_count": 5,
   "metadata": {
    "scrolled": true
   },
   "outputs": [],
   "source": [
    "embeddings_index = {vocab_word: model.wv[vocab_word] for vocab_word in model.wv.vocab}"
   ]
  },
  {
   "cell_type": "code",
   "execution_count": 9,
   "metadata": {},
   "outputs": [],
   "source": [
    "lemma2idx = {w: i for i, w in enumerate(lemmas)} #Converting text to numbers\n",
    "n_lemmas = len(lemmas)\n",
    "\n",
    "dataX = [[lemma2idx[lemma] for lemma in sentence ] for sentence in dataX]"
   ]
  },
  {
   "cell_type": "code",
   "execution_count": null,
   "metadata": {},
   "outputs": [],
   "source": []
  },
  {
   "cell_type": "code",
   "execution_count": 26,
   "metadata": {
    "scrolled": true
   },
   "outputs": [
    {
     "data": {
      "text/plain": [
       "array([[ 0.        ,  0.        ,  0.        , ...,  0.        ,\n",
       "         0.        ,  0.        ],\n",
       "       [ 0.        ,  0.        ,  0.        , ...,  0.        ,\n",
       "         0.        ,  0.        ],\n",
       "       [ 0.        ,  0.        ,  0.        , ...,  0.        ,\n",
       "         0.        ,  0.        ],\n",
       "       ..., \n",
       "       [ 0.05347466,  0.0790691 , -0.12822857, ..., -0.26420334,\n",
       "        -0.17218229,  0.02646903],\n",
       "       [ 0.10988804,  0.10135647, -0.17103973, ..., -0.37504655,\n",
       "        -0.27834073,  0.06954294],\n",
       "       [ 0.        ,  0.        ,  0.        , ...,  0.        ,\n",
       "         0.        ,  0.        ]])"
      ]
     },
     "execution_count": 26,
     "metadata": {},
     "output_type": "execute_result"
    }
   ],
   "source": [
    "embedding_matrix = np.zeros((n_lemmas+1, EMBEDDING_DIM))\n",
    "for word, i in lemma2idx.items():\n",
    "    embedding_vector = embeddings_index.get(word)\n",
    "    if embedding_vector is not None: #if word does not has embedding\n",
    "        embedding_matrix[i] = embedding_vector\n",
    "embedding_matrix"
   ]
  },
  {
   "cell_type": "code",
   "execution_count": 18,
   "metadata": {},
   "outputs": [],
   "source": []
  },
  {
   "cell_type": "code",
   "execution_count": null,
   "metadata": {},
   "outputs": [],
   "source": []
  },
  {
   "cell_type": "code",
   "execution_count": 21,
   "metadata": {},
   "outputs": [
    {
     "data": {
      "text/plain": [
       "(4543, 34)"
      ]
     },
     "execution_count": 21,
     "metadata": {},
     "output_type": "execute_result"
    }
   ],
   "source": [
    "X.shape"
   ]
  },
  {
   "cell_type": "code",
   "execution_count": 27,
   "metadata": {},
   "outputs": [
    {
     "data": {
      "text/plain": [
       "(7513, 32)"
      ]
     },
     "execution_count": 27,
     "metadata": {},
     "output_type": "execute_result"
    }
   ],
   "source": [
    "embedding_matrix.shape"
   ]
  },
  {
   "cell_type": "code",
   "execution_count": null,
   "metadata": {},
   "outputs": [],
   "source": []
  },
  {
   "cell_type": "code",
   "execution_count": 22,
   "metadata": {},
   "outputs": [],
   "source": [
    "from sklearn.model_selection import train_test_split\n",
    "X_train, X_test, y_train, y_test = train_test_split(X, y, test_size=0.3,random_state=22)"
   ]
  },
  {
   "cell_type": "code",
   "execution_count": 24,
   "metadata": {
    "scrolled": true
   },
   "outputs": [
    {
     "data": {
      "text/plain": [
       "(3180, 34)"
      ]
     },
     "execution_count": 24,
     "metadata": {},
     "output_type": "execute_result"
    }
   ],
   "source": [
    "X_train.shape"
   ]
  },
  {
   "cell_type": "code",
   "execution_count": 29,
   "metadata": {},
   "outputs": [
    {
     "data": {
      "text/plain": [
       "(7513, 32)"
      ]
     },
     "execution_count": 29,
     "metadata": {},
     "output_type": "execute_result"
    }
   ],
   "source": [
    "embedding_matrix.shape"
   ]
  },
  {
   "cell_type": "code",
   "execution_count": 31,
   "metadata": {},
   "outputs": [],
   "source": [
    "n_lemmas+=1\n",
    "n_labels+=1"
   ]
  },
  {
   "cell_type": "code",
   "execution_count": 32,
   "metadata": {},
   "outputs": [
    {
     "name": "stdout",
     "output_type": "stream",
     "text": [
      "_________________________________________________________________\n",
      "Layer (type)                 Output Shape              Param #   \n",
      "=================================================================\n",
      "embedding_3 (Embedding)      (None, 34, 32)            240416    \n",
      "_________________________________________________________________\n",
      "lstm_1 (LSTM)                (None, 34, 100)           53200     \n",
      "_________________________________________________________________\n",
      "dropout_1 (Dropout)          (None, 34, 100)           0         \n",
      "_________________________________________________________________\n",
      "dense_1 (Dense)              (None, 34, 18)            1818      \n",
      "=================================================================\n",
      "Total params: 295,434\n",
      "Trainable params: 55,018\n",
      "Non-trainable params: 240,416\n",
      "_________________________________________________________________\n",
      "Train on 3180 samples, validate on 1363 samples\n",
      "Epoch 1/10\n",
      "3180/3180 [==============================] - 4s 1ms/step - loss: 2.0487 - val_loss: 1.6018\n",
      "Epoch 2/10\n",
      "3180/3180 [==============================] - 2s 547us/step - loss: 1.3990 - val_loss: 1.1465\n",
      "Epoch 3/10\n",
      "3180/3180 [==============================] - 2s 542us/step - loss: 0.9803 - val_loss: 0.8374\n",
      "Epoch 4/10\n",
      "3180/3180 [==============================] - 2s 544us/step - loss: 0.7902 - val_loss: 0.7269\n",
      "Epoch 5/10\n",
      "3180/3180 [==============================] - 2s 551us/step - loss: 0.7102 - val_loss: 0.6694\n",
      "Epoch 6/10\n",
      "3180/3180 [==============================] - 2s 575us/step - loss: 0.6625 - val_loss: 0.6331\n",
      "Epoch 7/10\n",
      "3180/3180 [==============================] - 2s 552us/step - loss: 0.6312 - val_loss: 0.6035\n",
      "Epoch 8/10\n",
      "3180/3180 [==============================] - 2s 554us/step - loss: 0.6030 - val_loss: 0.5791\n",
      "Epoch 9/10\n",
      "3180/3180 [==============================] - 2s 551us/step - loss: 0.5812 - val_loss: 0.5590\n",
      "Epoch 10/10\n",
      "3180/3180 [==============================] - 2s 553us/step - loss: 0.5619 - val_loss: 0.5409\n"
     ]
    },
    {
     "data": {
      "text/plain": [
       "<keras.callbacks.History at 0x7fe9d9f69be0>"
      ]
     },
     "execution_count": 32,
     "metadata": {},
     "output_type": "execute_result"
    }
   ],
   "source": [
    "from keras.models import Sequential\n",
    "from keras.layers import LSTM, Embedding, Dense, Dropout\n",
    "model = Sequential()\n",
    "model.add(Embedding(input_dim=n_lemmas, output_dim=EMBEDDING_DIM, input_length=34,trainable=False,\n",
    "                   weights = [embedding_matrix]))\n",
    "model.add(LSTM(units=100,return_sequences=True))\n",
    "model.add(Dropout(0.2))\n",
    "model.add(Dense(n_labels, activation='softmax'))\n",
    "model.summary()\n",
    "model.compile(loss='categorical_crossentropy', optimizer='adam')\n",
    "model.fit(X_train, y_train, validation_data=(X_test, y_test), epochs=10, batch_size=128)"
   ]
  },
  {
   "cell_type": "code",
   "execution_count": null,
   "metadata": {},
   "outputs": [],
   "source": []
  },
  {
   "cell_type": "code",
   "execution_count": 1,
   "metadata": {},
   "outputs": [
    {
     "name": "stderr",
     "output_type": "stream",
     "text": [
      "Using TensorFlow backend.\n"
     ]
    }
   ],
   "source": [
    "from keras.datasets import mnist\n",
    "import numpy as np\n",
    "(x_train, y_train), (x_test, y_test) = mnist.load_data()\n",
    "x_train = x_train[:,:,:,None] #add channels\n",
    "x_test = x_test[:,:,:,None]\n",
    "img_rows, img_cols,channel = x_train.shape[1:]\n",
    "original_img_size = (img_rows, img_cols,channel) # input image dimensions"
   ]
  },
  {
   "cell_type": "code",
   "execution_count": 2,
   "metadata": {},
   "outputs": [],
   "source": [
    "x_train = x_train.astype('float32') / 255. #and x_test\n",
    "x_test = x_test.astype('float32') / 255. #and x_test\n",
    "\n",
    "#...#Define here your validation set\n",
    "import keras\n",
    "Y_train = keras.utils.to_categorical(y_train, 10)\n",
    "Y_test = keras.utils.to_categorical(y_test, 10)"
   ]
  },
  {
   "cell_type": "code",
   "execution_count": 41,
   "metadata": {},
   "outputs": [
    {
     "data": {
      "text/plain": [
       "1.0"
      ]
     },
     "execution_count": 41,
     "metadata": {},
     "output_type": "execute_result"
    }
   ],
   "source": [
    "x_train.max()"
   ]
  },
  {
   "cell_type": "code",
   "execution_count": 69,
   "metadata": {
    "scrolled": true
   },
   "outputs": [
    {
     "name": "stdout",
     "output_type": "stream",
     "text": [
      "Train on 60000 samples, validate on 10000 samples\n",
      "Epoch 1/30\n",
      " 5216/60000 [=>............................] - ETA: 8s - loss: 0.2853"
     ]
    },
    {
     "ename": "KeyboardInterrupt",
     "evalue": "",
     "output_type": "error",
     "traceback": [
      "\u001b[0;31m---------------------------------------------------------------------------\u001b[0m",
      "\u001b[0;31mKeyboardInterrupt\u001b[0m                         Traceback (most recent call last)",
      "\u001b[0;32m<ipython-input-69-f4cbe56a4dbc>\u001b[0m in \u001b[0;36m<module>\u001b[0;34m()\u001b[0m\n\u001b[1;32m      9\u001b[0m \u001b[0mencoder\u001b[0m \u001b[0;34m=\u001b[0m \u001b[0mModel\u001b[0m\u001b[0;34m(\u001b[0m\u001b[0minputs\u001b[0m\u001b[0;34m=\u001b[0m\u001b[0minput_img\u001b[0m\u001b[0;34m,\u001b[0m \u001b[0moutputs\u001b[0m\u001b[0;34m=\u001b[0m\u001b[0mencoded\u001b[0m\u001b[0;34m)\u001b[0m\u001b[0;34m\u001b[0m\u001b[0m\n\u001b[1;32m     10\u001b[0m \u001b[0mautoencoder\u001b[0m\u001b[0;34m.\u001b[0m\u001b[0mcompile\u001b[0m\u001b[0;34m(\u001b[0m\u001b[0moptimizer\u001b[0m\u001b[0;34m=\u001b[0m\u001b[0;34m'rmsprop'\u001b[0m\u001b[0;34m,\u001b[0m \u001b[0mloss\u001b[0m\u001b[0;34m=\u001b[0m\u001b[0;34m'binary_crossentropy'\u001b[0m\u001b[0;34m)\u001b[0m\u001b[0;34m\u001b[0m\u001b[0m\n\u001b[0;32m---> 11\u001b[0;31m \u001b[0mautoencoder\u001b[0m\u001b[0;34m.\u001b[0m\u001b[0mfit\u001b[0m\u001b[0;34m(\u001b[0m\u001b[0mx_train\u001b[0m\u001b[0;34m,\u001b[0m\u001b[0mx_train\u001b[0m\u001b[0;34m,\u001b[0m\u001b[0mepochs\u001b[0m\u001b[0;34m=\u001b[0m\u001b[0;36m30\u001b[0m\u001b[0;34m,\u001b[0m\u001b[0mbatch_size\u001b[0m\u001b[0;34m=\u001b[0m\u001b[0;36m32\u001b[0m\u001b[0;34m,\u001b[0m\u001b[0mvalidation_data\u001b[0m\u001b[0;34m=\u001b[0m\u001b[0;34m(\u001b[0m\u001b[0mx_test\u001b[0m\u001b[0;34m,\u001b[0m\u001b[0mx_test\u001b[0m\u001b[0;34m)\u001b[0m\u001b[0;34m)\u001b[0m\u001b[0;34m\u001b[0m\u001b[0m\n\u001b[0m\u001b[1;32m     12\u001b[0m \u001b[0mautoencoder\u001b[0m\u001b[0;34m.\u001b[0m\u001b[0msave\u001b[0m\u001b[0;34m(\u001b[0m\u001b[0;34m'basic_autoencoder.h5'\u001b[0m\u001b[0;34m)\u001b[0m\u001b[0;34m\u001b[0m\u001b[0m\n",
      "\u001b[0;32m~/anaconda2/envs/py3/lib/python3.5/site-packages/keras/engine/training.py\u001b[0m in \u001b[0;36mfit\u001b[0;34m(self, x, y, batch_size, epochs, verbose, callbacks, validation_split, validation_data, shuffle, class_weight, sample_weight, initial_epoch, steps_per_epoch, validation_steps, **kwargs)\u001b[0m\n\u001b[1;32m   1040\u001b[0m                                         \u001b[0minitial_epoch\u001b[0m\u001b[0;34m=\u001b[0m\u001b[0minitial_epoch\u001b[0m\u001b[0;34m,\u001b[0m\u001b[0;34m\u001b[0m\u001b[0m\n\u001b[1;32m   1041\u001b[0m                                         \u001b[0msteps_per_epoch\u001b[0m\u001b[0;34m=\u001b[0m\u001b[0msteps_per_epoch\u001b[0m\u001b[0;34m,\u001b[0m\u001b[0;34m\u001b[0m\u001b[0m\n\u001b[0;32m-> 1042\u001b[0;31m                                         validation_steps=validation_steps)\n\u001b[0m\u001b[1;32m   1043\u001b[0m \u001b[0;34m\u001b[0m\u001b[0m\n\u001b[1;32m   1044\u001b[0m     def evaluate(self, x=None, y=None,\n",
      "\u001b[0;32m~/anaconda2/envs/py3/lib/python3.5/site-packages/keras/engine/training_arrays.py\u001b[0m in \u001b[0;36mfit_loop\u001b[0;34m(model, f, ins, out_labels, batch_size, epochs, verbose, callbacks, val_f, val_ins, shuffle, callback_metrics, initial_epoch, steps_per_epoch, validation_steps)\u001b[0m\n\u001b[1;32m    197\u001b[0m                     \u001b[0mins_batch\u001b[0m\u001b[0;34m[\u001b[0m\u001b[0mi\u001b[0m\u001b[0;34m]\u001b[0m \u001b[0;34m=\u001b[0m \u001b[0mins_batch\u001b[0m\u001b[0;34m[\u001b[0m\u001b[0mi\u001b[0m\u001b[0;34m]\u001b[0m\u001b[0;34m.\u001b[0m\u001b[0mtoarray\u001b[0m\u001b[0;34m(\u001b[0m\u001b[0;34m)\u001b[0m\u001b[0;34m\u001b[0m\u001b[0m\n\u001b[1;32m    198\u001b[0m \u001b[0;34m\u001b[0m\u001b[0m\n\u001b[0;32m--> 199\u001b[0;31m                 \u001b[0mouts\u001b[0m \u001b[0;34m=\u001b[0m \u001b[0mf\u001b[0m\u001b[0;34m(\u001b[0m\u001b[0mins_batch\u001b[0m\u001b[0;34m)\u001b[0m\u001b[0;34m\u001b[0m\u001b[0m\n\u001b[0m\u001b[1;32m    200\u001b[0m                 \u001b[0;32mif\u001b[0m \u001b[0;32mnot\u001b[0m \u001b[0misinstance\u001b[0m\u001b[0;34m(\u001b[0m\u001b[0mouts\u001b[0m\u001b[0;34m,\u001b[0m \u001b[0mlist\u001b[0m\u001b[0;34m)\u001b[0m\u001b[0;34m:\u001b[0m\u001b[0;34m\u001b[0m\u001b[0m\n\u001b[1;32m    201\u001b[0m                     \u001b[0mouts\u001b[0m \u001b[0;34m=\u001b[0m \u001b[0;34m[\u001b[0m\u001b[0mouts\u001b[0m\u001b[0;34m]\u001b[0m\u001b[0;34m\u001b[0m\u001b[0m\n",
      "\u001b[0;32m~/anaconda2/envs/py3/lib/python3.5/site-packages/keras/backend/tensorflow_backend.py\u001b[0m in \u001b[0;36m__call__\u001b[0;34m(self, inputs)\u001b[0m\n\u001b[1;32m   2659\u001b[0m                 \u001b[0;32mreturn\u001b[0m \u001b[0mself\u001b[0m\u001b[0;34m.\u001b[0m\u001b[0m_legacy_call\u001b[0m\u001b[0;34m(\u001b[0m\u001b[0minputs\u001b[0m\u001b[0;34m)\u001b[0m\u001b[0;34m\u001b[0m\u001b[0m\n\u001b[1;32m   2660\u001b[0m \u001b[0;34m\u001b[0m\u001b[0m\n\u001b[0;32m-> 2661\u001b[0;31m             \u001b[0;32mreturn\u001b[0m \u001b[0mself\u001b[0m\u001b[0;34m.\u001b[0m\u001b[0m_call\u001b[0m\u001b[0;34m(\u001b[0m\u001b[0minputs\u001b[0m\u001b[0;34m)\u001b[0m\u001b[0;34m\u001b[0m\u001b[0m\n\u001b[0m\u001b[1;32m   2662\u001b[0m         \u001b[0;32melse\u001b[0m\u001b[0;34m:\u001b[0m\u001b[0;34m\u001b[0m\u001b[0m\n\u001b[1;32m   2663\u001b[0m             \u001b[0;32mif\u001b[0m \u001b[0mpy_any\u001b[0m\u001b[0;34m(\u001b[0m\u001b[0mis_tensor\u001b[0m\u001b[0;34m(\u001b[0m\u001b[0mx\u001b[0m\u001b[0;34m)\u001b[0m \u001b[0;32mfor\u001b[0m \u001b[0mx\u001b[0m \u001b[0;32min\u001b[0m \u001b[0minputs\u001b[0m\u001b[0;34m)\u001b[0m\u001b[0;34m:\u001b[0m\u001b[0;34m\u001b[0m\u001b[0m\n",
      "\u001b[0;32m~/anaconda2/envs/py3/lib/python3.5/site-packages/keras/backend/tensorflow_backend.py\u001b[0m in \u001b[0;36m_call\u001b[0;34m(self, inputs)\u001b[0m\n\u001b[1;32m   2629\u001b[0m                                 \u001b[0msymbol_vals\u001b[0m\u001b[0;34m,\u001b[0m\u001b[0;34m\u001b[0m\u001b[0m\n\u001b[1;32m   2630\u001b[0m                                 session)\n\u001b[0;32m-> 2631\u001b[0;31m         \u001b[0mfetched\u001b[0m \u001b[0;34m=\u001b[0m \u001b[0mself\u001b[0m\u001b[0;34m.\u001b[0m\u001b[0m_callable_fn\u001b[0m\u001b[0;34m(\u001b[0m\u001b[0;34m*\u001b[0m\u001b[0marray_vals\u001b[0m\u001b[0;34m)\u001b[0m\u001b[0;34m\u001b[0m\u001b[0m\n\u001b[0m\u001b[1;32m   2632\u001b[0m         \u001b[0;32mreturn\u001b[0m \u001b[0mfetched\u001b[0m\u001b[0;34m[\u001b[0m\u001b[0;34m:\u001b[0m\u001b[0mlen\u001b[0m\u001b[0;34m(\u001b[0m\u001b[0mself\u001b[0m\u001b[0;34m.\u001b[0m\u001b[0moutputs\u001b[0m\u001b[0;34m)\u001b[0m\u001b[0;34m]\u001b[0m\u001b[0;34m\u001b[0m\u001b[0m\n\u001b[1;32m   2633\u001b[0m \u001b[0;34m\u001b[0m\u001b[0m\n",
      "\u001b[0;32m~/anaconda2/envs/py3/lib/python3.5/site-packages/tensorflow/python/client/session.py\u001b[0m in \u001b[0;36m__call__\u001b[0;34m(self, *args)\u001b[0m\n\u001b[1;32m   1449\u001b[0m         \u001b[0;32mif\u001b[0m \u001b[0mself\u001b[0m\u001b[0;34m.\u001b[0m\u001b[0m_session\u001b[0m\u001b[0;34m.\u001b[0m\u001b[0m_created_with_new_api\u001b[0m\u001b[0;34m:\u001b[0m\u001b[0;34m\u001b[0m\u001b[0m\n\u001b[1;32m   1450\u001b[0m           return tf_session.TF_SessionRunCallable(\n\u001b[0;32m-> 1451\u001b[0;31m               self._session._session, self._handle, args, status, None)\n\u001b[0m\u001b[1;32m   1452\u001b[0m         \u001b[0;32melse\u001b[0m\u001b[0;34m:\u001b[0m\u001b[0;34m\u001b[0m\u001b[0m\n\u001b[1;32m   1453\u001b[0m           return tf_session.TF_DeprecatedSessionRunCallable(\n",
      "\u001b[0;31mKeyboardInterrupt\u001b[0m: "
     ]
    }
   ],
   "source": [
    "from keras.layers import Input, Dense, Flatten,Reshape\n",
    "from keras.models import Model\n",
    "input_img = Input(shape=original_img_size)\n",
    "input_fl = Flatten()(input_img) #to get a vector representation\n",
    "encoded = Dense(32, activation='relu')(input_fl)\n",
    "decoded = Dense(np.prod(original_img_size), activation='sigmoid')(encoded)\n",
    "decoded = Reshape(original_img_size)(decoded)\n",
    "autoencoder = Model(inputs=input_img, outputs=decoded)\n",
    "encoder = Model(inputs=input_img, outputs=encoded)\n",
    "autoencoder.compile(optimizer='rmsprop', loss='binary_crossentropy')\n",
    "autoencoder.fit(x_train,x_train,epochs=30,batch_size=32,validation_data=(x_test,x_test))\n",
    "autoencoder.save('basic_autoencoder.h5')"
   ]
  },
  {
   "cell_type": "code",
   "execution_count": 68,
   "metadata": {
    "scrolled": true
   },
   "outputs": [
    {
     "name": "stdout",
     "output_type": "stream",
     "text": [
      "_________________________________________________________________\n",
      "Layer (type)                 Output Shape              Param #   \n",
      "=================================================================\n",
      "input_26 (InputLayer)        (None, 28, 28, 1)         0         \n",
      "_________________________________________________________________\n",
      "conv2d_29 (Conv2D)           (None, 28, 28, 16)        160       \n",
      "_________________________________________________________________\n",
      "max_pooling2d_19 (MaxPooling (None, 14, 14, 16)        0         \n",
      "_________________________________________________________________\n",
      "conv2d_30 (Conv2D)           (None, 14, 14, 32)        4640      \n",
      "_________________________________________________________________\n",
      "max_pooling2d_20 (MaxPooling (None, 7, 7, 32)          0         \n",
      "_________________________________________________________________\n",
      "flatten_20 (Flatten)         (None, 1568)              0         \n",
      "_________________________________________________________________\n",
      "dense_29 (Dense)             (None, 32)                50208     \n",
      "_________________________________________________________________\n",
      "dense_30 (Dense)             (None, 1568)              51744     \n",
      "_________________________________________________________________\n",
      "reshape_18 (Reshape)         (None, 7, 7, 32)          0         \n",
      "_________________________________________________________________\n",
      "conv2d_31 (Conv2D)           (None, 7, 7, 32)          9248      \n",
      "_________________________________________________________________\n",
      "up_sampling2d_5 (UpSampling2 (None, 14, 14, 32)        0         \n",
      "_________________________________________________________________\n",
      "conv2d_32 (Conv2D)           (None, 14, 14, 16)        4624      \n",
      "_________________________________________________________________\n",
      "up_sampling2d_6 (UpSampling2 (None, 28, 28, 16)        0         \n",
      "_________________________________________________________________\n",
      "conv2d_33 (Conv2D)           (None, 28, 28, 1)         145       \n",
      "=================================================================\n",
      "Total params: 120,769\n",
      "Trainable params: 120,769\n",
      "Non-trainable params: 0\n",
      "_________________________________________________________________\n",
      "Train on 60000 samples, validate on 10000 samples\n",
      "Epoch 1/30\n",
      " 4928/60000 [=>............................] - ETA: 1:17 - loss: 0.2702"
     ]
    },
    {
     "ename": "KeyboardInterrupt",
     "evalue": "",
     "output_type": "error",
     "traceback": [
      "\u001b[0;31m---------------------------------------------------------------------------\u001b[0m",
      "\u001b[0;31mKeyboardInterrupt\u001b[0m                         Traceback (most recent call last)",
      "\u001b[0;32m<ipython-input-68-05eb793e6b54>\u001b[0m in \u001b[0;36m<module>\u001b[0;34m()\u001b[0m\n\u001b[1;32m     18\u001b[0m \u001b[0mautoencoder\u001b[0m\u001b[0;34m.\u001b[0m\u001b[0mcompile\u001b[0m\u001b[0;34m(\u001b[0m\u001b[0moptimizer\u001b[0m\u001b[0;34m=\u001b[0m\u001b[0;34m'rmsprop'\u001b[0m\u001b[0;34m,\u001b[0m \u001b[0mloss\u001b[0m\u001b[0;34m=\u001b[0m\u001b[0;34m'binary_crossentropy'\u001b[0m\u001b[0;34m)\u001b[0m\u001b[0;34m\u001b[0m\u001b[0m\n\u001b[1;32m     19\u001b[0m \u001b[0mautoencoder\u001b[0m\u001b[0;34m.\u001b[0m\u001b[0msummary\u001b[0m\u001b[0;34m(\u001b[0m\u001b[0;34m)\u001b[0m\u001b[0;34m\u001b[0m\u001b[0m\n\u001b[0;32m---> 20\u001b[0;31m \u001b[0mautoencoder\u001b[0m\u001b[0;34m.\u001b[0m\u001b[0mfit\u001b[0m\u001b[0;34m(\u001b[0m\u001b[0mx_train\u001b[0m\u001b[0;34m,\u001b[0m\u001b[0mx_train\u001b[0m\u001b[0;34m,\u001b[0m\u001b[0mepochs\u001b[0m\u001b[0;34m=\u001b[0m\u001b[0;36m30\u001b[0m\u001b[0;34m,\u001b[0m\u001b[0mbatch_size\u001b[0m\u001b[0;34m=\u001b[0m\u001b[0;36m32\u001b[0m\u001b[0;34m,\u001b[0m\u001b[0mvalidation_data\u001b[0m\u001b[0;34m=\u001b[0m\u001b[0;34m(\u001b[0m\u001b[0mx_test\u001b[0m\u001b[0;34m,\u001b[0m\u001b[0mx_test\u001b[0m\u001b[0;34m)\u001b[0m\u001b[0;34m)\u001b[0m\u001b[0;34m\u001b[0m\u001b[0m\n\u001b[0m",
      "\u001b[0;32m~/anaconda2/envs/py3/lib/python3.5/site-packages/keras/engine/training.py\u001b[0m in \u001b[0;36mfit\u001b[0;34m(self, x, y, batch_size, epochs, verbose, callbacks, validation_split, validation_data, shuffle, class_weight, sample_weight, initial_epoch, steps_per_epoch, validation_steps, **kwargs)\u001b[0m\n\u001b[1;32m   1040\u001b[0m                                         \u001b[0minitial_epoch\u001b[0m\u001b[0;34m=\u001b[0m\u001b[0minitial_epoch\u001b[0m\u001b[0;34m,\u001b[0m\u001b[0;34m\u001b[0m\u001b[0m\n\u001b[1;32m   1041\u001b[0m                                         \u001b[0msteps_per_epoch\u001b[0m\u001b[0;34m=\u001b[0m\u001b[0msteps_per_epoch\u001b[0m\u001b[0;34m,\u001b[0m\u001b[0;34m\u001b[0m\u001b[0m\n\u001b[0;32m-> 1042\u001b[0;31m                                         validation_steps=validation_steps)\n\u001b[0m\u001b[1;32m   1043\u001b[0m \u001b[0;34m\u001b[0m\u001b[0m\n\u001b[1;32m   1044\u001b[0m     def evaluate(self, x=None, y=None,\n",
      "\u001b[0;32m~/anaconda2/envs/py3/lib/python3.5/site-packages/keras/engine/training_arrays.py\u001b[0m in \u001b[0;36mfit_loop\u001b[0;34m(model, f, ins, out_labels, batch_size, epochs, verbose, callbacks, val_f, val_ins, shuffle, callback_metrics, initial_epoch, steps_per_epoch, validation_steps)\u001b[0m\n\u001b[1;32m    197\u001b[0m                     \u001b[0mins_batch\u001b[0m\u001b[0;34m[\u001b[0m\u001b[0mi\u001b[0m\u001b[0;34m]\u001b[0m \u001b[0;34m=\u001b[0m \u001b[0mins_batch\u001b[0m\u001b[0;34m[\u001b[0m\u001b[0mi\u001b[0m\u001b[0;34m]\u001b[0m\u001b[0;34m.\u001b[0m\u001b[0mtoarray\u001b[0m\u001b[0;34m(\u001b[0m\u001b[0;34m)\u001b[0m\u001b[0;34m\u001b[0m\u001b[0m\n\u001b[1;32m    198\u001b[0m \u001b[0;34m\u001b[0m\u001b[0m\n\u001b[0;32m--> 199\u001b[0;31m                 \u001b[0mouts\u001b[0m \u001b[0;34m=\u001b[0m \u001b[0mf\u001b[0m\u001b[0;34m(\u001b[0m\u001b[0mins_batch\u001b[0m\u001b[0;34m)\u001b[0m\u001b[0;34m\u001b[0m\u001b[0m\n\u001b[0m\u001b[1;32m    200\u001b[0m                 \u001b[0;32mif\u001b[0m \u001b[0;32mnot\u001b[0m \u001b[0misinstance\u001b[0m\u001b[0;34m(\u001b[0m\u001b[0mouts\u001b[0m\u001b[0;34m,\u001b[0m \u001b[0mlist\u001b[0m\u001b[0;34m)\u001b[0m\u001b[0;34m:\u001b[0m\u001b[0;34m\u001b[0m\u001b[0m\n\u001b[1;32m    201\u001b[0m                     \u001b[0mouts\u001b[0m \u001b[0;34m=\u001b[0m \u001b[0;34m[\u001b[0m\u001b[0mouts\u001b[0m\u001b[0;34m]\u001b[0m\u001b[0;34m\u001b[0m\u001b[0m\n",
      "\u001b[0;32m~/anaconda2/envs/py3/lib/python3.5/site-packages/keras/backend/tensorflow_backend.py\u001b[0m in \u001b[0;36m__call__\u001b[0;34m(self, inputs)\u001b[0m\n\u001b[1;32m   2659\u001b[0m                 \u001b[0;32mreturn\u001b[0m \u001b[0mself\u001b[0m\u001b[0;34m.\u001b[0m\u001b[0m_legacy_call\u001b[0m\u001b[0;34m(\u001b[0m\u001b[0minputs\u001b[0m\u001b[0;34m)\u001b[0m\u001b[0;34m\u001b[0m\u001b[0m\n\u001b[1;32m   2660\u001b[0m \u001b[0;34m\u001b[0m\u001b[0m\n\u001b[0;32m-> 2661\u001b[0;31m             \u001b[0;32mreturn\u001b[0m \u001b[0mself\u001b[0m\u001b[0;34m.\u001b[0m\u001b[0m_call\u001b[0m\u001b[0;34m(\u001b[0m\u001b[0minputs\u001b[0m\u001b[0;34m)\u001b[0m\u001b[0;34m\u001b[0m\u001b[0m\n\u001b[0m\u001b[1;32m   2662\u001b[0m         \u001b[0;32melse\u001b[0m\u001b[0;34m:\u001b[0m\u001b[0;34m\u001b[0m\u001b[0m\n\u001b[1;32m   2663\u001b[0m             \u001b[0;32mif\u001b[0m \u001b[0mpy_any\u001b[0m\u001b[0;34m(\u001b[0m\u001b[0mis_tensor\u001b[0m\u001b[0;34m(\u001b[0m\u001b[0mx\u001b[0m\u001b[0;34m)\u001b[0m \u001b[0;32mfor\u001b[0m \u001b[0mx\u001b[0m \u001b[0;32min\u001b[0m \u001b[0minputs\u001b[0m\u001b[0;34m)\u001b[0m\u001b[0;34m:\u001b[0m\u001b[0;34m\u001b[0m\u001b[0m\n",
      "\u001b[0;32m~/anaconda2/envs/py3/lib/python3.5/site-packages/keras/backend/tensorflow_backend.py\u001b[0m in \u001b[0;36m_call\u001b[0;34m(self, inputs)\u001b[0m\n\u001b[1;32m   2629\u001b[0m                                 \u001b[0msymbol_vals\u001b[0m\u001b[0;34m,\u001b[0m\u001b[0;34m\u001b[0m\u001b[0m\n\u001b[1;32m   2630\u001b[0m                                 session)\n\u001b[0;32m-> 2631\u001b[0;31m         \u001b[0mfetched\u001b[0m \u001b[0;34m=\u001b[0m \u001b[0mself\u001b[0m\u001b[0;34m.\u001b[0m\u001b[0m_callable_fn\u001b[0m\u001b[0;34m(\u001b[0m\u001b[0;34m*\u001b[0m\u001b[0marray_vals\u001b[0m\u001b[0;34m)\u001b[0m\u001b[0;34m\u001b[0m\u001b[0m\n\u001b[0m\u001b[1;32m   2632\u001b[0m         \u001b[0;32mreturn\u001b[0m \u001b[0mfetched\u001b[0m\u001b[0;34m[\u001b[0m\u001b[0;34m:\u001b[0m\u001b[0mlen\u001b[0m\u001b[0;34m(\u001b[0m\u001b[0mself\u001b[0m\u001b[0;34m.\u001b[0m\u001b[0moutputs\u001b[0m\u001b[0;34m)\u001b[0m\u001b[0;34m]\u001b[0m\u001b[0;34m\u001b[0m\u001b[0m\n\u001b[1;32m   2633\u001b[0m \u001b[0;34m\u001b[0m\u001b[0m\n",
      "\u001b[0;32m~/anaconda2/envs/py3/lib/python3.5/site-packages/tensorflow/python/client/session.py\u001b[0m in \u001b[0;36m__call__\u001b[0;34m(self, *args)\u001b[0m\n\u001b[1;32m   1449\u001b[0m         \u001b[0;32mif\u001b[0m \u001b[0mself\u001b[0m\u001b[0;34m.\u001b[0m\u001b[0m_session\u001b[0m\u001b[0;34m.\u001b[0m\u001b[0m_created_with_new_api\u001b[0m\u001b[0;34m:\u001b[0m\u001b[0;34m\u001b[0m\u001b[0m\n\u001b[1;32m   1450\u001b[0m           return tf_session.TF_SessionRunCallable(\n\u001b[0;32m-> 1451\u001b[0;31m               self._session._session, self._handle, args, status, None)\n\u001b[0m\u001b[1;32m   1452\u001b[0m         \u001b[0;32melse\u001b[0m\u001b[0;34m:\u001b[0m\u001b[0;34m\u001b[0m\u001b[0m\n\u001b[1;32m   1453\u001b[0m           return tf_session.TF_DeprecatedSessionRunCallable(\n",
      "\u001b[0;31mKeyboardInterrupt\u001b[0m: "
     ]
    }
   ],
   "source": [
    "from keras.layers import Input,Conv2D,Flatten,Dense,MaxPooling2D, UpSampling2D\n",
    "input_img = Input(shape=original_img_size)\n",
    "x = Conv2D(16, (3, 3), activation='relu', padding='same')(input_img)\n",
    "x = MaxPooling2D((2, 2))(x)\n",
    "x = Conv2D(32, (3, 3), activation='relu', padding='same')(x)\n",
    "x = MaxPooling2D((2, 2))(x)\n",
    "before_F_shape =  (x.shape[1].value, x.shape[2].value, x.shape[3].value)\n",
    "x = Flatten()(x)\n",
    "encoded = Dense(32, activation='relu')(x)\n",
    "x = Dense(np.prod(before_F_shape),activation='relu')(encoded)\n",
    "x = Reshape(before_F_shape)(x)\n",
    "x = Conv2D(32, (3, 3), activation='relu', padding='same')(x)\n",
    "x = UpSampling2D((2, 2))(x)\n",
    "x = Conv2D(16, (3, 3), activation='relu', padding='same')(x)\n",
    "x = UpSampling2D((2, 2))(x)\n",
    "decoded = Conv2D(1, (3, 3), activation='sigmoid', padding='same')(x)\n",
    "autoencoder = Model(input_img, decoded)\n",
    "autoencoder.compile(optimizer='rmsprop', loss='binary_crossentropy')\n",
    "autoencoder.summary()\n",
    "autoencoder.fit(x_train,x_train,epochs=30,batch_size=32,validation_data=(x_test,x_test))\n"
   ]
  },
  {
   "cell_type": "code",
   "execution_count": 65,
   "metadata": {},
   "outputs": [
    {
     "data": {
      "text/plain": [
       "(7, 7, 32)"
      ]
     },
     "execution_count": 65,
     "metadata": {},
     "output_type": "execute_result"
    }
   ],
   "source": []
  },
  {
   "cell_type": "code",
   "execution_count": 26,
   "metadata": {},
   "outputs": [
    {
     "name": "stdout",
     "output_type": "stream",
     "text": [
      "_________________________________________________________________\n",
      "Layer (type)                 Output Shape              Param #   \n",
      "=================================================================\n",
      "input_8 (InputLayer)         (None, 28, 28, 1)         0         \n",
      "_________________________________________________________________\n",
      "flatten_7 (Flatten)          (None, 784)               0         \n",
      "_________________________________________________________________\n",
      "dense_13 (Dense)             (None, 32)                25120     \n",
      "_________________________________________________________________\n",
      "dense_14 (Dense)             (None, 784)               25872     \n",
      "_________________________________________________________________\n",
      "reshape_6 (Reshape)          (None, 28, 28, 1)         0         \n",
      "=================================================================\n",
      "Total params: 50,992\n",
      "Trainable params: 50,992\n",
      "Non-trainable params: 0\n",
      "_________________________________________________________________\n"
     ]
    }
   ],
   "source": [
    "autoencoder.summary()"
   ]
  },
  {
   "cell_type": "code",
   "execution_count": null,
   "metadata": {},
   "outputs": [],
   "source": [
    "??"
   ]
  },
  {
   "cell_type": "code",
   "execution_count": 45,
   "metadata": {},
   "outputs": [
    {
     "data": {
      "image/png": "[encoded data removed]",
      "text/plain": [
       "<matplotlib.figure.Figure at 0x7fa03ea0b7f0>"
      ]
     },
     "metadata": {},
     "output_type": "display_data"
    }
   ],
   "source": [
    "#encoded_test = encoder.predict(x_test)\n",
    "#decoded_test = decoder.predict(encoded_test)\n",
    "decoded_test = autoencoder.predict(x_test)\n",
    "import matplotlib.pyplot as plt\n",
    "n = 10\n",
    "plt.figure(figsize=(20, 4))\n",
    "for i in range(n):\n",
    "    ax = plt.subplot(2, n, i + 1)\n",
    "    plt.imshow(x_test[i].reshape(28, 28),cmap='gray')\n",
    "    ax.get_xaxis().set_visible(False)\n",
    "    ax.get_yaxis().set_visible(False)\n",
    "    ax = plt.subplot(2, n, i + 1 + n)\n",
    "    plt.imshow(decoded_test[i].reshape(28, 28),cmap='gray')\n",
    "    ax.get_xaxis().set_visible(False)\n",
    "    ax.get_yaxis().set_visible(False)\n",
    "plt.show()"
   ]
  },
  {
   "cell_type": "code",
   "execution_count": null,
   "metadata": {},
   "outputs": [],
   "source": []
  },
  {
   "cell_type": "code",
   "execution_count": 10,
   "metadata": {},
   "outputs": [],
   "source": [
    "from keras.layers import Input,Conv2D,Flatten,Dense,MaxPool2D\n",
    "from keras.models import Model\n",
    "filters = 32 # number of convolutional filters to use\n",
    "num_conv = 3 # convolution kernel size\n",
    "intermediate_dim = 128\n",
    "\n",
    "#cambia\n",
    "latent_dim = 10\n",
    "\n",
    "x = Input(shape=original_img_size)\n",
    "conv_1 = Conv2D(filters,kernel_size=num_conv,padding='same', activation='relu')(x)\n",
    "conv_2 = Conv2D(filters,kernel_size=num_conv,padding='same', activation='relu')(conv_1)\n",
    "conv_3 = Conv2D(filters*2, kernel_size=num_conv, padding='same', activation='relu', strides=2)(conv_2)\n",
    "flat = Flatten()(conv_3)\n",
    "hidden = Dense(intermediate_dim, activation='relu')(flat)\n",
    "\n",
    "#cambio..\n",
    "logits_z = Dense(latent_dim,activation='linear')(hidden) #log(p(z))\n",
    "encoder = Model(x, logits_z) # build a model to project inputs on the latent space\n"
   ]
  },
  {
   "cell_type": "code",
   "execution_count": 11,
   "metadata": {},
   "outputs": [],
   "source": [
    "import keras.backend as K\n",
    "from keras.layers import Reshape,Conv2DTranspose,Activation\n",
    "shape_before_flattening = K.int_shape(conv_3)[1:] # we instantiate these layers separately to reuse them later\n",
    "decoder_hid = Dense(intermediate_dim, activation='relu')\n",
    "decoder_upsample = Dense(np.prod(shape_before_flattening), activation='relu')\n",
    "decoder_reshape = Reshape(shape_before_flattening)\n",
    "decoder_deconv_1 = Conv2DTranspose(filters,kernel_size=num_conv, padding='same',strides=2,activation='relu')\n",
    "decoder_deconv_2 = Conv2DTranspose(filters,kernel_size=num_conv,padding='same', activation='relu')\n",
    "decoder_mean_squash = Conv2DTranspose(channel, kernel_size=num_conv,padding='same', activation='sigmoid')"
   ]
  },
  {
   "cell_type": "code",
   "execution_count": 14,
   "metadata": {
    "scrolled": true
   },
   "outputs": [
    {
     "name": "stdout",
     "output_type": "stream",
     "text": [
      "_________________________________________________________________\n",
      "Layer (type)                 Output Shape              Param #   \n",
      "=================================================================\n",
      "input_2 (InputLayer)         (None, 28, 28, 1)         0         \n",
      "_________________________________________________________________\n",
      "conv2d_4 (Conv2D)            (None, 28, 28, 32)        320       \n",
      "_________________________________________________________________\n",
      "conv2d_5 (Conv2D)            (None, 28, 28, 32)        9248      \n",
      "_________________________________________________________________\n",
      "conv2d_6 (Conv2D)            (None, 14, 14, 64)        18496     \n",
      "_________________________________________________________________\n",
      "flatten_2 (Flatten)          (None, 12544)             0         \n",
      "_________________________________________________________________\n",
      "dense_5 (Dense)              (None, 128)               1605760   \n",
      "_________________________________________________________________\n",
      "dense_6 (Dense)              (None, 10)                1290      \n",
      "_________________________________________________________________\n",
      "lambda_3 (Lambda)            (None, 10)                0         \n",
      "_________________________________________________________________\n",
      "dense_7 (Dense)              (None, 128)               1408      \n",
      "_________________________________________________________________\n",
      "dense_8 (Dense)              (None, 12544)             1618176   \n",
      "_________________________________________________________________\n",
      "reshape_2 (Reshape)          (None, 14, 14, 64)        0         \n",
      "_________________________________________________________________\n",
      "conv2d_transpose_4 (Conv2DTr (None, 28, 28, 32)        18464     \n",
      "_________________________________________________________________\n",
      "conv2d_transpose_5 (Conv2DTr (None, 28, 28, 32)        9248      \n",
      "_________________________________________________________________\n",
      "conv2d_transpose_6 (Conv2DTr (None, 28, 28, 1)         289       \n",
      "=================================================================\n",
      "Total params: 3,282,699\n",
      "Trainable params: 3,282,699\n",
      "Non-trainable params: 0\n",
      "_________________________________________________________________\n"
     ]
    }
   ],
   "source": [
    "def sample_gumbel(shape,eps=K.epsilon()):\n",
    "    \"\"\"Inverse Sample function from Gumbel(0, 1)\"\"\"\n",
    "    U = K.random_uniform(shape, 0, 1)\n",
    "    return - K.log( -K.log(U + eps) + eps)\n",
    "        \n",
    "def sampling(logits_z):\n",
    "    \"\"\" Perform a Gumbel-Softmax sampling\"\"\"\n",
    "    tau = K.variable(2/3, name=\"temperature\") \n",
    "    z = logits_z + sample_gumbel(K.shape(logits_z)) # logits + gumbel noise\n",
    "    return keras.activations.softmax( z/tau )    \n",
    "\n",
    "from keras.layers import Lambda\n",
    "z = Lambda(sampling, output_shape=(latent_dim,))(logits_z)\n",
    "#para arriba cambio...\n",
    "\n",
    "hid_decoded = decoder_hid(z)\n",
    "up_decoded = decoder_upsample(hid_decoded)\n",
    "reshape_decoded =  decoder_reshape(up_decoded)\n",
    "deconv_1_decoded = decoder_deconv_1(reshape_decoded)\n",
    "x_decoded_relu = decoder_deconv_2(deconv_1_decoded)\n",
    "x_decoded_mean_squash = decoder_mean_squash(x_decoded_relu)\n",
    "vae_norm = Model(x, x_decoded_mean_squash) # instantiate VAE model\n",
    "vae_norm.summary()\n",
    "\n"
   ]
  },
  {
   "cell_type": "code",
   "execution_count": 15,
   "metadata": {
    "scrolled": true
   },
   "outputs": [
    {
     "name": "stdout",
     "output_type": "stream",
     "text": [
      "_________________________________________________________________\n",
      "Layer (type)                 Output Shape              Param #   \n",
      "=================================================================\n",
      "input_2 (InputLayer)         (None, 28, 28, 1)         0         \n",
      "_________________________________________________________________\n",
      "conv2d_4 (Conv2D)            (None, 28, 28, 32)        320       \n",
      "_________________________________________________________________\n",
      "conv2d_5 (Conv2D)            (None, 28, 28, 32)        9248      \n",
      "_________________________________________________________________\n",
      "conv2d_6 (Conv2D)            (None, 14, 14, 64)        18496     \n",
      "_________________________________________________________________\n",
      "flatten_2 (Flatten)          (None, 12544)             0         \n",
      "_________________________________________________________________\n",
      "dense_5 (Dense)              (None, 128)               1605760   \n",
      "_________________________________________________________________\n",
      "dense_6 (Dense)              (None, 10)                1290      \n",
      "_________________________________________________________________\n",
      "lambda_3 (Lambda)            (None, 10)                0         \n",
      "_________________________________________________________________\n",
      "dense_7 (Dense)              (None, 128)               1408      \n",
      "_________________________________________________________________\n",
      "dense_8 (Dense)              (None, 12544)             1618176   \n",
      "_________________________________________________________________\n",
      "reshape_2 (Reshape)          (None, 14, 14, 64)        0         \n",
      "_________________________________________________________________\n",
      "conv2d_transpose_4 (Conv2DTr (None, 28, 28, 32)        18464     \n",
      "_________________________________________________________________\n",
      "conv2d_transpose_5 (Conv2DTr (None, 28, 28, 32)        9248      \n",
      "_________________________________________________________________\n",
      "conv2d_transpose_6 (Conv2DTr (None, 28, 28, 1)         289       \n",
      "=================================================================\n",
      "Total params: 3,282,699\n",
      "Trainable params: 3,282,699\n",
      "Non-trainable params: 0\n",
      "_________________________________________________________________\n"
     ]
    }
   ],
   "source": [
    "choised_loss =  keras.metrics.binary_crossentropy(K.flatten(x),K.flatten(x_decoded_mean_squash))\n",
    "reconstruction_loss = img_rows * img_cols * channel* choised_loss\n",
    "\n",
    "#KL cambia:\n",
    "dist =  keras.activations.softmax(logits_z) # =p(z)\n",
    "dist_neg_entropy = K.sum(dist * K.log(dist + K.epsilon()), axis=1)\n",
    "kl_disc_loss =  np.log(latent_dim) + dist_neg_entropy #discrete KL-loss\n",
    "vae_loss = K.mean(reconstruction_loss + kl_disc_loss)\n",
    "\n",
    "vae_norm.add_loss(vae_loss)\n",
    "vae_norm.summary()\n"
   ]
  },
  {
   "cell_type": "code",
   "execution_count": 153,
   "metadata": {
    "scrolled": true
   },
   "outputs": [
    {
     "name": "stderr",
     "output_type": "stream",
     "text": [
      "/home/casapanshop/anaconda2/envs/py3/lib/python3.5/site-packages/ipykernel/__main__.py:3: UserWarning: Output \"conv2d_transpose_6\" missing from loss dictionary. We assume this was done on purpose, and we will not be expecting any data to be passed to \"conv2d_transpose_6\" during training.\n",
      "  app.launch_new_instance()\n"
     ]
    },
    {
     "name": "stdout",
     "output_type": "stream",
     "text": [
      "Train on 60000 samples, validate on 10000 samples\n",
      "Epoch 1/25\n",
      "60000/60000 [==============================] - 18s 301us/step - loss: 138.1076 - val_loss: 138.6182\n",
      "Epoch 2/25\n",
      "60000/60000 [==============================] - 17s 280us/step - loss: 137.1350 - val_loss: 139.8848\n",
      "Epoch 3/25\n",
      "60000/60000 [==============================] - 17s 281us/step - loss: 136.3050 - val_loss: 135.7248\n",
      "Epoch 4/25\n",
      "60000/60000 [==============================] - 17s 280us/step - loss: 135.5400 - val_loss: 136.2309\n",
      "Epoch 5/25\n",
      "60000/60000 [==============================] - 17s 279us/step - loss: 134.9025 - val_loss: 134.9311\n",
      "Epoch 6/25\n",
      "60000/60000 [==============================] - 17s 279us/step - loss: 134.4601 - val_loss: 135.2788\n",
      "Epoch 7/25\n",
      "60000/60000 [==============================] - 17s 279us/step - loss: 133.7722 - val_loss: 133.9731\n",
      "Epoch 8/25\n",
      "60000/60000 [==============================] - 17s 282us/step - loss: 133.3055 - val_loss: 133.6667\n",
      "Epoch 9/25\n",
      "60000/60000 [==============================] - 17s 284us/step - loss: 132.7804 - val_loss: 133.1550\n",
      "Epoch 10/25\n",
      "60000/60000 [==============================] - 17s 286us/step - loss: 132.5055 - val_loss: 133.8186\n",
      "Epoch 11/25\n",
      "60000/60000 [==============================] - 17s 284us/step - loss: 132.0732 - val_loss: 132.5945\n",
      "Epoch 12/25\n",
      "60000/60000 [==============================] - 17s 278us/step - loss: 131.5256 - val_loss: 131.2716\n",
      "Epoch 13/25\n",
      "60000/60000 [==============================] - 17s 285us/step - loss: 131.3121 - val_loss: 130.8322\n",
      "Epoch 14/25\n",
      "60000/60000 [==============================] - 17s 279us/step - loss: 130.9246 - val_loss: 130.9984\n",
      "Epoch 15/25\n",
      "60000/60000 [==============================] - 17s 278us/step - loss: 130.4236 - val_loss: 130.8325\n",
      "Epoch 16/25\n",
      "60000/60000 [==============================] - 17s 278us/step - loss: 130.2755 - val_loss: 130.6602\n",
      "Epoch 17/25\n",
      "60000/60000 [==============================] - 16s 274us/step - loss: 129.9069 - val_loss: 131.0847\n",
      "Epoch 18/25\n",
      "60000/60000 [==============================] - 17s 279us/step - loss: 129.7133 - val_loss: 128.8709\n",
      "Epoch 19/25\n",
      "60000/60000 [==============================] - 17s 278us/step - loss: 129.4060 - val_loss: 130.3154\n",
      "Epoch 20/25\n",
      "60000/60000 [==============================] - 17s 276us/step - loss: 129.1874 - val_loss: 130.0773\n",
      "Epoch 21/25\n",
      "60000/60000 [==============================] - 16s 274us/step - loss: 129.0726 - val_loss: 129.4568\n",
      "Epoch 22/25\n",
      "60000/60000 [==============================] - 17s 275us/step - loss: 128.8686 - val_loss: 129.4143\n",
      "Epoch 23/25\n",
      "60000/60000 [==============================] - 17s 277us/step - loss: 128.3805 - val_loss: 128.0150\n",
      "Epoch 24/25\n",
      "60000/60000 [==============================] - 16s 274us/step - loss: 128.3933 - val_loss: 129.0224\n",
      "Epoch 25/25\n",
      "60000/60000 [==============================] - 17s 276us/step - loss: 128.0752 - val_loss: 127.7739\n"
     ]
    },
    {
     "data": {
      "text/plain": [
       "<keras.callbacks.History at 0x7fdf4b1e2128>"
      ]
     },
     "execution_count": 153,
     "metadata": {},
     "output_type": "execute_result"
    }
   ],
   "source": [
    "batch_size = 64\n",
    "epochs =  25\n",
    "vae_norm.compile(optimizer='rmsprop')\n",
    "vae_norm.fit(x_train,epochs=epochs, batch_size=batch_size,validation_data=(x_test, None))"
   ]
  },
  {
   "cell_type": "code",
   "execution_count": 154,
   "metadata": {},
   "outputs": [
    {
     "data": {
      "text/plain": [
       "array([[9.93214577e-09, 3.42115709e-05, 3.34711804e-05, ...,\n",
       "        9.18326557e-01, 7.88376778e-02, 1.22381802e-08],\n",
       "       [5.01510799e-02, 1.18385833e-04, 1.04509264e-01, ...,\n",
       "        2.30292767e-06, 2.50481698e-05, 2.21619487e-01],\n",
       "       [4.96984764e-09, 2.85342723e-01, 7.14640677e-01, ...,\n",
       "        8.22795391e-06, 9.44979983e-10, 4.77221238e-06],\n",
       "       ...,\n",
       "       [2.92682046e-07, 3.96850646e-01, 3.09091178e-03, ...,\n",
       "        4.07346815e-01, 6.24903696e-05, 1.12699415e-03],\n",
       "       [1.94816457e-05, 1.52378857e-06, 4.45192470e-08, ...,\n",
       "        6.37474470e-03, 8.71460512e-03, 2.05271999e-06],\n",
       "       [3.02969944e-04, 6.97063399e-07, 1.66004733e-03, ...,\n",
       "        5.49713430e-09, 4.10732959e-08, 1.04517244e-06]], dtype=float32)"
      ]
     },
     "execution_count": 154,
     "metadata": {},
     "output_type": "execute_result"
    }
   ],
   "source": [
    "def softmax(x):\n",
    "    \"\"\"Compute softmax values for each sets of scores in x.\"\"\"\n",
    "    e_x = np.exp(x - x.max(axis=-1,keepdims=True) )\n",
    "    return e_x / e_x.sum(axis=-1, keepdims=True)\n",
    "p_z_train = softmax(encoder.predict(x_train))\n",
    "p_z_test = softmax(encoder.predict(x_test))\n",
    "y_train_pred = p_z_train.argmax(axis=-1)\n",
    "y_test_pred = p_z_test.argmax(axis=-1)\n",
    "p_z_test"
   ]
  },
  {
   "cell_type": "code",
   "execution_count": 155,
   "metadata": {},
   "outputs": [
    {
     "name": "stdout",
     "output_type": "stream",
     "text": [
      "0.31587453023976225\n",
      "0.323335570035452\n"
     ]
    }
   ],
   "source": [
    "from sklearn.metrics import normalized_mutual_info_score\n",
    "print(normalized_mutual_info_score(y_train, y_train_pred))\n",
    "print(normalized_mutual_info_score(y_test, y_test_pred))\n"
   ]
  },
  {
   "cell_type": "code",
   "execution_count": null,
   "metadata": {},
   "outputs": [],
   "source": []
  },
  {
   "cell_type": "code",
   "execution_count": 156,
   "metadata": {},
   "outputs": [],
   "source": [
    "decoder_input = Input(shape=(latent_dim,))\n",
    "_hid_decoded = decoder_hid(decoder_input)\n",
    "_up_decoded = decoder_upsample(_hid_decoded)\n",
    "_reshape_decoded = decoder_reshape(_up_decoded)\n",
    "_deconv_1_decoded = decoder_deconv_1(_reshape_decoded)\n",
    "_x_decoded_relu = decoder_deconv_2(_deconv_1_decoded)\n",
    "_x_decoded_mean_squash = decoder_mean_squash(_x_decoded_relu)\n",
    "generator = Model(decoder_input, _x_decoded_mean_squash) "
   ]
  },
  {
   "cell_type": "code",
   "execution_count": 157,
   "metadata": {
    "scrolled": true
   },
   "outputs": [
    {
     "data": {
      "image/png": "[encoded data removed]",
      "text/plain": [
       "<Figure size 720x720 with 1 Axes>"
      ]
     },
     "metadata": {},
     "output_type": "display_data"
    }
   ],
   "source": [
    "predictions =np.zeros((img_cols * 1 ,img_cols* latent_dim))\n",
    "for i in range(latent_dim):\n",
    "    activate_aux = np.zeros((1,10))\n",
    "    activate_aux[:,i] = 1 #activate a class\n",
    "    predictions[:, i * img_cols: (i + 1) * img_cols] = np.squeeze(generator.predict(activate_aux))\n",
    "    \n",
    "import matplotlib.pyplot as plt\n",
    "plt.figure(figsize=(10, 10))\n",
    "plt.imshow(predictions, cmap='gnuplot2')\n",
    "pos = np.arange(img_cols/2, img_cols*latent_dim, img_cols)\n",
    "plt.xticks(pos,range(latent_dim))\n",
    "plt.show()"
   ]
  },
  {
   "cell_type": "code",
   "execution_count": null,
   "metadata": {},
   "outputs": [],
   "source": []
  },
  {
   "cell_type": "code",
   "execution_count": null,
   "metadata": {},
   "outputs": [],
   "source": []
  },
  {
   "cell_type": "code",
   "execution_count": 173,
   "metadata": {
    "scrolled": true
   },
   "outputs": [
    {
     "data": {
      "text/plain": [
       "(100, 80, 80, 3)"
      ]
     },
     "execution_count": 173,
     "metadata": {},
     "output_type": "execute_result"
    }
   ],
   "source": [
    "import numpy as np\n",
    "import os\n",
    "folder = \"/home/fmena/Desktop/ML_usm/Ayud_ANN/Tarea2/data/Semantic dataset100\"\n",
    "\n",
    "data = [archivo.split(\".\")[0] for archivo in os.listdir(folder+\"/image\")]\n",
    "\n",
    "from PIL import Image\n",
    "X_image = []\n",
    "for archivo in data:\n",
    "    I = Image.open(folder+\"/image/\"+archivo+\".jpg\")\n",
    "    I = np.asarray(I.resize( (80,80),Image.ANTIALIAS ))\n",
    "    X_image.append(I)\n",
    "X_image = np.asarray(X_image)\n",
    "X_image.shape"
   ]
  },
  {
   "cell_type": "code",
   "execution_count": 174,
   "metadata": {},
   "outputs": [
    {
     "data": {
      "text/plain": [
       "(100, 80, 80)"
      ]
     },
     "execution_count": 174,
     "metadata": {},
     "output_type": "execute_result"
    }
   ],
   "source": [
    "Y_image = []\n",
    "for archivo in data:\n",
    "    I = Image.open(folder+\"/ground-truth/\"+archivo+\".png\")\n",
    "    I = np.asarray(I.resize( (80,80),Image.ANTIALIAS ))\n",
    "    Y_image.append(I)\n",
    "Y_image = np.asarray(Y_image)\n",
    "Y_image.shape"
   ]
  },
  {
   "cell_type": "code",
   "execution_count": 71,
   "metadata": {},
   "outputs": [
    {
     "data": {
      "image/png": "[encoded data removed]",
      "text/plain": [
       "<Figure size 432x288 with 1 Axes>"
      ]
     },
     "metadata": {},
     "output_type": "display_data"
    }
   ],
   "source": [
    "import matplotlib.pyplot as plt\n",
    "plt.imshow(X_image[0])\n",
    "plt.show()"
   ]
  },
  {
   "cell_type": "code",
   "execution_count": 79,
   "metadata": {
    "scrolled": true
   },
   "outputs": [
    {
     "data": {
      "image/png": "[encoded data removed]",
      "text/plain": [
       "<Figure size 432x288 with 1 Axes>"
      ]
     },
     "metadata": {},
     "output_type": "display_data"
    }
   ],
   "source": [
    "plt.imshow(Y_image[0])\n",
    "plt.show()"
   ]
  },
  {
   "cell_type": "code",
   "execution_count": null,
   "metadata": {},
   "outputs": [],
   "source": []
  },
  {
   "cell_type": "code",
   "execution_count": 176,
   "metadata": {
    "scrolled": true
   },
   "outputs": [
    {
     "name": "stdout",
     "output_type": "stream",
     "text": [
      "_________________________________________________________________\n",
      "Layer (type)                 Output Shape              Param #   \n",
      "=================================================================\n",
      "conv2d_83 (Conv2D)           (None, 80, 80, 32)        896       \n",
      "_________________________________________________________________\n",
      "conv2d_84 (Conv2D)           (None, 80, 80, 32)        9248      \n",
      "_________________________________________________________________\n",
      "max_pooling2d_27 (MaxPooling (None, 40, 40, 32)        0         \n",
      "_________________________________________________________________\n",
      "conv2d_85 (Conv2D)           (None, 40, 40, 64)        18496     \n",
      "_________________________________________________________________\n",
      "conv2d_86 (Conv2D)           (None, 40, 40, 64)        36928     \n",
      "_________________________________________________________________\n",
      "max_pooling2d_28 (MaxPooling (None, 20, 20, 64)        0         \n",
      "_________________________________________________________________\n",
      "conv2d_87 (Conv2D)           (None, 20, 20, 128)       73856     \n",
      "_________________________________________________________________\n",
      "conv2d_88 (Conv2D)           (None, 20, 20, 128)       147584    \n",
      "_________________________________________________________________\n",
      "conv2d_transpose_55 (Conv2DT (None, 20, 20, 32)        36896     \n",
      "_________________________________________________________________\n",
      "conv2d_transpose_56 (Conv2DT (None, 20, 20, 32)        9248      \n",
      "_________________________________________________________________\n",
      "up_sampling2d_16 (UpSampling (None, 40, 40, 32)        0         \n",
      "_________________________________________________________________\n",
      "conv2d_transpose_57 (Conv2DT (None, 80, 80, 1)         289       \n",
      "=================================================================\n",
      "Total params: 333,441\n",
      "Trainable params: 333,441\n",
      "Non-trainable params: 0\n",
      "_________________________________________________________________\n"
     ]
    }
   ],
   "source": [
    "#https://arxiv.org/pdf/1511.00561v2.pdf \n",
    "\n",
    "from keras.models import Sequential\n",
    "from keras.layers import Conv2D,MaxPool2D, Conv2DTranspose, UpSampling2D, BatchNormalization\n",
    "\n",
    "model = Sequential()\n",
    "\n",
    "#ENCODER PART\n",
    "model.add(Conv2D(32, (3, 3), activation='relu', padding='same',input_shape=X_image.shape[1:]))\n",
    "#model.add(BatchNormalization())\n",
    "model.add(Conv2D(32, (3, 3), activation='relu', padding='same'))\n",
    "#model.add(BatchNormalization())\n",
    "model.add(MaxPool2D((2, 2)))\n",
    "\n",
    "model.add(Conv2D(64, (3, 3), activation='relu', padding='same'))\n",
    "#model.add(BatchNormalization())\n",
    "model.add(Conv2D(64, (3, 3), activation='relu', padding='same'))\n",
    "#model.add(BatchNormalization())\n",
    "model.add(MaxPool2D((2, 2)))\n",
    "\n",
    "model.add(Conv2D(128, (3, 3), activation='relu', padding='same'))\n",
    "#model.add(BatchNormalization())\n",
    "model.add(Conv2D(128, (3, 3), activation='relu', padding='same'))\n",
    "#model.add(BatchNormalization())\n",
    "#model.add(MaxPool2D((2, 2), strides=(2,2)))\n",
    "\n",
    "#DECODER PART\n",
    "#model.add(UpSampling2d((2, 2), strides=(2,2)))\n",
    "#model.add(Conv2DTranspose(256, (3, 3), activation='relu', padding='same'))\n",
    "#model.add(BatchNormalization())\n",
    "#model.add(Conv2DTranspose(256, (3, 3), activation='relu', padding='same'))\n",
    "#model.add(BatchNormalization())\n",
    "\n",
    "#model.add(UpSampling2D((2, 2)))\n",
    "\n",
    "#model.add(Conv2DTranspose(128, (3, 3), activation='relu', padding='same'))\n",
    "#model.add(BatchNormalization())\n",
    "#model.add(Conv2DTranspose(128, (3, 3), activation='relu', padding='same'))\n",
    "#model.add(BatchNormalization())\n",
    "\n",
    "#model.add(UpSampling2D((2, 2)))\n",
    "#model.add(Conv2DTranspose(64, (3, 3), activation='relu', padding='same'))\n",
    "#model.add(BatchNormalization())\n",
    "#model.add(Conv2DTranspose(64, (3, 3), activation='relu', padding='same'))\n",
    "#model.add(BatchNormalization())\n",
    "\n",
    "#model.add(UpSampling2D((2, 2)))\n",
    "model.add(Conv2DTranspose(32, (3, 3), activation='relu', padding='same'))\n",
    "#model.add(BatchNormalization())\n",
    "model.add(Conv2DTranspose(32, (3, 3), activation='relu', padding='same'))\n",
    "#model.add(BatchNormalization())\n",
    "model.add(UpSampling2D((2, 2)))\n",
    "\n",
    "#una que lleve a size original??\n",
    "model.add(Conv2DTranspose(1, (3, 3), strides=(2,2), activation='sigmoid', padding='same')) #pixel-wise classification\n",
    "\n",
    "model.summary()"
   ]
  },
  {
   "cell_type": "code",
   "execution_count": 178,
   "metadata": {},
   "outputs": [],
   "source": [
    "X_image = X_image/255.\n",
    "Y_image = Y_image/255.\n",
    "Y_image = Y_image[:,:,:,None]"
   ]
  },
  {
   "cell_type": "code",
   "execution_count": 179,
   "metadata": {
    "scrolled": true
   },
   "outputs": [
    {
     "name": "stdout",
     "output_type": "stream",
     "text": [
      "Epoch 1/100\n",
      "100/100 [==============================] - 4s 44ms/step - loss: 0.7068\n",
      "Epoch 2/100\n",
      "100/100 [==============================] - 0s 1ms/step - loss: 0.7599\n",
      "Epoch 3/100\n",
      "100/100 [==============================] - 0s 1ms/step - loss: 0.6708\n",
      "Epoch 4/100\n",
      "100/100 [==============================] - 0s 1ms/step - loss: 0.6360\n",
      "Epoch 5/100\n",
      "100/100 [==============================] - 0s 1ms/step - loss: 0.6479\n",
      "Epoch 6/100\n",
      "100/100 [==============================] - 0s 1ms/step - loss: 0.6578\n",
      "Epoch 7/100\n",
      "100/100 [==============================] - 0s 1ms/step - loss: 0.6457\n",
      "Epoch 8/100\n",
      "100/100 [==============================] - 0s 1ms/step - loss: 0.6123\n",
      "Epoch 9/100\n",
      "100/100 [==============================] - 0s 1ms/step - loss: 0.6435\n",
      "Epoch 10/100\n",
      "100/100 [==============================] - 0s 1ms/step - loss: 0.6361\n",
      "Epoch 11/100\n",
      "100/100 [==============================] - 0s 1ms/step - loss: 0.5993\n",
      "Epoch 12/100\n",
      "100/100 [==============================] - 0s 1ms/step - loss: 0.6154\n",
      "Epoch 13/100\n",
      "100/100 [==============================] - 0s 1ms/step - loss: 0.5851\n",
      "Epoch 14/100\n",
      "100/100 [==============================] - 0s 1ms/step - loss: 0.5833\n",
      "Epoch 15/100\n",
      "100/100 [==============================] - 0s 1ms/step - loss: 0.5692\n",
      "Epoch 16/100\n",
      "100/100 [==============================] - 0s 1ms/step - loss: 0.6085\n",
      "Epoch 17/100\n",
      "100/100 [==============================] - 0s 1ms/step - loss: 0.5772\n",
      "Epoch 18/100\n",
      "100/100 [==============================] - 0s 1ms/step - loss: 0.5783\n",
      "Epoch 19/100\n",
      "100/100 [==============================] - 0s 1ms/step - loss: 0.5619\n",
      "Epoch 20/100\n",
      "100/100 [==============================] - 0s 1ms/step - loss: 0.6245\n",
      "Epoch 21/100\n",
      "100/100 [==============================] - 0s 1ms/step - loss: 0.5627\n",
      "Epoch 22/100\n",
      "100/100 [==============================] - 0s 1ms/step - loss: 0.5624\n",
      "Epoch 23/100\n",
      "100/100 [==============================] - 0s 1ms/step - loss: 0.5382\n",
      "Epoch 24/100\n",
      "100/100 [==============================] - 0s 1ms/step - loss: 0.6104\n",
      "Epoch 25/100\n",
      "100/100 [==============================] - 0s 1ms/step - loss: 0.5431\n",
      "Epoch 26/100\n",
      "100/100 [==============================] - 0s 1ms/step - loss: 0.6388\n",
      "Epoch 27/100\n",
      "100/100 [==============================] - 0s 1ms/step - loss: 0.5375\n",
      "Epoch 28/100\n",
      "100/100 [==============================] - 0s 1ms/step - loss: 0.5327\n",
      "Epoch 29/100\n",
      "100/100 [==============================] - 0s 1ms/step - loss: 0.5702\n",
      "Epoch 30/100\n",
      "100/100 [==============================] - 0s 1ms/step - loss: 0.6082\n",
      "Epoch 31/100\n",
      "100/100 [==============================] - 0s 1ms/step - loss: 0.5351\n",
      "Epoch 32/100\n",
      "100/100 [==============================] - 0s 1ms/step - loss: 0.5606\n",
      "Epoch 33/100\n",
      "100/100 [==============================] - 0s 1ms/step - loss: 0.5526\n",
      "Epoch 34/100\n",
      "100/100 [==============================] - 0s 1ms/step - loss: 0.5211\n",
      "Epoch 35/100\n",
      "100/100 [==============================] - 0s 1ms/step - loss: 0.7166\n",
      "Epoch 36/100\n",
      "100/100 [==============================] - 0s 1ms/step - loss: 0.5360\n",
      "Epoch 37/100\n",
      "100/100 [==============================] - 0s 1ms/step - loss: 0.5300\n",
      "Epoch 38/100\n",
      "100/100 [==============================] - 0s 1ms/step - loss: 0.5262\n",
      "Epoch 39/100\n",
      "100/100 [==============================] - 0s 1ms/step - loss: 0.5114\n",
      "Epoch 40/100\n",
      "100/100 [==============================] - 0s 1ms/step - loss: 0.5591\n",
      "Epoch 41/100\n",
      "100/100 [==============================] - 0s 1ms/step - loss: 0.5156\n",
      "Epoch 42/100\n",
      "100/100 [==============================] - 0s 1ms/step - loss: 0.5185\n",
      "Epoch 43/100\n",
      "100/100 [==============================] - 0s 1ms/step - loss: 0.5443\n",
      "Epoch 44/100\n",
      "100/100 [==============================] - 0s 1ms/step - loss: 0.5065\n",
      "Epoch 45/100\n",
      "100/100 [==============================] - 0s 1ms/step - loss: 0.5076\n",
      "Epoch 46/100\n",
      "100/100 [==============================] - 0s 1ms/step - loss: 0.5801\n",
      "Epoch 47/100\n",
      "100/100 [==============================] - 0s 1ms/step - loss: 0.5115\n",
      "Epoch 48/100\n",
      "100/100 [==============================] - 0s 1ms/step - loss: 0.5066\n",
      "Epoch 49/100\n",
      "100/100 [==============================] - 0s 1ms/step - loss: 0.5498\n",
      "Epoch 50/100\n",
      "100/100 [==============================] - 0s 1ms/step - loss: 0.5038\n",
      "Epoch 51/100\n",
      "100/100 [==============================] - 0s 1ms/step - loss: 0.5152\n",
      "Epoch 52/100\n",
      "100/100 [==============================] - 0s 1ms/step - loss: 0.5242\n",
      "Epoch 53/100\n",
      "100/100 [==============================] - 0s 1ms/step - loss: 0.5040\n",
      "Epoch 54/100\n",
      "100/100 [==============================] - 0s 1ms/step - loss: 0.5174\n",
      "Epoch 55/100\n",
      "100/100 [==============================] - 0s 1ms/step - loss: 0.5010\n",
      "Epoch 56/100\n",
      "100/100 [==============================] - 0s 1ms/step - loss: 0.5234\n",
      "Epoch 57/100\n",
      "100/100 [==============================] - 0s 1ms/step - loss: 0.4956\n",
      "Epoch 58/100\n",
      "100/100 [==============================] - 0s 1ms/step - loss: 0.5018\n",
      "Epoch 59/100\n",
      "100/100 [==============================] - 0s 1ms/step - loss: 0.5102\n",
      "Epoch 60/100\n",
      "100/100 [==============================] - 0s 1ms/step - loss: 0.4925\n",
      "Epoch 61/100\n",
      "100/100 [==============================] - 0s 1ms/step - loss: 0.4860\n",
      "Epoch 62/100\n",
      "100/100 [==============================] - 0s 1ms/step - loss: 0.4971\n",
      "Epoch 63/100\n",
      "100/100 [==============================] - 0s 1ms/step - loss: 0.5529\n",
      "Epoch 64/100\n",
      "100/100 [==============================] - 0s 1ms/step - loss: 0.4865\n",
      "Epoch 65/100\n",
      "100/100 [==============================] - 0s 1ms/step - loss: 0.4886\n",
      "Epoch 66/100\n",
      "100/100 [==============================] - 0s 1ms/step - loss: 0.5143\n",
      "Epoch 67/100\n",
      "100/100 [==============================] - 0s 1ms/step - loss: 0.5114\n",
      "Epoch 68/100\n",
      "100/100 [==============================] - 0s 1ms/step - loss: 0.5015\n",
      "Epoch 69/100\n",
      "100/100 [==============================] - 0s 1ms/step - loss: 0.4963\n",
      "Epoch 70/100\n",
      "100/100 [==============================] - 0s 1ms/step - loss: 0.4692\n",
      "Epoch 71/100\n",
      "100/100 [==============================] - 0s 1ms/step - loss: 0.5161\n",
      "Epoch 72/100\n",
      "100/100 [==============================] - 0s 1ms/step - loss: 0.4696\n",
      "Epoch 73/100\n",
      "100/100 [==============================] - 0s 1ms/step - loss: 0.6907\n",
      "Epoch 74/100\n",
      "100/100 [==============================] - 0s 1ms/step - loss: 0.4910\n",
      "Epoch 75/100\n",
      "100/100 [==============================] - 0s 1ms/step - loss: 0.4783\n",
      "Epoch 76/100\n",
      "100/100 [==============================] - 0s 1ms/step - loss: 0.4986\n",
      "Epoch 77/100\n",
      "100/100 [==============================] - 0s 1ms/step - loss: 0.4752\n",
      "Epoch 78/100\n",
      "100/100 [==============================] - 0s 1ms/step - loss: 0.4735\n",
      "Epoch 79/100\n",
      "100/100 [==============================] - 0s 1ms/step - loss: 0.4826\n",
      "Epoch 80/100\n",
      "100/100 [==============================] - 0s 1ms/step - loss: 0.4719\n",
      "Epoch 81/100\n",
      "100/100 [==============================] - 0s 1ms/step - loss: 0.4689\n",
      "Epoch 82/100\n",
      "100/100 [==============================] - 0s 1ms/step - loss: 0.4691\n",
      "Epoch 83/100\n",
      "100/100 [==============================] - 0s 1ms/step - loss: 0.5609\n",
      "Epoch 84/100\n",
      "100/100 [==============================] - 0s 1ms/step - loss: 0.4963\n",
      "Epoch 85/100\n",
      "100/100 [==============================] - 0s 1ms/step - loss: 0.4643\n",
      "Epoch 86/100\n",
      "100/100 [==============================] - 0s 1ms/step - loss: 0.4615\n",
      "Epoch 87/100\n",
      "100/100 [==============================] - 0s 1ms/step - loss: 0.4804\n",
      "Epoch 88/100\n",
      "100/100 [==============================] - 0s 1ms/step - loss: 0.4628\n",
      "Epoch 89/100\n",
      "100/100 [==============================] - 0s 1ms/step - loss: 0.4689\n",
      "Epoch 90/100\n",
      "100/100 [==============================] - 0s 1ms/step - loss: 0.4689\n",
      "Epoch 91/100\n",
      "100/100 [==============================] - 0s 1ms/step - loss: 0.4840\n",
      "Epoch 92/100\n",
      "100/100 [==============================] - 0s 1ms/step - loss: 0.4686\n",
      "Epoch 93/100\n",
      "100/100 [==============================] - 0s 1ms/step - loss: 0.4744\n",
      "Epoch 94/100\n",
      "100/100 [==============================] - 0s 1ms/step - loss: 0.6470\n",
      "Epoch 95/100\n",
      "100/100 [==============================] - 0s 1ms/step - loss: 0.4896\n",
      "Epoch 96/100\n",
      "100/100 [==============================] - 0s 1ms/step - loss: 0.4627\n",
      "Epoch 97/100\n",
      "100/100 [==============================] - 0s 1ms/step - loss: 0.4593\n",
      "Epoch 98/100\n",
      "100/100 [==============================] - 0s 1ms/step - loss: 0.4568\n",
      "Epoch 99/100\n",
      "100/100 [==============================] - 0s 1ms/step - loss: 0.4441\n",
      "Epoch 100/100\n",
      "100/100 [==============================] - 0s 1ms/step - loss: 0.4429\n"
     ]
    },
    {
     "data": {
      "text/plain": [
       "<keras.callbacks.History at 0x7f9461a5c320>"
      ]
     },
     "execution_count": 179,
     "metadata": {},
     "output_type": "execute_result"
    }
   ],
   "source": [
    "model.compile(loss='binary_crossentropy',optimizer='rmsprop')\n",
    "model.fit(X_image,Y_image,epochs=100,batch_size=32)"
   ]
  },
  {
   "cell_type": "code",
   "execution_count": null,
   "metadata": {},
   "outputs": [],
   "source": []
  },
  {
   "cell_type": "code",
   "execution_count": 180,
   "metadata": {
    "scrolled": true
   },
   "outputs": [
    {
     "data": {
      "text/plain": [
       "array([[[0.05108603, 0.0462476 , 0.03700586, ..., 0.09741623,\n",
       "         0.08527576, 0.09741623],\n",
       "        [0.05603036, 0.0394941 , 0.0201833 , ..., 0.0763008 ,\n",
       "         0.05944319, 0.0763008 ],\n",
       "        [0.03904895, 0.02138425, 0.02411032, ..., 0.05314611,\n",
       "         0.05611108, 0.05314611],\n",
       "        ...,\n",
       "        [0.31772795, 0.26154277, 0.24046957, ..., 0.29150397,\n",
       "         0.2885826 , 0.29150397],\n",
       "        [0.2984385 , 0.25497612, 0.24359964, ..., 0.28677422,\n",
       "         0.29162857, 0.28677422],\n",
       "        [0.31772795, 0.26154277, 0.24046957, ..., 0.29150397,\n",
       "         0.2885826 , 0.29150397]],\n",
       "\n",
       "       [[0.14945522, 0.1427985 , 0.12788102, ..., 0.24193178,\n",
       "         0.22179037, 0.24193178],\n",
       "        [0.16169529, 0.13173865, 0.0980425 , ..., 0.20985115,\n",
       "         0.19496804, 0.20985115],\n",
       "        [0.12947047, 0.09477232, 0.10107353, ..., 0.18168516,\n",
       "         0.1732395 , 0.18168516],\n",
       "        ...,\n",
       "        [0.3375127 , 0.2839663 , 0.26879236, ..., 0.17884172,\n",
       "         0.1779175 , 0.17884172],\n",
       "        [0.3227046 , 0.27751726, 0.27399305, ..., 0.18293075,\n",
       "         0.17526577, 0.18293075],\n",
       "        [0.3375127 , 0.2839663 , 0.26879236, ..., 0.17884172,\n",
       "         0.1779175 , 0.17884172]],\n",
       "\n",
       "       [[0.0329822 , 0.02757109, 0.02155603, ..., 0.13966723,\n",
       "         0.11734009, 0.13966723],\n",
       "        [0.03806639, 0.02426209, 0.01064502, ..., 0.10736057,\n",
       "         0.09060071, 0.10736057],\n",
       "        [0.02249195, 0.0111085 , 0.01206922, ..., 0.07947832,\n",
       "         0.07679649, 0.07947832],\n",
       "        ...,\n",
       "        [0.3576009 , 0.31355754, 0.3015868 , ..., 0.26070094,\n",
       "         0.26019052, 0.26070094],\n",
       "        [0.3381422 , 0.30950546, 0.2956978 , ..., 0.2566809 ,\n",
       "         0.25779954, 0.2566809 ],\n",
       "        [0.3576009 , 0.31355754, 0.3015868 , ..., 0.26070094,\n",
       "         0.26019052, 0.26070094]],\n",
       "\n",
       "       ...,\n",
       "\n",
       "       [[0.00718243, 0.00515769, 0.00395822, ..., 0.06142291,\n",
       "         0.05253828, 0.06142291],\n",
       "        [0.0083764 , 0.00407222, 0.0009378 , ..., 0.04810044,\n",
       "         0.03771747, 0.04810044],\n",
       "        [0.00439214, 0.0013941 , 0.00177305, ..., 0.02991042,\n",
       "         0.02987919, 0.02991042],\n",
       "        ...,\n",
       "        [0.24849121, 0.181779  , 0.17199954, ..., 0.41834483,\n",
       "         0.415336  , 0.41834483],\n",
       "        [0.21307756, 0.16613522, 0.15548241, ..., 0.4132882 ,\n",
       "         0.410911  , 0.4132882 ],\n",
       "        [0.24849121, 0.181779  , 0.17199954, ..., 0.41834483,\n",
       "         0.415336  , 0.41834483]],\n",
       "\n",
       "       [[0.17980461, 0.17699932, 0.15647623, ..., 0.04095025,\n",
       "         0.03355888, 0.04095025],\n",
       "        [0.1803926 , 0.15939322, 0.11205983, ..., 0.0280542 ,\n",
       "         0.0196666 , 0.0280542 ],\n",
       "        [0.16386755, 0.12713477, 0.12798136, ..., 0.01632452,\n",
       "         0.01634997, 0.01632452],\n",
       "        ...,\n",
       "        [0.18203704, 0.11232549, 0.10190567, ..., 0.33667535,\n",
       "         0.3334778 , 0.33667535],\n",
       "        [0.15127805, 0.10451833, 0.0898176 , ..., 0.32950428,\n",
       "         0.3312331 , 0.32950428],\n",
       "        [0.18203704, 0.11232549, 0.10190567, ..., 0.33667535,\n",
       "         0.3334778 , 0.33667535]],\n",
       "\n",
       "       [[0.0412198 , 0.03657138, 0.0277236 , ..., 0.14657173,\n",
       "         0.13184448, 0.14657173],\n",
       "        [0.04891603, 0.03014864, 0.01427069, ..., 0.12394441,\n",
       "         0.11331488, 0.12394441],\n",
       "        [0.03101322, 0.01536248, 0.01715288, ..., 0.09168228,\n",
       "         0.09600883, 0.09168228],\n",
       "        ...,\n",
       "        [0.22875062, 0.15315142, 0.13569653, ..., 0.22239387,\n",
       "         0.21971199, 0.22239387],\n",
       "        [0.19298467, 0.1496239 , 0.12536475, ..., 0.22136159,\n",
       "         0.21733834, 0.22136159],\n",
       "        [0.22875062, 0.15315142, 0.13569653, ..., 0.22239387,\n",
       "         0.21971199, 0.22239387]]], dtype=float32)"
      ]
     },
     "execution_count": 180,
     "metadata": {},
     "output_type": "execute_result"
    }
   ],
   "source": [
    "Y_hat = np.squeeze( model.predict(X_image))\n",
    "Y_hat"
   ]
  },
  {
   "cell_type": "code",
   "execution_count": 188,
   "metadata": {},
   "outputs": [],
   "source": [
    "n_s = 1"
   ]
  },
  {
   "cell_type": "code",
   "execution_count": 189,
   "metadata": {},
   "outputs": [
    {
     "data": {
      "image/png": "[encoded data removed]",
      "text/plain": [
       "<Figure size 432x288 with 1 Axes>"
      ]
     },
     "metadata": {},
     "output_type": "display_data"
    }
   ],
   "source": [
    "import matplotlib.pyplot as plt\n",
    "plt.imshow(X_image[n_s],cmap='gray')\n",
    "plt.show()"
   ]
  },
  {
   "cell_type": "code",
   "execution_count": 190,
   "metadata": {
    "scrolled": true
   },
   "outputs": [
    {
     "data": {
      "image/png": "[encoded data removed]",
      "text/plain": [
       "<Figure size 432x288 with 1 Axes>"
      ]
     },
     "metadata": {},
     "output_type": "display_data"
    }
   ],
   "source": [
    "import matplotlib.pyplot as plt\n",
    "plt.imshow(Y_hat[n_s],cmap='gray')\n",
    "plt.show()"
   ]
  },
  {
   "cell_type": "code",
   "execution_count": 184,
   "metadata": {},
   "outputs": [
    {
     "data": {
      "image/png": "[encoded data removed]",
      "text/plain": [
       "<Figure size 432x288 with 1 Axes>"
      ]
     },
     "metadata": {},
     "output_type": "display_data"
    }
   ],
   "source": [
    "plt.imshow(np.squeeze(Y_image[n_s]),cmap='gray')\n",
    "plt.show()"
   ]
  },
  {
   "cell_type": "code",
   "execution_count": null,
   "metadata": {},
   "outputs": [],
   "source": []
  },
  {
   "cell_type": "code",
   "execution_count": 151,
   "metadata": {
    "scrolled": true
   },
   "outputs": [
    {
     "name": "stdout",
     "output_type": "stream",
     "text": [
      "Train on 100 samples, validate on 100 samples\n",
      "Epoch 1/1\n",
      "100/100 [==============================] - 2s 18ms/step - loss: 0.5971 - acc: 0.5802 - val_loss: 0.5624 - val_acc: 0.5890\n",
      "Train on 100 samples, validate on 100 samples\n",
      "Epoch 1/1\n",
      "100/100 [==============================] - 0s 4ms/step - loss: 0.6110 - acc: 0.5741 - val_loss: 0.5524 - val_acc: 0.5895\n",
      "Train on 100 samples, validate on 100 samples\n",
      "Epoch 1/1\n",
      "100/100 [==============================] - 0s 4ms/step - loss: 0.5428 - acc: 0.6044 - val_loss: 0.5863 - val_acc: 0.5763\n",
      "Train on 100 samples, validate on 100 samples\n",
      "Epoch 1/1\n",
      "100/100 [==============================] - 0s 4ms/step - loss: 0.5561 - acc: 0.5964 - val_loss: 0.5619 - val_acc: 0.5951\n",
      "Train on 100 samples, validate on 100 samples\n",
      "Epoch 1/1\n",
      "100/100 [==============================] - 0s 4ms/step - loss: 0.5562 - acc: 0.5957 - val_loss: 0.6098 - val_acc: 0.5650\n",
      "Train on 100 samples, validate on 100 samples\n",
      "Epoch 1/1\n",
      "100/100 [==============================] - 0s 4ms/step - loss: 0.5218 - acc: 0.6128 - val_loss: 0.5435 - val_acc: 0.6057\n",
      "Train on 100 samples, validate on 100 samples\n",
      "Epoch 1/1\n",
      "100/100 [==============================] - 0s 4ms/step - loss: 0.5236 - acc: 0.6095 - val_loss: 0.5649 - val_acc: 0.6037\n",
      "Train on 100 samples, validate on 100 samples\n",
      "Epoch 1/1\n",
      "100/100 [==============================] - 0s 4ms/step - loss: 0.5465 - acc: 0.6008 - val_loss: 0.6564 - val_acc: 0.5702\n",
      "Train on 100 samples, validate on 100 samples\n",
      "Epoch 1/1\n",
      "100/100 [==============================] - 0s 4ms/step - loss: 0.5601 - acc: 0.5953 - val_loss: 0.6703 - val_acc: 0.5716\n",
      "Train on 100 samples, validate on 100 samples\n",
      "Epoch 1/1\n",
      "100/100 [==============================] - 0s 4ms/step - loss: 0.5593 - acc: 0.5960 - val_loss: 0.6087 - val_acc: 0.5810\n",
      "Train on 100 samples, validate on 100 samples\n",
      "Epoch 1/1\n",
      "100/100 [==============================] - 0s 4ms/step - loss: 0.5563 - acc: 0.5959 - val_loss: 0.6409 - val_acc: 0.5867\n",
      "Train on 100 samples, validate on 100 samples\n",
      "Epoch 1/1\n",
      "100/100 [==============================] - 0s 4ms/step - loss: 0.5515 - acc: 0.5950 - val_loss: 0.6115 - val_acc: 0.5809\n",
      "Train on 100 samples, validate on 100 samples\n",
      "Epoch 1/1\n",
      "100/100 [==============================] - 0s 4ms/step - loss: 0.5175 - acc: 0.6149 - val_loss: 0.6105 - val_acc: 0.5651\n",
      "Train on 100 samples, validate on 100 samples\n",
      "Epoch 1/1\n",
      "100/100 [==============================] - 0s 4ms/step - loss: 0.5377 - acc: 0.6015 - val_loss: 0.6529 - val_acc: 0.5653\n",
      "Train on 100 samples, validate on 100 samples\n",
      "Epoch 1/1\n",
      "100/100 [==============================] - 0s 4ms/step - loss: 0.5405 - acc: 0.5984 - val_loss: 0.7225 - val_acc: 0.5608\n",
      "Train on 100 samples, validate on 100 samples\n",
      "Epoch 1/1\n",
      "100/100 [==============================] - 0s 4ms/step - loss: 0.5400 - acc: 0.6048 - val_loss: 0.5361 - val_acc: 0.6040\n",
      "Train on 100 samples, validate on 100 samples\n",
      "Epoch 1/1\n",
      "100/100 [==============================] - 0s 4ms/step - loss: 0.5358 - acc: 0.6030 - val_loss: 0.5358 - val_acc: 0.5997\n",
      "Train on 100 samples, validate on 100 samples\n",
      "Epoch 1/1\n",
      "100/100 [==============================] - 0s 4ms/step - loss: 0.5143 - acc: 0.6159 - val_loss: 0.5807 - val_acc: 0.5841\n",
      "Train on 100 samples, validate on 100 samples\n",
      "Epoch 1/1\n",
      "100/100 [==============================] - 0s 4ms/step - loss: 0.5456 - acc: 0.6010 - val_loss: 0.5914 - val_acc: 0.5912\n",
      "Train on 100 samples, validate on 100 samples\n",
      "Epoch 1/1\n",
      "100/100 [==============================] - 0s 4ms/step - loss: 0.5172 - acc: 0.6124 - val_loss: 0.5928 - val_acc: 0.5805\n",
      "Train on 100 samples, validate on 100 samples\n",
      "Epoch 1/1\n",
      "100/100 [==============================] - 0s 4ms/step - loss: 0.5484 - acc: 0.5976 - val_loss: 0.5899 - val_acc: 0.5798\n",
      "Train on 100 samples, validate on 100 samples\n",
      "Epoch 1/1\n",
      "100/100 [==============================] - 0s 4ms/step - loss: 0.5217 - acc: 0.6115 - val_loss: 0.5371 - val_acc: 0.6030\n",
      "Train on 100 samples, validate on 100 samples\n",
      "Epoch 1/1\n",
      "100/100 [==============================] - 0s 4ms/step - loss: 0.5468 - acc: 0.5989 - val_loss: 0.5936 - val_acc: 0.5784\n",
      "Train on 100 samples, validate on 100 samples\n",
      "Epoch 1/1\n",
      "100/100 [==============================] - 0s 4ms/step - loss: 0.5116 - acc: 0.6150 - val_loss: 0.5251 - val_acc: 0.6091\n",
      "Train on 100 samples, validate on 100 samples\n",
      "Epoch 1/1\n",
      "100/100 [==============================] - 0s 4ms/step - loss: 0.5226 - acc: 0.6097 - val_loss: 0.5148 - val_acc: 0.6121\n",
      "Train on 100 samples, validate on 100 samples\n",
      "Epoch 1/1\n",
      "100/100 [==============================] - 0s 4ms/step - loss: 0.5044 - acc: 0.6201 - val_loss: 0.5976 - val_acc: 0.5956\n",
      "Train on 100 samples, validate on 100 samples\n",
      "Epoch 1/1\n",
      "100/100 [==============================] - 0s 4ms/step - loss: 0.5159 - acc: 0.6145 - val_loss: 0.5545 - val_acc: 0.6017\n",
      "Train on 100 samples, validate on 100 samples\n",
      "Epoch 1/1\n",
      "100/100 [==============================] - 0s 4ms/step - loss: 0.5501 - acc: 0.5953 - val_loss: 0.6252 - val_acc: 0.5822\n",
      "Train on 100 samples, validate on 100 samples\n",
      "Epoch 1/1\n",
      "100/100 [==============================] - 0s 4ms/step - loss: 0.5197 - acc: 0.6087 - val_loss: 0.5947 - val_acc: 0.5889\n",
      "Train on 100 samples, validate on 100 samples\n",
      "Epoch 1/1\n",
      "100/100 [==============================] - 0s 4ms/step - loss: 0.4975 - acc: 0.6217 - val_loss: 0.5807 - val_acc: 0.5984\n",
      "Train on 100 samples, validate on 100 samples\n",
      "Epoch 1/1\n",
      "100/100 [==============================] - 0s 4ms/step - loss: 0.5100 - acc: 0.6133 - val_loss: 0.6461 - val_acc: 0.5939\n",
      "Train on 100 samples, validate on 100 samples\n",
      "Epoch 1/1\n",
      "100/100 [==============================] - 0s 4ms/step - loss: 0.5166 - acc: 0.6115 - val_loss: 0.6548 - val_acc: 0.5933\n",
      "Train on 100 samples, validate on 100 samples\n",
      "Epoch 1/1\n",
      "100/100 [==============================] - 0s 4ms/step - loss: 0.5075 - acc: 0.6140 - val_loss: 0.7148 - val_acc: 0.5397\n",
      "Train on 100 samples, validate on 100 samples\n",
      "Epoch 1/1\n",
      "100/100 [==============================] - 0s 4ms/step - loss: 0.5411 - acc: 0.6010 - val_loss: 0.5815 - val_acc: 0.5817\n",
      "Train on 100 samples, validate on 100 samples\n",
      "Epoch 1/1\n",
      "100/100 [==============================] - 0s 4ms/step - loss: 0.5015 - acc: 0.6187 - val_loss: 0.5914 - val_acc: 0.5657\n",
      "Train on 100 samples, validate on 100 samples\n",
      "Epoch 1/1\n",
      "100/100 [==============================] - 0s 4ms/step - loss: 0.5298 - acc: 0.6035 - val_loss: 0.5271 - val_acc: 0.6066\n",
      "Train on 100 samples, validate on 100 samples\n",
      "Epoch 1/1\n",
      "100/100 [==============================] - 0s 4ms/step - loss: 0.5398 - acc: 0.6007 - val_loss: 0.5556 - val_acc: 0.5948\n",
      "Train on 100 samples, validate on 100 samples\n",
      "Epoch 1/1\n",
      "100/100 [==============================] - 0s 4ms/step - loss: 0.5156 - acc: 0.6129 - val_loss: 0.5476 - val_acc: 0.6002\n",
      "Train on 100 samples, validate on 100 samples\n",
      "Epoch 1/1\n",
      "100/100 [==============================] - 0s 4ms/step - loss: 0.4975 - acc: 0.6223 - val_loss: 0.5316 - val_acc: 0.6054\n",
      "Train on 100 samples, validate on 100 samples\n",
      "Epoch 1/1\n",
      "100/100 [==============================] - 0s 4ms/step - loss: 0.4994 - acc: 0.6187 - val_loss: 0.5548 - val_acc: 0.5978\n",
      "Train on 100 samples, validate on 100 samples\n",
      "Epoch 1/1\n",
      "100/100 [==============================] - 0s 4ms/step - loss: 0.5002 - acc: 0.6172 - val_loss: 0.6327 - val_acc: 0.5760\n",
      "Train on 100 samples, validate on 100 samples\n",
      "Epoch 1/1\n",
      "100/100 [==============================] - 0s 4ms/step - loss: 0.5439 - acc: 0.5951 - val_loss: 0.5769 - val_acc: 0.5891\n",
      "Train on 100 samples, validate on 100 samples\n",
      "Epoch 1/1\n",
      "100/100 [==============================] - 0s 4ms/step - loss: 0.4877 - acc: 0.6251 - val_loss: 0.6297 - val_acc: 0.5889\n",
      "Train on 100 samples, validate on 100 samples\n",
      "Epoch 1/1\n",
      "100/100 [==============================] - 0s 4ms/step - loss: 0.5274 - acc: 0.6071 - val_loss: 0.6283 - val_acc: 0.5698\n",
      "Train on 100 samples, validate on 100 samples\n",
      "Epoch 1/1\n",
      "100/100 [==============================] - 0s 4ms/step - loss: 0.5051 - acc: 0.6158 - val_loss: 0.5643 - val_acc: 0.5951\n",
      "Train on 100 samples, validate on 100 samples\n",
      "Epoch 1/1\n",
      "100/100 [==============================] - 0s 4ms/step - loss: 0.5354 - acc: 0.6000 - val_loss: 0.7002 - val_acc: 0.5644\n",
      "Train on 100 samples, validate on 100 samples\n",
      "Epoch 1/1\n"
     ]
    },
    {
     "name": "stdout",
     "output_type": "stream",
     "text": [
      "100/100 [==============================] - 0s 4ms/step - loss: 0.5030 - acc: 0.6196 - val_loss: 0.5780 - val_acc: 0.5889\n",
      "Train on 100 samples, validate on 100 samples\n",
      "Epoch 1/1\n",
      "100/100 [==============================] - 0s 4ms/step - loss: 0.4985 - acc: 0.6205 - val_loss: 0.6456 - val_acc: 0.5712\n",
      "Train on 100 samples, validate on 100 samples\n",
      "Epoch 1/1\n",
      "100/100 [==============================] - 0s 4ms/step - loss: 0.5116 - acc: 0.6104 - val_loss: 0.5714 - val_acc: 0.5952\n",
      "Train on 100 samples, validate on 100 samples\n",
      "Epoch 1/1\n",
      "100/100 [==============================] - 0s 4ms/step - loss: 0.4970 - acc: 0.6225 - val_loss: 0.6431 - val_acc: 0.5744\n",
      "Train on 100 samples, validate on 100 samples\n",
      "Epoch 1/1\n",
      "100/100 [==============================] - 0s 4ms/step - loss: 0.5210 - acc: 0.6086 - val_loss: 0.6997 - val_acc: 0.5502\n",
      "Train on 100 samples, validate on 100 samples\n",
      "Epoch 1/1\n",
      "100/100 [==============================] - 0s 4ms/step - loss: 0.5144 - acc: 0.6120 - val_loss: 1.0921 - val_acc: 0.4836\n",
      "Train on 100 samples, validate on 100 samples\n",
      "Epoch 1/1\n",
      "100/100 [==============================] - 0s 4ms/step - loss: 0.4983 - acc: 0.6186 - val_loss: 0.6841 - val_acc: 0.5630\n",
      "Train on 100 samples, validate on 100 samples\n",
      "Epoch 1/1\n",
      "100/100 [==============================] - 0s 4ms/step - loss: 0.5207 - acc: 0.6084 - val_loss: 0.5993 - val_acc: 0.5911\n",
      "Train on 100 samples, validate on 100 samples\n",
      "Epoch 1/1\n",
      "100/100 [==============================] - 0s 4ms/step - loss: 0.4871 - acc: 0.6243 - val_loss: 0.6563 - val_acc: 0.5676\n",
      "Train on 100 samples, validate on 100 samples\n",
      "Epoch 1/1\n",
      "100/100 [==============================] - 0s 4ms/step - loss: 0.5151 - acc: 0.6112 - val_loss: 0.6168 - val_acc: 0.5685\n",
      "Train on 100 samples, validate on 100 samples\n",
      "Epoch 1/1\n",
      "100/100 [==============================] - 0s 4ms/step - loss: 0.5125 - acc: 0.6141 - val_loss: 0.7605 - val_acc: 0.5386\n",
      "Train on 100 samples, validate on 100 samples\n",
      "Epoch 1/1\n",
      "100/100 [==============================] - 0s 4ms/step - loss: 0.4918 - acc: 0.6215 - val_loss: 0.7179 - val_acc: 0.5468\n",
      "Train on 100 samples, validate on 100 samples\n",
      "Epoch 1/1\n",
      "100/100 [==============================] - 0s 4ms/step - loss: 0.4993 - acc: 0.6168 - val_loss: 1.1396 - val_acc: 0.4671\n",
      "Train on 100 samples, validate on 100 samples\n",
      "Epoch 1/1\n",
      "100/100 [==============================] - 0s 4ms/step - loss: 0.5057 - acc: 0.6170 - val_loss: 0.6477 - val_acc: 0.5600\n",
      "Train on 100 samples, validate on 100 samples\n",
      "Epoch 1/1\n",
      "100/100 [==============================] - 0s 4ms/step - loss: 0.5146 - acc: 0.6096 - val_loss: 0.6827 - val_acc: 0.5196\n",
      "Train on 100 samples, validate on 100 samples\n",
      "Epoch 1/1\n",
      "100/100 [==============================] - 0s 4ms/step - loss: 0.4933 - acc: 0.6243 - val_loss: 0.7124 - val_acc: 0.5176\n",
      "Train on 100 samples, validate on 100 samples\n",
      "Epoch 1/1\n",
      "100/100 [==============================] - 0s 4ms/step - loss: 0.5044 - acc: 0.6149 - val_loss: 0.8012 - val_acc: 0.5135\n",
      "Train on 100 samples, validate on 100 samples\n",
      "Epoch 1/1\n",
      "100/100 [==============================] - 0s 4ms/step - loss: 0.4996 - acc: 0.6176 - val_loss: 0.7220 - val_acc: 0.5454\n",
      "Train on 100 samples, validate on 100 samples\n",
      "Epoch 1/1\n",
      "100/100 [==============================] - 0s 4ms/step - loss: 0.4868 - acc: 0.6242 - val_loss: 0.7088 - val_acc: 0.5371\n",
      "Train on 100 samples, validate on 100 samples\n",
      "Epoch 1/1\n",
      "100/100 [==============================] - 0s 4ms/step - loss: 0.4844 - acc: 0.6249 - val_loss: 0.6666 - val_acc: 0.5576\n",
      "Train on 100 samples, validate on 100 samples\n",
      "Epoch 1/1\n",
      "100/100 [==============================] - 0s 4ms/step - loss: 0.4910 - acc: 0.6212 - val_loss: 0.6552 - val_acc: 0.5584\n",
      "Train on 100 samples, validate on 100 samples\n",
      "Epoch 1/1\n",
      "100/100 [==============================] - 0s 4ms/step - loss: 0.5450 - acc: 0.5972 - val_loss: 0.7307 - val_acc: 0.5485\n",
      "Train on 100 samples, validate on 100 samples\n",
      "Epoch 1/1\n",
      "100/100 [==============================] - 0s 4ms/step - loss: 0.4902 - acc: 0.6209 - val_loss: 0.8270 - val_acc: 0.5297\n",
      "Train on 100 samples, validate on 100 samples\n",
      "Epoch 1/1\n",
      "100/100 [==============================] - 0s 4ms/step - loss: 0.4997 - acc: 0.6169 - val_loss: 0.7247 - val_acc: 0.5453\n",
      "Train on 100 samples, validate on 100 samples\n",
      "Epoch 1/1\n",
      "100/100 [==============================] - 0s 4ms/step - loss: 0.4823 - acc: 0.6277 - val_loss: 0.5762 - val_acc: 0.5838\n",
      "Train on 100 samples, validate on 100 samples\n",
      "Epoch 1/1\n",
      "100/100 [==============================] - 0s 4ms/step - loss: 0.4896 - acc: 0.6240 - val_loss: 0.5658 - val_acc: 0.5873\n",
      "Train on 100 samples, validate on 100 samples\n",
      "Epoch 1/1\n",
      "100/100 [==============================] - 0s 4ms/step - loss: 0.4723 - acc: 0.6309 - val_loss: 0.5576 - val_acc: 0.5930\n",
      "Train on 100 samples, validate on 100 samples\n",
      "Epoch 1/1\n",
      "100/100 [==============================] - 0s 4ms/step - loss: 0.4775 - acc: 0.6279 - val_loss: 0.5392 - val_acc: 0.6049\n",
      "Train on 100 samples, validate on 100 samples\n",
      "Epoch 1/1\n",
      "100/100 [==============================] - 0s 4ms/step - loss: 0.4906 - acc: 0.6208 - val_loss: 0.5719 - val_acc: 0.5808\n",
      "Train on 100 samples, validate on 100 samples\n",
      "Epoch 1/1\n",
      "100/100 [==============================] - 0s 4ms/step - loss: 0.4843 - acc: 0.6236 - val_loss: 0.5626 - val_acc: 0.6008\n",
      "Train on 100 samples, validate on 100 samples\n",
      "Epoch 1/1\n",
      "100/100 [==============================] - 0s 4ms/step - loss: 0.4961 - acc: 0.6207 - val_loss: 0.5823 - val_acc: 0.5765\n",
      "Train on 100 samples, validate on 100 samples\n",
      "Epoch 1/1\n",
      "100/100 [==============================] - 0s 4ms/step - loss: 0.4840 - acc: 0.6239 - val_loss: 0.5451 - val_acc: 0.6031\n",
      "Train on 100 samples, validate on 100 samples\n",
      "Epoch 1/1\n",
      "100/100 [==============================] - 0s 4ms/step - loss: 0.4838 - acc: 0.6237 - val_loss: 0.5657 - val_acc: 0.5973\n",
      "Train on 100 samples, validate on 100 samples\n",
      "Epoch 1/1\n",
      "100/100 [==============================] - 0s 4ms/step - loss: 0.4918 - acc: 0.6193 - val_loss: 0.6314 - val_acc: 0.5606\n",
      "Train on 100 samples, validate on 100 samples\n",
      "Epoch 1/1\n",
      "100/100 [==============================] - 0s 4ms/step - loss: 0.5074 - acc: 0.6131 - val_loss: 0.6120 - val_acc: 0.5691\n",
      "Train on 100 samples, validate on 100 samples\n",
      "Epoch 1/1\n",
      "100/100 [==============================] - 0s 4ms/step - loss: 0.4868 - acc: 0.6233 - val_loss: 0.5088 - val_acc: 0.6137\n",
      "Train on 100 samples, validate on 100 samples\n",
      "Epoch 1/1\n",
      "100/100 [==============================] - 0s 4ms/step - loss: 0.4674 - acc: 0.6318 - val_loss: 0.5555 - val_acc: 0.5989\n",
      "Train on 100 samples, validate on 100 samples\n",
      "Epoch 1/1\n",
      "100/100 [==============================] - 0s 4ms/step - loss: 0.4734 - acc: 0.6267 - val_loss: 0.5342 - val_acc: 0.6083\n",
      "Train on 100 samples, validate on 100 samples\n",
      "Epoch 1/1\n",
      "100/100 [==============================] - 0s 4ms/step - loss: 0.4765 - acc: 0.6265 - val_loss: 0.5095 - val_acc: 0.6145\n",
      "Train on 100 samples, validate on 100 samples\n",
      "Epoch 1/1\n",
      "100/100 [==============================] - 0s 4ms/step - loss: 0.4634 - acc: 0.6340 - val_loss: 0.6692 - val_acc: 0.5483\n",
      "Train on 100 samples, validate on 100 samples\n",
      "Epoch 1/1\n",
      "100/100 [==============================] - 0s 4ms/step - loss: 0.4760 - acc: 0.6269 - val_loss: 0.5426 - val_acc: 0.5998\n",
      "Train on 100 samples, validate on 100 samples\n",
      "Epoch 1/1\n",
      "100/100 [==============================] - 0s 4ms/step - loss: 0.4731 - acc: 0.6292 - val_loss: 0.5352 - val_acc: 0.5977\n",
      "Train on 100 samples, validate on 100 samples\n",
      "Epoch 1/1\n",
      "100/100 [==============================] - 0s 4ms/step - loss: 0.4771 - acc: 0.6241 - val_loss: 0.5418 - val_acc: 0.6016\n",
      "Train on 100 samples, validate on 100 samples\n",
      "Epoch 1/1\n",
      "100/100 [==============================] - 0s 4ms/step - loss: 0.4721 - acc: 0.6287 - val_loss: 0.5177 - val_acc: 0.6157\n",
      "Train on 100 samples, validate on 100 samples\n",
      "Epoch 1/1\n",
      "100/100 [==============================] - 0s 4ms/step - loss: 0.4798 - acc: 0.6264 - val_loss: 0.6776 - val_acc: 0.5549\n",
      "Train on 100 samples, validate on 100 samples\n",
      "Epoch 1/1\n",
      "100/100 [==============================] - 0s 4ms/step - loss: 0.4708 - acc: 0.6296 - val_loss: 0.6492 - val_acc: 0.5620\n",
      "Train on 100 samples, validate on 100 samples\n",
      "Epoch 1/1\n",
      "100/100 [==============================] - 0s 4ms/step - loss: 0.4751 - acc: 0.6281 - val_loss: 0.5928 - val_acc: 0.5741\n",
      "Train on 100 samples, validate on 100 samples\n",
      "Epoch 1/1\n",
      "100/100 [==============================] - 0s 4ms/step - loss: 0.4726 - acc: 0.6270 - val_loss: 0.5962 - val_acc: 0.5764\n",
      "Train on 100 samples, validate on 100 samples\n",
      "Epoch 1/1\n",
      "100/100 [==============================] - 0s 4ms/step - loss: 0.4828 - acc: 0.6238 - val_loss: 0.9136 - val_acc: 0.4920\n",
      "Train on 100 samples, validate on 100 samples\n",
      "Epoch 1/1\n",
      "100/100 [==============================] - 0s 4ms/step - loss: 0.4698 - acc: 0.6284 - val_loss: 0.5787 - val_acc: 0.5894\n",
      "Train on 100 samples, validate on 100 samples\n",
      "Epoch 1/1\n",
      "100/100 [==============================] - 0s 4ms/step - loss: 0.4688 - acc: 0.6300 - val_loss: 0.6134 - val_acc: 0.5763\n",
      "Train on 100 samples, validate on 100 samples\n",
      "Epoch 1/1\n",
      "100/100 [==============================] - 0s 4ms/step - loss: 0.4827 - acc: 0.6236 - val_loss: 0.5653 - val_acc: 0.5978\n",
      "Train on 100 samples, validate on 100 samples\n",
      "Epoch 1/1\n",
      "100/100 [==============================] - 0s 4ms/step - loss: 0.4594 - acc: 0.6350 - val_loss: 0.5642 - val_acc: 0.5929\n",
      "Train on 100 samples, validate on 100 samples\n",
      "Epoch 1/1\n",
      "100/100 [==============================] - 0s 4ms/step - loss: 0.4777 - acc: 0.6246 - val_loss: 0.5320 - val_acc: 0.6051\n"
     ]
    }
   ],
   "source": [
    "### denoising??\n",
    "from numpy.random import binomial\n",
    "T = 100\n",
    "for _ in range(T):\n",
    "    noise_level = np.random.randint(4,10)/10.\n",
    "    noise_mask = binomial(n=1,p=noise_level,size=X_image.shape)\n",
    "    X_augmented = X_image*noise_mask\n",
    "    model.fit(X_augmented,Y_image,epochs=1,batch_size=32,validation_data=(X_image,Y_image))"
   ]
  },
  {
   "cell_type": "code",
   "execution_count": null,
   "metadata": {},
   "outputs": [],
   "source": []
  },
  {
   "cell_type": "code",
   "execution_count": 172,
   "metadata": {},
   "outputs": [
    {
     "name": "stdout",
     "output_type": "stream",
     "text": [
      "0.6691001021067786\n",
      "[0.76401647 0.84546099]\n"
     ]
    }
   ],
   "source": [
    "from sklearn.metrics import precision_score, recall_score\n",
    "Y_label = Y_hat.flatten() >0.5\n",
    "Y_hat_label = Y_image.flatten() >0.5\n",
    "print(precision_score(Y_label, Y_hat_label, average='macro' ))\n",
    "print(recall_score(Y_label, Y_hat_label, average=None , labels=[0,1]))\n"
   ]
  },
  {
   "cell_type": "code",
   "execution_count": null,
   "metadata": {},
   "outputs": [],
   "source": []
  },
  {
   "cell_type": "code",
   "execution_count": null,
   "metadata": {},
   "outputs": [],
   "source": []
  },
  {
   "cell_type": "code",
   "execution_count": 1,
   "metadata": {},
   "outputs": [
    {
     "data": {
      "text/html": [
       "<div>\n",
       "<style scoped>\n",
       "    .dataframe tbody tr th:only-of-type {\n",
       "        vertical-align: middle;\n",
       "    }\n",
       "\n",
       "    .dataframe tbody tr th {\n",
       "        vertical-align: top;\n",
       "    }\n",
       "\n",
       "    .dataframe thead th {\n",
       "        text-align: right;\n",
       "    }\n",
       "</style>\n",
       "<table border=\"1\" class=\"dataframe\">\n",
       "  <thead>\n",
       "    <tr style=\"text-align: right;\">\n",
       "      <th></th>\n",
       "      <th>filename</th>\n",
       "      <th>text</th>\n",
       "      <th>up_votes</th>\n",
       "      <th>down_votes</th>\n",
       "      <th>age</th>\n",
       "      <th>gender</th>\n",
       "      <th>accent</th>\n",
       "      <th>duration</th>\n",
       "    </tr>\n",
       "  </thead>\n",
       "  <tbody>\n",
       "    <tr>\n",
       "      <th>0</th>\n",
       "      <td>cv-valid-train/sample-000000.mp3</td>\n",
       "      <td>learn to recognize omens and follow them the o...</td>\n",
       "      <td>1</td>\n",
       "      <td>0</td>\n",
       "      <td>NaN</td>\n",
       "      <td>NaN</td>\n",
       "      <td>NaN</td>\n",
       "      <td>NaN</td>\n",
       "    </tr>\n",
       "    <tr>\n",
       "      <th>1</th>\n",
       "      <td>cv-valid-train/sample-000001.mp3</td>\n",
       "      <td>everything in the universe evolved he said</td>\n",
       "      <td>1</td>\n",
       "      <td>0</td>\n",
       "      <td>NaN</td>\n",
       "      <td>NaN</td>\n",
       "      <td>NaN</td>\n",
       "      <td>NaN</td>\n",
       "    </tr>\n",
       "    <tr>\n",
       "      <th>2</th>\n",
       "      <td>cv-valid-train/sample-000002.mp3</td>\n",
       "      <td>you came so that you could learn about your dr...</td>\n",
       "      <td>1</td>\n",
       "      <td>0</td>\n",
       "      <td>NaN</td>\n",
       "      <td>NaN</td>\n",
       "      <td>NaN</td>\n",
       "      <td>NaN</td>\n",
       "    </tr>\n",
       "    <tr>\n",
       "      <th>3</th>\n",
       "      <td>cv-valid-train/sample-000003.mp3</td>\n",
       "      <td>so now i fear nothing because it was those ome...</td>\n",
       "      <td>1</td>\n",
       "      <td>0</td>\n",
       "      <td>NaN</td>\n",
       "      <td>NaN</td>\n",
       "      <td>NaN</td>\n",
       "      <td>NaN</td>\n",
       "    </tr>\n",
       "    <tr>\n",
       "      <th>4</th>\n",
       "      <td>cv-valid-train/sample-000004.mp3</td>\n",
       "      <td>if you start your emails with greetings let me...</td>\n",
       "      <td>3</td>\n",
       "      <td>2</td>\n",
       "      <td>NaN</td>\n",
       "      <td>NaN</td>\n",
       "      <td>NaN</td>\n",
       "      <td>NaN</td>\n",
       "    </tr>\n",
       "  </tbody>\n",
       "</table>\n",
       "</div>"
      ],
      "text/plain": [
       "                           filename  \\\n",
       "0  cv-valid-train/sample-000000.mp3   \n",
       "1  cv-valid-train/sample-000001.mp3   \n",
       "2  cv-valid-train/sample-000002.mp3   \n",
       "3  cv-valid-train/sample-000003.mp3   \n",
       "4  cv-valid-train/sample-000004.mp3   \n",
       "\n",
       "                                                text  up_votes  down_votes  \\\n",
       "0  learn to recognize omens and follow them the o...         1           0   \n",
       "1         everything in the universe evolved he said         1           0   \n",
       "2  you came so that you could learn about your dr...         1           0   \n",
       "3  so now i fear nothing because it was those ome...         1           0   \n",
       "4  if you start your emails with greetings let me...         3           2   \n",
       "\n",
       "   age gender accent  duration  \n",
       "0  NaN    NaN    NaN       NaN  \n",
       "1  NaN    NaN    NaN       NaN  \n",
       "2  NaN    NaN    NaN       NaN  \n",
       "3  NaN    NaN    NaN       NaN  \n",
       "4  NaN    NaN    NaN       NaN  "
      ]
     },
     "execution_count": 1,
     "metadata": {},
     "output_type": "execute_result"
    }
   ],
   "source": [
    "import pandas as pd\n",
    "df_train = pd.read_csv(\"data/cv-valid-train.csv\")\n",
    "df_valid = pd.read_csv(\"data/cv-valid-dev.csv\")\n",
    "df_test = pd.read_csv(\"data/cv-valid-test.csv\")\n",
    "\n",
    "df_train.head()"
   ]
  },
  {
   "cell_type": "code",
   "execution_count": 2,
   "metadata": {},
   "outputs": [
    {
     "data": {
      "text/plain": [
       "(10000, 8)"
      ]
     },
     "execution_count": 2,
     "metadata": {},
     "output_type": "execute_result"
    }
   ],
   "source": [
    "df_train = df_train.iloc[:10000]\n",
    "df_train.shape"
   ]
  },
  {
   "cell_type": "code",
   "execution_count": null,
   "metadata": {},
   "outputs": [],
   "source": []
  },
  {
   "cell_type": "code",
   "execution_count": 4,
   "metadata": {
    "scrolled": true
   },
   "outputs": [
    {
     "name": "stdout",
     "output_type": "stream",
     "text": [
      "procesaron 500, va en  0\n",
      "procesaron 500, va en  500\n"
     ]
    },
    {
     "ename": "KeyboardInterrupt",
     "evalue": "",
     "output_type": "error",
     "traceback": [
      "\u001b[0;31m---------------------------------------------------------------------------\u001b[0m",
      "\u001b[0;31mKeyboardInterrupt\u001b[0m                         Traceback (most recent call last)",
      "\u001b[0;32m<ipython-input-4-50f48286d474>\u001b[0m in \u001b[0;36m<module>\u001b[0;34m()\u001b[0m\n\u001b[1;32m     11\u001b[0m     \u001b[0;32mreturn\u001b[0m \u001b[0mlibrosa\u001b[0m\u001b[0;34m.\u001b[0m\u001b[0mresample\u001b[0m\u001b[0;34m(\u001b[0m\u001b[0my\u001b[0m\u001b[0;34m,\u001b[0m \u001b[0msr\u001b[0m\u001b[0;34m,\u001b[0m \u001b[0mRESAMPLING_RATE\u001b[0m\u001b[0;34m)\u001b[0m \u001b[0;31m#y[::50] #resampling of xx 100 quizas es mucho...\u001b[0m\u001b[0;34m\u001b[0m\u001b[0m\n\u001b[1;32m     12\u001b[0m \u001b[0;34m\u001b[0m\u001b[0m\n\u001b[0;32m---> 13\u001b[0;31m \u001b[0mtimeseries_train\u001b[0m \u001b[0;34m=\u001b[0m \u001b[0mdf_train\u001b[0m\u001b[0;34m[\u001b[0m\u001b[0;34m'filename'\u001b[0m\u001b[0;34m]\u001b[0m\u001b[0;34m.\u001b[0m\u001b[0mapply\u001b[0m\u001b[0;34m(\u001b[0m\u001b[0mload_wav_file\u001b[0m\u001b[0;34m,\u001b[0m \u001b[0mpath\u001b[0m\u001b[0;34m=\u001b[0m\u001b[0;34m'data/'\u001b[0m\u001b[0;34m)\u001b[0m\u001b[0;34m.\u001b[0m\u001b[0mvalues\u001b[0m\u001b[0;34m\u001b[0m\u001b[0m\n\u001b[0m\u001b[1;32m     14\u001b[0m \u001b[0mtimeseries_valid\u001b[0m \u001b[0;34m=\u001b[0m \u001b[0mdf_valid\u001b[0m\u001b[0;34m[\u001b[0m\u001b[0;34m'filename'\u001b[0m\u001b[0;34m]\u001b[0m\u001b[0;34m.\u001b[0m\u001b[0mapply\u001b[0m\u001b[0;34m(\u001b[0m\u001b[0mload_wav_file\u001b[0m\u001b[0;34m,\u001b[0m \u001b[0mpath\u001b[0m\u001b[0;34m=\u001b[0m\u001b[0;34m'data/'\u001b[0m\u001b[0;34m)\u001b[0m\u001b[0;34m.\u001b[0m\u001b[0mvalues\u001b[0m\u001b[0;34m\u001b[0m\u001b[0m\n\u001b[1;32m     15\u001b[0m \u001b[0mtimeseries_test\u001b[0m \u001b[0;34m=\u001b[0m \u001b[0mdf_test\u001b[0m\u001b[0;34m[\u001b[0m\u001b[0;34m'filename'\u001b[0m\u001b[0;34m]\u001b[0m\u001b[0;34m.\u001b[0m\u001b[0mapply\u001b[0m\u001b[0;34m(\u001b[0m\u001b[0mload_wav_file\u001b[0m\u001b[0;34m,\u001b[0m \u001b[0mpath\u001b[0m\u001b[0;34m=\u001b[0m\u001b[0;34m'data/'\u001b[0m\u001b[0;34m)\u001b[0m\u001b[0;34m.\u001b[0m\u001b[0mvalues\u001b[0m\u001b[0;34m\u001b[0m\u001b[0m\n",
      "\u001b[0;32m/home/casapanshop/anaconda2/envs/py3/lib/python3.5/site-packages/pandas/core/series.py\u001b[0m in \u001b[0;36mapply\u001b[0;34m(self, func, convert_dtype, args, **kwds)\u001b[0m\n\u001b[1;32m   2549\u001b[0m             \u001b[0;32melse\u001b[0m\u001b[0;34m:\u001b[0m\u001b[0;34m\u001b[0m\u001b[0m\n\u001b[1;32m   2550\u001b[0m                 \u001b[0mvalues\u001b[0m \u001b[0;34m=\u001b[0m \u001b[0mself\u001b[0m\u001b[0;34m.\u001b[0m\u001b[0masobject\u001b[0m\u001b[0;34m\u001b[0m\u001b[0m\n\u001b[0;32m-> 2551\u001b[0;31m                 \u001b[0mmapped\u001b[0m \u001b[0;34m=\u001b[0m \u001b[0mlib\u001b[0m\u001b[0;34m.\u001b[0m\u001b[0mmap_infer\u001b[0m\u001b[0;34m(\u001b[0m\u001b[0mvalues\u001b[0m\u001b[0;34m,\u001b[0m \u001b[0mf\u001b[0m\u001b[0;34m,\u001b[0m \u001b[0mconvert\u001b[0m\u001b[0;34m=\u001b[0m\u001b[0mconvert_dtype\u001b[0m\u001b[0;34m)\u001b[0m\u001b[0;34m\u001b[0m\u001b[0m\n\u001b[0m\u001b[1;32m   2552\u001b[0m \u001b[0;34m\u001b[0m\u001b[0m\n\u001b[1;32m   2553\u001b[0m         \u001b[0;32mif\u001b[0m \u001b[0mlen\u001b[0m\u001b[0;34m(\u001b[0m\u001b[0mmapped\u001b[0m\u001b[0;34m)\u001b[0m \u001b[0;32mand\u001b[0m \u001b[0misinstance\u001b[0m\u001b[0;34m(\u001b[0m\u001b[0mmapped\u001b[0m\u001b[0;34m[\u001b[0m\u001b[0;36m0\u001b[0m\u001b[0;34m]\u001b[0m\u001b[0;34m,\u001b[0m \u001b[0mSeries\u001b[0m\u001b[0;34m)\u001b[0m\u001b[0;34m:\u001b[0m\u001b[0;34m\u001b[0m\u001b[0m\n",
      "\u001b[0;32mpandas/_libs/src/inference.pyx\u001b[0m in \u001b[0;36mpandas._libs.lib.map_infer\u001b[0;34m()\u001b[0m\n",
      "\u001b[0;32m/home/casapanshop/anaconda2/envs/py3/lib/python3.5/site-packages/pandas/core/series.py\u001b[0m in \u001b[0;36m<lambda>\u001b[0;34m(x)\u001b[0m\n\u001b[1;32m   2536\u001b[0m         \u001b[0;31m# handle ufuncs and lambdas\u001b[0m\u001b[0;34m\u001b[0m\u001b[0;34m\u001b[0m\u001b[0m\n\u001b[1;32m   2537\u001b[0m         \u001b[0;32mif\u001b[0m \u001b[0mkwds\u001b[0m \u001b[0;32mor\u001b[0m \u001b[0margs\u001b[0m \u001b[0;32mand\u001b[0m \u001b[0;32mnot\u001b[0m \u001b[0misinstance\u001b[0m\u001b[0;34m(\u001b[0m\u001b[0mfunc\u001b[0m\u001b[0;34m,\u001b[0m \u001b[0mnp\u001b[0m\u001b[0;34m.\u001b[0m\u001b[0mufunc\u001b[0m\u001b[0;34m)\u001b[0m\u001b[0;34m:\u001b[0m\u001b[0;34m\u001b[0m\u001b[0m\n\u001b[0;32m-> 2538\u001b[0;31m             \u001b[0mf\u001b[0m \u001b[0;34m=\u001b[0m \u001b[0;32mlambda\u001b[0m \u001b[0mx\u001b[0m\u001b[0;34m:\u001b[0m \u001b[0mfunc\u001b[0m\u001b[0;34m(\u001b[0m\u001b[0mx\u001b[0m\u001b[0;34m,\u001b[0m \u001b[0;34m*\u001b[0m\u001b[0margs\u001b[0m\u001b[0;34m,\u001b[0m \u001b[0;34m**\u001b[0m\u001b[0mkwds\u001b[0m\u001b[0;34m)\u001b[0m\u001b[0;34m\u001b[0m\u001b[0m\n\u001b[0m\u001b[1;32m   2539\u001b[0m         \u001b[0;32melse\u001b[0m\u001b[0;34m:\u001b[0m\u001b[0;34m\u001b[0m\u001b[0m\n\u001b[1;32m   2540\u001b[0m             \u001b[0mf\u001b[0m \u001b[0;34m=\u001b[0m \u001b[0mfunc\u001b[0m\u001b[0;34m\u001b[0m\u001b[0m\n",
      "\u001b[0;32m<ipython-input-4-50f48286d474>\u001b[0m in \u001b[0;36mload_wav_file\u001b[0;34m(name, path)\u001b[0m\n\u001b[1;32m      8\u001b[0m     \u001b[0;32mif\u001b[0m \u001b[0mi\u001b[0m\u001b[0;34m%\u001b[0m\u001b[0;36m500\u001b[0m\u001b[0;34m==\u001b[0m\u001b[0;36m0\u001b[0m\u001b[0;34m:\u001b[0m\u001b[0;34m\u001b[0m\u001b[0m\n\u001b[1;32m      9\u001b[0m         \u001b[0mprint\u001b[0m\u001b[0;34m(\u001b[0m\u001b[0;34m\"procesaron 500, va en \"\u001b[0m\u001b[0;34m,\u001b[0m\u001b[0mi\u001b[0m\u001b[0;34m)\u001b[0m\u001b[0;34m\u001b[0m\u001b[0m\n\u001b[0;32m---> 10\u001b[0;31m     \u001b[0my\u001b[0m\u001b[0;34m,\u001b[0m \u001b[0msr\u001b[0m \u001b[0;34m=\u001b[0m \u001b[0mlibrosa\u001b[0m\u001b[0;34m.\u001b[0m\u001b[0mload\u001b[0m\u001b[0;34m(\u001b[0m\u001b[0mpath\u001b[0m \u001b[0;34m+\u001b[0m \u001b[0mname\u001b[0m\u001b[0;34m,\u001b[0m\u001b[0mmono\u001b[0m\u001b[0;34m=\u001b[0m\u001b[0;32mTrue\u001b[0m\u001b[0;34m)\u001b[0m\u001b[0;34m\u001b[0m\u001b[0m\n\u001b[0m\u001b[1;32m     11\u001b[0m     \u001b[0;32mreturn\u001b[0m \u001b[0mlibrosa\u001b[0m\u001b[0;34m.\u001b[0m\u001b[0mresample\u001b[0m\u001b[0;34m(\u001b[0m\u001b[0my\u001b[0m\u001b[0;34m,\u001b[0m \u001b[0msr\u001b[0m\u001b[0;34m,\u001b[0m \u001b[0mRESAMPLING_RATE\u001b[0m\u001b[0;34m)\u001b[0m \u001b[0;31m#y[::50] #resampling of xx 100 quizas es mucho...\u001b[0m\u001b[0;34m\u001b[0m\u001b[0m\n\u001b[1;32m     12\u001b[0m \u001b[0;34m\u001b[0m\u001b[0m\n",
      "\u001b[0;32m~/.local/lib/python3.5/site-packages/librosa/core/audio.py\u001b[0m in \u001b[0;36mload\u001b[0;34m(path, sr, mono, offset, duration, dtype, res_type)\u001b[0m\n\u001b[1;32m    165\u001b[0m \u001b[0;34m\u001b[0m\u001b[0m\n\u001b[1;32m    166\u001b[0m         \u001b[0;32mif\u001b[0m \u001b[0msr\u001b[0m \u001b[0;32mis\u001b[0m \u001b[0;32mnot\u001b[0m \u001b[0;32mNone\u001b[0m\u001b[0;34m:\u001b[0m\u001b[0;34m\u001b[0m\u001b[0m\n\u001b[0;32m--> 167\u001b[0;31m             \u001b[0my\u001b[0m \u001b[0;34m=\u001b[0m \u001b[0mresample\u001b[0m\u001b[0;34m(\u001b[0m\u001b[0my\u001b[0m\u001b[0;34m,\u001b[0m \u001b[0msr_native\u001b[0m\u001b[0;34m,\u001b[0m \u001b[0msr\u001b[0m\u001b[0;34m,\u001b[0m \u001b[0mres_type\u001b[0m\u001b[0;34m=\u001b[0m\u001b[0mres_type\u001b[0m\u001b[0;34m)\u001b[0m\u001b[0;34m\u001b[0m\u001b[0m\n\u001b[0m\u001b[1;32m    168\u001b[0m \u001b[0;34m\u001b[0m\u001b[0m\n\u001b[1;32m    169\u001b[0m         \u001b[0;32melse\u001b[0m\u001b[0;34m:\u001b[0m\u001b[0;34m\u001b[0m\u001b[0m\n",
      "\u001b[0;32m~/.local/lib/python3.5/site-packages/librosa/core/audio.py\u001b[0m in \u001b[0;36mresample\u001b[0;34m(y, orig_sr, target_sr, res_type, fix, scale, **kwargs)\u001b[0m\n\u001b[1;32m    291\u001b[0m         \u001b[0my_hat\u001b[0m \u001b[0;34m=\u001b[0m \u001b[0mscipy\u001b[0m\u001b[0;34m.\u001b[0m\u001b[0msignal\u001b[0m\u001b[0;34m.\u001b[0m\u001b[0mresample\u001b[0m\u001b[0;34m(\u001b[0m\u001b[0my\u001b[0m\u001b[0;34m,\u001b[0m \u001b[0mn_samples\u001b[0m\u001b[0;34m,\u001b[0m \u001b[0maxis\u001b[0m\u001b[0;34m=\u001b[0m\u001b[0;34m-\u001b[0m\u001b[0;36m1\u001b[0m\u001b[0;34m)\u001b[0m\u001b[0;34m\u001b[0m\u001b[0m\n\u001b[1;32m    292\u001b[0m     \u001b[0;32melse\u001b[0m\u001b[0;34m:\u001b[0m\u001b[0;34m\u001b[0m\u001b[0m\n\u001b[0;32m--> 293\u001b[0;31m         \u001b[0my_hat\u001b[0m \u001b[0;34m=\u001b[0m \u001b[0mresampy\u001b[0m\u001b[0;34m.\u001b[0m\u001b[0mresample\u001b[0m\u001b[0;34m(\u001b[0m\u001b[0my\u001b[0m\u001b[0;34m,\u001b[0m \u001b[0morig_sr\u001b[0m\u001b[0;34m,\u001b[0m \u001b[0mtarget_sr\u001b[0m\u001b[0;34m,\u001b[0m \u001b[0mfilter\u001b[0m\u001b[0;34m=\u001b[0m\u001b[0mres_type\u001b[0m\u001b[0;34m,\u001b[0m \u001b[0maxis\u001b[0m\u001b[0;34m=\u001b[0m\u001b[0;34m-\u001b[0m\u001b[0;36m1\u001b[0m\u001b[0;34m)\u001b[0m\u001b[0;34m\u001b[0m\u001b[0m\n\u001b[0m\u001b[1;32m    294\u001b[0m \u001b[0;34m\u001b[0m\u001b[0m\n\u001b[1;32m    295\u001b[0m     \u001b[0;32mif\u001b[0m \u001b[0mfix\u001b[0m\u001b[0;34m:\u001b[0m\u001b[0;34m\u001b[0m\u001b[0m\n",
      "\u001b[0;32m~/.local/lib/python3.5/site-packages/resampy/core.py\u001b[0m in \u001b[0;36mresample\u001b[0;34m(x, sr_orig, sr_new, axis, filter, **kwargs)\u001b[0m\n\u001b[1;32m    111\u001b[0m     \u001b[0mx_2d\u001b[0m \u001b[0;34m=\u001b[0m \u001b[0mx\u001b[0m\u001b[0;34m.\u001b[0m\u001b[0mswapaxes\u001b[0m\u001b[0;34m(\u001b[0m\u001b[0;36m0\u001b[0m\u001b[0;34m,\u001b[0m \u001b[0maxis\u001b[0m\u001b[0;34m)\u001b[0m\u001b[0;34m.\u001b[0m\u001b[0mreshape\u001b[0m\u001b[0;34m(\u001b[0m\u001b[0;34m(\u001b[0m\u001b[0mx\u001b[0m\u001b[0;34m.\u001b[0m\u001b[0mshape\u001b[0m\u001b[0;34m[\u001b[0m\u001b[0maxis\u001b[0m\u001b[0;34m]\u001b[0m\u001b[0;34m,\u001b[0m \u001b[0;34m-\u001b[0m\u001b[0;36m1\u001b[0m\u001b[0;34m)\u001b[0m\u001b[0;34m)\u001b[0m\u001b[0;34m\u001b[0m\u001b[0m\n\u001b[1;32m    112\u001b[0m     \u001b[0my_2d\u001b[0m \u001b[0;34m=\u001b[0m \u001b[0my\u001b[0m\u001b[0;34m.\u001b[0m\u001b[0mswapaxes\u001b[0m\u001b[0;34m(\u001b[0m\u001b[0;36m0\u001b[0m\u001b[0;34m,\u001b[0m \u001b[0maxis\u001b[0m\u001b[0;34m)\u001b[0m\u001b[0;34m.\u001b[0m\u001b[0mreshape\u001b[0m\u001b[0;34m(\u001b[0m\u001b[0;34m(\u001b[0m\u001b[0my\u001b[0m\u001b[0;34m.\u001b[0m\u001b[0mshape\u001b[0m\u001b[0;34m[\u001b[0m\u001b[0maxis\u001b[0m\u001b[0;34m]\u001b[0m\u001b[0;34m,\u001b[0m \u001b[0;34m-\u001b[0m\u001b[0;36m1\u001b[0m\u001b[0;34m)\u001b[0m\u001b[0;34m)\u001b[0m\u001b[0;34m\u001b[0m\u001b[0m\n\u001b[0;32m--> 113\u001b[0;31m     \u001b[0mresample_f\u001b[0m\u001b[0;34m(\u001b[0m\u001b[0mx_2d\u001b[0m\u001b[0;34m,\u001b[0m \u001b[0my_2d\u001b[0m\u001b[0;34m,\u001b[0m \u001b[0msample_ratio\u001b[0m\u001b[0;34m,\u001b[0m \u001b[0minterp_win\u001b[0m\u001b[0;34m,\u001b[0m \u001b[0minterp_delta\u001b[0m\u001b[0;34m,\u001b[0m \u001b[0mprecision\u001b[0m\u001b[0;34m)\u001b[0m\u001b[0;34m\u001b[0m\u001b[0m\n\u001b[0m\u001b[1;32m    114\u001b[0m \u001b[0;34m\u001b[0m\u001b[0m\n\u001b[1;32m    115\u001b[0m     \u001b[0;32mreturn\u001b[0m \u001b[0my\u001b[0m\u001b[0;34m\u001b[0m\u001b[0m\n",
      "\u001b[0;31mKeyboardInterrupt\u001b[0m: "
     ]
    }
   ],
   "source": [
    "##audio files...\n",
    "import librosa\n",
    "SAMPLING_RATE = 22050\n",
    "RESAMPLING_RATE = 2000 #500  es como tomar saltos cada 100\n",
    "def load_wav_file(name, path):\n",
    "    \"\"\" This could take a while :D\"\"\"\n",
    "    i = int(name.split(\"sample-\")[-1][:-4])\n",
    "    if i%500==0:\n",
    "        print(\"procesaron 500, va en \",i)\n",
    "    y, sr = librosa.load(path + name,mono=True)\n",
    "    return librosa.resample(y, sr, RESAMPLING_RATE) #y[::50] #resampling of xx 100 quizas es mucho... \n",
    "\n",
    "timeseries_train = df_train['filename'].apply(load_wav_file, path='data/').values\n",
    "timeseries_valid = df_valid['filename'].apply(load_wav_file, path='data/').values\n",
    "timeseries_test = df_test['filename'].apply(load_wav_file, path='data/').values\n",
    "timeseries_valid.shape"
   ]
  },
  {
   "cell_type": "code",
   "execution_count": 15,
   "metadata": {},
   "outputs": [],
   "source": [
    "import numpy as np\n",
    "np.save(\"timeseries_train.npy\", timeseries_train)\n",
    "np.save(\"timeseries_valid.npy\", timeseries_valid)\n",
    "np.save(\"timeseries_test.npy\", timeseries_test)"
   ]
  },
  {
   "cell_type": "code",
   "execution_count": 3,
   "metadata": {},
   "outputs": [],
   "source": [
    "import numpy as np\n",
    "import librosa\n",
    "timeseries_train = np.load(\"timeseries_train.npy\")\n",
    "timeseries_valid = np.load(\"timeseries_valid.npy\")\n",
    "timeseries_test = np.load(\"timeseries_test.npy\")"
   ]
  },
  {
   "cell_type": "code",
   "execution_count": 36,
   "metadata": {},
   "outputs": [
    {
     "data": {
      "image/png": "[encoded data removed]",
      "text/plain": [
       "<Figure size 432x288 with 1 Axes>"
      ]
     },
     "metadata": {},
     "output_type": "display_data"
    }
   ],
   "source": [
    "import matplotlib.pyplot as plt\n",
    "plt.plot(timeseries_train[1])\n",
    "plt.show()"
   ]
  },
  {
   "cell_type": "code",
   "execution_count": 4,
   "metadata": {
    "scrolled": true
   },
   "outputs": [],
   "source": [
    "max_data = np.max([audio.max() for audio in timeseries_train]) #np.max(timeseries_train)\n",
    "min_data = np.min([audio.min() for audio in timeseries_train])\n",
    "def audio_norm(data):\n",
    "    data = (data-min_data)/(max_data-min_data+0.0001)\n",
    "    return data-0.5\n",
    "timeseries_train = audio_norm(timeseries_train)\n",
    "timeseries_valid = audio_norm(timeseries_valid)\n",
    "timeseries_test = audio_norm(timeseries_test)"
   ]
  },
  {
   "cell_type": "code",
   "execution_count": 5,
   "metadata": {},
   "outputs": [
    {
     "name": "stderr",
     "output_type": "stream",
     "text": [
      "Using TensorFlow backend.\n"
     ]
    },
    {
     "data": {
      "text/plain": [
       "(10000, 12433)"
      ]
     },
     "execution_count": 5,
     "metadata": {},
     "output_type": "execute_result"
    }
   ],
   "source": [
    "from keras.preprocessing import sequence\n",
    "###MUY IMPORTANTE DECIDA SOBRRE QUÉ VALOR \n",
    "max_inp_length = max(map(len,timeseries_train))\n",
    "X_train = sequence.pad_sequences(timeseries_train, maxlen=max_inp_length,padding='pre',value=0,dtype='float32')\n",
    "X_valid = sequence.pad_sequences(timeseries_valid, maxlen=max_inp_length,padding='pre',value=0,dtype='float32')\n",
    "X_test = sequence.pad_sequences(timeseries_test, maxlen=max_inp_length,padding='pre',value=0,dtype='float32')\n",
    "X_train.shape"
   ]
  },
  {
   "cell_type": "code",
   "execution_count": 6,
   "metadata": {},
   "outputs": [],
   "source": [
    "X_train_scaled = X_train.copy() #scaler.fit_transform(X_train)\n",
    "X_valid_scaled = X_valid.copy() #scaler.transform(X_valid)\n",
    "X_test_scaled = X_test.copy() #scaler.transform(X_test)"
   ]
  },
  {
   "cell_type": "code",
   "execution_count": null,
   "metadata": {},
   "outputs": [],
   "source": []
  },
  {
   "cell_type": "code",
   "execution_count": null,
   "metadata": {},
   "outputs": [],
   "source": []
  },
  {
   "cell_type": "code",
   "execution_count": null,
   "metadata": {},
   "outputs": [],
   "source": []
  },
  {
   "cell_type": "code",
   "execution_count": 10,
   "metadata": {},
   "outputs": [
    {
     "data": {
      "image/png": "[encoded data removed]",
      "text/plain": [
       "<Figure size 432x288 with 1 Axes>"
      ]
     },
     "metadata": {},
     "output_type": "display_data"
    }
   ],
   "source": [
    "#visualice lo k pasa\n",
    "import matplotlib.pyplot as plt\n",
    "plt.plot(X_train[20])\n",
    "plt.show()"
   ]
  },
  {
   "cell_type": "code",
   "execution_count": 9,
   "metadata": {},
   "outputs": [
    {
     "data": {
      "image/png": "[encoded data removed]",
      "text/plain": [
       "<Figure size 432x288 with 1 Axes>"
      ]
     },
     "metadata": {},
     "output_type": "display_data"
    }
   ],
   "source": [
    "plt.plot(X_train_scaled[20])\n",
    "plt.show()"
   ]
  },
  {
   "cell_type": "code",
   "execution_count": 6,
   "metadata": {},
   "outputs": [
    {
     "data": {
      "text/plain": [
       "(10000, 12433)"
      ]
     },
     "execution_count": 6,
     "metadata": {},
     "output_type": "execute_result"
    }
   ],
   "source": [
    "from keras.preprocessing import sequence\n",
    "###MUY IMPORTANTE DECIDA SOBRRE QUÉ VALOR \n",
    "max_inp_length = max(map(len,timeseries_train))\n",
    "X_train = sequence.pad_sequences(timeseries_train, maxlen=max_inp_length,padding='pre',value=0,dtype='float32')\n",
    "X_valid = sequence.pad_sequences(timeseries_valid, maxlen=max_inp_length,padding='pre',value=0,dtype='float32')\n",
    "X_test = sequence.pad_sequences(timeseries_test, maxlen=max_inp_length,padding='pre',value=0,dtype='float32')\n",
    "X_train.shape"
   ]
  },
  {
   "cell_type": "code",
   "execution_count": 7,
   "metadata": {},
   "outputs": [],
   "source": [
    "max_data = np.max(X_train) \n",
    "min_data = np.min(X_train)\n",
    "def audio_norm(data):\n",
    "    data = (data-min_data)/(max_data-min_data+0.0001)\n",
    "    return data-0.5\n",
    "X_train_scaled = audio_norm(X_train)\n",
    "X_valid_scaled = audio_norm(X_valid)\n",
    "X_test_scaled = audio_norm(X_test)"
   ]
  },
  {
   "cell_type": "code",
   "execution_count": null,
   "metadata": {},
   "outputs": [],
   "source": []
  },
  {
   "cell_type": "code",
   "execution_count": null,
   "metadata": {},
   "outputs": [],
   "source": []
  },
  {
   "cell_type": "code",
   "execution_count": 11,
   "metadata": {
    "scrolled": true
   },
   "outputs": [
    {
     "name": "stdout",
     "output_type": "stream",
     "text": [
      "Vocabulario:  2613\n",
      "Largo max:  32\n"
     ]
    },
    {
     "data": {
      "text/plain": [
       "(10000, 32)"
      ]
     },
     "execution_count": 11,
     "metadata": {},
     "output_type": "execute_result"
    }
   ],
   "source": [
    "from keras.preprocessing.text import text_to_word_sequence\n",
    "#add end sentence symbol\n",
    "symbol_end = \"#END\"\n",
    "raw_text_train = [text_to_word_sequence(value)+[symbol_end] for  value in df_train[\"text\"]]\n",
    "raw_text_valid = [text_to_word_sequence(value)+[symbol_end] for  value in df_valid[\"text\"]]\n",
    "raw_text_test = [text_to_word_sequence(value)+[symbol_end] for  value in df_test[\"text\"]]\n",
    "\n",
    "#crear vocabulario-- solo en train-- que pasa s iagregamos palabras de test o valid?\n",
    "count_vocab = {}\n",
    "for sentence in raw_text_train:\n",
    "    for word in sentence:\n",
    "        if word not in count_vocab:\n",
    "            count_vocab[word] = 1\n",
    "        else:\n",
    "            count_vocab[word] += 1\n",
    "#achicar vocabulario...\n",
    "min_count = 3\n",
    "vocab_text = [word for word,count in count_vocab.items() if count >= min_count]\n",
    "        \n",
    "word2idx = {w: i for i, w in enumerate(vocab_text)} #Converting text to numbers\n",
    "idx2word = {i: w for i, w in enumerate(vocab_text)} #Converting number to text\n",
    "n_words = len(vocab_text)\n",
    "\n",
    "dataY_train = [[word2idx[word] for word in sentence if word in word2idx] for sentence in raw_text_train]\n",
    "dataY_valid = [[word2idx[word] for word in sentence if word in word2idx] for sentence in raw_text_valid] #que propongan algo aca\n",
    "dataY_test = [[word2idx[word] for word in sentence  if word in word2idx] for sentence in raw_text_test]\n",
    "\n",
    "#padding..\n",
    "from keras.preprocessing import sequence\n",
    "max_out_length = max(map(len,dataY_train)) #si cambiamos esto en que afecta al modelo neurona?? (no cambia parametros :o)\n",
    "\n",
    "word2idx[\"?\"] = n_words #padding symbol\n",
    "idx2word[n_words] = \"?\"\n",
    "n_words+=1\n",
    "\n",
    "y_train = sequence.pad_sequences(dataY_train, maxlen=max_out_length, padding='post', value=word2idx[\"?\"])\n",
    "y_valid = sequence.pad_sequences(dataY_valid, maxlen=max_out_length, padding='post', value=word2idx[\"?\"])\n",
    "y_test = sequence.pad_sequences(dataY_test, maxlen=max_out_length, padding='post', value=word2idx[\"?\"])\n",
    "print(\"Vocabulario: \",n_words)\n",
    "print(\"Largo max: \",max_out_length)\n",
    "y_train.shape"
   ]
  },
  {
   "cell_type": "code",
   "execution_count": 11,
   "metadata": {
    "scrolled": true
   },
   "outputs": [
    {
     "data": {
      "image/png": "[encoded data removed]",
      "text/plain": [
       "<Figure size 432x288 with 1 Axes>"
      ]
     },
     "metadata": {},
     "output_type": "display_data"
    }
   ],
   "source": [
    "import matplotlib.pyplot as plt\n",
    "plt.boxplot(list(map(len,dataY_train)))\n",
    "plt.show()"
   ]
  },
  {
   "cell_type": "code",
   "execution_count": null,
   "metadata": {},
   "outputs": [],
   "source": []
  },
  {
   "cell_type": "code",
   "execution_count": 12,
   "metadata": {},
   "outputs": [],
   "source": [
    "#add extra dim\n",
    "X_train_scaled = X_train_scaled[:,:,None]\n",
    "X_valid_scaled = X_valid_scaled[:,:,None]\n",
    "X_test_scaled= X_test_scaled[:,:,None]\n",
    "\n",
    "y_train = y_train[:,:,None]\n",
    "y_valid = y_valid[:,:,None]\n",
    "y_test = y_test[:,:,None]"
   ]
  },
  {
   "cell_type": "code",
   "execution_count": 13,
   "metadata": {
    "scrolled": true
   },
   "outputs": [
    {
     "name": "stdout",
     "output_type": "stream",
     "text": [
      "_________________________________________________________________\n",
      "Layer (type)                 Output Shape              Param #   \n",
      "=================================================================\n",
      "cu_dnngru_1 (CuDNNGRU)       (None, 12433, 16)         912       \n",
      "_________________________________________________________________\n",
      "cu_dnngru_2 (CuDNNGRU)       (None, 32)                4800      \n",
      "_________________________________________________________________\n",
      "repeat_vector_1 (RepeatVecto (None, 32, 32)            0         \n",
      "_________________________________________________________________\n",
      "cu_dnngru_3 (CuDNNGRU)       (None, 32, 32)            6336      \n",
      "_________________________________________________________________\n",
      "cu_dnngru_4 (CuDNNGRU)       (None, 32, 16)            2400      \n",
      "_________________________________________________________________\n",
      "time_distributed_1 (TimeDist (None, 32, 2613)          44421     \n",
      "=================================================================\n",
      "Total params: 58,869\n",
      "Trainable params: 58,869\n",
      "Non-trainable params: 0\n",
      "_________________________________________________________________\n"
     ]
    }
   ],
   "source": [
    "from keras.models import Sequential\n",
    "from keras.layers import CuDNNGRU,RepeatVector,TimeDistributed, Dense\n",
    "model = Sequential()\n",
    "#ENCODER PART\n",
    "model.add(CuDNNGRU(16, return_sequences=True, input_shape=(max_inp_length,1)))\n",
    "model.add(CuDNNGRU(32, return_sequences=False))\n",
    "model.add(RepeatVector(max_out_length)) #Conection\n",
    "#DECODER PART\n",
    "model.add(CuDNNGRU(32, return_sequences=True))\n",
    "model.add(CuDNNGRU(16, return_sequences=True))\n",
    "model.add(TimeDistributed(Dense(n_words, activation='softmax')))\n",
    "model.summary()"
   ]
  },
  {
   "cell_type": "code",
   "execution_count": 12,
   "metadata": {
    "scrolled": true
   },
   "outputs": [
    {
     "name": "stdout",
     "output_type": "stream",
     "text": [
      "Train on 10000 samples, validate on 4076 samples\n",
      "Epoch 1/5\n",
      "  256/10000 [..............................] - ETA: 31:44 - loss: 8.5071"
     ]
    },
    {
     "ename": "KeyboardInterrupt",
     "evalue": "",
     "output_type": "error",
     "traceback": [
      "\u001b[0;31m---------------------------------------------------------------------------\u001b[0m",
      "\u001b[0;31mKeyboardInterrupt\u001b[0m                         Traceback (most recent call last)",
      "\u001b[0;32m<ipython-input-12-1ff131bdef3c>\u001b[0m in \u001b[0;36m<module>\u001b[0;34m()\u001b[0m\n\u001b[1;32m      1\u001b[0m \u001b[0mmodel\u001b[0m\u001b[0;34m.\u001b[0m\u001b[0mcompile\u001b[0m\u001b[0;34m(\u001b[0m\u001b[0mloss\u001b[0m\u001b[0;34m=\u001b[0m\u001b[0;34m'sparse_categorical_crossentropy'\u001b[0m\u001b[0;34m,\u001b[0m \u001b[0moptimizer\u001b[0m\u001b[0;34m=\u001b[0m\u001b[0;34m'adam'\u001b[0m\u001b[0;34m)\u001b[0m\u001b[0;34m\u001b[0m\u001b[0m\n\u001b[0;32m----> 2\u001b[0;31m \u001b[0mmodel\u001b[0m\u001b[0;34m.\u001b[0m\u001b[0mfit\u001b[0m\u001b[0;34m(\u001b[0m\u001b[0mX_train_scaled\u001b[0m \u001b[0;34m,\u001b[0m\u001b[0my_train\u001b[0m\u001b[0;34m,\u001b[0m \u001b[0mepochs\u001b[0m\u001b[0;34m=\u001b[0m\u001b[0;36m5\u001b[0m\u001b[0;34m,\u001b[0m \u001b[0mbatch_size\u001b[0m\u001b[0;34m=\u001b[0m\u001b[0;36m256\u001b[0m\u001b[0;34m,\u001b[0m\u001b[0mvalidation_data\u001b[0m\u001b[0;34m=\u001b[0m\u001b[0;34m(\u001b[0m\u001b[0mX_valid_scaled\u001b[0m\u001b[0;34m,\u001b[0m\u001b[0my_valid\u001b[0m\u001b[0;34m)\u001b[0m\u001b[0;34m)\u001b[0m\u001b[0;34m\u001b[0m\u001b[0m\n\u001b[0m",
      "\u001b[0;32m~/.local/lib/python3.5/site-packages/keras/models.py\u001b[0m in \u001b[0;36mfit\u001b[0;34m(self, x, y, batch_size, epochs, verbose, callbacks, validation_split, validation_data, shuffle, class_weight, sample_weight, initial_epoch, steps_per_epoch, validation_steps, **kwargs)\u001b[0m\n\u001b[1;32m   1000\u001b[0m                               \u001b[0minitial_epoch\u001b[0m\u001b[0;34m=\u001b[0m\u001b[0minitial_epoch\u001b[0m\u001b[0;34m,\u001b[0m\u001b[0;34m\u001b[0m\u001b[0m\n\u001b[1;32m   1001\u001b[0m                               \u001b[0msteps_per_epoch\u001b[0m\u001b[0;34m=\u001b[0m\u001b[0msteps_per_epoch\u001b[0m\u001b[0;34m,\u001b[0m\u001b[0;34m\u001b[0m\u001b[0m\n\u001b[0;32m-> 1002\u001b[0;31m                               validation_steps=validation_steps)\n\u001b[0m\u001b[1;32m   1003\u001b[0m \u001b[0;34m\u001b[0m\u001b[0m\n\u001b[1;32m   1004\u001b[0m     def evaluate(self, x=None, y=None,\n",
      "\u001b[0;32m~/.local/lib/python3.5/site-packages/keras/engine/training.py\u001b[0m in \u001b[0;36mfit\u001b[0;34m(self, x, y, batch_size, epochs, verbose, callbacks, validation_split, validation_data, shuffle, class_weight, sample_weight, initial_epoch, steps_per_epoch, validation_steps, **kwargs)\u001b[0m\n\u001b[1;32m   1703\u001b[0m                               \u001b[0minitial_epoch\u001b[0m\u001b[0;34m=\u001b[0m\u001b[0minitial_epoch\u001b[0m\u001b[0;34m,\u001b[0m\u001b[0;34m\u001b[0m\u001b[0m\n\u001b[1;32m   1704\u001b[0m                               \u001b[0msteps_per_epoch\u001b[0m\u001b[0;34m=\u001b[0m\u001b[0msteps_per_epoch\u001b[0m\u001b[0;34m,\u001b[0m\u001b[0;34m\u001b[0m\u001b[0m\n\u001b[0;32m-> 1705\u001b[0;31m                               validation_steps=validation_steps)\n\u001b[0m\u001b[1;32m   1706\u001b[0m \u001b[0;34m\u001b[0m\u001b[0m\n\u001b[1;32m   1707\u001b[0m     def evaluate(self, x=None, y=None,\n",
      "\u001b[0;32m~/.local/lib/python3.5/site-packages/keras/engine/training.py\u001b[0m in \u001b[0;36m_fit_loop\u001b[0;34m(self, f, ins, out_labels, batch_size, epochs, verbose, callbacks, val_f, val_ins, shuffle, callback_metrics, initial_epoch, steps_per_epoch, validation_steps)\u001b[0m\n\u001b[1;32m   1234\u001b[0m                         \u001b[0mins_batch\u001b[0m\u001b[0;34m[\u001b[0m\u001b[0mi\u001b[0m\u001b[0;34m]\u001b[0m \u001b[0;34m=\u001b[0m \u001b[0mins_batch\u001b[0m\u001b[0;34m[\u001b[0m\u001b[0mi\u001b[0m\u001b[0;34m]\u001b[0m\u001b[0;34m.\u001b[0m\u001b[0mtoarray\u001b[0m\u001b[0;34m(\u001b[0m\u001b[0;34m)\u001b[0m\u001b[0;34m\u001b[0m\u001b[0m\n\u001b[1;32m   1235\u001b[0m \u001b[0;34m\u001b[0m\u001b[0m\n\u001b[0;32m-> 1236\u001b[0;31m                     \u001b[0mouts\u001b[0m \u001b[0;34m=\u001b[0m \u001b[0mf\u001b[0m\u001b[0;34m(\u001b[0m\u001b[0mins_batch\u001b[0m\u001b[0;34m)\u001b[0m\u001b[0;34m\u001b[0m\u001b[0m\n\u001b[0m\u001b[1;32m   1237\u001b[0m                     \u001b[0;32mif\u001b[0m \u001b[0;32mnot\u001b[0m \u001b[0misinstance\u001b[0m\u001b[0;34m(\u001b[0m\u001b[0mouts\u001b[0m\u001b[0;34m,\u001b[0m \u001b[0mlist\u001b[0m\u001b[0;34m)\u001b[0m\u001b[0;34m:\u001b[0m\u001b[0;34m\u001b[0m\u001b[0m\n\u001b[1;32m   1238\u001b[0m                         \u001b[0mouts\u001b[0m \u001b[0;34m=\u001b[0m \u001b[0;34m[\u001b[0m\u001b[0mouts\u001b[0m\u001b[0;34m]\u001b[0m\u001b[0;34m\u001b[0m\u001b[0m\n",
      "\u001b[0;32m~/.local/lib/python3.5/site-packages/keras/backend/tensorflow_backend.py\u001b[0m in \u001b[0;36m__call__\u001b[0;34m(self, inputs)\u001b[0m\n\u001b[1;32m   2480\u001b[0m         \u001b[0msession\u001b[0m \u001b[0;34m=\u001b[0m \u001b[0mget_session\u001b[0m\u001b[0;34m(\u001b[0m\u001b[0;34m)\u001b[0m\u001b[0;34m\u001b[0m\u001b[0m\n\u001b[1;32m   2481\u001b[0m         updated = session.run(fetches=fetches, feed_dict=feed_dict,\n\u001b[0;32m-> 2482\u001b[0;31m                               **self.session_kwargs)\n\u001b[0m\u001b[1;32m   2483\u001b[0m         \u001b[0;32mreturn\u001b[0m \u001b[0mupdated\u001b[0m\u001b[0;34m[\u001b[0m\u001b[0;34m:\u001b[0m\u001b[0mlen\u001b[0m\u001b[0;34m(\u001b[0m\u001b[0mself\u001b[0m\u001b[0;34m.\u001b[0m\u001b[0moutputs\u001b[0m\u001b[0;34m)\u001b[0m\u001b[0;34m]\u001b[0m\u001b[0;34m\u001b[0m\u001b[0m\n\u001b[1;32m   2484\u001b[0m \u001b[0;34m\u001b[0m\u001b[0m\n",
      "\u001b[0;32m/home/casapanshop/anaconda2/envs/py3/lib/python3.5/site-packages/tensorflow/python/client/session.py\u001b[0m in \u001b[0;36mrun\u001b[0;34m(self, fetches, feed_dict, options, run_metadata)\u001b[0m\n\u001b[1;32m    898\u001b[0m     \u001b[0;32mtry\u001b[0m\u001b[0;34m:\u001b[0m\u001b[0;34m\u001b[0m\u001b[0m\n\u001b[1;32m    899\u001b[0m       result = self._run(None, fetches, feed_dict, options_ptr,\n\u001b[0;32m--> 900\u001b[0;31m                          run_metadata_ptr)\n\u001b[0m\u001b[1;32m    901\u001b[0m       \u001b[0;32mif\u001b[0m \u001b[0mrun_metadata\u001b[0m\u001b[0;34m:\u001b[0m\u001b[0;34m\u001b[0m\u001b[0m\n\u001b[1;32m    902\u001b[0m         \u001b[0mproto_data\u001b[0m \u001b[0;34m=\u001b[0m \u001b[0mtf_session\u001b[0m\u001b[0;34m.\u001b[0m\u001b[0mTF_GetBuffer\u001b[0m\u001b[0;34m(\u001b[0m\u001b[0mrun_metadata_ptr\u001b[0m\u001b[0;34m)\u001b[0m\u001b[0;34m\u001b[0m\u001b[0m\n",
      "\u001b[0;32m/home/casapanshop/anaconda2/envs/py3/lib/python3.5/site-packages/tensorflow/python/client/session.py\u001b[0m in \u001b[0;36m_run\u001b[0;34m(self, handle, fetches, feed_dict, options, run_metadata)\u001b[0m\n\u001b[1;32m   1133\u001b[0m     \u001b[0;32mif\u001b[0m \u001b[0mfinal_fetches\u001b[0m \u001b[0;32mor\u001b[0m \u001b[0mfinal_targets\u001b[0m \u001b[0;32mor\u001b[0m \u001b[0;34m(\u001b[0m\u001b[0mhandle\u001b[0m \u001b[0;32mand\u001b[0m \u001b[0mfeed_dict_tensor\u001b[0m\u001b[0;34m)\u001b[0m\u001b[0;34m:\u001b[0m\u001b[0;34m\u001b[0m\u001b[0m\n\u001b[1;32m   1134\u001b[0m       results = self._do_run(handle, final_targets, final_fetches,\n\u001b[0;32m-> 1135\u001b[0;31m                              feed_dict_tensor, options, run_metadata)\n\u001b[0m\u001b[1;32m   1136\u001b[0m     \u001b[0;32melse\u001b[0m\u001b[0;34m:\u001b[0m\u001b[0;34m\u001b[0m\u001b[0m\n\u001b[1;32m   1137\u001b[0m       \u001b[0mresults\u001b[0m \u001b[0;34m=\u001b[0m \u001b[0;34m[\u001b[0m\u001b[0;34m]\u001b[0m\u001b[0;34m\u001b[0m\u001b[0m\n",
      "\u001b[0;32m/home/casapanshop/anaconda2/envs/py3/lib/python3.5/site-packages/tensorflow/python/client/session.py\u001b[0m in \u001b[0;36m_do_run\u001b[0;34m(self, handle, target_list, fetch_list, feed_dict, options, run_metadata)\u001b[0m\n\u001b[1;32m   1314\u001b[0m     \u001b[0;32mif\u001b[0m \u001b[0mhandle\u001b[0m \u001b[0;32mis\u001b[0m \u001b[0;32mNone\u001b[0m\u001b[0;34m:\u001b[0m\u001b[0;34m\u001b[0m\u001b[0m\n\u001b[1;32m   1315\u001b[0m       return self._do_call(_run_fn, feeds, fetches, targets, options,\n\u001b[0;32m-> 1316\u001b[0;31m                            run_metadata)\n\u001b[0m\u001b[1;32m   1317\u001b[0m     \u001b[0;32melse\u001b[0m\u001b[0;34m:\u001b[0m\u001b[0;34m\u001b[0m\u001b[0m\n\u001b[1;32m   1318\u001b[0m       \u001b[0;32mreturn\u001b[0m \u001b[0mself\u001b[0m\u001b[0;34m.\u001b[0m\u001b[0m_do_call\u001b[0m\u001b[0;34m(\u001b[0m\u001b[0m_prun_fn\u001b[0m\u001b[0;34m,\u001b[0m \u001b[0mhandle\u001b[0m\u001b[0;34m,\u001b[0m \u001b[0mfeeds\u001b[0m\u001b[0;34m,\u001b[0m \u001b[0mfetches\u001b[0m\u001b[0;34m)\u001b[0m\u001b[0;34m\u001b[0m\u001b[0m\n",
      "\u001b[0;32m/home/casapanshop/anaconda2/envs/py3/lib/python3.5/site-packages/tensorflow/python/client/session.py\u001b[0m in \u001b[0;36m_do_call\u001b[0;34m(self, fn, *args)\u001b[0m\n\u001b[1;32m   1320\u001b[0m   \u001b[0;32mdef\u001b[0m \u001b[0m_do_call\u001b[0m\u001b[0;34m(\u001b[0m\u001b[0mself\u001b[0m\u001b[0;34m,\u001b[0m \u001b[0mfn\u001b[0m\u001b[0;34m,\u001b[0m \u001b[0;34m*\u001b[0m\u001b[0margs\u001b[0m\u001b[0;34m)\u001b[0m\u001b[0;34m:\u001b[0m\u001b[0;34m\u001b[0m\u001b[0m\n\u001b[1;32m   1321\u001b[0m     \u001b[0;32mtry\u001b[0m\u001b[0;34m:\u001b[0m\u001b[0;34m\u001b[0m\u001b[0m\n\u001b[0;32m-> 1322\u001b[0;31m       \u001b[0;32mreturn\u001b[0m \u001b[0mfn\u001b[0m\u001b[0;34m(\u001b[0m\u001b[0;34m*\u001b[0m\u001b[0margs\u001b[0m\u001b[0;34m)\u001b[0m\u001b[0;34m\u001b[0m\u001b[0m\n\u001b[0m\u001b[1;32m   1323\u001b[0m     \u001b[0;32mexcept\u001b[0m \u001b[0merrors\u001b[0m\u001b[0;34m.\u001b[0m\u001b[0mOpError\u001b[0m \u001b[0;32mas\u001b[0m \u001b[0me\u001b[0m\u001b[0;34m:\u001b[0m\u001b[0;34m\u001b[0m\u001b[0m\n\u001b[1;32m   1324\u001b[0m       \u001b[0mmessage\u001b[0m \u001b[0;34m=\u001b[0m \u001b[0mcompat\u001b[0m\u001b[0;34m.\u001b[0m\u001b[0mas_text\u001b[0m\u001b[0;34m(\u001b[0m\u001b[0me\u001b[0m\u001b[0;34m.\u001b[0m\u001b[0mmessage\u001b[0m\u001b[0;34m)\u001b[0m\u001b[0;34m\u001b[0m\u001b[0m\n",
      "\u001b[0;32m/home/casapanshop/anaconda2/envs/py3/lib/python3.5/site-packages/tensorflow/python/client/session.py\u001b[0m in \u001b[0;36m_run_fn\u001b[0;34m(feed_dict, fetch_list, target_list, options, run_metadata)\u001b[0m\n\u001b[1;32m   1305\u001b[0m       \u001b[0mself\u001b[0m\u001b[0;34m.\u001b[0m\u001b[0m_extend_graph\u001b[0m\u001b[0;34m(\u001b[0m\u001b[0;34m)\u001b[0m\u001b[0;34m\u001b[0m\u001b[0m\n\u001b[1;32m   1306\u001b[0m       return self._call_tf_sessionrun(\n\u001b[0;32m-> 1307\u001b[0;31m           options, feed_dict, fetch_list, target_list, run_metadata)\n\u001b[0m\u001b[1;32m   1308\u001b[0m \u001b[0;34m\u001b[0m\u001b[0m\n\u001b[1;32m   1309\u001b[0m     \u001b[0;32mdef\u001b[0m \u001b[0m_prun_fn\u001b[0m\u001b[0;34m(\u001b[0m\u001b[0mhandle\u001b[0m\u001b[0;34m,\u001b[0m \u001b[0mfeed_dict\u001b[0m\u001b[0;34m,\u001b[0m \u001b[0mfetch_list\u001b[0m\u001b[0;34m)\u001b[0m\u001b[0;34m:\u001b[0m\u001b[0;34m\u001b[0m\u001b[0m\n",
      "\u001b[0;32m/home/casapanshop/anaconda2/envs/py3/lib/python3.5/site-packages/tensorflow/python/client/session.py\u001b[0m in \u001b[0;36m_call_tf_sessionrun\u001b[0;34m(self, options, feed_dict, fetch_list, target_list, run_metadata)\u001b[0m\n\u001b[1;32m   1407\u001b[0m       return tf_session.TF_SessionRun_wrapper(\n\u001b[1;32m   1408\u001b[0m           \u001b[0mself\u001b[0m\u001b[0;34m.\u001b[0m\u001b[0m_session\u001b[0m\u001b[0;34m,\u001b[0m \u001b[0moptions\u001b[0m\u001b[0;34m,\u001b[0m \u001b[0mfeed_dict\u001b[0m\u001b[0;34m,\u001b[0m \u001b[0mfetch_list\u001b[0m\u001b[0;34m,\u001b[0m \u001b[0mtarget_list\u001b[0m\u001b[0;34m,\u001b[0m\u001b[0;34m\u001b[0m\u001b[0m\n\u001b[0;32m-> 1409\u001b[0;31m           run_metadata)\n\u001b[0m\u001b[1;32m   1410\u001b[0m     \u001b[0;32melse\u001b[0m\u001b[0;34m:\u001b[0m\u001b[0;34m\u001b[0m\u001b[0m\n\u001b[1;32m   1411\u001b[0m       \u001b[0;32mwith\u001b[0m \u001b[0merrors\u001b[0m\u001b[0;34m.\u001b[0m\u001b[0mraise_exception_on_not_ok_status\u001b[0m\u001b[0;34m(\u001b[0m\u001b[0;34m)\u001b[0m \u001b[0;32mas\u001b[0m \u001b[0mstatus\u001b[0m\u001b[0;34m:\u001b[0m\u001b[0;34m\u001b[0m\u001b[0m\n",
      "\u001b[0;31mKeyboardInterrupt\u001b[0m: "
     ]
    }
   ],
   "source": [
    "model.compile(loss='sparse_categorical_crossentropy', optimizer='adam')\n",
    "model.fit(X_train_scaled ,y_train, epochs=3, batch_size=256,validation_data=(X_valid_scaled,y_valid))"
   ]
  },
  {
   "cell_type": "markdown",
   "metadata": {},
   "source": [
    "import keras\n",
    "class DataGenerator(keras.utils.Sequence):\n",
    "    #'Generates data for Keras'\n",
    "    def __init__(self, df, path, list_IDs,labels, batch_size=32, T_inp=10, T_out=10,shuffle=True):\n",
    "        'Initialization'\n",
    "        self.df = df\n",
    "        self.path = path\n",
    "        self.T_out = T_out\n",
    "        self.T_inp = T_inp\n",
    "        self.batch_size = batch_size\n",
    "        self.list_IDs = list_IDs\n",
    "        self.labels = labels\n",
    "        self.shuffle = shuffle\n",
    "        self.on_epoch_end()\n",
    "    def __len__(self):\n",
    "        'Denotes the number of batches per epoch'\n",
    "        return int(np.floor(len(self.list_IDs) / self.batch_size))\n",
    "    def __getitem__(self, index):\n",
    "        'Generate one batch of data'\n",
    "        # Generate indexes of the batch\n",
    "        indexes = self.indexes[index*self.batch_size:(index+1)*self.batch_size]\n",
    "        # Find list of IDs\n",
    "        list_IDs_temp = [self.list_IDs[k] for k in indexes]\n",
    "        # Generate data\n",
    "        X, y = self.__data_generation(list_IDs_temp)\n",
    "        return X, y\n",
    "\n",
    "    def on_epoch_end(self):\n",
    "        'Updates indexes after each epoch'\n",
    "        self.indexes = np.arange(len(self.list_IDs))\n",
    "        if self.shuffle == True:\n",
    "            np.random.shuffle(self.indexes)\n",
    "\n",
    "    def __data_generation(self, list_IDs_temp):\n",
    "        'Generates data containing batch_size samples' # X : (n_samples, *dim, n_channels)\n",
    "        # Initialization\n",
    "        X = np.empty((self.batch_size, self.T_inp))\n",
    "        y = np.empty((self.batch_size, self.T_out), dtype=int)\n",
    "\n",
    "        # Generate data\n",
    "        aux = []\n",
    "        for i, ID in enumerate(list_IDs_temp):\n",
    "            # Store sample\n",
    "            timeseries = load_wav_file(self.df[\"filename\"][ID], self.path)\n",
    "            timeseries = audio_norm(timeseries) #normalize [-0.5,0.5]\n",
    "            #aux.append(timeseries)\n",
    "            X_aux = sequence.pad_sequences([timeseries],maxlen=self.T_inp,padding='pre',value=0,dtype='float32') \n",
    "            #or  add padding and then normalize...\n",
    "            X[i,] = X_aux\n",
    "\n",
    "            # Store class\n",
    "            y[i] = self.labels[ID]\n",
    "        #T_batch = max(map(len,aux))\n",
    "        #X = sequence.pad_sequences(aux,maxlen=T_batch,padding='pre',value=0,dtype='float32') \n",
    "        #print(X.shape)\n",
    "        return np.expand_dims(X, axis=-1), np.expand_dims(y ,axis=-1)\n",
    "    \n",
    "import librosa\n",
    "SAMPLING_RATE = 22050\n",
    "RESAMPLING_RATE = 2000 #500  es como tomar saltos cada 100\n",
    "def load_wav_file(name, path):\n",
    "    \"\"\" This could take a while :D\"\"\"\n",
    "    y, sr = librosa.load(path + name,mono=True)\n",
    "    return librosa.resample(y, sr, RESAMPLING_RATE)\n",
    "\n",
    "def audio_norm(data):\n",
    "    max_data = 1.2\n",
    "    min_data = -1.2\n",
    "    data = (data-min_data)/(max_data-min_data+0.0001)\n",
    "    return data-0.5\n",
    " \n",
    "from keras.preprocessing import sequence"
   ]
  },
  {
   "cell_type": "code",
   "execution_count": null,
   "metadata": {},
   "outputs": [],
   "source": []
  },
  {
   "cell_type": "code",
   "execution_count": null,
   "metadata": {},
   "outputs": [],
   "source": []
  },
  {
   "cell_type": "code",
   "execution_count": 25,
   "metadata": {
    "scrolled": true
   },
   "outputs": [
    {
     "name": "stdout",
     "output_type": "stream",
     "text": [
      "_________________________________________________________________\n",
      "Layer (type)                 Output Shape              Param #   \n",
      "=================================================================\n",
      "conv1d_7 (Conv1D)            (None, 12433, 8)          96        \n",
      "_________________________________________________________________\n",
      "batch_normalization_7 (Batch (None, 12433, 8)          32        \n",
      "_________________________________________________________________\n",
      "conv1d_8 (Conv1D)            (None, 12433, 8)          712       \n",
      "_________________________________________________________________\n",
      "batch_normalization_8 (Batch (None, 12433, 8)          32        \n",
      "_________________________________________________________________\n",
      "max_pooling1d_5 (MaxPooling1 (None, 2486, 8)           0         \n",
      "_________________________________________________________________\n",
      "conv1d_9 (Conv1D)            (None, 2486, 16)          1424      \n",
      "_________________________________________________________________\n",
      "batch_normalization_9 (Batch (None, 2486, 16)          64        \n",
      "_________________________________________________________________\n",
      "conv1d_10 (Conv1D)           (None, 2486, 16)          2832      \n",
      "_________________________________________________________________\n",
      "batch_normalization_10 (Batc (None, 2486, 16)          64        \n",
      "_________________________________________________________________\n",
      "max_pooling1d_6 (MaxPooling1 (None, 497, 16)           0         \n",
      "_________________________________________________________________\n",
      "global_max_pooling1d_2 (Glob (None, 16)                0         \n",
      "_________________________________________________________________\n",
      "repeat_vector_4 (RepeatVecto (None, 32, 16)            0         \n",
      "_________________________________________________________________\n",
      "bidirectional_3 (Bidirection (None, 32, 32)            3264      \n",
      "_________________________________________________________________\n",
      "dropout_5 (Dropout)          (None, 32, 32)            0         \n",
      "_________________________________________________________________\n",
      "bidirectional_4 (Bidirection (None, 32, 16)            2016      \n",
      "_________________________________________________________________\n",
      "dropout_6 (Dropout)          (None, 32, 16)            0         \n",
      "_________________________________________________________________\n",
      "time_distributed_4 (TimeDist (None, 32, 2613)          44421     \n",
      "=================================================================\n",
      "Total params: 54,957\n",
      "Trainable params: 54,861\n",
      "Non-trainable params: 96\n",
      "_________________________________________________________________\n"
     ]
    }
   ],
   "source": [
    "from keras.layers import Conv1D,MaxPool1D,GlobalMaxPooling1D,GlobalAveragePooling1D,BatchNormalization,Dropout\n",
    "model = Sequential()\n",
    "#ENCODER PART\n",
    "model.add(Conv1D(8, 11, padding='same', activation='relu', strides=1,input_shape=(max_inp_length,1)))\n",
    "model.add(BatchNormalization())\n",
    "model.add(Conv1D(8, 11, padding='same', activation='relu', strides=1))\n",
    "model.add(BatchNormalization())\n",
    "model.add(MaxPool1D(5))\n",
    "model.add(Conv1D(16, 11, padding='same', activation='relu', strides=1))\n",
    "model.add(BatchNormalization())\n",
    "model.add(Conv1D(16, 11, padding='same', activation='relu', strides=1))\n",
    "model.add(BatchNormalization())\n",
    "model.add(MaxPool1D(5))\n",
    "model.add(GlobalMaxPooling1D()) #aka to return_sequences=False\n",
    "#model.add(GlobalAveragePooling1D()) #experimente\n",
    "model.add(RepeatVector(max_out_length)) #Conection\n",
    "#DECODER PART\n",
    "gated_layer = CuDNNGRU(16, return_sequences=True)\n",
    "from keras.layers import Bidirectional\n",
    "model.add(Bidirectional(gated_layer,merge_mode='concat'))\n",
    "model.add(Dropout(0.25))\n",
    "gated_layer = CuDNNGRU(8, return_sequences=True)\n",
    "model.add(Bidirectional(gated_layer,merge_mode='concat'))\n",
    "model.add(Dropout(0.25))\n",
    "model.add(TimeDistributed(Dense(n_words, activation='softmax')))\n",
    "model.summary()"
   ]
  },
  {
   "cell_type": "code",
   "execution_count": 15,
   "metadata": {
    "scrolled": true
   },
   "outputs": [
    {
     "name": "stdout",
     "output_type": "stream",
     "text": [
      "_________________________________________________________________\n",
      "Layer (type)                 Output Shape              Param #   \n",
      "=================================================================\n",
      "conv1d_5 (Conv1D)            (None, 12433, 8)          96        \n",
      "_________________________________________________________________\n",
      "batch_normalization_5 (Batch (None, 12433, 8)          32        \n",
      "_________________________________________________________________\n",
      "max_pooling1d_3 (MaxPooling1 (None, 2486, 8)           0         \n",
      "_________________________________________________________________\n",
      "conv1d_6 (Conv1D)            (None, 2486, 16)          1424      \n",
      "_________________________________________________________________\n",
      "batch_normalization_6 (Batch (None, 2486, 16)          64        \n",
      "_________________________________________________________________\n",
      "max_pooling1d_4 (MaxPooling1 (None, 497, 16)           0         \n",
      "_________________________________________________________________\n",
      "global_average_pooling1d_1 ( (None, 16)                0         \n",
      "_________________________________________________________________\n",
      "repeat_vector_3 (RepeatVecto (None, 32, 16)            0         \n",
      "_________________________________________________________________\n",
      "cu_dnngru_7 (CuDNNGRU)       (None, 32, 16)            1632      \n",
      "_________________________________________________________________\n",
      "dropout_3 (Dropout)          (None, 32, 16)            0         \n",
      "_________________________________________________________________\n",
      "cu_dnngru_8 (CuDNNGRU)       (None, 32, 8)             624       \n",
      "_________________________________________________________________\n",
      "dropout_4 (Dropout)          (None, 32, 8)             0         \n",
      "_________________________________________________________________\n",
      "time_distributed_3 (TimeDist (None, 32, 2613)          23517     \n",
      "=================================================================\n",
      "Total params: 27,389\n",
      "Trainable params: 27,341\n",
      "Non-trainable params: 48\n",
      "_________________________________________________________________\n"
     ]
    }
   ],
   "source": [
    "# simpler\n",
    "model = Sequential()\n",
    "#ENCODER PART\n",
    "model.add(Conv1D(8, 11, padding='same', activation='relu', strides=1,input_shape=(max_inp_length,1)))\n",
    "model.add(BatchNormalization())\n",
    "model.add(MaxPool1D(5))\n",
    "model.add(Conv1D(16, 11, padding='same', activation='relu', strides=1))\n",
    "model.add(BatchNormalization())\n",
    "model.add(MaxPool1D(5))\n",
    "#model.add(GlobalMaxPooling1D()) #aka to return_sequences=False\n",
    "model.add(GlobalAveragePooling1D()) #experimente\n",
    "model.add(RepeatVector(max_out_length)) #Conection\n",
    "#DECODER PART\n",
    "model.add(CuDNNGRU(16, return_sequences=True))\n",
    "model.add(Dropout(0.25))\n",
    "model.add(CuDNNGRU(8, return_sequences=True))\n",
    "model.add(Dropout(0.25))\n",
    "model.add(TimeDistributed(Dense(n_words, activation='softmax')))\n",
    "model.summary()"
   ]
  },
  {
   "cell_type": "code",
   "execution_count": null,
   "metadata": {},
   "outputs": [],
   "source": [
    "model.add(Conv1D(8, 11, padding='same', activation='relu', strides=1,input_shape=(max_inp_length,1)))\n",
    "model.add(BatchNormalization())\n",
    "model.add(Conv1D(8, 11, padding='same', activation='relu', strides=1))\n",
    "model.add(BatchNormalization())\n",
    "model.add(MaxPool1D(5))\n",
    "model.add(Conv1D(16, 11, padding='same', activation='relu', strides=1))\n",
    "model.add(BatchNormalization())\n",
    "model.add(Conv1D(16, 11, padding='same', activation='relu', strides=1))\n",
    "model.add(BatchNormalization())\n",
    "model.add(MaxPool1D(5))\n",
    "model.add(Conv1D(32, 11, padding='same', activation='relu', strides=1))\n",
    "model.add(BatchNormalization())\n",
    "model.add(Conv1D(32, 11, padding='same', activation='relu', strides=1))\n",
    "model.add(BatchNormalization())\n",
    "model.add(MaxPool1D(5))\n",
    "model.add(GlobalMaxPooling1D()) #aka to return_sequences=False\n",
    "#model.add(GlobalAveragePooling1D()) #experimente\n",
    "\n",
    "model.add(RepeatVector(max_out_length)) #Conection\n",
    "\n",
    "#DECODER PART\n",
    "gated_layer = CuDNNGRU(16, return_sequences=True)\n",
    "from keras.layers import Bidirectional\n",
    "model.add(Bidirectional(gated_layer,merge_mode='concat'))\n",
    "#model.add(gated_layer)\n",
    "model.add(Dropout(0.25))\n",
    "gated_layer = CuDNNGRU(8, return_sequences=True)\n",
    "model.add(Bidirectional(gated_layer,merge_mode='concat'))\n",
    "model.add(Dropout(0.25))\n",
    "model.add(TimeDistributed(Dense(n_words, activation='softmax')))\n",
    "model.summary()"
   ]
  },
  {
   "cell_type": "code",
   "execution_count": 16,
   "metadata": {},
   "outputs": [
    {
     "data": {
      "text/plain": [
       "array([[1891, 1891, 1891, ..., 1891, 1891, 1891],\n",
       "       [1891, 1891, 1891, ..., 1891, 1891, 1891],\n",
       "       [ 127,  127, 1891, ..., 1891, 1891, 1891],\n",
       "       ...,\n",
       "       [ 127,  127, 1891, ..., 1891, 1891, 1891],\n",
       "       [1891, 1891, 1891, ..., 1891, 1891, 1891],\n",
       "       [ 127,  127, 1891, ..., 1891, 1891, 1891]])"
      ]
     },
     "execution_count": 16,
     "metadata": {},
     "output_type": "execute_result"
    }
   ],
   "source": [
    "#revisar un forward inicializado.. #quizas quede muy estancado al principio...\n",
    "model.predict_classes(X_test_scaled)\n"
   ]
  },
  {
   "cell_type": "code",
   "execution_count": 17,
   "metadata": {
    "scrolled": true
   },
   "outputs": [
    {
     "data": {
      "text/plain": [
       "array([40.82153336,  6.44550527,  3.40179445, ..., 40.82153336,\n",
       "       40.82153336,  0.        ])"
      ]
     },
     "execution_count": 17,
     "metadata": {},
     "output_type": "execute_result"
    }
   ],
   "source": [
    "from sklearn.utils.class_weight import compute_class_weight\n",
    "valid_labels = np.arange(n_words)\n",
    "c_weights = compute_class_weight('balanced', classes=valid_labels, y=y_train.flatten())\n",
    "c_weights[-1] = 0 #padding class masked\n",
    "c_weights"
   ]
  },
  {
   "cell_type": "code",
   "execution_count": 18,
   "metadata": {},
   "outputs": [
    {
     "data": {
      "text/plain": [
       "(10000, 32)"
      ]
     },
     "execution_count": 18,
     "metadata": {},
     "output_type": "execute_result"
    }
   ],
   "source": [
    "sample_weight = np.zeros(y_train.shape)\n",
    "for i in range(sample_weight.shape[0]):\n",
    "    sample_weight[i] = c_weights[y_train[i,:]]\n",
    "sample_weight = np.squeeze(sample_weight)\n",
    "sample_weight.shape"
   ]
  },
  {
   "cell_type": "code",
   "execution_count": null,
   "metadata": {},
   "outputs": [],
   "source": [
    "dic_weight = dict(zip(valid_labels,c_weights)) #{label:weight for label,weight in  zip(valid_labels,c_weights)}\n",
    "dic_weight"
   ]
  },
  {
   "cell_type": "code",
   "execution_count": null,
   "metadata": {},
   "outputs": [],
   "source": [
    "model.compile(optimizer='adam', loss='sparse_categorical_crossentropy')\n",
    "model.fit(X_train_scaled ,y_train, epochs=15, batch_size=256,validation_data=(X_valid_scaled,y_valid),\n",
    "         class_weight = dic_weight)"
   ]
  },
  {
   "cell_type": "code",
   "execution_count": 26,
   "metadata": {
    "scrolled": true
   },
   "outputs": [
    {
     "name": "stdout",
     "output_type": "stream",
     "text": [
      "Train on 10000 samples, validate on 4076 samples\n",
      "Epoch 1/10\n",
      "10000/10000 [==============================] - 15s 2ms/step - loss: 24.8437 - val_loss: 7.9483\n",
      "Epoch 2/10\n",
      "10000/10000 [==============================] - 11s 1ms/step - loss: 24.8312 - val_loss: 7.9618\n",
      "Epoch 3/10\n",
      "10000/10000 [==============================] - 11s 1ms/step - loss: 24.8138 - val_loss: 8.0359\n",
      "Epoch 4/10\n",
      "10000/10000 [==============================] - 11s 1ms/step - loss: 24.7875 - val_loss: 8.0596\n",
      "Epoch 5/10\n",
      "10000/10000 [==============================] - 11s 1ms/step - loss: 24.7474 - val_loss: 8.1471\n",
      "Epoch 6/10\n",
      "10000/10000 [==============================] - 11s 1ms/step - loss: 24.6864 - val_loss: 8.2369\n",
      "Epoch 7/10\n",
      "10000/10000 [==============================] - 11s 1ms/step - loss: 24.6162 - val_loss: 8.4589\n",
      "Epoch 8/10\n",
      "10000/10000 [==============================] - 11s 1ms/step - loss: 24.5500 - val_loss: 8.4255\n",
      "Epoch 9/10\n",
      "10000/10000 [==============================] - 11s 1ms/step - loss: 24.4491 - val_loss: 8.5823\n",
      "Epoch 10/10\n",
      "10000/10000 [==============================] - 11s 1ms/step - loss: 24.3472 - val_loss: 8.6403\n"
     ]
    },
    {
     "data": {
      "text/plain": [
       "<keras.callbacks.History at 0x7f216810c5f8>"
      ]
     },
     "execution_count": 26,
     "metadata": {},
     "output_type": "execute_result"
    }
   ],
   "source": [
    "model.compile(optimizer='adam', loss='sparse_categorical_crossentropy', sample_weight_mode='temporal')\n",
    "model.fit(X_train_scaled ,y_train, epochs=10, batch_size=256,validation_data=(X_valid_scaled,y_valid),\n",
    "         sample_weight = sample_weight)"
   ]
  },
  {
   "cell_type": "code",
   "execution_count": null,
   "metadata": {},
   "outputs": [],
   "source": []
  },
  {
   "cell_type": "code",
   "execution_count": 27,
   "metadata": {
    "scrolled": true
   },
   "outputs": [
    {
     "data": {
      "text/plain": [
       "array([[2561, 2561, 2561, ..., 2290, 2323, 2323],\n",
       "       [2561, 2561,  237, ..., 2290, 2323, 2323],\n",
       "       [2158, 2158, 2158, ...,  673,  673, 2323],\n",
       "       ...,\n",
       "       [2561, 2561,  237, ..., 2323, 2323, 2323],\n",
       "       [2561, 2561, 2561, ..., 2323, 2323, 2323],\n",
       "       [2561, 2561, 2561, ..., 1496, 1496, 1496]])"
      ]
     },
     "execution_count": 27,
     "metadata": {},
     "output_type": "execute_result"
    }
   ],
   "source": [
    "y_hat_valid = model.predict_classes(X_valid_scaled)\n",
    "y_hat_test = model.predict_classes(X_test_scaled)\n",
    "y_hat_valid"
   ]
  },
  {
   "cell_type": "code",
   "execution_count": 21,
   "metadata": {},
   "outputs": [],
   "source": [
    "y_hat_valid = model.predict_classes(X_valid_scaled)\n",
    "y_hat_test = model.predict_classes(X_test_scaled)\n",
    "y_hat_valid\n",
    "\n",
    "#al predecir cortar cuando aparezca el simbolo #END...\n",
    "def predict_words(y_indexs):\n",
    "    return_val = []\n",
    "    for indx_word in y_indexs:\n",
    "        return_val.append(np.squeeze(indx_word))\n",
    "        if indx_word == word2idx[\"#END\"]: #stop predicting\n",
    "            return return_val\n",
    "    return return_val"
   ]
  },
  {
   "cell_type": "code",
   "execution_count": 28,
   "metadata": {
    "scrolled": true
   },
   "outputs": [
    {
     "name": "stderr",
     "output_type": "stream",
     "text": [
      "/home/casapanshop/anaconda2/envs/py3/lib/python3.5/site-packages/sklearn/metrics/classification.py:1135: UndefinedMetricWarning: F-score is ill-defined and being set to 0.0 in labels with no predicted samples.\n",
      "  'precision', 'predicted', average, warn_for)\n",
      "/home/casapanshop/anaconda2/envs/py3/lib/python3.5/site-packages/sklearn/metrics/classification.py:1137: UndefinedMetricWarning: F-score is ill-defined and being set to 0.0 in labels with no true samples.\n",
      "  'recall', 'true', average, warn_for)\n"
     ]
    },
    {
     "data": {
      "text/plain": [
       "0.00024853087923408545"
      ]
     },
     "execution_count": 28,
     "metadata": {},
     "output_type": "execute_result"
    }
   ],
   "source": [
    "#exact match.. y f1 score (que tantas palabras entregadas son ocupadas y que tantas palabras faltaron)...\n",
    "#?? como se evalua?? -- proponga alguna tecnica..--- dificil BLEU\n",
    "\n",
    "from sklearn.preprocessing import MultiLabelBinarizer\n",
    "from sklearn.metrics import f1_score, precision_score, recall_score\n",
    "m = MultiLabelBinarizer().fit([valid_labels])\n",
    "def calculate_f1(true, pred):\n",
    "    true = np.squeeze(true)\n",
    "    pred = np.squeeze(pred)\n",
    "    binarized_true = m.transform([predict_words(true)])\n",
    "    binarized_pred = m.transform([predict_words(pred)]) #onehot of words appear... (no cuenta las veces que aparece la palabra..)\n",
    "    return f1_score(binarized_true, binarized_pred, average='macro')\n",
    "np.mean([calculate_f1(true_words,pred_words) for true_words,pred_words in zip(y_valid,y_hat_valid)])"
   ]
  },
  {
   "cell_type": "code",
   "execution_count": null,
   "metadata": {},
   "outputs": [],
   "source": []
  },
  {
   "cell_type": "code",
   "execution_count": 29,
   "metadata": {},
   "outputs": [],
   "source": [
    "import numpy as np\n",
    "import IPython.display as ipd\n",
    "\n",
    "def visualize(y_set,y_set_pred,df):\n",
    "    n_sampled = np.random.randint(y_set.shape[0])\n",
    "    display(ipd.Audio(\"data/\"+ df['filename'][n_sampled])) # load a local WAV file\n",
    "    text_real = [idx2word[p] for p in predict_words(y_set[n_sampled,:,0])]\n",
    "    print(\"Texto real: \", ' '.join( text_real))\n",
    "    p_sampled = predict_words(y_set_pred[n_sampled])\n",
    "    text_sampled = [idx2word[p] for p in p_sampled]\n",
    "    print(\"Texto predicho: \", ' '.join(text_sampled))"
   ]
  },
  {
   "cell_type": "code",
   "execution_count": 30,
   "metadata": {},
   "outputs": [
    {
     "data": {
      "text/html": [
       "\n",
       "                <audio controls=\"controls\" >\n",
       "                    <source src=\"data:audio/mpeg;base64,SUQzBAAAAAAAF1RTU0UAAAANAAADTGF2ZjU0LjIwLjQA//tUxAAABRwAuTQRACEqHKXXHnAAAgAsDpD4f/KQfLv//ygYKHBOH4PxAGChxYfh//Pqd////n+oEHAgXD7bbbbbH6jL+8AP/zLbyoUH6vjhGiwYDBIFxPyB4rGjcmJDCXO+eNDLFBrFhX/6nKY6H/3zGmIOlKsV/5/5ZAKCx76GciGhM5n//SqWtoNJJFplwynchhCC/o1GEwPZHMRfoiGRWxvaAQedDiqh0wiNZBdWQSnZDzIjTctmdJ9Vo1E9//tUxBuAC10hM7zygAGOqSUkxo14VS6ijsINV/oZKP37bqf7ucg+dTnIjfulUswuCgTOAzFWIWjSJAACLgInfDkTEhEOgOD6ZCSNZ4JkNwXInFwfkjRzjSaed2UtBI1dDdBbTheslupshL7NmbOVV8vIehvOhbcEX/9QNfqqg7NAokFJXcwGnkhsaL+p/+wSgtwZmkXp//8oMlH5uk3AAU0WlECQpGoBA8AUHQCZUCBCD9snBe4SUPTuNFDBm5WL//tUxBGACxSrLaYwaYFIFOVk9gkwv3+5da4sMoAMhva/GL2PRZLqrsYhmeTWrYNhUErVNCbU7wEHjrDoFHkQ0DUa9b4lcVDdHqi9MmSzUi64J6TQnArIqtQJbWkrOEcBBdEqqG4h5SKvMvwTvUz5u6iGoVFAaoqKqtdiMzs18FeIX6R4jhtQtMVCp0+LzQZaBIzSf1pSm6w6nZazTQSAHFiA7wrkWbHmzQVArgQS/EIuPc9cuviIAwIs6BOXCrMj//tUxBGAC3jdIrWEAAGgqqVDGIAAiUO3g+c7oiy4rtPhTkPapjqqum0a9NZSxy246SLWKubSh1VDNrWsjz6RQeCh08ON2Ke9Pwp9m9esAQA4qAkB8Nlrxn56PIzQjsxqWsQh4sFXqIFKc2xo+IHCg51vR6mYT1iYqkqy47iJ+7xncPXbcD0qXta5i5l66x2foLGgvF8qWziafl/v3DwtUPg0XE4m7j6uZW6///8Rx4iC7mO3F9ZJ1yIpMqLLMRUa//tUxAUACoBdK52EAAFbpeX09gl4kkZk9WkteZtI4LhEqmoedOmgeUB8AcwcQa0qspPFQyKModboc6ASOGzp84wOuFlHsNi7A6HxTvS85jIiVEdbbxliEi6J+FifX+oGtthOxRtJQSos+jAEekincnEWhzgFJVWp1XOHC86mW665R1pfFdZWfh603YjiWV3Op8ZSJacyIo+iA01Z7q0qWpRKupqFYrI2nXe3b+t/6Bzsu2YSztMLHGQlEiUk5uqg//tUxAUACtjHJyewa4FFEaUk940p+VQZUqGnapnIKzA6WB8kVnyuDjrfhytvuzO78uZPb41CLgjp0R3kZx892zzPtQ/5e5lvbWokx0Yw6cbUeY8WVnEPQmGRcwcBukzS5ynrkxJmXMkpchxGu+LjOtqA/jiR0V6sw5hoPS9T+/vif5CyWUgIXW73OlcjKHvEzJeTx+ZuWvMwJs7Kqf4iKvuTrU+txn3Os/9eMF+ZKumO11poABMAkhzMKmXJ9LMU//tUxAaACx0bIqewa8FHjiUk9I0pelQJ42KkBPLSGqBZcpfn2Vi2iyy+Y23K5am7abruzZWWq9MohTluKy6/3/yW463nN5k4gtNUhIta2AkhXyv39C/KnVOgqxUCqlEJ1X7UArKMQyDn4WFgLeeQs4uiAMisBQbPjjJMsSjje/o0PfwoS5Kg+H4p8CeqPlRY4a1OpetJR92Ou33jmZnY/y2r9358m1vsr/5+3r+dtruNPjWuNlyESSXCsYAoBgD5//tUxAaACtiPKUYkaUFdniQA9g1w0FAAoOLT4TCIVA9CGYokR5qkM0asMo/eknW+7AgqU0S4380Vuk7DY4FcWGwomtJkJgA8LlAoBnpc4dWBhcUK/JnpM0cQCRa2v6zMSoSQXh9mIpAlg2CbHIngWQV5aPCauMUkUcbmK4e+3S5OM/FV+HPYNdmdm7QhqMRdCHtUens2sXfUlG9VqbJDbZDojbwtPpmHKDoAwdYuHD5ZV5feizQqsBoS8VDcLx6X//tUxASBCYhzJKekaUFKnGQA9A1xg4k+hSXBMmDQ6yuDKYralOKKcc2E1BPMmbIKWRnX+ZBycCGpYKnwEIDYXTROKRMMNitIxBtOUHsQfHCYkjJMSx2hOpTnkLS8SZBnFZLoc4ty2IIOkBYSmAfYQQQaKsinChTkLWnUrFZgKhpDJcycu62EORKfm1LV9bRXShzNTpaz4eanCQxS8C2y1R7ANR+3fha+S/+3ZCcnAoC5E2MQ4RIBJwOIQGfPEhUO//tUxAqACRSLJAewaUExjqc0xI0sRCIZZOGoPtb6yyLCIyc4HokrtdiFfjEd8yMzYdlyBJlXKGGInVFLhZ22PHMl0YiQSVv/XbalqrW3I0WFRFWBAuBDicOCCJZA6KVC5pY7M31FX+DFyDmGVV/uaB0O7woZcFE4kGzxgIsHCe4Ks1nQYccYIzB6Iu9shc7qW251D5PwE5G6SY4hWLZpoipmIUVRQVuJ5dKq8cy6ZH11+wQzZyL706lMlimIkIP4//tUxBWBCYy3JqewaYEbDqUA9hko1r1wybaQ/XPQ7SPU+qf9+CkvKihqm+d1brqsgAaeLoXirwkoScRGCba7ZVSZY4k0cni+tLDhZAoIwjnKA8uva0xOLr3WZJ9HEQoigQCv8OdzpOrmlEL0zGKkr1ubj0DmSrB8XVsmVsUqvDAIMBcZANcTD6OxcEgqpz8UrY8LSKAzgJEno8KqLcCr9n7S2VZ5+AseSCguXlUHhRQTeOGZgQ3twDxy3TaJIqpP//tUxCEACVxfKsYwxwEvlmVk9IkwWXc1QSuMGEtRLKgqKoQ/JGq1SlHJGOSLjpHzpGKJBcm0QLPVRZc2U5NWvsIkIZnMuU85pbTTzfktaZGVdezvGZpR0itNFiENSQY7uyDCxeKIQ4omUlVkIlRGBPGoRRpEUdyCRxDKYnREIptdEaOHZkzWrZerTSUP8O6pIwJ+3wqCMBkT+nWmWWBUFjIVF9QiILHvQdmxU5BJIQuMbUlqZ1SIq0yiJChKRi+V//tUxCsACXxtKSYkaUEokuUkxJUok7gUCGBtgNWtyo0v8NopY07b1CVQskfnqRziTIqqzXR5hyJ9SbncUnHx+QQh9o5eLtcyIpnQ2lkWAxNB69jHjykGoEQxMmRjPod6lSz8k5AWIQGg0hIjqqBZQ0x68K//3zrYDFY2xl2TQtqmw95t/y6bW/0gZDEZ0TMc5IZY2wqxC/u4kJT4upZ56S5/kvjqLc3sJ/GyBqD64GDKpIhgPUskKMkScg6TGtDq//tUxDWACWClLYekaYEvDOUU9JjgM5d/+fF7rdOgiIAAIzqQkZigPE2PgNB6m1oneGWWLqM0kXQ2iusiPx0OtlZqkBQSsLlPSu+o2GJNkBwbIkKoHytpJgTRHB2L0ATZWJZyGXDYKpU+BkpeKPSxI1EGwMTFC9a2lGipBi0gBiA8c5ah6oqh4ebc3oKQKiLaqK5YCACi4TkJcGQWITJMbOoZCo0hcuGAYIUcRornwPoYL7/UeBIMFxGB4+rQtwTk//tUxD+ACVBnJqwkZwEzDSVwxIzglssBcsXC48WuYgUezQETj3NfeUe4RTvlKp3MsbeyMQ9II+0SO+BFHGErkZPrKtKJ1L66W/7GTryveRZyroQt5SdvS7q72R6rWZc3QioXQjzjtE5gHDAGlAcaA25fve+c9Sw+EwJNo4AeDKRppYMB0JnggWkPRcVdT4WWtVfrmfuu+XtnTo/Wy6pe5RPzqZ/92sy/I82VmVGCs6ho5BnEhnGAUHCzKHNc/ams//tUxEkDyRjZJAekS4FPo2TAlA14MKQFr0Ixg4CgIS1O6yNpptJNQH41Ivv4x9jUA6Wyuy8TSjEsafbgCiUkItFQvd4w+sclANFmpIvY1zyAaWUQGoDouQrG3TKjFbk+x+kJDxIiwzu0kiDTV5yP2MywfjJHB2LFkEk5kVoidFJEnJOs1AYSo5x4epQynMzpiA+NS2I8ULoUtJ9K3XDEWDpcOm1BoggOCikLEwlYzjsU71alKJqFqkKlJEnixJ49//tUxFAACSRLMaexBwEpkWSA9I0oDcF+mWUaGzGA4VKLO4CI2klY1theoZ2UUEcFevO+T7pRjvctqClefLJEO+wvUleOAbIqFUDXBZZ5L1v0qcF2L9ljUsXprJ4lZkNPlVj9Vz4/E8S5yeNE4wNDcwo+am5STTU1e+GROmcO3LrnTp/D6Xn/ua0n44KjCTxJGfNo/5CkERSStVycEZ69JrV2NdquU+/5l/82woAeGITJbz5A4PbEyQppdYyxVU0Q//tUxFuACiCxKyegaYGNKGVk9Y153SBAR8sY8kOF1MhdjgNhVEwOkT4hiQfIj+K64+yd683URQqopfEB0scmuR+3PgxgQ45oBZKTpkeptZVUNvcKFj0+XhSwpQkRSRFywo8ShFoUjIxX+m6i2SRRuOJMC7miQRDTdGKwGqoDqB0JNYAUKDK8ylYeVqq8Yr/dgyaJloYND7N1ua58U+RMn40T9hBnCVy1YXESLDi4qaUyt5Bj7ql1E3LGLeLFxDml//tUxFaACuh/J2ewaUFVFuY09I0wSgRSJAAAQzFJsdI2rirXScL3sptO150WAmRroI2UWxdW79H8x2epXmqbOdOppaYtX/bqrNM7GZUO5RKyFctKPdqGJ/eyput3W17kfu+jnb+zCAQslBbxzSSXn6Q2KpG2k0UVGfgiJzFwQJ+NwL4f4wyNggGQ0kjz2WTpvNYusamA5YFbEpN5XBhagIyMmo6my/Stt428ii1YprG/a+8Wnq9u3k6Uob4jZC3m//tUxFWAC3knJYwwS8FuDmW09g0pTkdzOumm39V/j/f8VZbM7rY3GkSgHQPrDlDTPAQHoJAMrCUiEwfFaFA4gnTbJ5Pbqe4lYywycnNBNMbMbOITNw0WFGrSXSMQ4jIKii7nNSRqdn1K2pIAaxvYrUUxA0gRVAq5PlA/L4XJCB+oaOwHEnFG4sD7LnCw6zDvBe0h4lIs1gbJ1BJF4mReMCpVIXiYQiQSBAehPHHBi0u23DRqj1ya4RId4JtexyW7//tUxE8ACcxvSaYkaXFPjaTw940oFhp6+lW+z9kVBh48FtT0iTJewmhAKlXjpIRCpt04xT3YvrG7zdbPmARwV7CRU/CBipILFwohk55hFddA6LipxOv9ofD//PwfpN1um7h8LsPlJVqfVudzQhUBxv+32/Wi7XySOIsA4O4gGRsUxwjOy2KH4z1OtUjyABSBDO5bBQomQcrlyF0azPM6WMHv1eq7+9EYcytdiVfZ9PKlWaZNGNLa3rv1/BicPLEn//tUxFMACxCTJyfgaUk+Iyd2mCAEXhT4b7/////5vsB8jUEyjTIEuQIZWg2AlQEMR6MMs8jIMJeJA/Jx2A9JCjHV09KVWfMpYQ4G1l2oi7Y9vXjNcVHSEdp4k0T2L+1DRqVFIWnHF64qrzl5fRpMuR3j6VXOV3Og92sHa03n//2chdTGtadGc7jtTz2vs89mTTbXlXCuqWE7NyGjhe5PebPwoiQsaCYz2A+JIL8UsnkR4TVJqKKzCmUKtrIHrwNk//tUxFSAETErKzj2AAIaK2SDHpAAMmk8vfm9XwSRTh4npqqc29lGwjRaxVKOqnOO8qspFjECprt3SJFH7sVJk4CHQqKAujIdLuT0ZdJJE9c7BNCRSaVKggBYmIYf+d3cvOOeLcNmmksXKIB8dIUkco0nLyem30u9EDBfljGkgDFysEzloYJxl4UYxBVHwrjpN2o+3ONdaFn8YzqrD9IM6f93sHRddn23a6dnbqZ++0/+fth2Rc855aPj12bvprlj//tUxCIACyS9K5zzAAFsHiVwxg1wqqxd6ys/4xnLBAGDAGMtWaChIkEkJsxEpGpEGuRyechCgBMLrDAnqzAIDdDTlpX7bvu7f89tvNnW/jy841sWma3Pt9g35/xfhF8pG6Hk5FuhZn5f5k+VW4zxRygziB8SOX1OAh4PcaBAsNPpOAQSdCrogJiAAhjD+OZoMhlRD84W41aTDSRDtrV0jLPGl1CUkaV9fOZ/973NiNvdc4+P7b9SqZ1djbv3lY/5//tUxB0ACwkhJye8a8FVDqTw940o3hr55lx35zX6d/hTKGW5f5ex/C/vGrUYSDkIOrO6kowAASygAHwPCQzkPXSHnuSBbUaR2HHDdHeqlzG938aRihaxEMKhjxnHZh0PkBHBiuHzHMipNqQmF3sm8YVLuASSKpVwKtUMSl41aDhpraEoMKXv/pouIIAIKqhBRH4BUOAciRUJLQwk8jy4uQxIUjehlFTBjxYUlf7zyYhMrzWs6zLTemST+9pYXEAj//tUxBuADBUtJ4e8a8F0IyY09gl4pbVuPHyClmcIzWeVyTSWYxwrZ9h/y+UpeWWXMs/uXPyhSnfE8JFqa6x90ZgicSUaKcVwdR4HAuy5LRLGAx4x/cG6k+Kw6mhLOixrzm/rr05zyjKdWbT+3np/PnT0DuqzM6Fkx3Odeq59OujnJI/nfkkWjzmbfTWz6rrCBMLhkOEaPeXniRxdoZIZWUGCcPjbMDw4KQfQKuWg1cR9Pu8e4fS4vBj0x/4m++cs//tUxBIBCeClLyY8aYFPlOYlhgkwvnbmZwtXN3KfeOfbl/XzBHxC5Y4BPWi45ZAMUtD6VuP31HTqYeo+RcHaK6AqqgYQpMsyWgTR/3njDI0c1Oz46YACiOksLRpVJ+7ux/NrtO0ujEXqj3sfREbnY+6syv7OxLoDabL/UCBzQgEDl/WhmUKB5gwHFg+MOG78+hTfKAqJMbuO+DEBEHHCgPA4ECgaTwR7HaaOX1Zf8/JXie5H/sIAHkFb2IhvN+ak//tUxBYACRxLLg1hBwEyj6ak9Y0o7WTwuSUWkVJuHQqhueLVnSRLRVPtPNQll4iN6dAAV7vft4WsRQHIH+aSmU6PVrsacyCo3yknxJcefx7NkQ8ISvCKeRuk8zshm+YWsxXHBcBlRQXpig9KG0vm4uaWEqb6tZetCEBuoU04yhgqSWjXQzCBDbgRKww5W1HiMP9YRHfEs8QFzz/tzllXluc0vv3av3KY6W6bVr+ier6q+e/b1eueHCidyUtnXPbs//tUxCCDyMTPLg0kS4EKGKWBowlwG2r/9fQYQeaueYR8aZsZYeFwbhKEPZKGSTkKHiiRiYQMu2+X8z4yaS4+z3/oDbK75UdqrK32fv1Zcq/3mjDVLKPMWjB1be5FIMttdsjiZKEoXgOqMHSrgbzGX0kwZkCWuOIrRL2OvTzpzmfavDJCpV8/Vdmc21uvv6ajoJVSLbXP2o2NX1fU1OGhUBbxECyQv/EICRwABkT5xYYBEGQFBgBa64rFZgGCupSH//tUxDGACPClUaesSbEoCiXVpIjgYMQfQecjZyGszDGxEXPAg8IgZ4uihhVx40XWssnfoJ3TYxIoGQAFFf9HmBzksrUAOW22SSNFISDiF8wnjFduT2BnYEhHnECQeIOhkf/uvW627GtMIjbX0uxfoxF2Qvm6b//psjXJREd61UWNFT6l6EanVMFbTIqtQT+++21usbY6cGISwvioFsPlnOQeGwveKD5hChT29n5+HOg1NLIb3iZZfxs6ZcPE8DoH//tUxD4ACSztU6egS7EqkOv09I0ugs2wXao5c5jbBzdrnMS/0P0UUifcig4PERwUQHKemfRJ8q0qFNOjcNCglY4WcTMJaXsfPW6zWNZtD1Ox1n6D7En77rFy3/pIzucw+z9PyuwSr8L2iiIpVP+y/P066EoUXs//0CrtrdZZWyWNC3vzIRdi+Q1hgkbCsBkztIJ5ykF+583v/ykfpRboNfz+/SKiDpAZNujPvtzSUVb3kT9C/90v6P/1/a85VQSv//tUxEmACXRtKg0YSUkyJSp08wl/ZLbe1qCqAmpqqUIZmYc4GpUsU/HYhTzPCKUFgQIU8R/ci6GdacwjCFHhE+pBQQXYvwcqoatyvmb/j1viV7hDKjBlUFnSpsXRpe5yMDStZ21zKCAZh+bUlBbcaa/Q0t4niaQoNQq3KIzjeudUMcYHvn7A+ZzOb+hS+hQ1OTChZb2YkEihVVgkY8JBge0WSKPQXdxgxDoxnSQ19dUOABIencCCQBtR7qJ9akB2//tUxFKACYCPLSykaUEgkeUBgw0odAEjD4CEeZaVP1W+Mo2ut/O2kdLIFRG2xyar7gyQ/h50+5W/YNn2ChdQ9KIVTMNHPqdffUVIYEkElWYcnuFUhf2DGxRmxerggImELC5Co+psxxtFSedaQK1GnwnOHWalNKa7d8KE3WlFmnsUZEES5Ao8A1uUu/Rdveh7zAoUFwmcNdCN2BJrNLMrVGhrrKcOo6xVDxaPiZZQ6WfXdxBOFl3UUQY3reexDGRT//tUxF2AySSxKKyYaYEnEGUVlI0oFOeLNqOFnPW8VjmqFWbmgKUSskVxCe3O+pJIQULTDzTVVuHSDYIgM3i8jX/AgqFlUxWogUqlk47PervZXoNVZPZaHvnz8GShPTBRsNFnrFgq68EeRUYC51yWH33lXImKalgmJgHGehcfODK4GNAX5zGE6Ywx1/25upJ5bVzqQZhRiQg6ghdBiQacLDDiU70djIygki7AiWPmrT6J1DbVxlTyqBTaUQhxJqnK//tUxGmASLxnKK0wZwEoD+UVpI0oaJNSj0KcRelZStttttttVstttttsAj0Qc779uChMd51WbWBJCsD36sNcaFxgOh/OPWBJyxLJzvwY4ZBgSfdPiIPWZer3geJWfVkLVwDYIwzw8T5/iq7f1CQ9ypPM81i9vrD/dta+jQZELtEUckKNXDnfN959Kz+sSK5v3GFAib/3v4/3PGhf/P+6Ufs8ehw///IqKiBoAgUVpRHTxTVbMsxgsPSmIVqLVrKd//tUxHcACXRlKLWBgAInJKp3MPACWvmS0JmWDcQrJMpdNSmTJpFyP1UC1dWG4PJBKFWHuymivWFii3fZmfxL3ePexWzSJXdbfeZ7XhaZoVpz9caYrqFHgwr5xE28m8SFE+n728Sj69Ic1/fXxrP+P9P4/xnetXzJv4zvfp/////76rH6ebEKAbv8tTvscoegXFgfZby9ps/EMZmB0r2NgcIbOoBgcGEGQ6lOMJD4m91IRaRhCstzXLqK0qjr3RzP//tUxGGAETVRRBmHgAFSlqt3nlAEKw3dWoyGiwueEqFRQZrFRyDTxZcNMfqdZWta6gAoAAMaTkaMMQAhYKHBKh3AHEEDhEVGngWIgeICCCQfGAQjFlLw8ugQHGUmFnHDINF7qxTIjKOYtTMrUFstU3UrPW5FlQji3ap4SOVCkOgAQrKoDsXnHUqVEkgZnC4Z6AOGwhOGuXH2GCI8ioctaFJJnyoYPCAjxrTJ23nsbh2QQvwjJ0z6cPdy037IOf71//tUxEeADAC3RUykqYGdnudJp4lwLJVuZ0i2S4rmG5FwNUCALyjsxyscjtKd3qpUf1VTMLdvpapVUv3pbr2CMe5jg66lYo4DPLn34S0VAMQKaGFxlnwXVj5I8dIzu40eYeGhiMRADddl6OA3RDxbwfR2l/tuDJH1TwVLOZqdZWjYoArCJ2LKdLDTOyXMfO1qS1RXlomizlD4gLhqqIw4IwcA8k0QhuHmC4NKispknrUaH596HUCGOnYyWOzp4bMx//tUxDkDDPSxOm08qYHPn2YFzCFwEo1RSzF65GC0ZaCQYazDwbBwWHQIXRHhgRCBgGOuhCtakzPYU9rdNnWppe8FyU6uRKX7s1s8MVfYehsK9w811N2nlI0P/dXe0NAaEBRZ7r9qjym2Ha/z1Ef+ltR9Hkq2pQDNoRETqN9hZQAACHa3fY3fKgOmbxxcYwCAGGoI0dZTpCWQC2SA+JS7blf7dZ21YYF8R/AW8kWBMZ2VqrBmgmYMyPSMehXa+2y7//tUxCCCC8StSaywSaF/Fad1p4k0XOUYWHnrmTxOdy4VW+eHwxqJJniIjULIyiHe38YAoQE0QVBEjM10O6IMcrPQkPCmTfMUDCDCQpPAHYJeeLW/TkdyYqP7wqatm17akxjTg9yPRZ5IcMUzGbOMzMUpLU/azhEBQ9OdKQDUxesQsDpugeEk5FSzgYpIlzylf9QAAAW7OzWOQOkZ0ZYJHkDCFiMVX66NMMhUXD/7mRwtQ42rNO2ancr30dw4JzOl//tUxBcCCfypSaywSaFNDmj1lg0sFV1uwO06dRO9/e/vmOBi5yd8WZHBpNoCUWFR7zKbuExSLuyWZXRyh3jV2WKAwBHcPIKgVWZCnWTUakVf5clwqUn/u31f8kEAQBQEPTPQ/+1qRhwM1LiZM67g+GQQQ5eKpO3Hyhhh9pzOqFe0qOAgqt7lqeLUVQAAxt64rY3A3EQ9qYipariYh2mjMXgU6JzpLmCFpgPq7UG4qyh2RgZTQLf+8pShRR36xpRc//tUxBqACZxxR6ykSWEsjqv0xI0u5KLcJgnYKPUMHHVIEAG4D676tB1+3XZSAG7LtprrG2MHEGSAEdC2fD4XBOoSia8LYsxKetMSyE87bBgLBO3Lc0bA0oCKTCoexQlLljxxThpx6JnelR15ZDVIj+7ryR+mYu3JACLkkn/Qo3C3hWC6AlEqSRgKiGH+E4lNYauWcgguGoIyM6ZmFJM8uFNmMODdw1YvlnOxQhWnb3fnIgaHpACk8uAQIhBeCDsQ//tUxCQACVxrT4ewZzEZDOs0xIzmRdgsAmtddZbW0iJJI6xB8WeKwqsTCkKkMUkS7eaOywza9FT+QHmPSg39AHODhcgW3VPex6zhYdvJPVW5QENHR5d7GEgm+tgQ9aoAAqSSSSNpIt2ZUYoYjCOAhIVtpQMyQT1ZYNPXLoIb0akYlU44fSJCQtc04kUhc6m3pQNMkKJAuqLPTizVi6gE1jeKUUOoM8gtz1uoABKdrkjaZSKYAFwDEXMyhdjLsHXF//tUxDCACYBDPaywZwEyiGd09gzg4lpVl7MXdY5IkNlEPkICYLE0npdAlWKheigh1EqA0GjrxQLrNPXUOQqgsLn9kXUmI35rpWdO3VUAu3/3WyJAkSFgNWyiHoeJSQKSaOwZEYYLCIw8OzGl5Rj2PpV7MZWyK+1F2w86vVk7UvpvsjffoYH60T3zqrLIglj19L6silOBxVmhCH//LMiiEFEQYkQ9MdD5oTU5oDxU9CuQ1cbVja6V1n9QuG5cRNSl//tUxDmACYzvQaYgS6EvF+Zk9I0w3haERf7lyJ5McIqDLJdX/Oc6ENkuwM5IeFnudihb7wIbgcY/zaqALeIybykb32nm8864aE5tKnDiGCQInUIyBnelNLoVeADj+hr55Tt6/762J4Km5G9pyE1gilHiIQxpB84DhwB30HylQoGHJpOY+SQiAkWu2bo9DdjNYhGYowXMoHPD7HU5CXNusxamW/+jpMTuVX3Trdl5xdVEe2x3oIOy3UnV84olPymE//tUxEKDyTDjMAeMa4EaJedAsol5HXY6CGD+eAZy+ZtyzQg9cFs/7HSiul1a7EUEA2u5WPft7SNIrKkjelF2sn/e/tVk6zno6tRkGqcGbZHWCKRnZBBw85FciNdVdEZ31Dz4np2qqqYGVAukcFkE9+ZuGYpMGQk4FTJjdWhI25Eng46A+05RJEfBt9O6O9PtuinIr3UjceltXOVDrYMA5x6RjCGtY2kwqCUVeLM0Vf//5q9A6mjUG6kmpBF45M5o//tUxFAACLFHQAMIS8kinWikYYlwEQ4HqowQNIHCDTirxH3hYgfuhWFYscinPn+bemfCSRPfzTI/30kVPWwRjZdY1DO7qsmjJAgldU1VVTVI3nM4BGEcjG/D9luySD4sgXIWW08ukK5q3bOUyBOGnubZ5lXcjL75T7PQr32w50jMaTxRZT6ZfCj0eFRm+H8QxDIJIRHHnzVKkckkjLLTIBjRQGEBaWVETma3eBjdzjmbcdRKzrdLmq7KZCoYXUrL//tUxF4ACQTzSSOMa4EyHamkkw1wPiKFqyPPBbn6yfCAnLpE0QrorSp7GXqKEWU2ViS6SWxFdLmbU/8eLjdAWCaxiuglezcy2QjPfCFYaAAGKEEDBOrgOQ7kcLztClaZk8126NmTn0vqMWTdI96Xfc/l7UulUr6f6RU4f5uEaaQc8hAKUzWRmSRBKNoEF5QxlRg3mFK7DQw5ohJCN9iM3eZKRAqYEBiUOUCDBQhwqE4dOre60GVIQ1wSVXdMT0gT//tUxGkACXy3UaMYSYEvI6mUgY15Ivla40JYK79Rt5/MVLMWKlh331wV/Rh4BOxpgqHF5Yj4jIheUU+WgevdhroQvJpS/om903qN5TW9GJDjHRRWMd5lFmX+XysDEEh7Exu5ChnatiJuHYiJpcdaZc4rWg8DK1C+jRYIYzhcjOH8wAQzwfcIBG2KDRsQKnBKLBSIHzma6zsSIq36zcoIl2GVoQPHtSl82RTYGDUawk88iMmSYnCQeoTEakIflSTJ//tUxHKACXRRUaekZwEwF2lkxI0wK5x2VBJAAe1YUfPmc3pzhWPgxI5XqawNsdui/tiCYyMHRYlSy/hiY3NS7xWNPw3K3+rnpqYReNa2QllPg5OsRKzaT06xbo+0k8W0MZ10zFoVerTVr+XH3OocWoNlzsoRQalyj4PorEAfqqXB2CZF1GGM0hFiwAGwpXqVoMaghjNmMVqIqAmuOBsBR4Y0JFNw3SbRAqY9ykDhLT8lrW1U6LCxlRsAtSEySStp//tUxHwAChhfQswkxwE9jGgll5jgOUHGOQg4+i4noQk5txh0PIQE6B9aXIo1NUD5lrYnrCPnBRF8xYAPfqvqCVghFjQvc0EksHoNXTjzKjKIoOVWxzamuK2NURPpKJNOYeepiwDUBKcSSjEAsRVglOZiSDhQ82RNh13IbUSWcky9Uw4kksH8HVO4b3/Azua9a/k2bXs4BrlufKVSk5T//W/wjgcQDRUNnanokcyfWDBIWULUOf5gMoFBooOtI6QA//tUxIEACgBjPk08ZwFYD6s09g0ulYRLZK2CxIQJlRTMsMp1nQJPwmamZgGwBiyxADqwopYqUyqs0MUd36xGz1EgOlmRdOeRZ/w73bqzJjqHaeX0/plnf/yaw1jEFI0fxYuWtZ1IjQQ7EIcCUc1LT0DL0t6xWowqtfhtu4RuqYuY5y8nAFxD+8tbRkeX73OcrcyHVyTSL3ssAb3mgykqt3SLWUsbnnGCux+ztDDjarPGCMQmu4KaHApmQuEwoYG3//tUxIOAC1ilOU08aYFNHag1pA107/n5DsVXqLhNEASQRICIIjzV4mFmRhlmPc86UoE4FNnfrktGc3MrLO5Z53Pc9GPZ2uQ3gnVLIxvNrbwPj4Z5QCJZzrK7iz/3qgVt9ZtLbIkxBOEDE1mi4i5CxDeKFGO1j+TVrMXikQMJyplFLzy/SlVmWNCKQKTteYagXENTpYT43U1CUuqka0+1qgkxwwNXMQPAUWAWopqoYVmA6oQgCBYGaxbgSNWmBpWY//tUxIIACURnLKy8xwFdCOVBxiDhcKKA3CJVZZ8+5bavtqxzyK9RvtyZrzzFwiypF5S/RWsgtZ13pHorYWDrJWUUr0B9ZYy04qo//xGDAptM8YMlkUs6DeRDCzn+AUIOGphANxS5BjemsQ3O/zM8+HOlN8/fs+Z/D+F/Mp5Qo5f5bEf06xPm80WV5Tsc/5l//05yPHR48kTRZREvyoC/u//1gcEnKtmqRGJAIl0zd4W2HGf1rUUHUZK4wKvDDIMi//tUxIaACXBrWaewZzErFOYlkw0wXBRYmEg5UGBwxT3fbOCAyGKzC64SIsawsFBR60pfoTcEAyFjVACP0jFLDv8CqxjFnUG09XTXIZQfSvlNu9Szar3OxyOHzIhh0N7cOMgARhQKQuClR5PCbjcEwOh0f5O0+AuFQ7twVh/lnnvNpIu8f+3nzzfT/xP7vvfEPdaVwiR3c6Zd/XxNp8zyLvTSLyW96Vm5cXJuiw8FVTEEhRtojToejNLa/kzVv+fW//tUxJCACmlHMK2Ma8kzCiclowzgtaysgEs4lwjQjJ0YoUAD0PIcQnwwx4umpFESPYcRKD2JIvGqCd3UpdZdpM3MTVlf60VNrX+s8XmMUTJZlRapnWyan27KOuatinztrW+2WmBgdtnKUyMVttrttsgAqOrcYUhjomOYfKSSDvrjpl//adiMPPGINTrScJqcUrwEE4tn49BKnNTIgFYPBJflrgrOB5V4ODCl/iLCOT3lMYO+Z0W8tKj3Xz2l2oVq//tUxJYATW0HNqy9C4GRnydCsNAAwWuWozlqkEoGPda1Fyz6s2t9DmBP2vUjWxt+1C71z9Xe9t7X3LObM3arVvWfDTbcAKTttjaclkttttltoAaIWsVRMxNfxnwDyEDqlxRTp2YJ0Rh3ncpz2BuK0NrCQajzPY6o7KfNNEkPNwFDBNFSF7OsuDTBroyW1O/Z/MbbeDDm3jfntfGczarqDr11q1G74ivK73ElzEzaHF3XNLaxqmq5rvFvvVb21r73//tUxIOAEYEdR7mWAAonpas3MvACv21bOaV+87181x87z/qFICbjQALsklC8Q5gyoZcIji5G1R6YwxJzm+ceMx2BYcqBkaLwMPFVY1WH2NWM1BjQpqCQk+oGKMUTtVNTJ9/w46U/a6VMcPsmpn//WWSKSKn7n573+/89cZ+ue7+8GxWVeSieTJtAACRsAB/bbiCjKFESIoGaCJ5KqRYW8MiIwjVW8bZ1Q/YWOJDqeKy2xY1o0aNBZp+8vrXT6aXk//tUxE4ADKz/U72EABmQlWl1l5kwziBE17rezfP/8Lf5/3z7WCYNLF77HjGBMhcwSBKPSlgbSXD2pacebjUBcWAhtQIAFxyQKNGtmGeJHcFAxIGLBCUU7TwZS6EQFjZ+V4WlYjr1ikqnESgtkiLSY++x8z1ZSkmIRcePIyFcaHAgM61PWZCyPbsijRwmV//vtTsvuMc+yn5/wWZN+9aqv7+tbOwnAABZgACt122ApWZJKm4fOdJQIMQQMifuDpoA//tUxD6ADEDnQO0wq4mToSj1lJVxQKDBJEcCSOcSUdMJJeMFDCjKHFHQy4XNDbqYWOUSD9pH+rGZCVbRhcVApmMZE2t/qtGp0kMNMZVcYyeUgs+JLf2e+za309gD844AAGQAAOa64YLdEBxmKCE4w4AUE4hd1XTXok0yAYCsNLEz1g02Zhkj5rbGQJl/nyOZqyHNu576hE9vQwsKZeZsSgUQgoff/uSxaNqRnWsuzZn/VtkloyerKVDoqAxMRoBA//tUxDCADAk7R6ykS8l2lOi1l4kwACsJADlslESIH0tAqOBaBKUrXQGJJuGcifEAb4iXcEKcmCO6lrXGK5g1etdc4VrSiyVRQxTcSKZX/nB2MZtGuRRJRAfPnKT8+cVDDomBmt8wvdekkggKB8iXMMoXAALlUYUtllC6HrHMHKLgJOQpYGaxIVRJOGztdMEa86E0VVms1Ce3kuP3VPLBMRhyIxjKkCEMmqngNAaA1WgNypIUm60J6PUJpF7DDRM8//tUxCcACfxdRaewxwE5jKXBl6TgBC5CGfnp+WmJCYW48mAiX6H+fjE7U6AZo80GM3O2BxC7GmKrDguviiaWfdk1m3BbhgApxcVJIAT6IoJJAYqyptb5llzieBQu91TNsMtabtoVYg+hPDiRgZRWk7DyrwgKG1V+pGukPHmXZfdA9A9uhxLsUlzrZztdvuruWsz21qYsYNj2SFjVOD4OCEacfGl0VM000NChppCr0AP+t3/UQRTEmQYQomx5twOk//tUxC0ACRyjLgeYSYEyi6ak9IzgyFBNlbINVJpxnEDlVMoJzNszpEgYhojMChIAywazotpLQg9NiXizBQkExinXtUbiZwxzjMuAsGlI72kltyhPh1mUCX0u2dNy+ezChWEMlRRyFAAIxYKYIAFz57Mmiza0SRM1p1RmZh33k7lRv66MoiOc6oQlJRt5xoYWs2JFBd5MyKbNYfU5ayxDvwM2ikEgx0mOT0CUGk5tLOyJYoH2msR63WW3vv5hgURp//tUxDeACZzhKAwMS4EvkWXk9I0oQmq6E/55+pxj6U6b0cuEVnWighShwsTiau56BYswrLKNJTYahd2GlJQlAFlQKQARJBBwmyVIA9LE1sDUFZYYDoh5RNBaOJNyNcKELyrFOOowq0EXJFVGxID0UQeO5tovY2yLiIdtKoAoq1oXUTfRL02gNyjkAURAS/pkIEG4gILe4Slgd+ukNLeGMe2YNqgNWR3ne99yc5MyLI+z1hPJxMf5P72eUJW8oDFC//tUxECASThdKSegZwEzHORA8w1wcyXNBX2dIhE/JvQGliSKHlG3UTv49cQ2AOATQBYH42s9QGF0QkmnWmIZZOgRCocmmIACDkELTbD7YHC9MQLBwu/dECAQWFtrvYOFpmSAFdv/bE09BCfecqJHzmo4p3n/Lw3ckLr062iZV2G3emrr+wZ88+az1bfbcjyg9BBalvzv1JBhvT7e+nYnLUTWKO6KYarNSJBkvr321sbjSHrOMyQZ7Qr0zE9581pi//tUxEqDyVypOAeYyYGGGqfBhj1wtoLXj/OYURAVg0VVKjhWGWXnqoJpPu1qgVqqAEYXmGHZRSM+Vsht34jFKSoecIF25YfqknukJTk0EgTDi6/tLkgW+rM7I4cZN0ujo9Dsnai5Uruu4YVla31bEe563sY6h806QLi7PIqAzNmjhjRgyIDRcFWFXY74jDBvHjRKU0uL0Q9UazEQoBbIItQsHGWpNHmiMFeSKCuV3neKtpcKqJuFTYJrHhT2XRDL//tUxEmACZTFRSwgS4EpiahVp5zgzmkzFgA4ID/7GAhJhnSAxQdYFjCYRjsFP6JBAUSbNtoxg05DeT+3c9p7O+u7mcJGN/TSP3vD+S94bEWfzkIbYgWxjSjGp1EDv+nt3yJqsABbE1h7bXYGAGQBIkOCKai/SADEQxCuBcY3fSq3uaC211MP0T8piTom06RhbehpCtS4CUw6tY+n2NZQp8cLHFFkEG+TvCiMuAVK0QYVsOnxnJKeeBgIINuPy0Jc//tUxFOACVCtRyykaYEtjOo09gzg6qAYxRkUr8iB82FIChJdT9wxLdeHFUyZAFAoOB0sYS3LHuLsJAWVqAy8lrdYpQVeMYPPCnX06EWORuoABksljkjZSDcGrJkhpj0b+nUa48gMiQBGKhjjmpl7pY4S+yCis1rqlCy5Df32XWXrgnFMX6LFrHCcYKCUGQKDH7EXXlCCweCQtjUANyzaS2xlITbjkxIuziu7FPLLzyFEQlwKJNbOTVVnleOwDwGs//tUxF4ACYhFOK2xJwEqFOs09Ak2IiBiNu2lU3nmLAT5h4gHCQVCAcArRRtyy793vU3PPZcnpdvxj+lQBl1u1t2kbYKY9AZTAukEdCDolIRYjscjge9BH1DCYavB0YhVVcUAwvfJwSgmcQwohAqu2mFVKptoSaAJ+plYdW7Azh79irV3Lx4wQvzBsGN3oUWfJntFGBRCLBFK4Xd8S1GKq1zpJs37bY9tn1JhYzuUdvd8WMFUJcw10R69I5tivTQy//tUxGgACXRzWawkaXEpDKv0xgzmwG5yAYlDNC0t7VU/rqSAClVMnbXCkBQmPGBPMECwFRWg5UrGk9Jp6shNzelWWYWpKf5MJBrDr0mTZwGCAiRUYh9DU3IHIpAZ9KBXvpl3FhUuRQ/nfoTJB/odIyjZLtrNtYmxBDBEWJcU78U0929oiuCqGQ8FoJFHZGuNjxpqRH5ED2KqEzPBhTuHVb8IntpiJChbY3CO8v9/O/f++fD+UyNlIiA9CCRv+0fH//tUxHKACQRRLA48xwEzCCg1phjkOLhIeGH0iA+SRHAQLctultsZJDYBaKtMZbi/aQ7XzLiR2c815kjGW5ncOBCG9Pv669sagJ9jP9nhGmSsQsy49HDOaau/f7xABJxxibSKmI4PvDehdDDpQuoIEkscTXu0YkpWZYUdSkmqAATbsk11QBSBTgHMqAIsSWCUdYG4MDwfIJbK5JKp+Uqcgpy9IxdlfdZ8p5csBMKZqX3JxKhgiZaOc9EK/crUxYp7//tUxH2AC2j/X6ega7lzjWu1h7zmdJOw/a3dufY/PmfUBkamy1ByMS/HMtT++eVdRbypYh8KOhkdGwz5HfPvkZfttSzSzMvliOlNJWAWyPcQ6QtsFb3iVGgSF0WMW5DRYzgO1HmI3ElceKmDc4Sw1iDs+QH5+cdeTENty40qj4q6l0VqeJC4uQKvEPxMf9TxX8doeg6kIsbF1qpt0OQQHKJu/2vV1QAupATkbYj6JQYVVIYHI4m5EE1TwFjoolFE//tUxHaAEBldS6xgbelIlKso9iE2H0ZK0JQsOD2VCrlcBv45EV5FYo9SKjiA+o9n+hap02SGoSLgIThYqIe0tXQPsJEqKfb5SPpaQQZsIYJn+tjMS5AGk7YIC37FnrsvYFCQVOLmY1iJFyEEKmSwVZSaRDmwZ7TwdxpMSkoirD//y/t6V+iR7PQHJ22bUQyKoJNUYob9m5KossmKUAAA9UCAXt/g9AGiBGoc04VQMclYdFIroCD5MUNESquZa5gW//tUxGKCCkinU0wkqZE+lGn1hI0wQ0ufRKKBM3C6yM4OtfF9UBN5l3Ux/i44P7PAT2JEhZxQ68IBw65aKK9Kt84iImoACT0hIP9XYX5mIs4FCfDaulMM2D4qBtA8hQoxT7YtZGqtGCZanxLY1JlOGEmUU1tH/uZftsysFCGt159l8gcXikqqzr6VOFUpWAfRACD1gAA222zdTEYv8WAjWVJKfd0SqnnvR0qqyqqr63IkSgmJwFLBZePvPL26UlpR//tUxGcACkhjT6wlJwEulOuw9Ik2itJw5V/9R4YlvT6XEWIFTi2uR/8M1SYbqKlVlFu61kpSRJCgTBTpCh2m00Zhl+ZoNEyqE6myhSJm4sMZ/DyImtredk0eEKJJKXfX3+u+/BmESXv2aENZOzwuKJ2fi+QLpQ9aFQD/0E/vyEQcl0JB15iQF8n30bRi7Ziba+2tqr3NoFkpCVbyQualUN3VcnTN99GgoqnYuvVbfSe54a2oZsYdQ0Al3FTutd1J//tUxG2ACWRnTawlJwEgk+t1hIk2F+ttDhcAJ21oBGNglNp/g2DcL5ZUF+CMG6589/Tx7/W8gkEkGqVQRzZbIf18y0WBZqKEuuPiuYqaLRzkK2McnWfFFpaRLpcN+8lnGIEhE1JppQafwE/qIbCwhCcEtdp352dAMBRE5gzOMllvFhYeqFNQsLWLhufFvnGWbZGcCm0aKFrpo9kiymnHXaizd4SLilAeGv/WOagnVWLLIhsBagAKhRTFSJIoFGZw//tUxHkACYBlNy0lJwEzC6f09hjkkw1mHX5e6HfldSjyxmLTgQsObQJUqokopQvc3Ze5dXtDaHGoQERY28Nzd8GDtrrepNpV2YUUo0j3eRUy/6kASOSRSERGQSSSSNOMBIdYQvaoCVAIBXJXs5xaMVMidPzzwQwNKUtrAbC4AZgT+VYonxeFGKANS0M8TJ5nG/DeN5i1VlplUI8yE7EsXJMxGHW/n5vj49H0+LZz763Tf3q+M/xKT0zeBv+/+q63//tUxIIACYBjNSwlBwErDKWmsJAA9eDN6sdH8eDbf+////XFJab/+YcSCwT7tLWJ7P9Q8gqAEFQgABySRMR1VCTOAoRAmBEtrQ1N0J65xH4jmCqEsGguBwpAjhCxk1JKwy1FsimqHXJAjDHERm///jn1TX9Rf/+fdPm6gWstKeGcuhDFLEJbWmqpmf+4a9Z/jmLqFE319xKqTMqMO+YPg5L5N/07xyA8DRpCKtgd+3QtWTEEeo11ie5ouZDNLrCQ//tUxIwAEaEtP7mHgAGkJ6j3noABBu0zfy5X73BBQ7lKQzhblR//+i25Er+9q1P32Nq4K+GHhBK0abklAM1lFLwAABbayBfytooMmoGARHUg9BoMyy91B0qH3rjdIC6fxks9+VTYHkx/8iMuq1/2ojLEtf+LRzkA+Blv5kkesbrF5ocIhM+HFpayHixB1gDMkUT9SgAG/GgEVIUw0UGLJjglBrcDoqavrQM9A8hJAKAQQFIGEkTU0OZ4xcRTq85n//tUxGaACdzjPqykS4FGDelxhJksQoqERYWSZ0QVLH//R+lykrjTkjZpe6t6a5ZTTSVujKqHG8VcGZWvSQAnI4ynWkkEmLiaRvFMcKNub0sjABQuNFCEFWxTkcWrYvk2z/L+q2cc+oZGI6hSD1EBmektPpa/dR1/+lUe2k65GGYHWjKTEJF37w3/i/FfN1z+1QAlZJbHNGkm2Cg7hyJCoJXVx0plyVquu4+WjTr5huFKTfT2Fnf9HUtLtYE4PKUE//tUxGuACnSjS6wkqaFOHKs09Il3YpmWnzf3KhgYo037wqEqzCTIqksh1U8LVvWQpQTT/QAEYpbnp7CUVsmkh2EjGXQTOhp74doSwZBIUxma1M9GE1j2XKmkUJerKhTlIdd2INcpg+HxzrlSj3pne/jThplyH1bjU8RFQyIkA8LafANAMvmQWWQBkVGB4JNWAAJUiUiciaBe0zdkKlRaAWXTCaZDboT4sQh6OaWbmnOGJq5FOBgcIV99SJdrUqMD//tUxG0ACcylW6Y8SbFuFKi1hJU0DCww30LnVXjya6g/7GuRNExQVSJNCYY6lLvUEUjR4pp93QgEGAvmLPm1NBcwZgFOr/eONSSVhZ1YeJoYymIH0dosJk1dO1f9zgQXb///otNP9Ps+tLuzsr0ZGR1+qaftNzWtIbGsxlSJRLlqAB/S0+tIVhjvBuUxjGoqnBIVJJy4MiYCgAgdEQRs6mzwbN7uQSRrtjER6szNd4wGvzcUbcwJkvsERx6mJeKV//tUxG2CCghvO60kSUEtKGaVopV4VXMI3VLfJuPsIrQlVdIAlt/12NtbgTaGeLkQ4L6iTJWewNBI0HA4OQ1da7rH2WnaqpkciEZf/VRoUHCHXRRQIGPTd61FFjjtYPYEHFE3Mf0tcYuEA04wiLFE1Um5d//bbYmguDrDlJGQVlcZVIxlwqrC2lfkVU16a0PoC0neMJVzdUS3cRKHQYDqCM3Mse+Lrt84z1PH6QQEIBYAjKloQUd7f1Apy7/aRuMp//tUxHUACZxxNy0gSUExDmk1hBUsDIkKGF8USCQ+KjksSA4iI46VRThtN+RaBCmgbM2Smv+hjMKflD5xzm9osnADq2JfUEEONGBgSQEiVgiUvWESIqUJPKtYhQA5dtY4lGSkuw4RnYSLIqlQjy3AWZA6ZUx8y+qmtasQWzJOyoxbVbbr3Usb1AcJiUUKdIJz64vUKH3vQfNKLPS5tHzDzguTBWveMWvSAW5ttZW40mC+EgGyqSFRQbEyMlSaGxUQ//tUxH2ACRRzYaekqXEzjms09Ikuw+kaQcSTQxy31i6Imo575f//UYcMv+e71brLRtf//f8jTUqn9H/9U3Qa+ZLodAxjX10qBNd/+111rcCGJhHKoJGovQbxjJESCqx9CjxqM7zzhtdcxWT6U6p/MvigQEAGaQUCC/gdwoKreXdpU1FE600g/nU/atxcY52sAAOSN3VAhUGS2L5peoAigr8L/aZRxj+LCssO52J61oJ3s/qmlAt9qEOnPv5xUCk7//tUxIgACZxzU6ewSXEqJmr0xAl/Qa62T4lf+bS+Qef12bFv4bWGCrkF2KDMnQADbbHI42SgepsFOhqcb5VYXcxwti6BQRNdl1OVNKigfKHjuo6ZVT5eyGWyfb0zvO7hGa/Z9f0ItTEotkb/f+v9KurqjewMPs6yYAADttkkbBKGARoAnKEYJckHFLmdkOkQkfqFETvPv7bvwFnTVBzUWltHSt3b8akQhwk4Bi/OLUxbGBVxRjCA9tqM40CPCK0A//tUxJGACPhzX6YkaXEjjijxhg0ucie2sigFtufe3bSNMSgB5UDw7mZLKZkrOw5elZAzBSYSBgiIuMIMmRLIA65RdAuLRn0IQxe/UYYITzAfEY1xxL//JjFkqKW6ACUlbHJI0SU3E7MZOEmNZUnybpjNylCUETA5BqSeUnljW58/yo/pY7+3/fBy021X0eZXb/f7302LMd5MwKyXdqpWbiAiwUjq9eoAAMuNf9AD1gkhetrLCH6HlaH58nPkg7SS//tUxJ6ACU0tVaeUS/EyCKh1l4zkU45GlJz+mJgOeEwOMYKs+lm9phSLT0FRMzNUplSg2nFCC59mlLs9Y5LXs9yCqlVIU5YoBpkNGxno6kqoaDiA1aAw4AUwfSJqZqUtTZApm+eShQZTnJebBQwG5J1DRRBttn9cBiY/76ptKcqHiT8+Ncqrm2bVuTX0VQAAkAa9tamxARtGKmYCPDbgtmMFLCjHQvsT1lUM6rgRXBCnCjC1EhYJsFDDFDTRMVAD//tUxKiACGhBZaYwxzEnHaq09Al2/6VKLnGuRffWSfpPzybDtbq2oplkrO5dCKgAAYBPP/s3IeoWoMMMXBrExLgLEdTmwsrezCEgIgSI3FjaHrW1wVDoLKC4ZWRUSYZOv+ubEaxYCUFv2/SaLroZpimeWPMx2bAIoWOaVQAUPv6ALxgeXTQcbVJsAYKBHNS2sikwXPhQ0ccukr2NLij0jHOODxcPnFFRd4D+sfcw/2U0sckpUp8WMr60NJGCrBdx//tUxLeACLAzTYwx5PExh+bJvCTg9QA/eFQg3GFOLETBlAwRYGAEwF23MeAWDUlDCjkYk6P7DxAZlarVCL922DYdHuUFSZHebva7/6Wf5JKVKGSYq0PX1ObA6mhkSMlSdlln0AAA4nLbbIkhDZEg5kM6C6ZqGmYnMrE7zvOlHVSqGuIqZHoQkLRtrM6uZU1/SpU+G20AqZmPT/aYHeR4oFWFSLjCwnLDv05FwuZiz9NIARSJccltltkjjbaSYSRz//tUxMQACXhBSaw8RyEyB2m096ScKTcQeQE7CPBmXhf9e8XJxtCYM4qpH6XcBhQ6Zwp8g8jcX7f2jtRqLrGcq28OcXa5G5Q/0hwZQ/EnjkqjDNI/rGNTrvSmM6z+73lrG7r7eUs1c/LOpl/P1STlu7nVyy/DXcdc1vD8u8w3hhjl+Pd29dt27m2c8UPTm7Qcb/9dAAACECMBZYVX28mkrdSjFNFCNHhATYQlor5FPGgQNBzz83kRTOkWUpkzMtC3//tUxM0ACKQ3TSwxJPE3BiaVvOCYYkcGBZyngwKW5kd2HMjTMTHbnHYEjbWW/k7rNKtT7xV5DF5BG4nFIjbwn+2t4fzlzLfed1n+sf/LlnlrLeFazrLuf95j3//uX7y1V13eef/hv/3nezf1oY85urrZ/+QSrMsLrBJQTwzc3hDjpRMT4MkNQ2ZZSw6D4ouQEmsNAnlMWJXLWryQazbxXGpbtlRUUGCp9qxOlhkgKLtbYxjECUh62EVEyg0Xysg3//tUxNkACZQ5RbWMACI0Hmg3MYACOwymjY5OTmEASbSgKEMn8sGSOAWEf6icloY8uDQIMDtRdyMPpC4aaSxNMocGnBL7ONjPm/v/V5vKr2ZvVO2u5+KXMRRykMerrZ5iDq1qzmvGoLkCIshDEUusk99axmRbMTGn57rte+/vRCJRJeNHgyve5n50Gq6FBwEMWSTXC8xRJNSkTqEcmLFASgEYJY/j/SRzMzEIsQME7DfPXuI296pf03l4DAUYbyv8//tUxMGAEZzvU/mskhFLiaWLsvAAuFrC5XDZxYEdOtCXaeaMbjOlceMekYakUscE1GnRQfvJLqFouomYS02tYDKYU099yTaNjBmemmZvamO9LbM4d+B4bD87JbZ2qo8rXvvr1/rKMUzJ2+La03KT23n6ZMmQGjCBj9DauiTroQOS6d72nXJvZrpzu+1PpqujP7tQohDalZDh6z4pIUAAAaKQNH/1zbHQIcHBABQAQ7gRyh4JVKnWFWyr7i+UyGuP//tUxKcCDZDtLO1gq4mBFSWlt40wCJ0GTUFiEhXGcoh8vU72t+M15y2Ku8gnrUXY2F8KV9i/fAqOieqLP+bv3/V2fb/7Om5L+TFm8XpefCUAERgKOPRpIM7Qnhx42DrK+jj6uvcQlawXodEIwPT/3rL+d7fcBvZYn842mVnnqwwGbDsMVUUDKNMQ73qYtUaImoC0WsuhH+dHNfLLnUgCwQtICEKadCQlZ6DRMADA0Gw+0x2oeZXNvdWVihKyquj4//tUxJYAC9UzP6wwS+FzjWh9h6TlkQ2XO5plrMI2k4wIBDHe2iVptu4iZrXtT2xcIGGQTPteTGKKJijQiLjEMmlM7NKEVXMQLVDVmRV7Wv6VFH55HB3UwytB1keTKipAg0WWVyRSJDFeO6jfx5YavD+w2cWsdh4i5vOm9PYGvYg6A2D6xxSTEh/rHjb1Ji4CLtes9ByC6ZzV7K2OGgkRIJx7lMGUp1fDhyeWslVqF/M23IDWSJhiKogngmKUhSFM//tUxI2ACbR9NawwaUF3kGVlt5kovGR0og5MZYEAIROYIw8nvKs5EhGcrPrkHZ6e/H332/ePe7Tvet+Z/keV1wWaFhgkuvCAz6VEgNxblEO5LP/il8v9cXX/4wAOScoeSB55ASAtuHzD5cktxQGhgoYIgwwsepLBya5BrzkDQvDgZiiPKzEkGoySMJu4qs9JhDL4mKz/MeX+LJfTF9mfB9i/59/MZ9/9ooAwqKhYsNWlHMsm0xiXRVkHBMB3KoWZ//tUxI0DyXxhLg0lhwFfniaA9Zlwyf24v5GMF4W1djtPQ/Jdgix2hjiM0Pm3mUtEbUBEUaAZVzg6InZl9uLdxDll////1KSJIVCoMLAsUJgb0SMI8wgkyDZ4AKGp0CQ6DYL9xlyNDTs1emsv0yhZziZVA4qwIGlLuO2HqzjrJbnG17HOOHXJewaasH22u2xBElAqBMH9JmwZGiAUW371KxCZOmKDBsMOKkhSxyc3s2meSlnzqGadhdw0P1XBg9pS//tUxJCAC3TlPAehC4kblCjkko0ws2tMYVeWkbFIqSXay1jG2NSHjGjKGqqqoEARlhFBxAhGAcdf7kIyWIRNUMBSHbthCSQecyG1Eo1FtfKx0UYps2ym0dmv3terJYolgoUJBhFpJJGTNJNtztfgWy2eQDVCTsDoa1IoVWqsKJzxjeZiio5UMCd40EMsy0J4H06X7XPIqpcY/+L6ql9pUZjHKsvKeRhhdoJnDwkIwDyc68uYcHX/AzFPLPQpkKZA//tUxJSACTSZTaSMaUEpkyl0kw0omgYGCRlaYZiMwWGRaMbsQagj+UloVuRJX+xHy2HHI4FTQ/CECsXFKSNjGh9VS2CxoEmoEiBIdOFa79bGxG8TWU26xLnoVYKEqRxmEgYiKM0pqTmzzNZEgRAiXI5t5NB9xH4patJKWLrRPIYMfd0r2vXu6I6bP5b7o3R2QU1TgySeMnRKADyyL0XpsTqMM/R6lRhMdi4YwIYhac9eak+Dh8uOAHOTs1ywJKrL//tUxKAACUi1RSQsSYEeGGeA9A1wPWHXyseSmP49iQ1U5AjGlQy0ClzUzuwBEIcAzCb0uSSShKhRRNrkU31IWTQ9/eaE4AaLUkkkkaYLsGMW4SYTI2zvXZYYCY2gVs+beSl2v0jrWLPbnZvk2JYu3MOYQmBRFi3EmwMsQmxCljcOagkcLijM/o+GFtZalpMXIB/j8wkFjHsSZqx4MlMQPBM8QECgAEBBBQkI8T0uj/UfAKPFaf/9d3t9PycgcMiw//tUxKyACUxPPS0wZwEjlqYBlIkwWMkASHrHgERNZ6AkaWbNGjalpGMIqoGdFnBuBGHiCswDAc2B8EX1PqVCS97zF8COHgdbPiO6v//z/8uHyjimNwxiyagICI8o1phk13xBiMhW96uXakEBwYoBg7qJGlBrEYAgDaCqQZvOAnroeBfoRk+gWCKUb9QMkT//9ogy6OqTBBhxiiJuK2pBtQlssFmrQcKIUwoEgUKETym0zlDA+fPC9jtQBK/gfNcf//tUxLgACUxDMA08ZwEuDml09YkqHKggqmIKagaXhYe9DOYrWkstmwU0doxQ549CUe+r////9Wz9fT1ZZS/+b9lGT2Q0lGozUc/WvXSh0VkKzun//fBlCy0H0UAU2nNbWkSWQw9EZMVz0IByMqM02etq5hMU43jXbT4oYm0htqKHIB5hyHVIYbf62lXfjv3EQ25qHtOpnlro/Y69eKjbJEDB0RE1gAJtGRwRtFNDE4XHIijsaDIoHQ00VQoWlV1y//tUxMKAiLAnPqzl5JEIBOfVnDyQ2IDQvBjis/B4eJhQodu/XUWAT/WLhxDdmp4XFjBUsDElb+2gSyRlw8Y1z+46cqUAbkk3EgCFssIH1sjKEKmY86LIH9iEaDpKMSwgEh3HiadQM5GkeleKqj20vRfPxH8barsJFBQr3pXtmmUSUCHV1Lp6sU1HUqtLd1o5DxzrKnn/+ux5ygYNhijsCT9YgADZoC7a1uCGQ7AigICCokCS/YEFC9UJyQeiom6q//tUxNQACXQrQqxh5IExK2llhom45Jmzc9EnLejyWtvB1G/QO9AuH4nID2f1gMRFrNOp82RLqDoiC+x+a2UNKsVVq1IAJfWAPXbOTqPAApV63YayhbAbsQLDQPREoARImmWQst+C2zNkLawChLtdiQBYMB5KTU7xvySLjvnr/mVil83rHlTJ4qAbgX7xQXRkg4UNPNqpzDST+XAMZrtPeoAx26MpyyNscS1EKJ6tHegEXUdZOgiQCZQLGE2v8r/b//tUxN2ACURJYaY9JzElhuu0xLCeYFvU16k5lt93/O/dljdI75yXCD4wVJI02oOvFZu8EbQmYE7tqiSlVEiFyLo+ADE0QADksm7wj5SpAWZjNxhEZXMC9agHdhgenjpjCvWrJPnmWRJGomgNGwtqJv3FaV2n2K6p1fNkikWFLdY0Nlj6TBJZi+MYLSDSVZ8eiDoEMLuct6hgXAwTNMDANtMb/9QAaurYBdbSQ0TWvMeYL3B6uQ6FFg+IkaCaFV7d//tUxOkAC8UlT0wsS/kyCim1hiTks3/51PO53/xmZs0s0ZuH5ldmyLX2nGRUgbLDz4I7xxCXTa1tDRU25BgQg4HAj2vCrRC0b6IABUiIVAIn/lwg06iswYkFEjBpIgmtC1mMGGlZscEigHz9rnjYgeXG4NGYDsToa5SM6iLEPTOcpzpmNWllI8qEYQEaRIdVWxy8gCoGqEATKgcOMFzJqlE24pYnqTUAC//ugtpEoHwNXQQNL4KOqMQ9RDoFoRoC//tUxOkAC4ibS6wlCWEyDit09JkuhTq5o+8v6wTmJF7QtFHR/rVQxkyKzllr4ohd7zMJUlWF0NNZxwnEpEXANizwvv6IHEznqWYRklUCFVWHdlsusTYggk0SIyZronKeYT8I6wOgnFTT6zrH6yCZ+ODKgjYEd+0qjgOMx5WHoJN5smJCLoo1Ba/ffVT1XzJI0pSxyuuUtSAKZpUG3I2oizRz0MaqAGnho6bokrGUGfNsDLrRcAhQIqUkTQk6NVCO//tUxOoADDxvO62xKUFDj2o1hJkuPbFP8oX9y9m14Trc2vodOus1PlctyI8pz585LOf4l0RzI365ObytfLz/y+Z+/0MjBIeFILHOK0VqBVu++221ibGA/kAaBmmIWWTMjwlJ3Daq6RJRMU/SfZMWE0OJRjQ7o02YfdqYwAjpwMCYIRqITHHnO93uGpxAskEA69xZjhcmUNlqjcCOKAAErQ0ut39hTK5TG1xYaFRrIyIo/D8PtC4rSCc4om25Azai//tUxOYAC6SdP+08qUFCDOg1piDkqkkEsKPlKcIZ633U6UgcirtxpiIt85UJyNS5lc69YO9b/+HzP+MXWvbo6oWxuZFP//MvWXggBPMSYooOd8a2mgU5ttbba2SRKChFGGYexK1M0CNpFJummrpDlzlNTfTfQ/8Tq6sFHFShpBxBRJdYtIJGpDRMNrNtxOcaDwbDARBxrDnLp2OdWbIdABu+311V8BqEUc70yhJi4l3iFvTwOA2gaeLgptx/Dp2k//tUxOSACUx1WeewaXGEJSZ1tI14jc9/uZi63nFpqveiVcmJjl5CmZkd55es/+9t8okhtS3KcPlnzn/9P5H/wvBxlJZi9N1FASZYZ3dttrEmMBtKhYXZ9KRHNb1SRdrGR6FKMAPoGoKWTxvXnskGCzLAmZuGaVCAWzTPxthPYU0bVZcfOMUx9Z1/vPpFzrO/AEh8cz7mE4bOVNxOWXF7aXdIwoIXPINJUgOW6OVuxslOUL8iHzOcKGRiw6XaYFfp//tUxOQACdxlW6ekxzGKpig9pI18QRWabCoy9pKEUBAUBA0e1/bVjmGjopc9NQGKNBoq/qo2NU+tqX/ppuDolCbQ9WeqRfKuyKoF7XRyOStkp5G6XllUKrbUObnNV70c7HEtQ1zY39uXCoTVGYlpvn5+zzn7sWjyu62VSz/VrI16yf7JX538jIjX/9v9pWKCkUNkbBrL1pAFuzTacjRLMLCtUJaw0COe16mlFuUSmUV63YjWOAhqC0QOiOehQbRY//tUxOCAiUxhV6ekZzFNIyqw9A1+tSq8ADoosEhEqc6DBXQI3onSjJRO3TX65ZHJRi+ZvRERv6/bDggMiOCQqBBEWdIoGUkaAF21sbuck9skiaJAAANaFTIDBLsEA65VBFJCxDLwcIj8uVdkBOu192UU5EDkO0k7mujrH4qKnka6YUKgb3JffJNRuiUHShLWkUU2oF++YCmorc5cPaDqre4Zo9li5zChzRNwoD97SFfNq9cw9wpKPIO49pVY/tau//tUxOcADByPXee96XEtDWp09Izma4tbdvrF/fe8f79tQK5zn5+c78NkXPCq0Xch/RAD7pTGshKz7XhbWLV2MMvimLuu/eZiFog0QwaFlouIaBWC08hwBNgtuHaAgEAIAccLgLaA5o4Rgi5h1E6ThTGbN00Q9EMAJzEbZfIS/9a79/0PY4Zqsy0UkDX/cvpqsaoIHiYWpBFLQQb9k1Mi7UEmWkZBi3vxgi9RdhwAVbEWVXcwAtepJ5WywTtKRREu//tUxOYACbEhUaeYS/FsJmZ2sCAAUS5Q6FBV2asWYTDg85xYeYjCSgzqK20K1RrKorluNcyUa1t0d/kN/W9mlR5uYos6qzlTKy/9F/q2xWemKvaUhWY65XTo7FcrEFkyvM8HDzboARvZty8/RHy4ifMh+lyQZzJxreGkLg0TYaY6sj8XetZJ12VZ3H+f9OzmYE2QN36R+Wan3uZEUMs4Z1Vzc0Q7c2GEgFPncm9Rr/Y7r/ytQC6iYmV3DLyrW82Q//tUxOcAEo0bL7mXgAHzJGfDMzAAlzoAEuNAAOKmgYo0CVyk0nO1+SMUioevhaYrV5WXKF1Hh6gGROgdiLQoVelx1Yw6yZCw6XAoLGrgq8iEhUREl4oaIxZALJGLJLA8Ywc+q6eST5V9aZ6WfLBhTapFx6sp12jESDYPTPyTFgUAaJTOHneN4oyIY+OnMQCxWflrrRNLszeczez6Z+1cpu76GWprOsSqdI95RSg0GytkI/sgZfkLdnL+Oyf5zzWc//tUxLOAC61dV/zygCmCGWo89I11Paz4fwy8p3PnDXI1YoNBVyEmnp9FACMzBMZ0ibEMGrQBrDU0T5NBBKBXC+nPa/mAwoAIowJUA/PxW3NZSsOIosXfhqsI5vpRkP/+rssmRwwZmUjeaVwwsqtJ6ZK5Q/vn+DzLy21wa1pgVdpRgikkj2vcSABbxWGt90u8RCv0kTi8UME9aw8qdbOnUuERO4SQVUwvJdQ4bNvf79Dk6wSxLZp16aSscTFB4qPL//tUxKoACtRtOYwwaUGcJii1pg182o1F2WqJe9ERHChEwkBDzo03or+u8rUGCbBMa02AxXFoygIC58BmlWC13UoCBAaDcEbNNDDF5zogVsHnTrHQtAA97XvdBQp+QnqRbG9x185neTvV8qlxaT5x5LxokWHtmAQ9u3vq3RrNfqhBZ3dv/rT7b1uHHAM2gJnP0CjkDBRKLENBuabuW+2XCEDIfF3sm0XMituUg6YFYT3Cr3wimL/7bls/3/YsJGWW//tUxKCAC7jxRayka6GOnGm1h5V0tpu9//Os1Kvq60t7qhgVHFykcrt/K163r5lvZLU2+176YkqRM+Aw8W0qVQAF8JdjbYvCxyZoq8Mmgu5bc+k/wWOGSIqAAoyVNM7K338ol09/D1Y6KYdoTUm+sv6aMjF5RmYik1GO72vMOTtIrJLEq6/W8hdcjLB/UNKvUkBmCujDc0SpZiTTDEmETI2olmFxXrNjuz61c/N4Ud/XH+6qQEZXsZClX9Lqi9P///tUxJUACtThPu08S4FMJC309JV+pdZnOJO27CGqJVXuvc1nb2trABKbcSTjRSFxiKtYoKhSNfaDi2OpueBqWgoXmTib/hxPmLDCLJ2E4sl4IEi2lPMEzi6FDhCYaz+rLTYuDxG6NA4ZWxhkkNY0TgCZspr5JRslBSDSDbFjC+IESRjS1XakZEmtNzZUCWs0llEw6BBxTXYhzuhaj3/vt+vRa89IsICg4J6Xul9kSmXIAYQZUv61iCQYMioot6UA//tUxJWCSVCvSUykSaEeFeelp4kwEEh+7y7W7baSRpEogzJY5UsxCo1BwKhAcxLOsdbamYZNsnVp3H20ehcrL3Gfxf1O46Gp8PNtwsUjhQRGGZMidekhqzRR2CXFv9vz8anrdqRRiU4Y46sXLd7W88cMt1Psa13dfeeeGscsOfhjl/f3qrqzlY7+Ovwz+wCaokcca8BksXpkM+r6EBE5JJJJJJJJJJJJIkjGxTBpy9oMANKdM24FsIYCp0AEP07L//tUxKICCZBfU6wwZzEtFSpqnlAG0vUAEtDAKseN9GWPVnLnZchGppiGzw2dpiq6FnedZ/bl/evma/p//nP//3r//3tH/385vXP+IH39/w4+GdcLDZj5YXrLCzAq1PFe/34t90hvXashV+fjO3tYkT039xJMQ4/hcg7cv80qBCUUkSkjJKLCVJ5F5FSolE1m6rm9o0nHwrzm7sZ0CSUZjjTIqaMd3poAxwebZ0bTp4iy6/lRURHVCjFXqLCUFVos//tUxKuAEQjdO7msAAIvpeq3NPAC9WfNvihJZUqMCiQCpoaqaEJ5q5poR5nUok7LxsvccNyeHqLhAMnEU4ThLc+iwoXB5ZEGrpF6yBiHXobKNqDAuGSJpbHG9WZikcsgnWl9wowHiI+4PEe+igCrI7ZJI0iRKEBI4lKQWGJ8lELtCQH2DpmqYqtFW7YOjlKlOZTev1lrfndUkbbWpJ+kjW/+g0SRyEgdSiwwergQOtA1qvbFCQoxLVkG22bW2Vwl//tUxHaACZhjPbzygAEzB+alpIzgAgAcNUMn6fh4rek4CzrtLcQNOjWrx1uhvyHtvnZ/Lf3/jOQjbX+162nuBDC3YqpzrZd8y1RruU/yrp/+mdCvKLWPTXUP/5DpQ+us1NgwzUNvG0BFo2SOvD6gbcitsKPVSVlGspO82s/+2tZU7o9yKz0t7t9k6YUw3+wMCVspME7Fk93wTB4EJ8gtYx+ittABk2u22ukSSgJgsUICmMrluI8G4jYwUClGGZ1e//tUxH8ACXTfUaegq7ErI+q0wwl+zJ8ptAoZXrnbamjlRk927MiUJRFxaoQNtiaUWQLAcwLHDpdDaXe0E0ENT+j9KgS7bdtba0SShEIDIqCpBH6Nw009cuuBQu241Xy7R436DIEFnDwRSLgYVBQ4syMHgc8Iz8UOCjv3yFbUnyD3yg1flJgH8f/bsMglyW22CRskqRIj9LuX2qw6TS07dgYGBqKV7v9Pb//+9evrnRroVJ3cgcDHOq5nt9aFBIU+//tUxIkACVyjMq0kSYEmFGu0xAk27q2yG022L/t4ULGRX29ux9ReCN2u++2rRRXPVUrtTPn7MTckgMEiqI2iPxOpzhDMhk9pm5MTnzLi3hsiP8brw9Vb7bAVCafrDF8sF73k3gentUQseK0/toQWcoAy67bS2NglZHKll5DlCfqJei3kjazpRDk5NNK3jXs1emoEL8qvajrMV33Rwco0Qp2pYHGViMXphu1ZFT3IpzZIwq5qFRK06Btv9YCqADjd//tUxJQACRRLWaYkZzEYouu08Ql+trkaQIC7FxDSO4n7QmJwrki5Lp8nenVM8rSPUA3x9NRz/SygOWDJuVMOKp8VUangApLPUpmFxUqTKgSFFnE1WIE0JlQA23NbbY2SRDE8KdcoB26Q06E6iCwOqPLM9GqwltxjWQlcrZIVJVp7jzbvt1mIOMuMBCgVcWHlRYIN1NFGTVR0e8qp45FnZfcJnazNADbm111sjTDINhYdFlGYkoeS6hGYeHenTsbm//tUxKIACShvYaekyXEwDmt094kuLc2fhyv6eVXZui42Tf6qsCAUqZLTsJ50ehqELQ1sGz4JpUguERZ5Xo0axtiXXWrGC4ASTttkbbJQek5FfOoVxQL7O2HOIjAhNvMGtkhinB/qKS85TqCWVX0p1pZkaf92d0XfixYBvYUQo06RGidrGBhGg6Xt+CcPuagv9KoAFKW2ySNkkLgV46jvLqu0u/U7ew0AWBMXPY9ZaeZe9J7um0aOp1ZtX0QGBCgh//tUxKyACNhHU6e8xzEvjir09KEuGurWRl9UowzDFMnft/pO7PIhXsLBGhm/sSBR/ZUP0gBFOST/oAnhQoklDitWLNehqOPCB0mhqnkvpBh6JqLrhR22Pk+yaXR0M6MHKrbNazO3o5ocHGbOAHKNIQHwJaK3BhdvuuVZ9CIABKbbO2yAkMLGYCwKgSHokzY9NvI9oNEJgTKqmo0XjSUch9izX9+cK/8880TO8jIzN9jbZ6enqGoV1bNhbbPsjiIN//tUxLiACYRvW6YwaXEsE2o09Iku3RSlOUfQlRJvrADLllkkjYBUUPsRsSBALt8WzsCYUCAtKJ1cc6SWP2eNzW+DM2xrKhU4cZGRGVtaJmZ1pleEjMI45aq6fd/9CgWSabrd6wAm5bbJI2SQmBIBwEgLY+QNT2VgSLlyY2WR5lbpIqtPpbfr+FCBxBpOnuRIlpwTzYuf8ssynCZwE6RQ/0JSJ5Zz1lOlqbndJlIAhV//tutbguGGogGpoLZYKrO0//tUxMIACZzlUaegS7EjlGlxhYk2CWukDmBtekyVnno/LzP5bw8nVWLpJy8fru4qCRreqoPUEQ2aFksFOeHteEyXInkGOKIVrQJaNLLxegI/kYWWnaA50sMamTGwMJQgALSfYWGNGQpdWES6eOCUXIZ0cNh4bWJhOBknkMDpq0AkC1+M9IxA4+4lmCoqMPFYURQ7td1kUGzaE66wAQbfddrGSgh3MDOM0dBBoyYttG3dSGnKdmQg6pI2NTjHPROu//tUxMyACZinQ6ykaaEVFOo08wk2tZdCJVuPqkomNjmiGbEoYW7jWRrTPalNfst/VH6Iy6M7qrjo1AgLh9qkL7bip5wIFDLshQAAHJHJbanGFBZu4plnRiUZj0gkFTyeRnaPYoLJRQzoqqlLiz6bWOtMjkclKXIWxZkTIXJYecA7cbIqWos8DDSCEnR0M9CKkJUOPCJL07abnXrW9FVXUEYn//ttrZIOk2JAl/bAoYtZ+MSUOcEeJgtMmaTQoutb//tUxNkACRyjUaekabEyjyi1hI0spjX12tBfiMMsI4GvBZOy0HQxYYS11LsaRnTVfQ5p0Qg4HHotQLNL33tTopmVABBV2tcsjTEhGybl0J6nxFDFN9Go9EDgaLqCmHN5FjxL2zfNvI2QWJwhtbP9f/x6XZVQo4XYCGk/Zk9lStRQOuhTjG36MJpu7ksUYKzzCJKxhhcfAeUaSLoP3KsYsAAASST9KxIE8x5piMQ0ph4NBYERGZAAggVACmA1mEcB//tUxOOACZA1LK3gxMFgm6e1pYl0+oe8fOF8U+8ZpXWbUScgE4qJL316nXnL76rDqOA/4s4CNFX+Q0RW9JRTROhqDvyB9q5f7dYAAAGfka/bcKyInBO2kGRSP/gaBaiJHgQddjwUpY3LECse2pfnP+v/ezwoIz+wfECWvVBcD2u/f/a9EZDqQUIh2ocWLvW8gk1SocxclzIs8XED2PJJQAACC7U/qhdHGIkfRby9KUxzmOsMBmcThZLFTqyDXabj//tUxOaACtR/Oa0waUEzj6y0940u/6cOnT7FZ26I4oFh89bcn6/5KCHzYwdYGA0IkOAQvnxQm2RQ9zebqgAAbARrbgSrDZZ9iRmQxnEIdKCxULljZLxYAFRKAkx0+04CQcMSaVUXbGs+5c1z+4fZi0OpDwxLN7SjB5nl4wpg8Pvz98+f/f828emcp9QdwvlYXF7Z97wKAzxAoTM7eSKG2FoDDDk0AS4iTa7BMkLIXuXpEREW1gyYI/IFChLDTAdw//tUxOoAC7DnV6e8q7FVjqgxl6Us3hoDZFG8PL3wZQos6YjijRI2fP/YmYVIJFFEMOqJLr031a+lSMFB8VFir36aq7nJ+xiH0nRxzDxFPU5G4gkGA6RXFAAAUDKDerXC1KbrqMliNVmgiG/IyDyBwIFh9QZvo5q1BryY/qfYCQx3S6Ow2zvOYWIy687L7fcRKpBcVMJjkMLhgRsEzkuhkPHwkSIhQgJw4f9d4ndtKHhti6AAAGBOg97d300mFBxg//tUxOYACrSvSaw8qYEglarw9BU2mHPP8l+ocpB2pkkDAeQEy4XhjNSxhFXuH7lmU5bH/JSeo8XGj3GhYPhcPC7abj+Of+9EqXlqRbWP//2h74r+4hUcfQ0e7jj4hYwoOYkYEQMY3rTW/roAQBASQB2NsXTgbMA1KcaZa4zlsiDDTRFOeClNkI1hUbY9aj1qRd/3xdZsMKYM2zMtErSPCCBIk//+fL/nVJUtEwGSDRqgXYGg4wIBVz0Fp1anNqx7//tUxOyCDQSvO01gyYF3nmk1hZVwEpUsABUSFV4mv+bguAmz7q0v1FW8aY9ULHFkJiYtbZHNWxG5WuNodOiXjRIVxyuVXQrFSUgaYRdtO69KGVSD/lDSem2OfAyFbxp83R3n1y792/698YlqBbXPy1rdAEM6l0rnzbEAisVmg0ZIAcmeVwHkxn4QC5aM4UcBlXa7lkl6wQUzebXLJhayflEpuw0NOa37ryIxVEHc5JXoZGelpCotUirDIsLLNvID//tUxN8AC1i1U4wkqbGLHqm1hKFw3tvfQxLBY05Kq6lPIgqS+XeW3VuTAwDeZRuqsWpBaNJoMAYKEDmDRY5GtpJEm00Xztz5g1lbjH7vmcG4kHPfJbt295Z0vvdIsaOjU32teDSQ6EknlqrjvP6nMqaTFHEkWUUqAEr1tslsiTeQb58bMLJrIaqznLtCQuOToUHy08Ztsy1/5vlqOFIpc9WY5BJbgzCm4s8PLsjGZK2SCArPMly7TjKnPOfiEwEg//tUxNWACvitRaywaYFnk2n9hhUtuBCYP3oY+b9AATkbuuv1KbpD4cJHGiAwtiNDIn0fcNkAwwfKSTKEueO9qCKUkpEhMNFbMtfuimEhplNadWpqzXFXgu5D/RoXGyj3uDaSkkhcdFBa5V3kuqoEPX+7bbatsSE7L9MlsNc43z1d6VSystzG5DyOJpb/mNMLfalv8rtrZ33fhZxBKUwoLA8lIRCeac6o/YC086lFoIFV1OdqOFFjnqGN8UHgC222//tUxNIAC1zPR60wq6FWEqu09JkuyXa7a62SRtpIABRAELBiaAiI0rDE4hGmPDmmOsCCA5jgzH033hXCwF6kA3/ERxTjMri2rKKDNOZqc1WsLsvZUjxUpOjKKdQynnAo4zp9OK5lKEwINaQHaru5yQMt9rvL73isGBnHxuJ4Gr0kjfO/d7qtoGXkmd4xSVsrueetcwkISpbo+Mhl8bUg+Xf7f/7///bXSSSNgyg0DkTpOYkSQBtBGoGkjQGaC7Mr//tUxM8AChR1V6ewaXE+kuh1lJUspm3l7RFj3YjPgbplhTLBbIjgFCebdLqVhISWbtUcevCePwtlJ5Gka7FERytptGs9xjGunJ7cutmv/O2qxi3nL/Rhx9e/FW31lk9ap20n5le/S/wvyZvvb+7Zk5mGZmZn5naPmj/KiU6GgLK7rJHb+5QhyJDAZMQY2lc3CGJtyIxY3G43P2KQAwOPEA4RRMXZQ+BzEEBRSChJzvIHxeIM5xM6nP/ZmV3OeahO//tUxNQACcxtXbTzADIwHih3NPACqLtQ09f1/20R1O7bIyq+/32a6DiiKzOm9aoAIblFbAmC9508CaoFGAg5qiY2wKR0iUxWPrxWigYkpxMx7IcOMBmFIYQl6JLiiiwl9ShPCXQDSKtQl2VCEkBUDOtKJmcqqbbe2v1kHhoHQIgbmZ4mkGndHEUyYXHTYwRsnFKDXvZLF0XVVvfbPl/W+Im4/7nlih93dPljvUf9bFZ93UtV5YeXcfho/qARqgFS//tUxLwAEWkxVbmWABFrpCk3sFAEVOQZLDtDhaOEAL6k7oGaFQmlw0tvnTC4pyOc0VSDyOmLEj6rWk+XvPyfR0zO1tZ7Iwa30nyLilsduf/G3//eyXdEqeCg8tzeuePjWKc8qHQZ+BiqR542PmpWtBNq1QABKgaGnK0w0csYVRHgGtBuSic2V5IFFWuHBehUFJxGpVfX7u2rd3LD38Q9b82Xzcb7LRRoVJPQytbo5xIe43fGMvFxc4ccpRQe5CG7//tUxJ4AEZEvNU29a8GJlCfpl5kw4sfcO+k9IgC80X2CN1TjSQSbCEAJbCmctEa9FbAtSH6lS01XEBbj31enE0Uns1mf3uTPzdW2bOqVAq2hqOrved5xpcec8dHCI6fR73evfbv9X2d30dz6Jr8+7JdjKny1r2xqJBUkVqksaScUno+0OJQoEihasOsDCMLtEpG+4OZN7GNbCTGzm01sXcyyu+0zX9I4ZBoyH8R9uyVEVV9S+WF3N9yzYMLOJMCO//tUxHwACnx3R6wwyWFvJmllhZ1+MoUsWS9DTbBd9j075cyUIEwQAWhUrJaSW0QRikiwKSBF8rWiu9cuNUgkQUY9CwnkeqCtfn86BLAPIfCJIcQFwngDY92eLbI2+fDZ+71GyYjsl3LxjTpI4mBAmNYJ0JCK3kwONk6dJ91ddzF1bWUa1QAW7lkJbImxTKqpioMiAZdl3nmeeGQJKo2ltVDTIVNH0bcvm0pClUaeiTgavECCGRL/t+nl7/oQSCM7//tUxHmACxilWaelCbF8lWj1hhk0qrWpdR5Z0AOnHE+2ducVuUFAAEYhIHJI5A2ME4R3MQD6EIYqJQV/IIIxVIhGfYehesHzDMuU9ljrNQMFqwEdatdS0M56fRv9Wr/Q4c4r4rDQkhF9qWmTQ4ykMuV0tHv/qQi3bW2XI2Sm8OEcTcaKtNKCLGTB2diWPzqw+FVq5usYERJRbKlbkE3tKlACZARsqxA9imREKBpff3ma0sLKaed/qAoT7umB0DUA//tUxHMACZCpTawkSaE9FKh1hgkwFWWuQuNnwDnBrH4dCPVj0yhDLK7E0LbGwTEIQNqcmYewhfbdEdh4weyYi0iu6VNJQoaTQ2qMQy/u6qOscTHuWWcy+lUBn/Sv6xCo/TUByLAEEQ2azADzVQAFDLK2jwU4n2Xv91f9hk2fj6tpJ1JmxGnLRM8vhnP7e/kLr9izZNyhfrD1/FmmmhVhcumXi6UyJCltstckbJIMEuBb4491kvkUkhWWW6VQ6PuN//tUxHqASSxfVaewpzEPjSo09IjmoTC1eE564cSCJQqMOvJEhC1MsxT3iA9rY0spPqdahLybDSDmqm56ddYAf/+/3bWpMUJs6EEgBK6ed9+YbpIDrmTRIpnKWE1V+LpHzfR2/u//x/v2Ve2tKkro6/Wlf2X9KL6/M5UYvZ1b2qm2z2Q5RbrW7ktaQA5P7tNJKAS4YtoHHW0mk8jqQbBs6kgGDDZj2mb9VbL7T+bSfWY49mpXznn5T7e/UM1+wq/Z//tUxIkACYypMyyYaYEOCKn09gzmIptFMiHFni1FcyXUlVTVctvnZ3+vRQAAnEyy3CSgOTNAhhjbOmn0og5rtVg8ZiQDhNBOcXG5qZmZWaUGSfZNMw7UXa5kYoqXc0Mir7gCHSPoWi+lw0peupzN/wgw0NI376ge7kCBZzh5b0IDqGAZU0tlZ0TRXgwkkwnTfMxnDm6gY5F0bUZnGhrwIFD15IQJNECjZIEOlSQw94wVYPLNc1+mlizZ6wWLJxdz//tUxJaACYkfRawYS+Etlye1gw003egDs5IIj2JDDIHMXkHOrIiArGwYIm2DiU26IJxKWkVv0Wz7ZVf7Pb47phJ5EyDYKoOMKPhcnFXBNYJa5+4YdCrwG+QsbpJsJVBUx1/0gN/IM8EKJJlFxxkUFnrvgd+YBkw2jIdFb8gkbe3Va155tmKU+6VOofZKAUg5TktJU+R1ZHIYcA1ih9bNz2y9LLXfdS3x7HkGpFFpACKjTVFbQ2SkgRPUTKvd8nhB//tUxKAACXhxMawkaUEtCiVVpIzg1RIs1LHNqNMKBGIBEB3dXA+PBwcFTNMHyBhYcWHLQaJTEuSEnGsTiSpbnUgFMkEu/rS+l+oAGRmETfVBnH4qkaM5MG0/BwvIVmqD5+sYI0KXi3qAxwivEEB2EK6XujgRDA8AwZEjHy5EyARVD1WLSiB1XIqdhQUiCpwbU7JBvoWAn1jjdwc0M2tWUEPJUyuldplasQbIQtahlqqBlIfFJEWCow8FgqoiZ7Xy//tUxKoACYRnKKykxwErkmWllJUoDJ9OBuwGBgkjrR/73wg214RYsih/63dNmiGAZLkkBK1IBrAiihIYCrI4g2eMnarax+VlpuaiyxbMVqmFTJAIwyS5qGE933HFTDYGPMUw8LhOpcVzr0yR4mSWMqpNLGaj6b6rfYLqL0OScEAH6kUlMizdsh6lqAewsDHCQnCRNUWUIphJv5IlcQYyrmbB2SxytMhWJmS2mq7JTt1r8ySf3IZxjEaYVNX1phBx//tUxLQACOBLL4wkZwEqDSYw9IzgKPnbOYFr7lq6YHBDJkYJiQVHRQGTQVgSIF0eEbph3JcEV1maigYIAWMyEFPAEcFDptINvHJB0BIfMCFQzdn5oNpOJFA2BH3Fb0fQFluFk9UOVRqphtAchsVlZJcEl03D4kstrkNtbCuPoghkOhcdmBMwHVFBgECYBSTnRpZQsnaPMNIiMAJYwkNYAUpaku4GxUyt7qHUFlLJDmuX9fIr+GmB+IdGRqtZlGfT//tUxMCACIhpLgw9JwEwjSVU9iTg1tblhZxQTzThwVJfrc+02blM29nbCoYzGvY6u+VS27X6qqGdeSbN71fuajOnSeR1I5aFW7jFUBnL1Seu5hNSO7eTIMzDlHZWxhWoc0JbBMTIWN03DNzIZPSMmMXP6yxCtCmfC4kc8wpRr309U+m2/V5t34xdjRnlW4e1RefX/p/wOAGfUX2Y93efx2tlOOOROfsYEZQDmRQHwkPnUBIIBPMuQsD7dTJk0U8P//tUxM2ACTDlJqeYS4Eyi6WkxIzglSVTvngARAPgYRkdoBZB7Sqv9aPocVOc7/79fmfbqML822///8fe3qj2Zf+zefYb75UQDverRoFbOaBxD9b0PRaAUbcEwLAXBIPMpEqxjSZcsTU95KZMTL8VcRU698V23fH3cqvv9MhDe8n/09/1kw5nIZePAgsjJ6cXq7297flOn/e2/aJ71cvnubtvv/1/63deUDHUGSVyxPqsAeA6RaDcNM5ycMCKJ6iA//tUxNeASYxFJwYwZwEtIGSU8wlwQGzjIkLxLJ7kMgrOSnu5zgyeVOoYZy4/1cz1P3b6TxN6S7MOUruns3Zzl2qr3SHFu3ofhNH+7mv7uTHOFD/9f/GnzcpOOS1xRNJgEjQfsiBXBfoyuVAoRkw2VAI2HxXE22FowYyW0WGdAwiHGqyEHFC4SJgEKBEe86s40a0OCoaMgMBoi2uxTTpJTBu1VqfJnXaqsnepRVfWrKgoCwYgiLEjAXuqIQvQqrEN//tUxOEACayBJKekaUk1h+WwlIzhs/cWGDKpS/WzExrSEsrSm6XhwodzgiczYjxBc+d5eisMgsr9dF/lou4V9uf0bTd/4u0mkdV7+5Q2VNf/m//P72oSSTWRSaNtSFSlDrcNuKuZCcbB8ERESqK0KSgTf9MfMucnRpakbt/tLSraQZ3ZQBPsAI2WkzAdAg5wNrqINpHgIlD5mNU1a+Y2MSCCHl0PY/Rcq7oAEkAAAZItKdfpOYvjmdqIOG6MIgsK//tUxOkADOVRIwegzclhlGVw9I0x0RKuXP7i9sRnH7bsnG+lkm8pYXQUJ3dUMzFeKM2N9vLOpwizJZV6zkni7HtWGVahHPraXMVheNdN4WbLUL+lVQim3IkzKjDS8PBbj8cvAKRpgTNCfBkXiqjJcMxBo8NAuvTKpmYY9GpDoLAYBEbGLGqcWYAmo7JkasgfHhgO2n11xSVacpgdNMtR0OSSSSy/oAGkDisnhQ2Og6wnKSoZYBBUiYUPogYNoLnK//tUxN6ACkxfK6ekZwFTjaSkxg0p09Qj3UcNnbUUgSMbGcYzV9XktaNtjwYXJBhYpEkdWwadvNkmHBZQcrTx+1bVKgVaF4AaZ2rhbiHWWozcnjhSrlAJYDaI3aFAzfi90U8lO03L1rPlGXQ4Q8EbAuNy5rLDkYqf99SJCmX3+l9BpDRv4I+8lQkUIxx/0W8M687iThPs//r/+xYVHAAAhpkyRg9ZeC9OiDn8cyHHbEyuCraIOzKPRSRvT1FK9nkc//tUxOAACohrL6ekxwFUnCPg9I1w7LHrK3ftFx7F1lc/LcnNjy8pnnrcjz1znmDDgPF2vE7RUiFQdYFlAFyS1Aoi5bnv/2UJKGlahlClL2QgsBmkkOgm55jBVqEOUTDM8TNBfIbAeRIPboTPDtB1Ha48fEHxYOoaUyK5wiNzVOxqTBTojY9zzq85/75LzI7HLa4s2mGJ3oxUpUYrI7kM/0aAUqAAlYBljHDIbk6SaDRcJ5TpiQ1fJExgGSB5HD7i//tUxOCACVxZJYYkZwE1EuewxI0u8mZtzv4gb19fd9UV6xVJOG6lzfemeVp1Mrufcs7849UmR4RFfSZUszT/4CHIqa8KKrpMVW1qV9rZsj+HSpdn0d6aTDKjmYDo5WuRz9etX6wxs/i+DKft6bSn1nekNyWPUffSIXVj873qoezTny8n9/YsrlEBMnRy+ZceKHRSC99KzC0umaKARDailV/dlmxlKuVIeZllxmMp8nQ8EoqvExTEbH0ELPWeggyF//tUxOmACuDJHweka4lkGKPk9I1wl2DZ+9afMf0UropDFM4JzGPdC05aXtWxdUV3fdaql69Wfqdfau7NimOEIuAP9HpqJKKiCKr1WI7ISUzTkE+MKI+JCShW0gHaYPDgr6uzzxdB/wMn4wrSmJlMkiZP04JKB+9/2JcFDzRZdExtLnRIVFCRR6wJlSoVx6GHFLUhtKvv0mQAAAlHwn7HWYXIFJRyWULAJpOphDTvbEeagxSVDa6srR9R/Ej21LBd//tUxOcACzDjIye8a4FAIGSk9I1wPtPD+0QYCQOLkx++EfRylt38ZN+GieXr/mSQtAwZNi8WQFi9tRdTibCUq0iZMRVHFtvNwreaBBgCek6IULecCgZELYYpOE+rFWr4UhK3xDl9GZjX9Nag5+uwcBwSrqCEsgU+j84l4SSap8H4s6KC7OXl0CU+1WxUpbUGk71qzSQFACAAA0JGcAeMI+k0bJKw6SevhsKVKG6o1MuS7FgAjZgP85j9/K6riHAo//tUxOeACpDZM4ewa6FPIGWw9glw/JURJd7W4vENxNfMZraLbHfMru3t3K6K2BZqiJdNMARAC7DKp9Lh5E04VHByF2l7zuf//rpWVuMyVdqkhjniCqJOSgdyqhqoPjp0CzxxUNRRdmUlNQRkhmoRq1THY6Kt89zMGnmTDN2Ff128xMCHDZh8fPb+sGwov0CF1w7ZsK29euPyf+///1/AEIMAWWBdB1ltF1H0OcsLG0ncRbCeb1ejVL8PQYBWue31//tUxOiACjyRKYewaUF8lCPZh5kwa59MhC3KtHmGMx60L+6MZzHJArWUdS5R20L62ZL+um/ggx7d9u78/cX0f+WT6vup++7/904i8Aii22nITJCjXVhJkQO1hJMp1eergqzddK5zKAY6ww/73Si7iy5b/xeFq0i5uUuXQKwFrQRAQSQQaHsPKekWmDzi1QxkWMrnMctlKhCYFRUTrUOIKqteLKAwAgsKFIJyZGO45mo5GWuoKjWn6IZ2RtIGLgho//tUxOWACTiRJwe8aUF/E+Sw95kw1V1Jp10axuIFPGe2TowRIGiw8sxzAg8NLdaRULA1SSQ5qbGKSmBiGGD6490dTv1qGUJuLUXVWLSdQalSa8ScSqGZ4dmobAkPy2IzXwsvQyuWQTSehiv71IRZHwnENdD1ZzkvPqTqZ9z1j5+nfK8r+Rua/sapTjYW9Mp0buCdzXzDNyyk3KxIYkkCWKCOTQ2UhENAfjiDcRDoESRAIyRIvekIYBc2IYj0RBTD//tUxOYACpBvQ4ekaXlVj6Tk940pi4Kg4LucEEmihhzSQ5JgBn4o9DGqKjXLUjQHi8TAVAlBOQQmECymXVI3Gv+mCAAABhTACkSdOEl0SAtzMXVD0u6fnmhrinl2OV6pG5my/ewY242bSxd5lxmWPjxwxEFOr4V9Y15xiNdzqERdM28oR9ppzG2xAchxYoXKiEeE3pQxjEisWYzzPQ/bpHENBgWahKvYamYcikxfEy4UobmKBEAzMTz6ffbVhNV6//tUxOaACzxpLae8xwEyCyTkx5jgOCs4745CXPK6ocpG08707k1h1MtIlpEZmU8+nkJUTBMGRj6SZotQDYgVQwgnsM0r3iFlQolEwNQ9nLiuU9zSQEsSmkQNpE4IE5LR0Ba6Wahyq3bLizSp6eyiDoodeZErABtiosomlJNRd1JJbQ+WFaEIGNEQqhlK7VjUCJCs8Jtr7EASIBQKwQshZcPTLePy093Iyv66MzEhoY/DwfE1cylUvbutNtu77md3//tUxOiAClkFHgewa4FUCmX0xgzkxX7lgOgmcpule5p8jSHzL7WJyrelcpbYjlVNoZZ8uWZFLOA7houFAiqELEJaKqsQR15BEkbrMcdcaba8FwdLGVKSYW5zyCQsPkgJCJwaMIpNIXRllXFizDiiO6AjxhlMk3c/mfobkH6aCxAMJSA1D3idTE1hkBG2E6MFDYoJAATAp8kkaGkQo97ovT+qWnFKphReHOYquftC9ZUEwwaNFzMbKsCWQsPAfwUW//tUxOoBy7jHHse8a4E7meQBhI1wCDiEYUtwMUFREARQ6qUItMTgDWAlig4MmYVDU4oe0hStVJQQ0H6EN/5hDIQMMCxG8b6al7uxaBYLfd9RIMkAwjiYIjem4o5vTlSFqUVX6m72iXrrcRUo4MmilCIn6+ZSnqVRsp7PzSmkXT2CUcviZX5KSe5pVzGw6kWAiXWrY9FXt1lXVSqqDK4LkYh1TKiIugK6n4LT9eoKw8KS9ZJGJAZhbYxqG3rzywXD//tUxOkACnRbJSwkxwFsniPhhg1wp4YJnCBQkIkjqUOHQToKAJo88BnWiQWsrSNDzI5A9zz0SRN9EYmj6C7tdl1B2EXouCjOAnq6PAniFjSOINC2JBvd1tDX2Wvr8537hkFqHHixOOrrFLcxx+tTp1nUylcQGguoyHmNaQTENt7RcmOY22wfI1a6gMpN6/m6Fq2rGVEAAUtx5qxGHU6rXmiVt32vQIBGFaEKAD5hNyiJpbNuDUKTfB91mXLDwqqo//tUxOcACziXK6ekaUEgCmTk9IzgKbDEUPIMCjdO3QyFM8puue8tMu5hWR2sFkAzxAeUeHDDSiw0tjjB9l1WtxlbsMoS63ZWf/BR8pVqZCxIoXJjLai54RUJINQ6MjCqx12lpUzzlYvybXrStbzS37PTtZxyuxVLNREFhRRjSuZzrO+1FsqX1Yrc93bQtX+qk/v61uyMqiiqTxqEemoRyy1ySONtNmCM05oh0sJzHCf85wsDTgqIGR5MlWnBa7Yg//tUxOuACxUFHKwka4FBiiRk9hjg3qyckHlu49Kke5GfBjcALMslSlECw/fh5Recz+Ajz/iA8mKvb+EM2PRET1jyFLx4jNEHqob9vTUt7aCplgTQDlVSYjyO8rwnEBRKA6VchPRTbbWYj/c4agyPqR9XsIQcUy6kBUVFwG2Ihr1uHqAIqCYtSKiJgCAYpS5TFquWhqCfvYxgr2SQVjmlibcTKbKklpd3zYN9CGaadqKM/yxkvgKFhY4jLAfbg3xW//tUxOyACsCPIyewaUFumiOhhI1wkdspnW7uOdZWJUjrowwXsh7kkTOlMz+lDyHQSJKJHmsfaJykVU5ZQBAVChZ5EY4JkcJaT2r9aVZSLMPzcbfiOSp9KcTiIEoBUNPVRI5J+aqVZHKzJ+w9/NMx+w3W+HInAxjoBxOrqZbhI4j7fYV+PmQiYTOWMpeGNR29rOWXnPwX2epv9f0JtGJtEkokqAqJQVpDkKT4oeJZNiJAIAUFUK8raQmH6rqitP2f//tUxOkAC0EjL4ewS+Flm+V09I1wWfs2/45fHBGWTeVpatoiiIZZY9IsvKubXhnkRv+eh/5unGYzyOn2/werQOCChGJzTt4pir9KtbuZJZZUQEIKFDixw9VLy7BMHVB6JkeNOwoyuBkCMH8PaPljRylEhEsKsaZIFjRo6gudk557yEvF1voaIcmsRJeuOr6mLe6VJTCxmOFFABiYjQJclyeEubDoT7s0DhCgAwfFm1yJGh1NP0SNxyrjco9uUKvJ//tUxOSACdR3JyYkaUFtlKU0940wD0tSrrNqdlhkGBjZuRllTqOrEk+OUXyh475CCoSZDAYLGg3CyACYMNvUKPfWyYroZaypFAaIEAGSiSTD8/AOXiOqDkDT7xOVDw4U4VLZ675wUDtZDxDVOIEM9dBDqKuzPkTpwtwp8aGZQyAjiCBtR0vek24AjRi1OMttjBK4IpVKsQdMuB5qv+SvquZqYZAUwTw8kQXAtpxpE/UCJS5wFUKFU50jUVe011IR//tUxOUACeBvHgwkyUl4IKS0xI1wvmV+ZYqWn7mlvsT81rrDmxqbLemLCzcLDB4Rm4SclLVlXpuJAieFCRl4wXwCqsq0KNffc7GqfmbFWoKCjMoP5WHmcBuG4aiITC06FYsFx+yvLcDtuo1mP4ByigJFEExqSHmfnTehT57XoAMEqkD6FA6g2OWC76XtU9rUVtbbX0WCxRjgcNndB6YKmuSqlOC0jDw+Lj0TlYbXH4pWGYJojWSS9dWXttOqdbGU//tUxOQACPBZJSekZwF1GqPk9I1wfVWdnf5OLM4Qhebeapcz0K5kpZSu6a+W8vbIdUKjKbay0Zq+l9F/0RWY7KLk2sUZG0kEK0UqVwQolMrahBXE1fEFfjGBTND4gyLcCFgRAW4RFZMPo9Rmrn241P64uaiwJiURFUlKZDctC93H1+CGXVm7rn/bA+T0pBFPaWUsl7z8bZDf67m5/2U1yrOys0DX/b/3/8/YlwVAypFQA2daFC/ubkY/1GpViiDB//tUxOcACsiBHyYwaUFckaSk9JkokaWqFhvCS6RMv7Uv3lbWSe5upWyuVEldnM9lJaTzl9yJmpVzabVBz4SYZw+zeL7a864ExaXWMJWDUN3AG9AshZ0AtToZFKq8OwVKGVtDBaJLtU8l7U+85t3mLb1XV633rGHkZ5VtV3b3eVDu+nL7/qS6aHYHBWlz4la5LWRp9FZVJRzKdU1Ziw2+UAy7BaYvW2pFJv3ndakqDglOgqBoClYEaAdmUQHZX3Me//tUxOWACmiLJSewaUFZpKTkxYl4Lt5bynEeS5m2eo/TJim3CqyogkCCf3quJVcd2e/y968Zg/8876++IrCX/Sf2KrpRq23W7/v1CqpoSkaSQ8kG1J5spBipw4BlRnEBXTM2p9CYjGM8c5aSjrBZFETfi2iilFILPBMAF8+XuYu8WPsXQgvZYMjkMCYoICTx1xAYm1No95t9vSW21EmgFQoHHw6J5mPI8CSIYkKSGHBJEmQoE7R0vFolJak5gwMW//tUxOYADBRfJ4e9Jwk9GOTk9YlwlY1JdDhAfAAVDz2pNcePHi6KWMVUsYgtELkMU91VjhTSgIoixROHGaCSEZhBAEGB2CxliiJZVQDOZidnYb4flNTFig6O3nInY/Y3quS7b6Xp0fT1P/KZNN5jy1pPSOY6Z9voby6HnPJ9nYr0l7zTp125Tmbn2ZmfnCy8bNFWNaWMC6HtR0spfoLuvjWlbGg2OzrYGHbpEoY2Hic/B4kGJJPDhO0U2vf+XPXL//tUxOOAScTJIqw8S4FjD6RlhJkpF7W6MDNvsJvJ+cFFC6id0IlfjLCZqFk8BddSjjzww2B2OFmzh42nOtSfaRAhNQ2bSxv6ahrqlZVCw7jAkXJ1G+cplqdFAOAoGwEOto60qTvhGoYhKzKYJRydlJMFWyVjA6vuvSdYMFgCQNjWUiNCqQitIBMgVCUFrlpn1z5TeVIKGGFrk3oZ3vcopsYKoQQTgji+H/GGicidHw8jDkersWv70wDCV+tXVHET//tUxOWACex3JSekaUE9B2SwxiSYjlnvitPnE9OOSjQ0/QEg+F8ju7SHo+SP9/eu8iTh/9MlA85+ofefn9p/17an/9uVLaYIgABChLsXahYS/mUlDbOYUjgpgIA7PMvJjtbEpz71uuXHLEEJTGQWe/b+vr9zxXlp5B8d8RUgJzQo36OxtSTJiDO+18EyeGw5ZgGc+/nT2r8t75f//3+n+/5qVGiZH4hhLWFtMvB6xy+sFy1CJ5abeJLh/S2Z3/YE//tUxOuAC9EZHyewa8FXFGSk9g0wJkCKkzGJBC5tRGCZy5Bpir3fI2sOUfs9TrY75fs6Q0Ame9tXHhrTqJklrfzfZHyPoctR3Pia2XXRWQRFgVyKSXNcjruuOFx8iTDbiVAjijRLtE8ZR8HNjFO4IwaQxaJrBZGKHS98aAMXTvuMGG9L2Sunt+WlH+Zr/OdR+uEdn+2gIAAAjHzl2/+//8wBUabbt+mGDHxRIMJRGfOXZZMVq37aqqSqzM36qzNl//tUxOaACriDIyekaUFCiqQk9hjh4UGCgoKCsuxbeN//ioYQUEgvVP+3ivGwqCl//j/xBQWX//lDT/tyTEFNRTMuOTkuNaqqqqqqqqqqqqqqqqqqqqqqqqqqqqqqqqqqqqqqqqqqqqqqqgQIEIocjrK11oyjrba0KAqqt8Y43sfPwyqqlPVjqqUY5sx+x6qpbc6R1V//q96pNqqqFWqW3FVVL/UqpbH/1fjFGP12XXbUSRrsQU3zf4C/iSGRTf+K//tUxOiACzBtHyewyUlZk6Sk9g0p78pMQU1FMy45OS41qqqqqqqqqqqqqqqqqqqqqqqqqqqqqqqqqqqqqqqqqqqqqqqqqqqqqqqqqqqqqqqqqqqqqqqqqqqqqqqqqqqqqqqqqqqqqqqqqqqqqqqqqqqqqqqqqqqqqqqqqqqqqqqqqqqqqqqqqqqqqqqqqqqqqqqqqqqqqqqqqqqqqqqqqqqqqqqqqqqqqqqqqqqqqqqqqqqqqqqqqqqqqqqqqqqq//tUxOYACtx7IwwkaUkXiyRwNgzhqqqqqqqqqqqqqqqqqqqqqqqqqqqqqqqqqqqqqqqqqqqqqqqqqqqqqqqqqqqqqqqqqqqqqqqqqqqqqqqqqqqqqqqqqqqqqqqqqqqqqqqqqqqqqqqqqqqqqqqqqqqqqqqqqqqqqqqqqqqqqqqqqqqqqqqqqqqqqqqqqqqqqqqqqqqqqqqqqqqqqqqqqqqqqqqqqqqqqqqqqqqqqqqqqqqqqqqqqqqqqqqqqqqq//tUxNYDyvky+sYMa8gAADSAAAAEqqqqqqqqqqqqqqqqqqqqqqqqqqqqqqqqqqqqqqqqqqqqqqqqqqqqqqqqqqqqqqqqqqqqqqqqqqqqqqqqqqqqqqqqqqqqqqqqqqqqqqqqqqqqqqqqqqqqqqqqqqqqqqqqqqqqqqqqqqqqqqqqqqqqqqqqqqqqqqqqqqqqqqqqqqqqqqqqqqqqqqqqqqqqqqqqqqqqqqqqqqqqqqqqqqqqqqqqqqqqqqqqqqqq\" type=\"audio/mpeg\" />\n",
       "                    Your browser does not support the audio element.\n",
       "                </audio>\n",
       "              "
      ],
      "text/plain": [
       "<IPython.lib.display.Audio object>"
      ]
     },
     "metadata": {},
     "output_type": "display_data"
    },
    {
     "name": "stdout",
     "output_type": "stream",
     "text": [
      "Texto real:  and don't forget to make him wear his in london #END\n",
      "Texto predicho:  i i i i there's replace replace replace prodded prodded prodded tracts tracts kindness kindness kindness kindness kindness kindness kindness kindness kindness kindness kindness kindness kindness kindness kindness kindness kindness kindness perform\n"
     ]
    }
   ],
   "source": [
    "visualize(y_test,y_hat_test,df_test)"
   ]
  },
  {
   "cell_type": "code",
   "execution_count": null,
   "metadata": {},
   "outputs": [],
   "source": []
  },
  {
   "cell_type": "code",
   "execution_count": 110,
   "metadata": {},
   "outputs": [],
   "source": [
    "y_hat_train = model.predict_classes(X_train_scaled)\n"
   ]
  },
  {
   "cell_type": "code",
   "execution_count": 115,
   "metadata": {},
   "outputs": [
    {
     "data": {
      "text/html": [
       "\n",
       "                <audio controls=\"controls\" >\n",
       "                    <source src=\"data:audio/mpeg;base64,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\" type=\"audio/mpeg\" />\n",
       "                    Your browser does not support the audio element.\n",
       "                </audio>\n",
       "              "
      ],
      "text/plain": [
       "<IPython.lib.display.Audio object>"
      ]
     },
     "metadata": {},
     "output_type": "display_data"
    },
    {
     "name": "stdout",
     "output_type": "stream",
     "text": [
      "Texto real:  they're not my sheep anymore he said to himself without nostalgia #END\n",
      "Texto predicho:  plumber tightened wasted requires requires challenges lawsuits lawsuits lawsuits lawsuits pit pit pit pit pit pit pit pit pit pit pit pit pit pit pit pit pit pit pit pit pit pit\n"
     ]
    }
   ],
   "source": [
    "visualize(y_train,y_hat_train,df_train)"
   ]
  },
  {
   "cell_type": "code",
   "execution_count": null,
   "metadata": {},
   "outputs": [],
   "source": []
  },
  {
   "cell_type": "code",
   "execution_count": null,
   "metadata": {},
   "outputs": [],
   "source": []
  },
  {
   "cell_type": "code",
   "execution_count": null,
   "metadata": {},
   "outputs": [],
   "source": []
  },
  {
   "cell_type": "code",
   "execution_count": null,
   "metadata": {},
   "outputs": [],
   "source": [
    "#reemplazar encoder por modelo implicito de extraccion de caract.\n",
    "\n",
    "1- Fourier + pca\n",
    "2- MMCC"
   ]
  },
  {
   "cell_type": "code",
   "execution_count": 23,
   "metadata": {},
   "outputs": [],
   "source": [
    "#MANUALLY--ENCODER PART\n",
    "\n",
    "#Fourier\n",
    "X_train_fourier = np.abs(np.fft.fft(X_train))\n",
    "X_valid_fourier = np.abs(np.fft.fft(X_valid))\n",
    "X_test_fourier = np.abs(np.fft.fft(X_test))\n",
    "from sklearn.preprocessing import StandardScaler\n",
    "std = StandardScaler(with_mean=True, with_std=True)\n",
    "X_train_fourier = std.fit_transform(X_train_fourier)\n",
    "X_valid_fourier = std.transform(X_valid_fourier)\n",
    "X_test_fourier = std.transform(X_test_fourier)\n",
    "\n",
    "from sklearn.decomposition import PCA\n",
    "d = 32 #as other models\n",
    "pca_model = PCA(n_components=d)\n",
    "X_pca_train = pca_model.fit_transform(X_train_fourier)\n",
    "X_pca_valid = pca_model.transform(X_valid_fourier)\n",
    "X_pca_test = pca_model.transform(X_test_fourier)"
   ]
  },
  {
   "cell_type": "code",
   "execution_count": 113,
   "metadata": {},
   "outputs": [
    {
     "data": {
      "text/plain": [
       "[<matplotlib.lines.Line2D at 0x7f152452b358>]"
      ]
     },
     "execution_count": 113,
     "metadata": {},
     "output_type": "execute_result"
    },
    {
     "data": {
      "image/png": "[encoded data removed]",
      "text/plain": [
       "<Figure size 432x288 with 1 Axes>"
      ]
     },
     "metadata": {},
     "output_type": "display_data"
    }
   ],
   "source": [
    "plt.plot(pca_model.explained_variance_)"
   ]
  },
  {
   "cell_type": "code",
   "execution_count": 140,
   "metadata": {
    "scrolled": true
   },
   "outputs": [
    {
     "data": {
      "text/plain": [
       "(100, 32)"
      ]
     },
     "execution_count": 140,
     "metadata": {},
     "output_type": "execute_result"
    }
   ],
   "source": [
    "#MFCC\n",
    "import librosa\n",
    "def wav2mfcc(wave, d, max_pad_len=11):\n",
    "    mfcc = librosa.feature.mfcc(wave,n_mfcc = d, sr = SAMPLING_RATE)\n",
    "    return mfcc.max(axis=-1) #Globalmaxpooling\n",
    "\n",
    "d = 32 #as other models\n",
    "X_mfcc_train = np.asarray([wav2mfcc(value,d) for value in timeseries_train ])\n",
    "X_mfcc_valid = np.asarray([wav2mfcc(value,d) for value in timeseries_valid ])\n",
    "X_mfcc_test = np.asarray([wav2mfcc(value,d) for value in timeseries_test ])\n",
    "X_mfcc_valid.shape"
   ]
  },
  {
   "cell_type": "code",
   "execution_count": 24,
   "metadata": {
    "scrolled": true
   },
   "outputs": [
    {
     "name": "stdout",
     "output_type": "stream",
     "text": [
      "_________________________________________________________________\n",
      "Layer (type)                 Output Shape              Param #   \n",
      "=================================================================\n",
      "input_1 (InputLayer)         (None, 32)                0         \n",
      "_________________________________________________________________\n",
      "repeat_vector_4 (RepeatVecto (None, 34, 32)            0         \n",
      "_________________________________________________________________\n",
      "gru_9 (GRU)                  (None, 34, 32)            6240      \n",
      "_________________________________________________________________\n",
      "gru_10 (GRU)                 (None, 34, 16)            2352      \n",
      "_________________________________________________________________\n",
      "time_distributed_4 (TimeDist (None, 34, 4927)          83759     \n",
      "=================================================================\n",
      "Total params: 92,351\n",
      "Trainable params: 92,351\n",
      "Non-trainable params: 0\n",
      "_________________________________________________________________\n"
     ]
    }
   ],
   "source": [
    "from keras.layers import InputLayer\n",
    "model = Sequential()\n",
    "model.add(InputLayer(input_shape=(d,)))\n",
    "model.add(RepeatVector(max_out_length)) #Conection\n",
    "#DECODER PART\n",
    "model.add(GRU(32, return_sequences=True))\n",
    "model.add(GRU(16, return_sequences=True))\n",
    "model.add(TimeDistributed(Dense(n_words, activation='softmax')))\n",
    "model.summary()"
   ]
  },
  {
   "cell_type": "code",
   "execution_count": 137,
   "metadata": {
    "scrolled": true
   },
   "outputs": [
    {
     "name": "stdout",
     "output_type": "stream",
     "text": [
      "Train on 100 samples, validate on 100 samples\n",
      "Epoch 1/10\n",
      "100/100 [==============================] - 2s 24ms/step - loss: 8.3672 - val_loss: 8.3458\n",
      "Epoch 2/10\n",
      "100/100 [==============================] - 0s 2ms/step - loss: 8.3502 - val_loss: 8.3264\n",
      "Epoch 3/10\n",
      "100/100 [==============================] - 0s 2ms/step - loss: 8.3299 - val_loss: 8.3055\n",
      "Epoch 4/10\n",
      "100/100 [==============================] - 0s 2ms/step - loss: 8.3084 - val_loss: 8.2839\n",
      "Epoch 5/10\n",
      "100/100 [==============================] - 0s 2ms/step - loss: 8.2856 - val_loss: 8.2613\n",
      "Epoch 6/10\n",
      "100/100 [==============================] - 0s 2ms/step - loss: 8.2617 - val_loss: 8.2384\n",
      "Epoch 7/10\n",
      "100/100 [==============================] - 0s 2ms/step - loss: 8.2376 - val_loss: 8.2149\n",
      "Epoch 8/10\n",
      "100/100 [==============================] - 0s 2ms/step - loss: 8.2129 - val_loss: 8.1908\n",
      "Epoch 9/10\n",
      "100/100 [==============================] - 0s 2ms/step - loss: 8.1877 - val_loss: 8.1668\n",
      "Epoch 10/10\n",
      "100/100 [==============================] - 0s 2ms/step - loss: 8.1618 - val_loss: 8.1426\n"
     ]
    },
    {
     "data": {
      "text/plain": [
       "<keras.callbacks.History at 0x7f152923fc88>"
      ]
     },
     "execution_count": 137,
     "metadata": {},
     "output_type": "execute_result"
    }
   ],
   "source": [
    "model.compile(loss='sparse_categorical_crossentropy', optimizer='adam')\n",
    "model.fit(X_mfcc_train ,y_train, epochs=10, batch_size=256, validation_data=(X_mfcc_valid,y_valid))"
   ]
  },
  {
   "cell_type": "code",
   "execution_count": null,
   "metadata": {},
   "outputs": [],
   "source": []
  },
  {
   "cell_type": "code",
   "execution_count": null,
   "metadata": {},
   "outputs": [],
   "source": []
  },
  {
   "cell_type": "code",
   "execution_count": null,
   "metadata": {},
   "outputs": [],
   "source": []
  },
  {
   "cell_type": "code",
   "execution_count": 1,
   "metadata": {},
   "outputs": [
    {
     "name": "stdout",
     "output_type": "stream",
     "text": [
      "(120614, 2)\n"
     ]
    },
    {
     "data": {
      "text/html": [
       "<div>\n",
       "<style scoped>\n",
       "    .dataframe tbody tr th:only-of-type {\n",
       "        vertical-align: middle;\n",
       "    }\n",
       "\n",
       "    .dataframe tbody tr th {\n",
       "        vertical-align: top;\n",
       "    }\n",
       "\n",
       "    .dataframe thead th {\n",
       "        text-align: right;\n",
       "    }\n",
       "</style>\n",
       "<table border=\"1\" class=\"dataframe\">\n",
       "  <thead>\n",
       "    <tr style=\"text-align: right;\">\n",
       "      <th></th>\n",
       "      <th>Source</th>\n",
       "      <th>Target</th>\n",
       "    </tr>\n",
       "  </thead>\n",
       "  <tbody>\n",
       "    <tr>\n",
       "      <th>0</th>\n",
       "      <td>Go.</td>\n",
       "      <td>Ve.</td>\n",
       "    </tr>\n",
       "    <tr>\n",
       "      <th>1</th>\n",
       "      <td>Go.</td>\n",
       "      <td>Vete.</td>\n",
       "    </tr>\n",
       "    <tr>\n",
       "      <th>2</th>\n",
       "      <td>Go.</td>\n",
       "      <td>Vaya.</td>\n",
       "    </tr>\n",
       "    <tr>\n",
       "      <th>3</th>\n",
       "      <td>Go.</td>\n",
       "      <td>Váyase.</td>\n",
       "    </tr>\n",
       "    <tr>\n",
       "      <th>4</th>\n",
       "      <td>Hi.</td>\n",
       "      <td>Hola.</td>\n",
       "    </tr>\n",
       "  </tbody>\n",
       "</table>\n",
       "</div>"
      ],
      "text/plain": [
       "  Source   Target\n",
       "0    Go.      Ve.\n",
       "1    Go.    Vete.\n",
       "2    Go.    Vaya.\n",
       "3    Go.  Váyase.\n",
       "4    Hi.    Hola."
      ]
     },
     "execution_count": 1,
     "metadata": {},
     "output_type": "execute_result"
    }
   ],
   "source": [
    "import pandas as pd\n",
    "df = pd.read_csv(\"data/spa.txt\", sep=\"\\t\",names=[\"Source\",\"Target\"])\n",
    "print(df.shape)\n",
    "df.head()"
   ]
  },
  {
   "cell_type": "code",
   "execution_count": 3,
   "metadata": {
    "scrolled": true
   },
   "outputs": [],
   "source": [
    "import string\n",
    "table = str.maketrans('', '', string.punctuation) \n",
    "def clean_text(text, where):\n",
    "    \"\"\"Sin eliminar el significado de las palabras..\"\"\"\n",
    "    text = text.lower()\n",
    "    tokenize_text = text.split()\n",
    "    tokenize_text = [word.translate(table) for word in tokenize_text]#eliminar puntuacion\n",
    "    tokenize_text = [word for word in tokenize_text if word.isalpha()]\n",
    "    if where==\"source\":\n",
    "        return tokenize_text #remove numbers\n",
    "    elif where ==\"target\":\n",
    "        return tokenize_text + [\"#end\"] #remove numbers\n",
    "    \n",
    "texts_input = list(df['Source'].apply(clean_text, where='source'))\n",
    "texts_output = list(df['Target'].apply(clean_text, where='target'))"
   ]
  },
  {
   "cell_type": "code",
   "execution_count": 4,
   "metadata": {},
   "outputs": [
    {
     "name": "stdout",
     "output_type": "stream",
     "text": [
      "100614\n",
      "10000\n",
      "10000\n"
     ]
    }
   ],
   "source": [
    "#split en un inicio...\n",
    "from sklearn.model_selection import train_test_split\n",
    "X_train_l, X_test_l, Y_train_l, Y_test_l = train_test_split(texts_input, texts_output, test_size=10000,random_state=22)\n",
    "X_train_l, X_val_l, Y_train_l, Y_val_l = train_test_split(X_train_l, Y_train_l, test_size=10000,random_state=22)\n",
    "\n",
    "print(len(X_train_l))\n",
    "print(len(X_val_l))\n",
    "print(len(X_test_l))"
   ]
  },
  {
   "cell_type": "code",
   "execution_count": 21,
   "metadata": {
    "scrolled": true
   },
   "outputs": [
    {
     "name": "stderr",
     "output_type": "stream",
     "text": [
      "/home/casapanshop/anaconda2/envs/py3/lib/python3.5/site-packages/sklearn/metrics/classification.py:1135: UndefinedMetricWarning: F-score is ill-defined and being set to 0.0 in labels with no predicted samples.\n",
      "  'precision', 'predicted', average, warn_for)\n",
      "/home/casapanshop/anaconda2/envs/py3/lib/python3.5/site-packages/sklearn/metrics/classification.py:1137: UndefinedMetricWarning: F-score is ill-defined and being set to 0.0 in labels with no true samples.\n",
      "  'recall', 'true', average, warn_for)\n"
     ]
    },
    {
     "data": {
      "text/plain": [
       "0.25"
      ]
     },
     "execution_count": 21,
     "metadata": {},
     "output_type": "execute_result"
    }
   ],
   "source": [
    "a = [[1,1],[0,1,3]]\n",
    "b = [[0,1],[1,2,3]]\n",
    "from sklearn.metrics import f1_score\n",
    "f1_score(a[1],b[1] ,average='macro')"
   ]
  },
  {
   "cell_type": "code",
   "execution_count": null,
   "metadata": {},
   "outputs": [],
   "source": []
  },
  {
   "cell_type": "code",
   "execution_count": 17,
   "metadata": {},
   "outputs": [
    {
     "data": {
      "text/plain": [
       "matrix([[0., 0., 0., ..., 0., 0., 0.],\n",
       "        [0., 0., 0., ..., 0., 0., 0.],\n",
       "        [0., 0., 0., ..., 0., 0., 0.],\n",
       "        ...,\n",
       "        [0., 0., 0., ..., 0., 0., 0.],\n",
       "        [0., 0., 0., ..., 0., 0., 0.],\n",
       "        [0., 0., 0., ..., 0., 0., 0.]], dtype=float32)"
      ]
     },
     "execution_count": 17,
     "metadata": {},
     "output_type": "execute_result"
    }
   ],
   "source": [
    "from sklearn.feature_extraction.text import TfidfVectorizer\n",
    "def dummy_fun(doc):\n",
    "    return doc\n",
    "tf_idf = TfidfVectorizer(analyzer='word',tokenizer=dummy_fun,preprocessor=dummy_fun,token_pattern=None)\n",
    "                        #use_idf= True, smooth_idf=True)   \n",
    "X_train_tfidf = tf_idf.fit_transform(dataX_train)\n",
    "X_train_tfidf = X_train_tfidf.astype('float32').todense()\n",
    "#X_val_tfidf = tf_idf.transform(dataX_valid).todense()\n",
    "\n",
    "X_train_tfidf"
   ]
  },
  {
   "cell_type": "code",
   "execution_count": 16,
   "metadata": {},
   "outputs": [
    {
     "data": {
      "text/plain": [
       "71"
      ]
     },
     "execution_count": 16,
     "metadata": {},
     "output_type": "execute_result"
    }
   ],
   "source": [
    "import gc\n",
    "del tf_idf\n",
    "gc.collect()"
   ]
  },
  {
   "cell_type": "code",
   "execution_count": 6,
   "metadata": {},
   "outputs": [],
   "source": [
    "def create_vocab(texts, min_count=1):\n",
    "    count_vocab = {}\n",
    "    for sentence in texts:\n",
    "        for word in sentence:\n",
    "            if word not in count_vocab:\n",
    "                count_vocab[word] = 1\n",
    "            else:\n",
    "                count_vocab[word] += 1\n",
    "    return [word for word,count in count_vocab.items() if count >= min_count]"
   ]
  },
  {
   "cell_type": "code",
   "execution_count": 7,
   "metadata": {},
   "outputs": [
    {
     "name": "stdout",
     "output_type": "stream",
     "text": [
      "Vocabulario inp:  6568\n",
      "Vocabulario out:  10082\n"
     ]
    }
   ],
   "source": [
    "#crear vocabulario-- solo en train-- que pasa s iagregamos palabras de test o valid?\n",
    "vocab_source = set()\n",
    "for sentence in X_train_l:\n",
    "    for word in sentence:\n",
    "        vocab_source.add(word)\n",
    "vocab_target = set()\n",
    "for sentence in Y_train_l:\n",
    "    for word in sentence:\n",
    "        vocab_target.add(word)\n",
    "\n",
    "vocab_source = create_vocab(X_train_l, min_count=3) #tiene efecto??\n",
    "vocab_target = create_vocab(Y_train_l, min_count=3)\n",
    "\n",
    "\n",
    "word2idx_s = {w: i+1 for i, w in enumerate(vocab_source)} #Converting text to numbers\n",
    "idx2word_s = {i+1: w for i, w in enumerate(vocab_source)} #Converting number to text\n",
    "n_words_s = len(vocab_source)\n",
    "dataX_train = [[word2idx_s[word] for word in sentence if word in word2idx_s] for sentence in X_train_l]\n",
    "dataX_valid = [[word2idx_s[word] for word in sentence if word in word2idx_s] for sentence in X_val_l] #que propongan algo aca\n",
    "dataX_test =  [[word2idx_s[word] for word in sentence if word in word2idx_s] for sentence in X_test_l]\n",
    "\n",
    "word2idx_t = {w: i+1 for i, w in enumerate(vocab_target)} #Converting text to numbers\n",
    "idx2word_t = {i+1: w for i, w in enumerate(vocab_target)} #Converting number to text\n",
    "n_words_t = len(vocab_target)\n",
    "dataY_train = [[word2idx_t[word] for word in sentence if word in word2idx_t] for sentence in Y_train_l]\n",
    "dataY_valid = [[word2idx_t[word] for word in sentence if word in word2idx_t] for sentence in Y_val_l] #que propongan algo aca\n",
    "dataY_test =  [[word2idx_t[word] for word in sentence if word in word2idx_t] for sentence in Y_test_l]\n",
    "\n",
    "print(\"Vocabulario inp: \",n_words_s)\n",
    "print(\"Vocabulario out: \",n_words_t)"
   ]
  },
  {
   "cell_type": "code",
   "execution_count": 6,
   "metadata": {},
   "outputs": [
    {
     "name": "stderr",
     "output_type": "stream",
     "text": [
      "Using TensorFlow backend.\n"
     ]
    },
    {
     "name": "stdout",
     "output_type": "stream",
     "text": [
      "Vocabulario inp:  6569\n",
      "Largo max inp:  45\n",
      "Vocabulario out:  10083\n",
      "Largo max out:  51\n"
     ]
    },
    {
     "data": {
      "text/plain": [
       "(100614, 45)"
      ]
     },
     "execution_count": 6,
     "metadata": {},
     "output_type": "execute_result"
    }
   ],
   "source": [
    "from keras.preprocessing import sequence\n",
    "\n",
    "### INPUT DATA (Origin language)\n",
    "max_inp_length = max(map(len,dataX_train))\n",
    "word2idx_s[\"?\"] = 0 #padding symbol\n",
    "idx2word_s[0] = \"?\"\n",
    "n_words_s += 1  \n",
    "#padding..\n",
    "X_train = sequence.pad_sequences(dataX_train, maxlen=max_inp_length, padding='pre', value=word2idx_s[\"?\"])\n",
    "X_valid = sequence.pad_sequences(dataX_valid, maxlen=max_inp_length, padding='pre', value=word2idx_s[\"?\"])\n",
    "X_test = sequence.pad_sequences(dataX_test, maxlen=max_inp_length, padding='pre', value=word2idx_s[\"?\"])\n",
    "print(\"Vocabulario inp: \",n_words_s)\n",
    "print(\"Largo max inp: \",max_inp_length)\n",
    "\n",
    "### OUTPUT DATA (Destination language)\n",
    "max_out_length = max(map(len,dataY_train)) #si cambiamos esto en que afecta al modelo neurona?? (no cambia parametros :o)\n",
    "word2idx_t[\"?\"] = 0 #padding symbol\n",
    "idx2word_t[0] = \"?\"\n",
    "n_words_t += 1  \n",
    "#padding..\n",
    "Y_train = sequence.pad_sequences(dataY_train, maxlen=max_out_length, padding='post', value=word2idx_t[\"?\"])\n",
    "Y_valid = sequence.pad_sequences(dataY_valid, maxlen=max_out_length, padding='post', value=word2idx_t[\"?\"])\n",
    "Y_test = sequence.pad_sequences(dataY_test, maxlen=max_out_length, padding='post', value=word2idx_t[\"?\"])\n",
    "print(\"Vocabulario out: \",n_words_t)\n",
    "print(\"Largo max out: \",max_out_length)\n",
    "#y_train.shape\n",
    "X_train.shape"
   ]
  },
  {
   "cell_type": "code",
   "execution_count": 7,
   "metadata": {},
   "outputs": [
    {
     "data": {
      "text/plain": [
       "array([[    0,     0,     0, ...,  8399,  7356, 11279],\n",
       "       [    0,     0,     0, ...,  6666,  5363,  3800],\n",
       "       [    0,     0,     0, ...,  3152, 11281, 11084],\n",
       "       ...,\n",
       "       [    0,     0,     0, ...,  2885,  5363,  2233],\n",
       "       [    0,     0,     0, ...,  7905,  5363,  8386],\n",
       "       [    0,     0,     0, ...,  4397,  1355,  7557]], dtype=int32)"
      ]
     },
     "execution_count": 7,
     "metadata": {},
     "output_type": "execute_result"
    }
   ],
   "source": [
    "X_train"
   ]
  },
  {
   "cell_type": "code",
   "execution_count": 8,
   "metadata": {},
   "outputs": [
    {
     "data": {
      "text/plain": [
       "array([0., 1., 1., ..., 1., 1., 1.])"
      ]
     },
     "execution_count": 8,
     "metadata": {},
     "output_type": "execute_result"
    }
   ],
   "source": [
    "#valid_labels = np.arange(n_words_t)\n",
    "import numpy as np\n",
    "c_weights = np.ones(n_words_t)\n",
    "c_weights[0] = 0 #padding class masked\n",
    "c_weights"
   ]
  },
  {
   "cell_type": "code",
   "execution_count": 9,
   "metadata": {},
   "outputs": [
    {
     "data": {
      "text/plain": [
       "(100614, 51)"
      ]
     },
     "execution_count": 9,
     "metadata": {},
     "output_type": "execute_result"
    }
   ],
   "source": [
    "sample_weight = np.zeros(Y_train.shape)\n",
    "for i in range(sample_weight.shape[0]):\n",
    "    sample_weight[i] = c_weights[Y_train[i,:]]\n",
    "sample_weight = np.squeeze(sample_weight)\n",
    "sample_weight.shape"
   ]
  },
  {
   "cell_type": "code",
   "execution_count": null,
   "metadata": {},
   "outputs": [],
   "source": []
  },
  {
   "cell_type": "code",
   "execution_count": 10,
   "metadata": {},
   "outputs": [
    {
     "data": {
      "text/plain": [
       "(100614, 51, 1)"
      ]
     },
     "execution_count": 10,
     "metadata": {},
     "output_type": "execute_result"
    }
   ],
   "source": [
    "Y_train = Y_train[:,:,None]\n",
    "Y_valid = Y_valid[:,:,None]\n",
    "Y_test = Y_test[:,:,None]\n",
    "Y_train.shape"
   ]
  },
  {
   "cell_type": "code",
   "execution_count": 11,
   "metadata": {},
   "outputs": [],
   "source": [
    "EMBEDDING_DIM = 100"
   ]
  },
  {
   "cell_type": "code",
   "execution_count": 12,
   "metadata": {},
   "outputs": [
    {
     "name": "stdout",
     "output_type": "stream",
     "text": [
      "_________________________________________________________________\n",
      "Layer (type)                 Output Shape              Param #   \n",
      "=================================================================\n",
      "embedding_1 (Embedding)      (None, 45, 100)           656900    \n",
      "_________________________________________________________________\n",
      "cu_dnngru_1 (CuDNNGRU)       (None, 45, 32)            12864     \n",
      "_________________________________________________________________\n",
      "cu_dnngru_2 (CuDNNGRU)       (None, 64)                18816     \n",
      "_________________________________________________________________\n",
      "repeat_vector_1 (RepeatVecto (None, 51, 64)            0         \n",
      "_________________________________________________________________\n",
      "cu_dnngru_3 (CuDNNGRU)       (None, 51, 64)            24960     \n",
      "_________________________________________________________________\n",
      "cu_dnngru_4 (CuDNNGRU)       (None, 51, 32)            9408      \n",
      "_________________________________________________________________\n",
      "time_distributed_1 (TimeDist (None, 51, 10083)         332739    \n",
      "=================================================================\n",
      "Total params: 1,055,687\n",
      "Trainable params: 1,055,687\n",
      "Non-trainable params: 0\n",
      "_________________________________________________________________\n"
     ]
    }
   ],
   "source": [
    "from keras.models import Sequential\n",
    "from keras.layers import Embedding,CuDNNGRU, RepeatVector, TimeDistributed, Dense\n",
    "\n",
    "model = Sequential()\n",
    "model.add(Embedding(input_dim=n_words_s, output_dim=EMBEDDING_DIM, input_length=max_inp_length))\n",
    "#                    trainable=False, weights = [embedding_matrix]))\n",
    "model.add(CuDNNGRU(32, return_sequences=True))\n",
    "model.add(CuDNNGRU(64, return_sequences=False))\n",
    "\n",
    "model.add(RepeatVector(max_out_length)) #conection\n",
    "\n",
    "model.add(CuDNNGRU(64, return_sequences=True)) #bidireccional??\n",
    "model.add(CuDNNGRU(32, return_sequences=True))\n",
    "model.add(TimeDistributed(Dense(n_words_t, activation='softmax')))\n",
    "model.summary()"
   ]
  },
  {
   "cell_type": "code",
   "execution_count": 37,
   "metadata": {},
   "outputs": [
    {
     "name": "stdout",
     "output_type": "stream",
     "text": [
      "_________________________________________________________________\n",
      "Layer (type)                 Output Shape              Param #   \n",
      "=================================================================\n",
      "embedding_3 (Embedding)      (None, 45, 64)            356416    \n",
      "_________________________________________________________________\n",
      "cu_dnngru_7 (CuDNNGRU)       (None, 64)                24960     \n",
      "_________________________________________________________________\n",
      "repeat_vector_3 (RepeatVecto (None, 50, 64)            0         \n",
      "_________________________________________________________________\n",
      "cu_dnngru_8 (CuDNNGRU)       (None, 50, 64)            24960     \n",
      "_________________________________________________________________\n",
      "time_distributed_3 (TimeDist (None, 50, 8166)          530790    \n",
      "=================================================================\n",
      "Total params: 937,126\n",
      "Trainable params: 937,126\n",
      "Non-trainable params: 0\n",
      "_________________________________________________________________\n"
     ]
    }
   ],
   "source": [
    "model = Sequential()\n",
    "model.add(Embedding(input_dim=n_words_s, output_dim=EMBEDDING_DIM, input_length=max_inp_length))\n",
    "#                    trainable=False, weights = [embedding_matrix]))\n",
    "model.add(CuDNNGRU(64, return_sequences=False))\n",
    "\n",
    "model.add(RepeatVector(max_out_length)) #conection\n",
    "\n",
    "model.add(CuDNNGRU(64, return_sequences=True)) #bidireccional??\n",
    "model.add(TimeDistributed(Dense(n_words_t, activation='softmax')))\n",
    "model.summary()"
   ]
  },
  {
   "cell_type": "code",
   "execution_count": 13,
   "metadata": {
    "scrolled": true
   },
   "outputs": [
    {
     "name": "stdout",
     "output_type": "stream",
     "text": [
      "_________________________________________________________________\n",
      "Layer (type)                 Output Shape              Param #   \n",
      "=================================================================\n",
      "embedding_2 (Embedding)      (None, 45, 100)           656900    \n",
      "_________________________________________________________________\n",
      "conv1d_1 (Conv1D)            (None, 45, 100)           50100     \n",
      "_________________________________________________________________\n",
      "batch_normalization_1 (Batch (None, 45, 100)           400       \n",
      "_________________________________________________________________\n",
      "conv1d_2 (Conv1D)            (None, 45, 100)           50100     \n",
      "_________________________________________________________________\n",
      "batch_normalization_2 (Batch (None, 45, 100)           400       \n",
      "_________________________________________________________________\n",
      "max_pooling1d_1 (MaxPooling1 (None, 22, 100)           0         \n",
      "_________________________________________________________________\n",
      "conv1d_3 (Conv1D)            (None, 22, 200)           100200    \n",
      "_________________________________________________________________\n",
      "batch_normalization_3 (Batch (None, 22, 200)           800       \n",
      "_________________________________________________________________\n",
      "conv1d_4 (Conv1D)            (None, 22, 200)           200200    \n",
      "_________________________________________________________________\n",
      "batch_normalization_4 (Batch (None, 22, 200)           800       \n",
      "_________________________________________________________________\n",
      "global_max_pooling1d_1 (Glob (None, 200)               0         \n",
      "_________________________________________________________________\n",
      "repeat_vector_2 (RepeatVecto (None, 51, 200)           0         \n",
      "_________________________________________________________________\n",
      "cu_dnngru_5 (CuDNNGRU)       (None, 51, 200)           241200    \n",
      "_________________________________________________________________\n",
      "cu_dnngru_6 (CuDNNGRU)       (None, 51, 100)           90600     \n",
      "_________________________________________________________________\n",
      "time_distributed_2 (TimeDist (None, 51, 10083)         1018383   \n",
      "=================================================================\n",
      "Total params: 2,410,083\n",
      "Trainable params: 2,408,883\n",
      "Non-trainable params: 1,200\n",
      "_________________________________________________________________\n"
     ]
    }
   ],
   "source": [
    "#red conv en Encoder\n",
    "from keras.layers import Conv1D,MaxPool1D,GlobalMaxPooling1D,GlobalAveragePooling1D,BatchNormalization,Dropout\n",
    "model = Sequential()\n",
    "model.add(Embedding(input_dim=n_words_s, output_dim=EMBEDDING_DIM, input_length=max_inp_length))\n",
    "#                    trainable=False, weights = [embedding_matrix]))\n",
    "\n",
    "model.add(Conv1D(100, 5, padding='same', activation='relu', strides=1)) # o 3 kernel\n",
    "model.add(BatchNormalization())\n",
    "model.add(Conv1D(100, 5, padding='same', activation='relu', strides=1))\n",
    "model.add(BatchNormalization())\n",
    "model.add(MaxPool1D(2))\n",
    "model.add(Conv1D(200, 5, padding='same', activation='relu', strides=1))\n",
    "model.add(BatchNormalization())\n",
    "model.add(Conv1D(200, 5, padding='same', activation='relu', strides=1))\n",
    "model.add(BatchNormalization())\n",
    "\n",
    "model.add(GlobalMaxPooling1D()) #aka to return_sequences=False\n",
    "\n",
    "model.add(RepeatVector(max_out_length)) #conection\n",
    "\n",
    "model.add(CuDNNGRU(200, return_sequences=True))\n",
    "model.add(CuDNNGRU(100, return_sequences=True))\n",
    "model.add(TimeDistributed(Dense(n_words_t, activation='softmax')))\n",
    "model.summary()"
   ]
  },
  {
   "cell_type": "code",
   "execution_count": 47,
   "metadata": {
    "scrolled": true
   },
   "outputs": [
    {
     "name": "stdout",
     "output_type": "stream",
     "text": [
      "_________________________________________________________________\n",
      "Layer (type)                 Output Shape              Param #   \n",
      "=================================================================\n",
      "embedding_5 (Embedding)      (None, 45, 100)           656900    \n",
      "_________________________________________________________________\n",
      "conv1d_9 (Conv1D)            (None, 45, 256)           128256    \n",
      "_________________________________________________________________\n",
      "batch_normalization_9 (Batch (None, 45, 256)           1024      \n",
      "_________________________________________________________________\n",
      "conv1d_10 (Conv1D)           (None, 45, 256)           327936    \n",
      "_________________________________________________________________\n",
      "batch_normalization_10 (Batc (None, 45, 256)           1024      \n",
      "_________________________________________________________________\n",
      "global_max_pooling1d_4 (Glob (None, 256)               0         \n",
      "_________________________________________________________________\n",
      "repeat_vector_5 (RepeatVecto (None, 51, 256)           0         \n",
      "_________________________________________________________________\n",
      "cu_dnngru_9 (CuDNNGRU)       (None, 51, 256)           394752    \n",
      "_________________________________________________________________\n",
      "time_distributed_5 (TimeDist (None, 51, 10083)         2591331   \n",
      "=================================================================\n",
      "Total params: 4,101,223\n",
      "Trainable params: 4,100,199\n",
      "Non-trainable params: 1,024\n",
      "_________________________________________________________________\n"
     ]
    }
   ],
   "source": [
    "from keras.layers import Conv1D,MaxPool1D,GlobalMaxPooling1D,GlobalAveragePooling1D,BatchNormalization,Dropout\n",
    "model = Sequential()\n",
    "model.add(Embedding(input_dim=n_words_s, output_dim=EMBEDDING_DIM, input_length=max_inp_length))\n",
    "#                    trainable=False, weights = [embedding_matrix]))\n",
    "\n",
    "model.add(Conv1D(256, 5, padding='same', activation='relu', strides=1)) # o 3 kernel\n",
    "model.add(BatchNormalization())\n",
    "model.add(Conv1D(256, 5, padding='same', activation='relu', strides=1))\n",
    "model.add(BatchNormalization())\n",
    "#model.add(MaxPool1D(2))\n",
    "model.add(GlobalMaxPooling1D()) #aka to return_sequences=False\n",
    "\n",
    "model.add(RepeatVector(max_out_length)) #conection\n",
    "\n",
    "model.add(CuDNNGRU(256, return_sequences=True))\n",
    "model.add(TimeDistributed(Dense(n_words_t, activation='softmax')))\n",
    "model.summary() #anda mejor..--- aumentar dimensiones"
   ]
  },
  {
   "cell_type": "code",
   "execution_count": 43,
   "metadata": {
    "scrolled": true
   },
   "outputs": [
    {
     "data": {
      "text/plain": [
       "array([0. , 0.4])"
      ]
     },
     "execution_count": 43,
     "metadata": {},
     "output_type": "execute_result"
    }
   ],
   "source": [
    "from sklearn.metrics import f1_score\n",
    "f1_score([1,0,1,0],[1,1,0,1], average=None)"
   ]
  },
  {
   "cell_type": "code",
   "execution_count": 50,
   "metadata": {
    "scrolled": true
   },
   "outputs": [
    {
     "data": {
      "text/plain": [
       "array([0.9992058, 0.2      ])"
      ]
     },
     "execution_count": 50,
     "metadata": {},
     "output_type": "execute_result"
    }
   ],
   "source": [
    "from sklearn.preprocessing import MultiLabelBinarizer\n",
    "true = np.squeeze(Y_test[:10][0])\n",
    "pred = np.squeeze(model.predict_classes(X_test[:10])[0])\n",
    "\n",
    "m = MultiLabelBinarizer().fit([np.arange(n_words_t)])\n",
    "\n",
    "binarized_true = m.transform([predict_words(true)])[0]\n",
    "binarized_pred = m.transform([predict_words(pred)])[0] #onehot of words appear... (no cuenta las veces que aparece la palabra..)\n",
    "f1_score(binarized_true, binarized_pred, average=None)"
   ]
  },
  {
   "cell_type": "code",
   "execution_count": 38,
   "metadata": {},
   "outputs": [
    {
     "data": {
      "text/plain": [
       "array([[0, 0, 0, ..., 0, 0, 0]])"
      ]
     },
     "execution_count": 38,
     "metadata": {},
     "output_type": "execute_result"
    }
   ],
   "source": [
    "binarized_true"
   ]
  },
  {
   "cell_type": "code",
   "execution_count": 34,
   "metadata": {},
   "outputs": [
    {
     "data": {
      "text/plain": [
       "[7396,\n",
       " 2079,\n",
       " 9759,\n",
       " 2442,\n",
       " 8518,\n",
       " 2702,\n",
       " 7805,\n",
       " 287,\n",
       " 5648,\n",
       " 6050,\n",
       " 863,\n",
       " 7818,\n",
       " 7913,\n",
       " 418,\n",
       " 2689,\n",
       " 1250]"
      ]
     },
     "execution_count": 34,
     "metadata": {},
     "output_type": "execute_result"
    }
   ],
   "source": [
    "predict_words(true)"
   ]
  },
  {
   "cell_type": "code",
   "execution_count": 35,
   "metadata": {},
   "outputs": [
    {
     "data": {
      "text/plain": [
       "[8032, 6050, 6050, 6050, 6050, 8032, 5625, 5625, 5625, 5625, 5625, 1250]"
      ]
     },
     "execution_count": 35,
     "metadata": {},
     "output_type": "execute_result"
    }
   ],
   "source": [
    "predict_words(pred)"
   ]
  },
  {
   "cell_type": "code",
   "execution_count": null,
   "metadata": {},
   "outputs": [],
   "source": []
  },
  {
   "cell_type": "code",
   "execution_count": 14,
   "metadata": {
    "scrolled": true
   },
   "outputs": [
    {
     "name": "stdout",
     "output_type": "stream",
     "text": [
      "Train on 100614 samples, validate on 10000 samples\n",
      "Epoch 1/20\n",
      "100614/100614 [==============================] - 101s 1ms/step - loss: 6.1469 - val_loss: 13.5367\n",
      "Epoch 2/20\n",
      "100614/100614 [==============================] - 96s 952us/step - loss: 5.6592 - val_loss: 14.2838\n",
      "Epoch 3/20\n",
      "100614/100614 [==============================] - 96s 951us/step - loss: 5.2515 - val_loss: 14.6383\n",
      "Epoch 4/20\n",
      "100614/100614 [==============================] - 96s 951us/step - loss: 4.9275 - val_loss: 14.6457\n",
      "Epoch 5/20\n",
      "100614/100614 [==============================] - 96s 953us/step - loss: 4.6837 - val_loss: 14.6165\n",
      "Epoch 6/20\n",
      "100614/100614 [==============================] - 96s 954us/step - loss: 4.4784 - val_loss: 14.6075\n",
      "Epoch 7/20\n",
      "100614/100614 [==============================] - 96s 954us/step - loss: 4.2987 - val_loss: 14.5831\n",
      "Epoch 8/20\n",
      " 54272/100614 [===============>..............] - ETA: 42s - loss: 4.1593"
     ]
    },
    {
     "ename": "KeyboardInterrupt",
     "evalue": "",
     "output_type": "error",
     "traceback": [
      "\u001b[0;31m---------------------------------------------------------------------------\u001b[0m",
      "\u001b[0;31mKeyboardInterrupt\u001b[0m                         Traceback (most recent call last)",
      "\u001b[0;32m<ipython-input-14-25a5916cbded>\u001b[0m in \u001b[0;36m<module>\u001b[0;34m()\u001b[0m\n\u001b[1;32m      1\u001b[0m \u001b[0mmodel\u001b[0m\u001b[0;34m.\u001b[0m\u001b[0mcompile\u001b[0m\u001b[0;34m(\u001b[0m\u001b[0moptimizer\u001b[0m\u001b[0;34m=\u001b[0m\u001b[0;34m'adam'\u001b[0m\u001b[0;34m,\u001b[0m \u001b[0mloss\u001b[0m\u001b[0;34m=\u001b[0m\u001b[0;34m'sparse_categorical_crossentropy'\u001b[0m\u001b[0;34m,\u001b[0m \u001b[0msample_weight_mode\u001b[0m\u001b[0;34m=\u001b[0m\u001b[0;34m'temporal'\u001b[0m\u001b[0;34m)\u001b[0m\u001b[0;34m\u001b[0m\u001b[0m\n\u001b[1;32m      2\u001b[0m model.fit(X_train, Y_train, epochs=20, batch_size=256,validation_data=(X_valid, Y_valid),\n\u001b[0;32m----> 3\u001b[0;31m          sample_weight = sample_weight) #mas epochs...\n\u001b[0m",
      "\u001b[0;32m~/.local/lib/python3.5/site-packages/keras/models.py\u001b[0m in \u001b[0;36mfit\u001b[0;34m(self, x, y, batch_size, epochs, verbose, callbacks, validation_split, validation_data, shuffle, class_weight, sample_weight, initial_epoch, steps_per_epoch, validation_steps, **kwargs)\u001b[0m\n\u001b[1;32m   1000\u001b[0m                               \u001b[0minitial_epoch\u001b[0m\u001b[0;34m=\u001b[0m\u001b[0minitial_epoch\u001b[0m\u001b[0;34m,\u001b[0m\u001b[0;34m\u001b[0m\u001b[0m\n\u001b[1;32m   1001\u001b[0m                               \u001b[0msteps_per_epoch\u001b[0m\u001b[0;34m=\u001b[0m\u001b[0msteps_per_epoch\u001b[0m\u001b[0;34m,\u001b[0m\u001b[0;34m\u001b[0m\u001b[0m\n\u001b[0;32m-> 1002\u001b[0;31m                               validation_steps=validation_steps)\n\u001b[0m\u001b[1;32m   1003\u001b[0m \u001b[0;34m\u001b[0m\u001b[0m\n\u001b[1;32m   1004\u001b[0m     def evaluate(self, x=None, y=None,\n",
      "\u001b[0;32m~/.local/lib/python3.5/site-packages/keras/engine/training.py\u001b[0m in \u001b[0;36mfit\u001b[0;34m(self, x, y, batch_size, epochs, verbose, callbacks, validation_split, validation_data, shuffle, class_weight, sample_weight, initial_epoch, steps_per_epoch, validation_steps, **kwargs)\u001b[0m\n\u001b[1;32m   1703\u001b[0m                               \u001b[0minitial_epoch\u001b[0m\u001b[0;34m=\u001b[0m\u001b[0minitial_epoch\u001b[0m\u001b[0;34m,\u001b[0m\u001b[0;34m\u001b[0m\u001b[0m\n\u001b[1;32m   1704\u001b[0m                               \u001b[0msteps_per_epoch\u001b[0m\u001b[0;34m=\u001b[0m\u001b[0msteps_per_epoch\u001b[0m\u001b[0;34m,\u001b[0m\u001b[0;34m\u001b[0m\u001b[0m\n\u001b[0;32m-> 1705\u001b[0;31m                               validation_steps=validation_steps)\n\u001b[0m\u001b[1;32m   1706\u001b[0m \u001b[0;34m\u001b[0m\u001b[0m\n\u001b[1;32m   1707\u001b[0m     def evaluate(self, x=None, y=None,\n",
      "\u001b[0;32m~/.local/lib/python3.5/site-packages/keras/engine/training.py\u001b[0m in \u001b[0;36m_fit_loop\u001b[0;34m(self, f, ins, out_labels, batch_size, epochs, verbose, callbacks, val_f, val_ins, shuffle, callback_metrics, initial_epoch, steps_per_epoch, validation_steps)\u001b[0m\n\u001b[1;32m   1234\u001b[0m                         \u001b[0mins_batch\u001b[0m\u001b[0;34m[\u001b[0m\u001b[0mi\u001b[0m\u001b[0;34m]\u001b[0m \u001b[0;34m=\u001b[0m \u001b[0mins_batch\u001b[0m\u001b[0;34m[\u001b[0m\u001b[0mi\u001b[0m\u001b[0;34m]\u001b[0m\u001b[0;34m.\u001b[0m\u001b[0mtoarray\u001b[0m\u001b[0;34m(\u001b[0m\u001b[0;34m)\u001b[0m\u001b[0;34m\u001b[0m\u001b[0m\n\u001b[1;32m   1235\u001b[0m \u001b[0;34m\u001b[0m\u001b[0m\n\u001b[0;32m-> 1236\u001b[0;31m                     \u001b[0mouts\u001b[0m \u001b[0;34m=\u001b[0m \u001b[0mf\u001b[0m\u001b[0;34m(\u001b[0m\u001b[0mins_batch\u001b[0m\u001b[0;34m)\u001b[0m\u001b[0;34m\u001b[0m\u001b[0m\n\u001b[0m\u001b[1;32m   1237\u001b[0m                     \u001b[0;32mif\u001b[0m \u001b[0;32mnot\u001b[0m \u001b[0misinstance\u001b[0m\u001b[0;34m(\u001b[0m\u001b[0mouts\u001b[0m\u001b[0;34m,\u001b[0m \u001b[0mlist\u001b[0m\u001b[0;34m)\u001b[0m\u001b[0;34m:\u001b[0m\u001b[0;34m\u001b[0m\u001b[0m\n\u001b[1;32m   1238\u001b[0m                         \u001b[0mouts\u001b[0m \u001b[0;34m=\u001b[0m \u001b[0;34m[\u001b[0m\u001b[0mouts\u001b[0m\u001b[0;34m]\u001b[0m\u001b[0;34m\u001b[0m\u001b[0m\n",
      "\u001b[0;32m~/.local/lib/python3.5/site-packages/keras/backend/tensorflow_backend.py\u001b[0m in \u001b[0;36m__call__\u001b[0;34m(self, inputs)\u001b[0m\n\u001b[1;32m   2480\u001b[0m         \u001b[0msession\u001b[0m \u001b[0;34m=\u001b[0m \u001b[0mget_session\u001b[0m\u001b[0;34m(\u001b[0m\u001b[0;34m)\u001b[0m\u001b[0;34m\u001b[0m\u001b[0m\n\u001b[1;32m   2481\u001b[0m         updated = session.run(fetches=fetches, feed_dict=feed_dict,\n\u001b[0;32m-> 2482\u001b[0;31m                               **self.session_kwargs)\n\u001b[0m\u001b[1;32m   2483\u001b[0m         \u001b[0;32mreturn\u001b[0m \u001b[0mupdated\u001b[0m\u001b[0;34m[\u001b[0m\u001b[0;34m:\u001b[0m\u001b[0mlen\u001b[0m\u001b[0;34m(\u001b[0m\u001b[0mself\u001b[0m\u001b[0;34m.\u001b[0m\u001b[0moutputs\u001b[0m\u001b[0;34m)\u001b[0m\u001b[0;34m]\u001b[0m\u001b[0;34m\u001b[0m\u001b[0m\n\u001b[1;32m   2484\u001b[0m \u001b[0;34m\u001b[0m\u001b[0m\n",
      "\u001b[0;32m/home/casapanshop/anaconda2/envs/py3/lib/python3.5/site-packages/tensorflow/python/client/session.py\u001b[0m in \u001b[0;36mrun\u001b[0;34m(self, fetches, feed_dict, options, run_metadata)\u001b[0m\n\u001b[1;32m    898\u001b[0m     \u001b[0;32mtry\u001b[0m\u001b[0;34m:\u001b[0m\u001b[0;34m\u001b[0m\u001b[0m\n\u001b[1;32m    899\u001b[0m       result = self._run(None, fetches, feed_dict, options_ptr,\n\u001b[0;32m--> 900\u001b[0;31m                          run_metadata_ptr)\n\u001b[0m\u001b[1;32m    901\u001b[0m       \u001b[0;32mif\u001b[0m \u001b[0mrun_metadata\u001b[0m\u001b[0;34m:\u001b[0m\u001b[0;34m\u001b[0m\u001b[0m\n\u001b[1;32m    902\u001b[0m         \u001b[0mproto_data\u001b[0m \u001b[0;34m=\u001b[0m \u001b[0mtf_session\u001b[0m\u001b[0;34m.\u001b[0m\u001b[0mTF_GetBuffer\u001b[0m\u001b[0;34m(\u001b[0m\u001b[0mrun_metadata_ptr\u001b[0m\u001b[0;34m)\u001b[0m\u001b[0;34m\u001b[0m\u001b[0m\n",
      "\u001b[0;32m/home/casapanshop/anaconda2/envs/py3/lib/python3.5/site-packages/tensorflow/python/client/session.py\u001b[0m in \u001b[0;36m_run\u001b[0;34m(self, handle, fetches, feed_dict, options, run_metadata)\u001b[0m\n\u001b[1;32m   1133\u001b[0m     \u001b[0;32mif\u001b[0m \u001b[0mfinal_fetches\u001b[0m \u001b[0;32mor\u001b[0m \u001b[0mfinal_targets\u001b[0m \u001b[0;32mor\u001b[0m \u001b[0;34m(\u001b[0m\u001b[0mhandle\u001b[0m \u001b[0;32mand\u001b[0m \u001b[0mfeed_dict_tensor\u001b[0m\u001b[0;34m)\u001b[0m\u001b[0;34m:\u001b[0m\u001b[0;34m\u001b[0m\u001b[0m\n\u001b[1;32m   1134\u001b[0m       results = self._do_run(handle, final_targets, final_fetches,\n\u001b[0;32m-> 1135\u001b[0;31m                              feed_dict_tensor, options, run_metadata)\n\u001b[0m\u001b[1;32m   1136\u001b[0m     \u001b[0;32melse\u001b[0m\u001b[0;34m:\u001b[0m\u001b[0;34m\u001b[0m\u001b[0m\n\u001b[1;32m   1137\u001b[0m       \u001b[0mresults\u001b[0m \u001b[0;34m=\u001b[0m \u001b[0;34m[\u001b[0m\u001b[0;34m]\u001b[0m\u001b[0;34m\u001b[0m\u001b[0m\n",
      "\u001b[0;32m/home/casapanshop/anaconda2/envs/py3/lib/python3.5/site-packages/tensorflow/python/client/session.py\u001b[0m in \u001b[0;36m_do_run\u001b[0;34m(self, handle, target_list, fetch_list, feed_dict, options, run_metadata)\u001b[0m\n\u001b[1;32m   1314\u001b[0m     \u001b[0;32mif\u001b[0m \u001b[0mhandle\u001b[0m \u001b[0;32mis\u001b[0m \u001b[0;32mNone\u001b[0m\u001b[0;34m:\u001b[0m\u001b[0;34m\u001b[0m\u001b[0m\n\u001b[1;32m   1315\u001b[0m       return self._do_call(_run_fn, feeds, fetches, targets, options,\n\u001b[0;32m-> 1316\u001b[0;31m                            run_metadata)\n\u001b[0m\u001b[1;32m   1317\u001b[0m     \u001b[0;32melse\u001b[0m\u001b[0;34m:\u001b[0m\u001b[0;34m\u001b[0m\u001b[0m\n\u001b[1;32m   1318\u001b[0m       \u001b[0;32mreturn\u001b[0m \u001b[0mself\u001b[0m\u001b[0;34m.\u001b[0m\u001b[0m_do_call\u001b[0m\u001b[0;34m(\u001b[0m\u001b[0m_prun_fn\u001b[0m\u001b[0;34m,\u001b[0m \u001b[0mhandle\u001b[0m\u001b[0;34m,\u001b[0m \u001b[0mfeeds\u001b[0m\u001b[0;34m,\u001b[0m \u001b[0mfetches\u001b[0m\u001b[0;34m)\u001b[0m\u001b[0;34m\u001b[0m\u001b[0m\n",
      "\u001b[0;32m/home/casapanshop/anaconda2/envs/py3/lib/python3.5/site-packages/tensorflow/python/client/session.py\u001b[0m in \u001b[0;36m_do_call\u001b[0;34m(self, fn, *args)\u001b[0m\n\u001b[1;32m   1320\u001b[0m   \u001b[0;32mdef\u001b[0m \u001b[0m_do_call\u001b[0m\u001b[0;34m(\u001b[0m\u001b[0mself\u001b[0m\u001b[0;34m,\u001b[0m \u001b[0mfn\u001b[0m\u001b[0;34m,\u001b[0m \u001b[0;34m*\u001b[0m\u001b[0margs\u001b[0m\u001b[0;34m)\u001b[0m\u001b[0;34m:\u001b[0m\u001b[0;34m\u001b[0m\u001b[0m\n\u001b[1;32m   1321\u001b[0m     \u001b[0;32mtry\u001b[0m\u001b[0;34m:\u001b[0m\u001b[0;34m\u001b[0m\u001b[0m\n\u001b[0;32m-> 1322\u001b[0;31m       \u001b[0;32mreturn\u001b[0m \u001b[0mfn\u001b[0m\u001b[0;34m(\u001b[0m\u001b[0;34m*\u001b[0m\u001b[0margs\u001b[0m\u001b[0;34m)\u001b[0m\u001b[0;34m\u001b[0m\u001b[0m\n\u001b[0m\u001b[1;32m   1323\u001b[0m     \u001b[0;32mexcept\u001b[0m \u001b[0merrors\u001b[0m\u001b[0;34m.\u001b[0m\u001b[0mOpError\u001b[0m \u001b[0;32mas\u001b[0m \u001b[0me\u001b[0m\u001b[0;34m:\u001b[0m\u001b[0;34m\u001b[0m\u001b[0m\n\u001b[1;32m   1324\u001b[0m       \u001b[0mmessage\u001b[0m \u001b[0;34m=\u001b[0m \u001b[0mcompat\u001b[0m\u001b[0;34m.\u001b[0m\u001b[0mas_text\u001b[0m\u001b[0;34m(\u001b[0m\u001b[0me\u001b[0m\u001b[0;34m.\u001b[0m\u001b[0mmessage\u001b[0m\u001b[0;34m)\u001b[0m\u001b[0;34m\u001b[0m\u001b[0m\n",
      "\u001b[0;32m/home/casapanshop/anaconda2/envs/py3/lib/python3.5/site-packages/tensorflow/python/client/session.py\u001b[0m in \u001b[0;36m_run_fn\u001b[0;34m(feed_dict, fetch_list, target_list, options, run_metadata)\u001b[0m\n\u001b[1;32m   1305\u001b[0m       \u001b[0mself\u001b[0m\u001b[0;34m.\u001b[0m\u001b[0m_extend_graph\u001b[0m\u001b[0;34m(\u001b[0m\u001b[0;34m)\u001b[0m\u001b[0;34m\u001b[0m\u001b[0m\n\u001b[1;32m   1306\u001b[0m       return self._call_tf_sessionrun(\n\u001b[0;32m-> 1307\u001b[0;31m           options, feed_dict, fetch_list, target_list, run_metadata)\n\u001b[0m\u001b[1;32m   1308\u001b[0m \u001b[0;34m\u001b[0m\u001b[0m\n\u001b[1;32m   1309\u001b[0m     \u001b[0;32mdef\u001b[0m \u001b[0m_prun_fn\u001b[0m\u001b[0;34m(\u001b[0m\u001b[0mhandle\u001b[0m\u001b[0;34m,\u001b[0m \u001b[0mfeed_dict\u001b[0m\u001b[0;34m,\u001b[0m \u001b[0mfetch_list\u001b[0m\u001b[0;34m)\u001b[0m\u001b[0;34m:\u001b[0m\u001b[0;34m\u001b[0m\u001b[0m\n",
      "\u001b[0;32m/home/casapanshop/anaconda2/envs/py3/lib/python3.5/site-packages/tensorflow/python/client/session.py\u001b[0m in \u001b[0;36m_call_tf_sessionrun\u001b[0;34m(self, options, feed_dict, fetch_list, target_list, run_metadata)\u001b[0m\n\u001b[1;32m   1407\u001b[0m       return tf_session.TF_SessionRun_wrapper(\n\u001b[1;32m   1408\u001b[0m           \u001b[0mself\u001b[0m\u001b[0;34m.\u001b[0m\u001b[0m_session\u001b[0m\u001b[0;34m,\u001b[0m \u001b[0moptions\u001b[0m\u001b[0;34m,\u001b[0m \u001b[0mfeed_dict\u001b[0m\u001b[0;34m,\u001b[0m \u001b[0mfetch_list\u001b[0m\u001b[0;34m,\u001b[0m \u001b[0mtarget_list\u001b[0m\u001b[0;34m,\u001b[0m\u001b[0;34m\u001b[0m\u001b[0m\n\u001b[0;32m-> 1409\u001b[0;31m           run_metadata)\n\u001b[0m\u001b[1;32m   1410\u001b[0m     \u001b[0;32melse\u001b[0m\u001b[0;34m:\u001b[0m\u001b[0;34m\u001b[0m\u001b[0m\n\u001b[1;32m   1411\u001b[0m       \u001b[0;32mwith\u001b[0m \u001b[0merrors\u001b[0m\u001b[0;34m.\u001b[0m\u001b[0mraise_exception_on_not_ok_status\u001b[0m\u001b[0;34m(\u001b[0m\u001b[0;34m)\u001b[0m \u001b[0;32mas\u001b[0m \u001b[0mstatus\u001b[0m\u001b[0;34m:\u001b[0m\u001b[0;34m\u001b[0m\u001b[0m\n",
      "\u001b[0;31mKeyboardInterrupt\u001b[0m: "
     ]
    }
   ],
   "source": [
    "model.compile(optimizer='adam', loss='sparse_categorical_crossentropy', sample_weight_mode='temporal')\n",
    "model.fit(X_train, Y_train, epochs=20, batch_size=256,validation_data=(X_valid, Y_valid),\n",
    "         sample_weight = sample_weight) #mas epochs..."
   ]
  },
  {
   "cell_type": "code",
   "execution_count": null,
   "metadata": {},
   "outputs": [],
   "source": [
    "245 seg antes.."
   ]
  },
  {
   "cell_type": "code",
   "execution_count": 15,
   "metadata": {
    "scrolled": true
   },
   "outputs": [
    {
     "ename": "MemoryError",
     "evalue": "",
     "output_type": "error",
     "traceback": [
      "\u001b[0;31m---------------------------------------------------------------------------\u001b[0m",
      "\u001b[0;31mMemoryError\u001b[0m                               Traceback (most recent call last)",
      "\u001b[0;32m<ipython-input-15-7d7d0db8bdb6>\u001b[0m in \u001b[0;36m<module>\u001b[0;34m()\u001b[0m\n\u001b[0;32m----> 1\u001b[0;31m \u001b[0mY_hat_valid\u001b[0m \u001b[0;34m=\u001b[0m \u001b[0mmodel\u001b[0m\u001b[0;34m.\u001b[0m\u001b[0mpredict_classes\u001b[0m\u001b[0;34m(\u001b[0m\u001b[0mX_valid\u001b[0m\u001b[0;34m)\u001b[0m\u001b[0;34m\u001b[0m\u001b[0m\n\u001b[0m\u001b[1;32m      2\u001b[0m \u001b[0mY_hat_test\u001b[0m \u001b[0;34m=\u001b[0m \u001b[0mmodel\u001b[0m\u001b[0;34m.\u001b[0m\u001b[0mpredict_classes\u001b[0m\u001b[0;34m(\u001b[0m\u001b[0mX_test\u001b[0m\u001b[0;34m)\u001b[0m\u001b[0;34m\u001b[0m\u001b[0m\n\u001b[1;32m      3\u001b[0m \u001b[0mY_hat_test\u001b[0m\u001b[0;34m\u001b[0m\u001b[0m\n",
      "\u001b[0;32m~/.local/lib/python3.5/site-packages/keras/models.py\u001b[0m in \u001b[0;36mpredict_classes\u001b[0;34m(self, x, batch_size, verbose, steps)\u001b[0m\n\u001b[1;32m   1175\u001b[0m         \"\"\"\n\u001b[1;32m   1176\u001b[0m         proba = self.predict(x, batch_size=batch_size, verbose=verbose,\n\u001b[0;32m-> 1177\u001b[0;31m                              steps=steps)\n\u001b[0m\u001b[1;32m   1178\u001b[0m         \u001b[0;32mif\u001b[0m \u001b[0mproba\u001b[0m\u001b[0;34m.\u001b[0m\u001b[0mshape\u001b[0m\u001b[0;34m[\u001b[0m\u001b[0;34m-\u001b[0m\u001b[0;36m1\u001b[0m\u001b[0;34m]\u001b[0m \u001b[0;34m>\u001b[0m \u001b[0;36m1\u001b[0m\u001b[0;34m:\u001b[0m\u001b[0;34m\u001b[0m\u001b[0m\n\u001b[1;32m   1179\u001b[0m             \u001b[0;32mreturn\u001b[0m \u001b[0mproba\u001b[0m\u001b[0;34m.\u001b[0m\u001b[0margmax\u001b[0m\u001b[0;34m(\u001b[0m\u001b[0maxis\u001b[0m\u001b[0;34m=\u001b[0m\u001b[0;34m-\u001b[0m\u001b[0;36m1\u001b[0m\u001b[0;34m)\u001b[0m\u001b[0;34m\u001b[0m\u001b[0m\n",
      "\u001b[0;32m~/.local/lib/python3.5/site-packages/keras/models.py\u001b[0m in \u001b[0;36mpredict\u001b[0;34m(self, x, batch_size, verbose, steps)\u001b[0m\n\u001b[1;32m   1062\u001b[0m             \u001b[0mself\u001b[0m\u001b[0;34m.\u001b[0m\u001b[0mbuild\u001b[0m\u001b[0;34m(\u001b[0m\u001b[0;34m)\u001b[0m\u001b[0;34m\u001b[0m\u001b[0m\n\u001b[1;32m   1063\u001b[0m         return self.model.predict(x, batch_size=batch_size, verbose=verbose,\n\u001b[0;32m-> 1064\u001b[0;31m                                   steps=steps)\n\u001b[0m\u001b[1;32m   1065\u001b[0m \u001b[0;34m\u001b[0m\u001b[0m\n\u001b[1;32m   1066\u001b[0m     \u001b[0;32mdef\u001b[0m \u001b[0mpredict_on_batch\u001b[0m\u001b[0;34m(\u001b[0m\u001b[0mself\u001b[0m\u001b[0;34m,\u001b[0m \u001b[0mx\u001b[0m\u001b[0;34m)\u001b[0m\u001b[0;34m:\u001b[0m\u001b[0;34m\u001b[0m\u001b[0m\n",
      "\u001b[0;32m~/.local/lib/python3.5/site-packages/keras/engine/training.py\u001b[0m in \u001b[0;36mpredict\u001b[0;34m(self, x, batch_size, verbose, steps)\u001b[0m\n\u001b[1;32m   1833\u001b[0m         \u001b[0mf\u001b[0m \u001b[0;34m=\u001b[0m \u001b[0mself\u001b[0m\u001b[0;34m.\u001b[0m\u001b[0mpredict_function\u001b[0m\u001b[0;34m\u001b[0m\u001b[0m\n\u001b[1;32m   1834\u001b[0m         return self._predict_loop(f, ins, batch_size=batch_size,\n\u001b[0;32m-> 1835\u001b[0;31m                                   verbose=verbose, steps=steps)\n\u001b[0m\u001b[1;32m   1836\u001b[0m \u001b[0;34m\u001b[0m\u001b[0m\n\u001b[1;32m   1837\u001b[0m     def train_on_batch(self, x, y,\n",
      "\u001b[0;32m~/.local/lib/python3.5/site-packages/keras/engine/training.py\u001b[0m in \u001b[0;36m_predict_loop\u001b[0;34m(self, f, ins, batch_size, verbose, steps)\u001b[0m\n\u001b[1;32m   1336\u001b[0m                     \u001b[0;32mfor\u001b[0m \u001b[0mbatch_out\u001b[0m \u001b[0;32min\u001b[0m \u001b[0mbatch_outs\u001b[0m\u001b[0;34m:\u001b[0m\u001b[0;34m\u001b[0m\u001b[0m\n\u001b[1;32m   1337\u001b[0m                         \u001b[0mshape\u001b[0m \u001b[0;34m=\u001b[0m \u001b[0;34m(\u001b[0m\u001b[0mnum_samples\u001b[0m\u001b[0;34m,\u001b[0m\u001b[0;34m)\u001b[0m \u001b[0;34m+\u001b[0m \u001b[0mbatch_out\u001b[0m\u001b[0;34m.\u001b[0m\u001b[0mshape\u001b[0m\u001b[0;34m[\u001b[0m\u001b[0;36m1\u001b[0m\u001b[0;34m:\u001b[0m\u001b[0;34m]\u001b[0m\u001b[0;34m\u001b[0m\u001b[0m\n\u001b[0;32m-> 1338\u001b[0;31m                         \u001b[0mouts\u001b[0m\u001b[0;34m.\u001b[0m\u001b[0mappend\u001b[0m\u001b[0;34m(\u001b[0m\u001b[0mnp\u001b[0m\u001b[0;34m.\u001b[0m\u001b[0mzeros\u001b[0m\u001b[0;34m(\u001b[0m\u001b[0mshape\u001b[0m\u001b[0;34m,\u001b[0m \u001b[0mdtype\u001b[0m\u001b[0;34m=\u001b[0m\u001b[0mbatch_out\u001b[0m\u001b[0;34m.\u001b[0m\u001b[0mdtype\u001b[0m\u001b[0;34m)\u001b[0m\u001b[0;34m)\u001b[0m\u001b[0;34m\u001b[0m\u001b[0m\n\u001b[0m\u001b[1;32m   1339\u001b[0m                 \u001b[0;32mfor\u001b[0m \u001b[0mi\u001b[0m\u001b[0;34m,\u001b[0m \u001b[0mbatch_out\u001b[0m \u001b[0;32min\u001b[0m \u001b[0menumerate\u001b[0m\u001b[0;34m(\u001b[0m\u001b[0mbatch_outs\u001b[0m\u001b[0;34m)\u001b[0m\u001b[0;34m:\u001b[0m\u001b[0;34m\u001b[0m\u001b[0m\n\u001b[1;32m   1340\u001b[0m                     \u001b[0mouts\u001b[0m\u001b[0;34m[\u001b[0m\u001b[0mi\u001b[0m\u001b[0;34m]\u001b[0m\u001b[0;34m[\u001b[0m\u001b[0mbatch_start\u001b[0m\u001b[0;34m:\u001b[0m\u001b[0mbatch_end\u001b[0m\u001b[0;34m]\u001b[0m \u001b[0;34m=\u001b[0m \u001b[0mbatch_out\u001b[0m\u001b[0;34m\u001b[0m\u001b[0m\n",
      "\u001b[0;31mMemoryError\u001b[0m: "
     ]
    }
   ],
   "source": [
    "Y_hat_valid = model.predict_classes(X_valid)\n",
    "Y_hat_test = model.predict_classes(X_test)\n",
    "Y_hat_test"
   ]
  },
  {
   "cell_type": "code",
   "execution_count": null,
   "metadata": {},
   "outputs": [],
   "source": []
  },
  {
   "cell_type": "code",
   "execution_count": null,
   "metadata": {},
   "outputs": [],
   "source": [
    "#generar codigo que predict solo 1 dato..."
   ]
  },
  {
   "cell_type": "code",
   "execution_count": 19,
   "metadata": {},
   "outputs": [],
   "source": [
    "#al predecir cortar cuando aparezca el simbolo #END...\n",
    "def predict_words(y_indexs, data=\"target\"):\n",
    "    \"\"\" Predict until #end is seen \"\"\"\n",
    "    return_val = []\n",
    "    for indx_word in y_indexs:\n",
    "        if indx_word != 0: #start to predict\n",
    "            return_val.append(np.squeeze(indx_word))\n",
    "            if data == \"target\": #if target is predicting\n",
    "                if indx_word == word2idx_t[\"#end\"]:\n",
    "                    return return_val                \n",
    "    return return_val"
   ]
  },
  {
   "cell_type": "code",
   "execution_count": 42,
   "metadata": {
    "scrolled": true
   },
   "outputs": [
    {
     "name": "stderr",
     "output_type": "stream",
     "text": [
      "/home/casapanshop/anaconda2/envs/py3/lib/python3.5/site-packages/sklearn/metrics/classification.py:1135: UndefinedMetricWarning: F-score is ill-defined and being set to 0.0 in labels with no predicted samples.\n",
      "  'precision', 'predicted', average, warn_for)\n",
      "/home/casapanshop/anaconda2/envs/py3/lib/python3.5/site-packages/sklearn/metrics/classification.py:1137: UndefinedMetricWarning: F-score is ill-defined and being set to 0.0 in labels with no true samples.\n",
      "  'recall', 'true', average, warn_for)\n"
     ]
    },
    {
     "data": {
      "text/plain": [
       "0.00010591756289843789"
      ]
     },
     "execution_count": 42,
     "metadata": {},
     "output_type": "execute_result"
    }
   ],
   "source": [
    "#exact match.. y f1 score (que tantas palabras entregadas son ocupadas y que tantas palabras faltaron)...\n",
    "#?? como se evalua?? -- proponga alguna tecnica..--- dificil BLEU\n",
    "\n",
    "from sklearn.preprocessing import MultiLabelBinarizer\n",
    "from sklearn.metrics import f1_score, precision_score, recall_score\n",
    "m = MultiLabelBinarizer().fit([valid_labels])\n",
    "def calculate_f1(true, pred):\n",
    "    true = np.squeeze(true)\n",
    "    pred = np.squeeze(pred)\n",
    "    binarized_true = m.transform([predict_words(true)])\n",
    "    binarized_pred = m.transform([predict_words(pred)]) #onehot of words appear... (no cuenta las veces que aparece la palabra..)\n",
    "    return f1_score(binarized_true, binarized_pred, average='macro')\n",
    "np.mean([calculate_f1(true_words,pred_words) for true_words,pred_words in zip(Y_valid,Y_hat_valid)])*100 #porcentaje"
   ]
  },
  {
   "cell_type": "code",
   "execution_count": 23,
   "metadata": {},
   "outputs": [
    {
     "data": {
      "text/plain": [
       "[array([    0,     0,     0,     0,     0,     0,     0,     0,     0,\n",
       "            0,     0,     0,     0,     0,     0,     0,     0,     0,\n",
       "            0,     0,     0,     0,     0,     0,     0,     0,     0,\n",
       "            0,     0,     0,     0,     0,     0, 12121, 11230,  8167,\n",
       "        11139,  8456,  6822,   168,  2407, 10680,  3585,  8642,  5363,\n",
       "        11640,  9961], dtype=int32)]"
      ]
     },
     "execution_count": 23,
     "metadata": {},
     "output_type": "execute_result"
    }
   ],
   "source": [
    "[X_test[0]]"
   ]
  },
  {
   "cell_type": "code",
   "execution_count": 17,
   "metadata": {},
   "outputs": [],
   "source": [
    "import numpy as np\n",
    "\n",
    "def visualize(X_set, Y_set):\n",
    "    n_s = 100\n",
    "    idx = np.random.choice(np.arange(Y_set.shape[0]),size=n_s,replace=False)\n",
    "    Y_set_pred = model.predict_classes(X_set[idx] )\n",
    "    \n",
    "    for i, n_sampled in enumerate(idx):\n",
    "        text_input = [idx2word_s[p] for p in predict_words(X_set[n_sampled], data=\"source\")]\n",
    "        print(\"Texto source: \", ' '.join(text_input))\n",
    "\n",
    "        text_real = [idx2word_t[p] for p in predict_words(Y_set[n_sampled,:,0], data=\"target\")]\n",
    "        print(\"Texto target real: \", ' '.join( text_real))\n",
    "\n",
    "        text_sampled = [idx2word_t[p] for p in predict_words(Y_set_pred[i], data=\"target\")]\n",
    "        print(\"Texto target predicho: \", ' '.join(text_sampled))"
   ]
  },
  {
   "cell_type": "code",
   "execution_count": null,
   "metadata": {},
   "outputs": [],
   "source": []
  },
  {
   "cell_type": "code",
   "execution_count": 20,
   "metadata": {},
   "outputs": [
    {
     "name": "stdout",
     "output_type": "stream",
     "text": [
      "Texto source:  the teacher opened the box and took out a ball\n",
      "Texto target real:  el profesor abrió la caja y sacó una pelota #end\n",
      "Texto target predicho:  su niño de la la y se y #end\n",
      "Texto source:  who intervened\n",
      "Texto target real:  fue el que intervino #end\n",
      "Texto target predicho:  la #end\n",
      "Texto source:  i owe it all to you\n",
      "Texto target real:  te lo debo todo #end\n",
      "Texto target predicho:  me me de #end\n",
      "Texto source:  i dont feel like talking with anyone\n",
      "Texto target real:  no tengo ganas de hablar con nadie #end\n",
      "Texto target predicho:  no tengo nada de a #end\n",
      "Texto source:  tom doesnt even know how to write his own name\n",
      "Texto target real:  tom ni siquiera sabe cómo escribir su propio nombre #end\n",
      "Texto target predicho:  tom no no que a a su #end\n",
      "Texto source:  tom chose his words carefully\n",
      "Texto target real:  tom escogió cuidadosamente sus palabras #end\n",
      "Texto target predicho:  tom se a de de #end\n",
      "Texto source:  tom gives me the\n",
      "Texto target real:  tom me da #end\n",
      "Texto target predicho:  tom no a #end\n",
      "Texto source:  he bowed to his teacher\n",
      "Texto target real:  él se inclinó ante su profesor #end\n",
      "Texto target predicho:  él se a a el #end\n",
      "Texto source:  well do it together\n",
      "Texto target real:  lo haremos juntos #end\n",
      "Texto target predicho:  te #end\n",
      "Texto source:  i dont want to hurt his feelings\n",
      "Texto target real:  no quiero herir sus sentimientos #end\n",
      "Texto target predicho:  no quiero a #end\n",
      "Texto source:  where can i do some shopping\n",
      "Texto target real:  puedo hacer algunas compras #end\n",
      "Texto target predicho:  no algo de de #end\n",
      "Texto source:  we usually eat before seven\n",
      "Texto target real:  comer antes de las siete #end\n",
      "Texto target predicho:  ellos dos de de #end\n",
      "Texto source:  i thought tom was different\n",
      "Texto target real:  pensé que tom era diferente #end\n",
      "Texto target predicho:  pensé que tom era #end\n",
      "Texto source:  how was your day\n",
      "Texto target real:  estuvo tu día #end\n",
      "Texto target predicho:  está tu #end\n",
      "Texto source:  i need to impress tom\n",
      "Texto target real:  tengo que impresionar a tom #end\n",
      "Texto target predicho:  quiero a a tom #end\n",
      "Texto source:  compass point to the north\n",
      "Texto target real:  la aguja de la brújula apunta al norte #end\n",
      "Texto target predicho:  en se a la #end\n",
      "Texto source:  he died a few hours later\n",
      "Texto target real:  murió algunas horas más tarde #end\n",
      "Texto target predicho:  ella se dos por de #end\n",
      "Texto source:  call security\n",
      "Texto target real:  a seguridad #end\n",
      "Texto target predicho:  la #end\n",
      "Texto source:  are you happy\n",
      "Texto target real:  usted feliz #end\n",
      "Texto target predicho:  #end\n",
      "Texto source:  i know how to solve the problem but ive been asked not to tell you\n",
      "Texto target real:  yo sé cómo resolver el problema pero se me pidió que no te lo dijera #end\n",
      "Texto target predicho:  te que de de que que que que que que que que #end\n",
      "Texto source:  does it work\n",
      "Texto target real:  eso #end\n",
      "Texto target predicho:  #end\n",
      "Texto source:  tom told me an interesting story\n",
      "Texto target real:  tom me contó una interesante historia #end\n",
      "Texto target predicho:  tom le le un un #end\n",
      "Texto source:  has anything changed\n",
      "Texto target real:  cambiado algo #end\n",
      "Texto target predicho:  está muy #end\n",
      "Texto source:  theyre going\n",
      "Texto target real:  se van #end\n",
      "Texto target predicho:  ellos #end\n",
      "Texto source:  ill be free\n",
      "Texto target real:  voy a estar libre #end\n",
      "Texto target predicho:  te #end\n",
      "Texto source:  the french were defeated at\n",
      "Texto target real:  los franceses fueron en #end\n",
      "Texto target predicho:  la niños de #end\n",
      "Texto source:  tom said he didnt think mary had a drivers license\n",
      "Texto target real:  tom dijo que no creía que mary tuviera carné de conducir #end\n",
      "Texto target predicho:  tom dijo que que que que que que un un #end\n",
      "Texto source:  i sang a song\n",
      "Texto target real:  yo una canción #end\n",
      "Texto target predicho:  yo una libro #end\n",
      "Texto source:  tom was afraid to swim\n",
      "Texto target real:  tom le tenía miedo a nadar #end\n",
      "Texto target predicho:  tom se a de #end\n",
      "Texto source:  tom for help\n",
      "Texto target real:  tom pidió ayuda #end\n",
      "Texto target predicho:  tom se #end\n",
      "Texto source:  his father dedicated his life to science\n",
      "Texto target real:  su padre dedicó su vida a la ciencia #end\n",
      "Texto target predicho:  su padre se a su #end\n",
      "Texto source:  there is something wrong with my car\n",
      "Texto target real:  le pasa algo a mi coche #end\n",
      "Texto target predicho:  es algo para a el #end\n",
      "Texto source:  give me the keys so i can the door\n",
      "Texto target real:  dame las llaves para que pueda abrir la puerta #end\n",
      "Texto target predicho:  dame el de que que que a #end\n",
      "Texto source:  my cousin is a\n",
      "Texto target real:  mi primo es un adicto #end\n",
      "Texto target predicho:  mi hermano es un #end\n",
      "Texto source:  im going to need some help\n",
      "Texto target real:  voy a necesitar un poco de ayuda #end\n",
      "Texto target predicho:  voy a a tiempo #end\n",
      "Texto source:  i consider tom to be a friend\n",
      "Texto target real:  considero que tom es un amigo #end\n",
      "Texto target predicho:  le que tom un un #end\n",
      "Texto source:  i have to win\n",
      "Texto target real:  tengo que ganar #end\n",
      "Texto target predicho:  me puedo #end\n",
      "Texto source:  the garden has a wooden fence\n",
      "Texto target real:  la tiene una cerca de madera #end\n",
      "Texto target predicho:  el niño tiene un de de #end\n",
      "Texto source:  youre my princess\n",
      "Texto target real:  eres mi princesa #end\n",
      "Texto target predicho:  es mi #end\n",
      "Texto source:  how often do you shower\n",
      "Texto target real:  qué frecuencia te #end\n",
      "Texto target predicho:  a te #end\n",
      "Texto source:  ive done things\n",
      "Texto target real:  he hecho cosas #end\n",
      "Texto target predicho:  estoy aquí aquí #end\n",
      "Texto source:  he said he wanted to be a scientist\n",
      "Texto target real:  él dijo que quería ser científico #end\n",
      "Texto target predicho:  tom dijo que no un un #end\n",
      "Texto source:  he likes to hunt\n",
      "Texto target real:  le gusta cazar #end\n",
      "Texto target predicho:  le le gusta #end\n",
      "Texto source:  why did you use up all the money\n",
      "Texto target real:  qué todo el dinero #end\n",
      "Texto target predicho:  qué te a dinero #end\n",
      "Texto source:  she had to take care of her sister\n",
      "Texto target real:  ella tuvo que cuidar de su hermana #end\n",
      "Texto target predicho:  ella me que que su su #end\n",
      "Texto source:  tom and mary looked at each other and then back at john\n",
      "Texto target real:  tom y mary se miraron mutuamente y luego volvieron la vista a john #end\n",
      "Texto target predicho:  tom y mary y y y y y a #end\n",
      "Texto source:  what do the oranges cost\n",
      "Texto target real:  cuestan las naranjas #end\n",
      "Texto target predicho:  hay el de de #end\n",
      "Texto source:  i do as little as i can to get by\n",
      "Texto target real:  hago lo mínimo que puedo para salir adelante #end\n",
      "Texto target predicho:  tenemos de de que que que #end\n",
      "Texto source:  the bar is closed\n",
      "Texto target real:  el bar está cerrado #end\n",
      "Texto target predicho:  el perro está #end\n",
      "Texto source:  i recommend it strongly\n",
      "Texto target real:  lo recomiendo #end\n",
      "Texto target predicho:  me me #end\n",
      "Texto source:  can you manage those by yourself\n",
      "Texto target real:  con esos tú solo #end\n",
      "Texto target predicho:  en por #end\n",
      "Texto source:  im not afraid\n",
      "Texto target real:  no tengo miedo #end\n",
      "Texto target predicho:  no estoy #end\n",
      "Texto source:  he hid himself behind the door\n",
      "Texto target real:  se escondió detrás de la puerta #end\n",
      "Texto target predicho:  él se a la la #end\n",
      "Texto source:  our parents are so proud\n",
      "Texto target real:  nuestros padres están tan orgullosos #end\n",
      "Texto target predicho:  los niños son #end\n",
      "Texto source:  the watch spring broke\n",
      "Texto target real:  se le rompió la cuerda al reloj #end\n",
      "Texto target predicho:  el de de la #end\n",
      "Texto source:  she climbed down from the roof\n",
      "Texto target real:  ella bajó del tejado #end\n",
      "Texto target predicho:  ella se en el #end\n",
      "Texto source:  she was washing the dishes\n",
      "Texto target real:  ella estaba los platos #end\n",
      "Texto target predicho:  ella se en de #end\n",
      "Texto source:  are you on facebook\n",
      "Texto target real:  facebook #end\n",
      "Texto target predicho:  el #end\n",
      "Texto source:  today was the first time i ever saw tom smile\n",
      "Texto target real:  hoy vi por primera vez a tom sonreír #end\n",
      "Texto target predicho:  mi mi la de que que que a #end\n",
      "Texto source:  i would do anything for you\n",
      "Texto target real:  haría cualquier cosa por vosotras #end\n",
      "Texto target predicho:  se de para #end\n",
      "Texto source:  are you sending christmas cards this year\n",
      "Texto target real:  a enviar tarjetas de navidad este año #end\n",
      "Texto target predicho:  a la de en de #end\n",
      "Texto source:  tom sat next to mary on the bus\n",
      "Texto target real:  tom se sentó junto a mary en el autobús #end\n",
      "Texto target predicho:  tom se a a a a la la #end\n",
      "Texto source:  i have left my umbrella in a bus\n",
      "Texto target real:  me he olvidado el paraguas en un autobús #end\n",
      "Texto target predicho:  tengo mi la de en el #end\n",
      "Texto source:  i have a bicycle\n",
      "Texto target real:  tengo una bicicleta #end\n",
      "Texto target predicho:  tengo un libro #end\n",
      "Texto source:  is there anyone who can pronounce this word\n",
      "Texto target real:  alguien que pueda pronunciar esta palabra #end\n",
      "Texto target predicho:  de que que a este #end\n",
      "Texto source:  tom blushed when he saw mary naked\n",
      "Texto target real:  tom se al ver a mary desnuda #end\n",
      "Texto target predicho:  tom se a a mary a mary #end\n",
      "Texto source:  she looks pretty in that dress\n",
      "Texto target real:  ella se ve linda en ese vestido #end\n",
      "Texto target predicho:  ella se muy muy un #end\n",
      "Texto source:  im not in favor of this plan\n",
      "Texto target real:  no estoy a favor de este plan #end\n",
      "Texto target predicho:  no estoy a de este este #end\n",
      "Texto source:  i got this vacuum cleaner for nothing\n",
      "Texto target real:  yo conseguí esta aspiradora para nada #end\n",
      "Texto target predicho:  tengo de que que estoy #end\n",
      "Texto source:  have i kept you waiting long\n",
      "Texto target real:  he hecho esperar mucho #end\n",
      "Texto target predicho:  puedes que de #end\n",
      "Texto source:  what was she like\n",
      "Texto target real:  era ella #end\n",
      "Texto target predicho:  fue está #end\n",
      "Texto source:  where did you get the money to buy that dress\n",
      "Texto target real:  dónde sacaste el dinero para ese vestido #end\n",
      "Texto target predicho:  es a el de de #end\n",
      "Texto source:  ive decided to quit my job at the end of this month\n",
      "Texto target real:  he decidido dejar mi trabajo a fines de este mes #end\n",
      "Texto target predicho:  me que a a en en de #end\n",
      "Texto source:  ive tried with him but he just wont listen\n",
      "Texto target real:  traté de con él pero sencillamente no escucha #end\n",
      "Texto target predicho:  me que de que no me que #end\n",
      "Texto source:  tom hung a calendar on the wall\n",
      "Texto target real:  tom colgó un calendario en la pared #end\n",
      "Texto target predicho:  tom se en en en la #end\n",
      "Texto source:  tom isnt my type\n",
      "Texto target real:  tom no es mi tipo #end\n",
      "Texto target predicho:  tom es es mi #end\n",
      "Texto source:  you must pay in advance\n",
      "Texto target real:  tiene que pagar por adelantado #end\n",
      "Texto target predicho:  deberías que en #end\n",
      "Texto source:  i thought we were going to try to be friends\n",
      "Texto target real:  pensé que íbamos a tratar de ser amigos #end\n",
      "Texto target predicho:  pensé que a a por #end\n",
      "Texto source:  its deserted\n",
      "Texto target real:  está desierto #end\n",
      "Texto target predicho:  está #end\n",
      "Texto source:  it sounds like tom might not want to do that\n",
      "Texto target real:  suena a que tom podría no querer hacer eso #end\n",
      "Texto target predicho:  es que que que que que que #end\n",
      "Texto source:  he pulled the wounded soldier to the nearby bush\n",
      "Texto target real:  él arrastró al soldado herido hasta un arbusto cercano #end\n",
      "Texto target predicho:  él la la de que en #end\n",
      "Texto source:  you know what i need\n",
      "Texto target real:  tú sabes lo que necesito #end\n",
      "Texto target predicho:  lo que que que #end\n",
      "Texto source:  cant you see im busy\n",
      "Texto target real:  ves que estoy ocupado #end\n",
      "Texto target predicho:  puedes que algo #end\n",
      "Texto source:  i majored in history\n",
      "Texto target real:  me en historia #end\n",
      "Texto target predicho:  él el el #end\n",
      "Texto source:  compared with her husband she is not so careful\n",
      "Texto target real:  comparada a su esposo ella no es muy cuidadosa #end\n",
      "Texto target predicho:  la de de de que no no #end\n",
      "Texto source:  i still dont feel safe\n",
      "Texto target real:  todavía no me siento seguro #end\n",
      "Texto target predicho:  no no me que #end\n",
      "Texto source:  im ashamed of my body\n",
      "Texto target real:  me avergüenzo de mi cuerpo #end\n",
      "Texto target predicho:  estoy a mi mi #end\n",
      "Texto source:  they said yes\n",
      "Texto target real:  ellos dijeron que sí #end\n",
      "Texto target predicho:  lo lo lo #end\n",
      "Texto source:  he did not enjoy his lessons\n",
      "Texto target real:  él no disfrutó de sus #end\n",
      "Texto target predicho:  él no le en la #end\n",
      "Texto source:  hes good at flying kites\n",
      "Texto target real:  él es bueno #end\n",
      "Texto target predicho:  ella es muy de #end\n",
      "Texto source:  i lent tom some money\n",
      "Texto target real:  le presté a tom algún dinero #end\n",
      "Texto target predicho:  le a a a #end\n",
      "Texto source:  mary\n",
      "Texto target real:  mary soltó una risita #end\n",
      "Texto target predicho:  mary #end\n",
      "Texto source:  that dog is too dangerous to be left loose\n",
      "Texto target real:  ese perro es demasiado peligroso para dejarlo suelto #end\n",
      "Texto target predicho:  el libro es muy que de #end\n",
      "Texto source:  i returned the knife which i had borrowed\n",
      "Texto target real:  el cuchillo que había tomado prestado #end\n",
      "Texto target predicho:  fue la que que que #end\n",
      "Texto source:  tom didnt need any help\n",
      "Texto target real:  tom no necesitó nada de ayuda #end\n",
      "Texto target predicho:  tom no se nada #end\n",
      "Texto source:  i saw tom last night in the library\n",
      "Texto target real:  vi a tom anoche en la biblioteca #end\n",
      "Texto target predicho:  le a a a la #end\n",
      "Texto source:  im sorry for the mess\n",
      "Texto target real:  lamento el desorden #end\n",
      "Texto target predicho:  te de de #end\n",
      "Texto source:  look in the mirror\n",
      "Texto target real:  mira al espejo #end\n",
      "Texto target predicho:  cierra el #end\n",
      "Texto source:  i have a very sore arm where you hit me\n",
      "Texto target real:  me duele mucho en el brazo que me #end\n",
      "Texto target predicho:  tengo un de de que que #end\n",
      "Texto source:  i want to be here when tom wakes up\n",
      "Texto target real:  quiero estar acá cuando tom se despierte #end\n",
      "Texto target predicho:  quiero que a no que tom #end\n"
     ]
    }
   ],
   "source": [
    "visualize(X_test, Y_test)"
   ]
  },
  {
   "cell_type": "code",
   "execution_count": null,
   "metadata": {},
   "outputs": [],
   "source": []
  },
  {
   "cell_type": "code",
   "execution_count": 102,
   "metadata": {},
   "outputs": [
    {
     "name": "stdout",
     "output_type": "stream",
     "text": [
      "Texto source:  we didnt play well\n",
      "Texto target real:  no jugamos bien #end\n",
      "Texto target predicho:  no no #end\n"
     ]
    }
   ],
   "source": [
    "Y_hat = model.predict_classes(X_train[:30])\n",
    "visualize(Y_train[:30], Y_hat, X_train[:30])"
   ]
  },
  {
   "cell_type": "code",
   "execution_count": null,
   "metadata": {},
   "outputs": [],
   "source": []
  }
 ],
 "metadata": {
  "kernelspec": {
   "display_name": "Python [conda env:py3]",
   "language": "python",
   "name": "conda-env-py3-py"
  },
  "language_info": {
   "codemirror_mode": {
    "name": "ipython",
    "version": 3
   },
   "file_extension": ".py",
   "mimetype": "text/x-python",
   "name": "python",
   "nbconvert_exporter": "python",
   "pygments_lexer": "ipython3",
   "version": "3.5.5"
  }
 },
 "nbformat": 4,
 "nbformat_minor": 2
}
