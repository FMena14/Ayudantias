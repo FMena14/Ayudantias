{
 "cells": [
  {
   "cell_type": "markdown",
   "metadata": {
    "colab_type": "text",
    "id": "0Y1tHj3DNqhX"
   },
   "source": [
    "<img src=\"http://www.exalumnos.usm.cl/wp-content/uploads/2015/06/Isotipo-Negro.gif\" title=\"Title text\" width=\"20%\" height=\"20%\" />\n",
    "\n",
    "\n",
    "<hr style=\"height:2px;border:none\"/>\n",
    "<h1 align='center'> INF-395/477 Redes Neuronales Artificiales I-2018 </h1>\n",
    "\n",
    "<H3 align='center'> Tarea 2 - Aplicaciones Recientes de Redes Neuronales </H3>\n",
    "<hr style=\"height:2px;border:none\"/>\n",
    "\n",
    "**Temas**  \n",
    "\n",
    "* Diseño e implementación detallado de Redes Recurrentes (RNN) y sus derivados.\n",
    "* Compuertas LSTM y GRU. \n",
    "* Arquitectura Encoder-Decoder y mecanismo de atención.\n",
    "* Autoencoders (quizás no, ya que va en punto 2 y 4)\n",
    "* Modelos generativos profundos: GANs (*Generative Adversarial Network*) y VAEs (*Variational Autoencoder*)\n",
    "* Desafío??\n",
    "\n",
    "** Formalidades **  \n",
    "* Equipos de trabajo de: 2-3 personas (*cada uno debe estar en condiciones de realizar una presentación y discutir sobre cada punto del trabajo realizado*)\n",
    "* Se debe preparar una presentación de 20 minutos. Presentador será elegido aleatoriamente.\n",
    "* Se debe preparar un (breve) Jupyter/IPython notebook que explique la actividad realizada y las conclusiones del trabajo\n",
    "* Fecha de entrega y discusión: 31 de Mayo.\n",
    "* Formato de entrega: envı́o de link Github al correo electrónico del ayudante (*<francisco.mena.13@sansano.usm.cl>*) , incluyendo al profesor en copia (*<jnancu@inf.utfsm.cl>*). Por favor especificar el siguiente asunto: [Tarea2-INF395-I-2019]\n",
    "\n",
    "<hr style=\"height:2px;border:none\"/>\n",
    "La tarea se divide en secciones:\n",
    "\n",
    "[1.](#primero) \n",
    "[2.](#segundo) \n",
    "[3.](#tercero)   \n",
    "[4.](#cuarto)   "
   ]
  },
  {
   "cell_type": "markdown",
   "metadata": {
    "colab_type": "text",
    "id": "84-hf1CuNqhZ"
   },
   "source": [
    "#### <a id=\"primero\"></a>\n",
    "## 1. Problema 1\n",
    "---\n",
    "\n",
    "NER o POStag? problema recurrente Many to many? (reciclado)\n",
    "\n",
    "- Cambia el utilizar embedding pre-entrenados? (seguirlos entrenando para la tarea o dejarlos fijo?)\n",
    "link: https://github.com/keras-team/keras/blob/master/examples/pretrained_word_embeddings.py"
   ]
  },
  {
   "cell_type": "markdown",
   "metadata": {
    "colab_type": "text",
    "id": "iFtCUBp9Nqhb"
   },
   "source": [
    "<a id=\"segundo\"></a>\n",
    "\n",
    "## 2. Problema 2\n",
    "---\n",
    "\n",
    "Opcion 1: (texto)\n",
    "\n",
    "Experimentar con encoder-decoder y atención..\n",
    "\n",
    "translation de audio a texto?  \n",
    "link: https://www.kaggle.com/mozillaorg/common-voice/home\n",
    "\n",
    "Opcion 2: (imagenes)\n",
    "\n",
    "translation de imagenes (segmentation)\n",
    "* https://fairyonice.github.io/Learn-about-Fully-Convolutional-Networks-for-semantic-segmentation.html\n",
    "* https://github.com/williamFalcon/pix2pix-keras  \n",
    "Dataset:\n",
    "* http://pub.ist.ac.at/~akolesnikov/HDSeg/\n",
    "* https://github.com/preddy5/segnet\n",
    "* http://www.ntu.edu.sg/home/ASJFCai/Benchmark_Website/benchmark_index.html"
   ]
  },
  {
   "cell_type": "markdown",
   "metadata": {},
   "source": [
    "<a id=\"tercero\"></a>\n",
    "## 3. Problema 3\n",
    "---\n",
    "\n",
    "Ejercicio de modelos generativos en MNIST (similar al año pasado)\n",
    "\n",
    "Que piensen y/o deriven un VAE categórico para aprender \"no supervisado\" las clases.."
   ]
  },
  {
   "cell_type": "markdown",
   "metadata": {},
   "source": [
    "<a id=\"cuarto\"></a>\n",
    "## 4.  Problema 4\n",
    "---\n",
    "\n",
    "Mini-desafío\n",
    "\n",
    "* Painting outside the box: https://github.com/bendangnuksung/Image-OutPainting (con GANs)\n",
    "* Clasificación sobre dataset con pocos datos etiquetados y hartos no etiquetados: https://cs.stanford.edu/~acoates/stl10/\n",
    "* Rumor and Non-Rumour problem (2 niveles de jerarquía de procesamiento-- textos luego conjuntos de textos)"
   ]
  },
  {
   "cell_type": "markdown",
   "metadata": {
    "colab_type": "text",
    "id": "YAYlvfT-Nqhw"
   },
   "source": [
    "<a id=\"refs\"></a>\n",
    "## Referencias\n",
    "[1]   "
   ]
  }
 ],
 "metadata": {
  "colab": {
   "name": "Enunciado.ipynb",
   "provenance": [],
   "version": "0.3.2"
  },
  "kernelspec": {
   "display_name": "Python [default]",
   "language": "python",
   "name": "python2"
  },
  "language_info": {
   "codemirror_mode": {
    "name": "ipython",
    "version": 2
   },
   "file_extension": ".py",
   "mimetype": "text/x-python",
   "name": "python",
   "nbconvert_exporter": "python",
   "pygments_lexer": "ipython2",
   "version": "2.7.15"
  }
 },
 "nbformat": 4,
 "nbformat_minor": 1
}
