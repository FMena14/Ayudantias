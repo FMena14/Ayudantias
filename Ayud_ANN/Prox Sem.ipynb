{
 "cells": [
  {
   "cell_type": "markdown",
   "metadata": {},
   "source": [
    "## Nuevas Posibilidades para prox semestre.."
   ]
  },
  {
   "cell_type": "markdown",
   "metadata": {},
   "source": [
    "### Paintin outside the box (con GANS.. tarea 3)\n",
    "---\n",
    "https://github.com/bendangnuksung/Image-OutPainting"
   ]
  },
  {
   "cell_type": "code",
   "execution_count": null,
   "metadata": {},
   "outputs": [],
   "source": []
  },
  {
   "cell_type": "markdown",
   "metadata": {},
   "source": [
    "### Fully Convolutional Network (Image translation)\n",
    "---\n",
    "* https://fairyonice.github.io/Learn-about-Fully-Convolutional-Networks-for-semantic-segmentation.html\n",
    "* https://github.com/williamFalcon/pix2pix-keras\n",
    "Dataset:\n",
    "* http://pub.ist.ac.at/~akolesnikov/HDSeg/\n",
    "* https://github.com/preddy5/segnet\n",
    "* http://www.ntu.edu.sg/home/ASJFCai/Benchmark_Website/benchmark_index.html"
   ]
  },
  {
   "cell_type": "code",
   "execution_count": null,
   "metadata": {},
   "outputs": [],
   "source": []
  },
  {
   "cell_type": "markdown",
   "metadata": {},
   "source": [
    "### CNN enves de LSTM (tarea 2 o 3)\n",
    "---\n",
    "* https://github.com/keras-team/keras/blob/master/examples/imdb_cnn_lstm.py\n",
    "* https://github.com/keras-team/keras/blob/master/examples/imdb_cnn.py"
   ]
  },
  {
   "cell_type": "code",
   "execution_count": null,
   "metadata": {},
   "outputs": [],
   "source": [
    "model = Sequential()\n",
    "model.add(Embedding(max_features, embedding_size, input_length=maxlen))\n",
    "model.add(Dropout(0.25))\n",
    "model.add(Conv1D(filters,\n",
    "                 kernel_size,\n",
    "                 padding='valid',\n",
    "                 activation='relu',\n",
    "                 strides=1))\n",
    "model.add(MaxPooling1D(pool_size=pool_size))\n",
    "model.add(LSTM(lstm_output_size))\n",
    "model.add(Dense(1))\n",
    "model.add(Activation('sigmoid'))"
   ]
  },
  {
   "cell_type": "markdown",
   "metadata": {},
   "source": [
    "## Hierarchical RNN\n",
    "link: https://github.com/keras-team/keras/blob/master/examples/mnist_hierarchical_rnn.py"
   ]
  },
  {
   "cell_type": "code",
   "execution_count": null,
   "metadata": {},
   "outputs": [],
   "source": []
  },
  {
   "cell_type": "markdown",
   "metadata": {},
   "source": [
    "## OTro estilo de TRansfer Learning\n",
    "link: https://github.com/keras-team/keras/blob/master/examples/mnist_transfer_cnn.py"
   ]
  },
  {
   "cell_type": "code",
   "execution_count": null,
   "metadata": {},
   "outputs": [],
   "source": [
    "entrenar toda la red para 1 tarea y seguir entrenando para otra"
   ]
  },
  {
   "cell_type": "markdown",
   "metadata": {},
   "source": [
    "## Memory Network\n",
    "link: https://github.com/keras-team/keras/blob/master/examples/babi_memnn.py"
   ]
  },
  {
   "cell_type": "code",
   "execution_count": null,
   "metadata": {},
   "outputs": [],
   "source": []
  },
  {
   "cell_type": "markdown",
   "metadata": {},
   "source": [
    "## PreTrained Embedding word\n",
    "link: https://github.com/keras-team/keras/blob/master/examples/pretrained_word_embeddings.py"
   ]
  },
  {
   "cell_type": "code",
   "execution_count": null,
   "metadata": {},
   "outputs": [],
   "source": []
  },
  {
   "cell_type": "markdown",
   "metadata": {},
   "source": [
    "## Visualize conv activation\n",
    "link: https://github.com/keras-team/keras/blob/master/examples/conv_filter_visualization.py"
   ]
  },
  {
   "cell_type": "code",
   "execution_count": null,
   "metadata": {},
   "outputs": [],
   "source": []
  },
  {
   "cell_type": "markdown",
   "metadata": {},
   "source": [
    "## Rumor and Non-Rumor classification\n",
    "data de *text mining* (tarea 2)"
   ]
  },
  {
   "cell_type": "code",
   "execution_count": null,
   "metadata": {},
   "outputs": [],
   "source": []
  },
  {
   "cell_type": "markdown",
   "metadata": {},
   "source": [
    "## Text to Speech\n",
    "link: https://www.kaggle.com/mozillaorg/common-voice/home"
   ]
  },
  {
   "cell_type": "code",
   "execution_count": null,
   "metadata": {},
   "outputs": [],
   "source": []
  },
  {
   "cell_type": "markdown",
   "metadata": {},
   "source": [
    "## Image captioning:\n",
    "link: https://machinelearningmastery.com/develop-a-deep-learning-caption-generation-model-in-python/\n",
    "flickr dataset"
   ]
  },
  {
   "cell_type": "code",
   "execution_count": null,
   "metadata": {},
   "outputs": [],
   "source": []
  },
  {
   "cell_type": "markdown",
   "metadata": {},
   "source": [
    "## Multi task learning\n",
    "link: https://blog.manash.me/multi-task-learning-in-keras-implementation-of-multi-task-classification-loss-f1d42da5c3f6  \n",
    "otro: https://www.dlology.com/blog/how-to-multi-task-learning-with-missing-labels-in-keras/"
   ]
  },
  {
   "cell_type": "code",
   "execution_count": null,
   "metadata": {},
   "outputs": [],
   "source": []
  },
  {
   "cell_type": "markdown",
   "metadata": {},
   "source": [
    "### MoE\n",
    "---\n",
    "Estilo Rodrigues para escapar del EM: https://stackoverflow.com/questions/40074730/keras-mixture-of-models"
   ]
  }
 ],
 "metadata": {
  "kernelspec": {
   "display_name": "Python 3",
   "language": "python",
   "name": "python3"
  },
  "language_info": {
   "codemirror_mode": {
    "name": "ipython",
    "version": 3
   },
   "file_extension": ".py",
   "mimetype": "text/x-python",
   "name": "python",
   "nbconvert_exporter": "python",
   "pygments_lexer": "ipython3",
   "version": "3.5.5"
  }
 },
 "nbformat": 4,
 "nbformat_minor": 2
}
