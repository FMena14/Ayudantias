{
 "cells": [
  {
   "cell_type": "code",
   "execution_count": 1,
   "metadata": {},
   "outputs": [
    {
     "name": "stderr",
     "output_type": "stream",
     "text": [
      "/home/casapanshop/anaconda2/lib/python2.7/site-packages/h5py/__init__.py:36: FutureWarning: Conversion of the second argument of issubdtype from `float` to `np.floating` is deprecated. In future, it will be treated as `np.float64 == np.dtype(float).type`.\n",
      "  from ._conv import register_converters as _register_converters\n",
      "Using TensorFlow backend.\n"
     ]
    }
   ],
   "source": [
    "from keras.datasets import cifar100\n",
    "\n",
    "(x_train, y_train), (x_test, y_test) = cifar100.load_data(label_mode='fine')"
   ]
  },
  {
   "cell_type": "code",
   "execution_count": 11,
   "metadata": {},
   "outputs": [
    {
     "data": {
      "text/plain": [
       "array([19])"
      ]
     },
     "execution_count": 11,
     "metadata": {},
     "output_type": "execute_result"
    }
   ],
   "source": [
    "y_train[0]"
   ]
  },
  {
   "cell_type": "code",
   "execution_count": 5,
   "metadata": {},
   "outputs": [],
   "source": [
    "CIFAR100_LABELS_LIST = [\n",
    "    'apple', 'aquarium_fish', 'baby', 'bear', 'beaver', 'bed', 'bee', 'beetle', \n",
    "    'bicycle', 'bottle', 'bowl', 'boy', 'bridge', 'bus', 'butterfly', 'camel', \n",
    "    'can', 'castle', 'caterpillar', 'cattle', 'chair', 'chimpanzee', 'clock', \n",
    "    'cloud', 'cockroach', 'couch', 'crab', 'crocodile', 'cup', 'dinosaur', \n",
    "    'dolphin', 'elephant', 'flatfish', 'forest', 'fox', 'girl', 'hamster', \n",
    "    'house', 'kangaroo', 'keyboard', 'lamp', 'lawn_mower', 'leopard', 'lion',\n",
    "    'lizard', 'lobster', 'man', 'maple_tree', 'motorcycle', 'mountain', 'mouse',\n",
    "    'mushroom', 'oak_tree', 'orange', 'orchid', 'otter', 'palm_tree', 'pear',\n",
    "    'pickup_truck', 'pine_tree', 'plain', 'plate', 'poppy', 'porcupine',\n",
    "    'possum', 'rabbit', 'raccoon', 'ray', 'road', 'rocket', 'rose',\n",
    "    'sea', 'seal', 'shark', 'shrew', 'skunk', 'skyscraper', 'snail', 'snake',\n",
    "    'spider', 'squirrel', 'streetcar', 'sunflower', 'sweet_pepper', 'table',\n",
    "    'tank', 'telephone', 'television', 'tiger', 'tractor', 'train', 'trout',\n",
    "    'tulip', 'turtle', 'wardrobe', 'whale', 'willow_tree', 'wolf', 'woman',\n",
    "    'worm'\n",
    "]"
   ]
  },
  {
   "cell_type": "code",
   "execution_count": null,
   "metadata": {},
   "outputs": [],
   "source": []
  },
  {
   "cell_type": "code",
   "execution_count": 19,
   "metadata": {},
   "outputs": [
    {
     "name": "stdout",
     "output_type": "stream",
     "text": [
      "keyboard\n"
     ]
    },
    {
     "data": {
      "image/png": "[encoded data removed]",
      "text/plain": [
       "<matplotlib.figure.Figure at 0x7f6e00d85610>"
      ]
     },
     "metadata": {},
     "output_type": "display_data"
    }
   ],
   "source": [
    "import matplotlib.pyplot as plt\n",
    "i = 15\n",
    "print(CIFAR100_LABELS_LIST[y_train[i][0]])\n",
    "plt.imshow(x_train[i])\n",
    "plt.show()"
   ]
  },
  {
   "cell_type": "code",
   "execution_count": 2,
   "metadata": {},
   "outputs": [],
   "source": [
    "import keras\n",
    "y_train = keras.utils.to_categorical(y_train, num_classes=100)\n",
    "y_test = keras.utils.to_categorical(y_test, num_classes=100)"
   ]
  },
  {
   "cell_type": "markdown",
   "metadata": {},
   "source": [
    "## Normal trainig"
   ]
  },
  {
   "cell_type": "code",
   "execution_count": 3,
   "metadata": {},
   "outputs": [],
   "source": [
    "x_train = x_train/255.0\n",
    "x_test = x_test/255.0"
   ]
  },
  {
   "cell_type": "code",
   "execution_count": 81,
   "metadata": {},
   "outputs": [
    {
     "name": "stdout",
     "output_type": "stream",
     "text": [
      "_________________________________________________________________\n",
      "Layer (type)                 Output Shape              Param #   \n",
      "=================================================================\n",
      "conv2d_73 (Conv2D)           (None, 32, 32, 32)        896       \n",
      "_________________________________________________________________\n",
      "conv2d_74 (Conv2D)           (None, 32, 32, 32)        9248      \n",
      "_________________________________________________________________\n",
      "max_pooling2d_13 (MaxPooling (None, 16, 16, 32)        0         \n",
      "_________________________________________________________________\n",
      "conv2d_75 (Conv2D)           (None, 16, 16, 64)        18496     \n",
      "_________________________________________________________________\n",
      "conv2d_76 (Conv2D)           (None, 16, 16, 64)        36928     \n",
      "_________________________________________________________________\n",
      "max_pooling2d_14 (MaxPooling (None, 8, 8, 64)          0         \n",
      "_________________________________________________________________\n",
      "flatten_7 (Flatten)          (None, 4096)              0         \n",
      "_________________________________________________________________\n",
      "dense_13 (Dense)             (None, 1024)              4195328   \n",
      "_________________________________________________________________\n",
      "dropout_7 (Dropout)          (None, 1024)              0         \n",
      "_________________________________________________________________\n",
      "dense_14 (Dense)             (None, 100)               102500    \n",
      "=================================================================\n",
      "Total params: 4,363,396\n",
      "Trainable params: 4,363,396\n",
      "Non-trainable params: 0\n",
      "_________________________________________________________________\n"
     ]
    }
   ],
   "source": [
    "from keras.models import Sequential\n",
    "from keras.layers import Dense,Conv2D,MaxPooling2D,Flatten,Dropout\n",
    "\n",
    "model = Sequential()\n",
    "model.add(Conv2D(32, (3, 3), padding='same',input_shape=x_train.shape[1:],activation='relu'))\n",
    "model.add(Conv2D(32, (3, 3),padding='same',activation='relu'))\n",
    "model.add(MaxPooling2D(pool_size=(2, 2)))\n",
    "#model.add(Dropout(0.25))\n",
    "\n",
    "model.add(Conv2D(64, (3, 3),padding='same',activation='relu'))\n",
    "model.add(Conv2D(64, (3, 3),padding='same',activation='relu'))\n",
    "model.add(MaxPooling2D(pool_size=(2, 2)))\n",
    "#model.add(Dropout(0.25))\n",
    "\n",
    "model.add(Flatten())\n",
    "model.add(Dense(1024,activation='relu'))\n",
    "model.add(Dropout(0.5))\n",
    "model.add(Dense(100,activation='softmax'))\n",
    "model.summary()"
   ]
  },
  {
   "cell_type": "code",
   "execution_count": 80,
   "metadata": {
    "scrolled": true
   },
   "outputs": [
    {
     "name": "stdout",
     "output_type": "stream",
     "text": [
      "Train on 50000 samples, validate on 10000 samples\n",
      "Epoch 1/12\n",
      " 5888/50000 [==>...........................] - ETA: 15s - loss: 4.6114 - acc: 0.0112"
     ]
    },
    {
     "ename": "KeyboardInterrupt",
     "evalue": "",
     "output_type": "error",
     "traceback": [
      "\u001b[0;31m---------------------------------------------------------------------------\u001b[0m",
      "\u001b[0;31mKeyboardInterrupt\u001b[0m                         Traceback (most recent call last)",
      "\u001b[0;32m<ipython-input-80-7e74a341dd51>\u001b[0m in \u001b[0;36m<module>\u001b[0;34m()\u001b[0m\n\u001b[1;32m      2\u001b[0m \u001b[0mmodel\u001b[0m\u001b[0;34m.\u001b[0m\u001b[0mcompile\u001b[0m\u001b[0;34m(\u001b[0m\u001b[0mloss\u001b[0m\u001b[0;34m=\u001b[0m\u001b[0;34m'categorical_crossentropy'\u001b[0m\u001b[0;34m,\u001b[0m \u001b[0moptimizer\u001b[0m\u001b[0;34m=\u001b[0m\u001b[0moptimizer_\u001b[0m\u001b[0;34m,\u001b[0m \u001b[0mmetrics\u001b[0m\u001b[0;34m=\u001b[0m\u001b[0;34m[\u001b[0m\u001b[0;34m'accuracy'\u001b[0m\u001b[0;34m]\u001b[0m\u001b[0;34m)\u001b[0m\u001b[0;34m\u001b[0m\u001b[0m\n\u001b[1;32m      3\u001b[0m \u001b[0;34m\u001b[0m\u001b[0m\n\u001b[0;32m----> 4\u001b[0;31m \u001b[0mmodel\u001b[0m\u001b[0;34m.\u001b[0m\u001b[0mfit\u001b[0m\u001b[0;34m(\u001b[0m\u001b[0mx_train\u001b[0m\u001b[0;34m,\u001b[0m \u001b[0my_train\u001b[0m\u001b[0;34m,\u001b[0m \u001b[0mbatch_size\u001b[0m\u001b[0;34m=\u001b[0m\u001b[0;36m128\u001b[0m\u001b[0;34m,\u001b[0m \u001b[0mnb_epoch\u001b[0m\u001b[0;34m=\u001b[0m\u001b[0;36m12\u001b[0m\u001b[0;34m,\u001b[0m \u001b[0mverbose\u001b[0m\u001b[0;34m=\u001b[0m\u001b[0;36m1\u001b[0m\u001b[0;34m,\u001b[0m \u001b[0mvalidation_data\u001b[0m\u001b[0;34m=\u001b[0m\u001b[0;34m(\u001b[0m\u001b[0mx_test\u001b[0m\u001b[0;34m,\u001b[0m \u001b[0my_test\u001b[0m\u001b[0;34m)\u001b[0m\u001b[0;34m)\u001b[0m\u001b[0;34m\u001b[0m\u001b[0m\n\u001b[0m",
      "\u001b[0;32m/home/casapanshop/anaconda2/lib/python2.7/site-packages/keras/models.pyc\u001b[0m in \u001b[0;36mfit\u001b[0;34m(self, x, y, batch_size, epochs, verbose, callbacks, validation_split, validation_data, shuffle, class_weight, sample_weight, initial_epoch, steps_per_epoch, validation_steps, **kwargs)\u001b[0m\n\u001b[1;32m    961\u001b[0m                               \u001b[0minitial_epoch\u001b[0m\u001b[0;34m=\u001b[0m\u001b[0minitial_epoch\u001b[0m\u001b[0;34m,\u001b[0m\u001b[0;34m\u001b[0m\u001b[0m\n\u001b[1;32m    962\u001b[0m                               \u001b[0msteps_per_epoch\u001b[0m\u001b[0;34m=\u001b[0m\u001b[0msteps_per_epoch\u001b[0m\u001b[0;34m,\u001b[0m\u001b[0;34m\u001b[0m\u001b[0m\n\u001b[0;32m--> 963\u001b[0;31m                               validation_steps=validation_steps)\n\u001b[0m\u001b[1;32m    964\u001b[0m \u001b[0;34m\u001b[0m\u001b[0m\n\u001b[1;32m    965\u001b[0m     def evaluate(self, x=None, y=None,\n",
      "\u001b[0;32m/home/casapanshop/anaconda2/lib/python2.7/site-packages/keras/engine/training.pyc\u001b[0m in \u001b[0;36mfit\u001b[0;34m(self, x, y, batch_size, epochs, verbose, callbacks, validation_split, validation_data, shuffle, class_weight, sample_weight, initial_epoch, steps_per_epoch, validation_steps, **kwargs)\u001b[0m\n\u001b[1;32m   1703\u001b[0m                               \u001b[0minitial_epoch\u001b[0m\u001b[0;34m=\u001b[0m\u001b[0minitial_epoch\u001b[0m\u001b[0;34m,\u001b[0m\u001b[0;34m\u001b[0m\u001b[0m\n\u001b[1;32m   1704\u001b[0m                               \u001b[0msteps_per_epoch\u001b[0m\u001b[0;34m=\u001b[0m\u001b[0msteps_per_epoch\u001b[0m\u001b[0;34m,\u001b[0m\u001b[0;34m\u001b[0m\u001b[0m\n\u001b[0;32m-> 1705\u001b[0;31m                               validation_steps=validation_steps)\n\u001b[0m\u001b[1;32m   1706\u001b[0m \u001b[0;34m\u001b[0m\u001b[0m\n\u001b[1;32m   1707\u001b[0m     def evaluate(self, x=None, y=None,\n",
      "\u001b[0;32m/home/casapanshop/anaconda2/lib/python2.7/site-packages/keras/engine/training.pyc\u001b[0m in \u001b[0;36m_fit_loop\u001b[0;34m(self, f, ins, out_labels, batch_size, epochs, verbose, callbacks, val_f, val_ins, shuffle, callback_metrics, initial_epoch, steps_per_epoch, validation_steps)\u001b[0m\n\u001b[1;32m   1233\u001b[0m                         \u001b[0mins_batch\u001b[0m\u001b[0;34m[\u001b[0m\u001b[0mi\u001b[0m\u001b[0;34m]\u001b[0m \u001b[0;34m=\u001b[0m \u001b[0mins_batch\u001b[0m\u001b[0;34m[\u001b[0m\u001b[0mi\u001b[0m\u001b[0;34m]\u001b[0m\u001b[0;34m.\u001b[0m\u001b[0mtoarray\u001b[0m\u001b[0;34m(\u001b[0m\u001b[0;34m)\u001b[0m\u001b[0;34m\u001b[0m\u001b[0m\n\u001b[1;32m   1234\u001b[0m \u001b[0;34m\u001b[0m\u001b[0m\n\u001b[0;32m-> 1235\u001b[0;31m                     \u001b[0mouts\u001b[0m \u001b[0;34m=\u001b[0m \u001b[0mf\u001b[0m\u001b[0;34m(\u001b[0m\u001b[0mins_batch\u001b[0m\u001b[0;34m)\u001b[0m\u001b[0;34m\u001b[0m\u001b[0m\n\u001b[0m\u001b[1;32m   1236\u001b[0m                     \u001b[0;32mif\u001b[0m \u001b[0;32mnot\u001b[0m \u001b[0misinstance\u001b[0m\u001b[0;34m(\u001b[0m\u001b[0mouts\u001b[0m\u001b[0;34m,\u001b[0m \u001b[0mlist\u001b[0m\u001b[0;34m)\u001b[0m\u001b[0;34m:\u001b[0m\u001b[0;34m\u001b[0m\u001b[0m\n\u001b[1;32m   1237\u001b[0m                         \u001b[0mouts\u001b[0m \u001b[0;34m=\u001b[0m \u001b[0;34m[\u001b[0m\u001b[0mouts\u001b[0m\u001b[0;34m]\u001b[0m\u001b[0;34m\u001b[0m\u001b[0m\n",
      "\u001b[0;32m/home/casapanshop/anaconda2/lib/python2.7/site-packages/keras/backend/tensorflow_backend.pyc\u001b[0m in \u001b[0;36m__call__\u001b[0;34m(self, inputs)\u001b[0m\n\u001b[1;32m   2476\u001b[0m         \u001b[0msession\u001b[0m \u001b[0;34m=\u001b[0m \u001b[0mget_session\u001b[0m\u001b[0;34m(\u001b[0m\u001b[0;34m)\u001b[0m\u001b[0;34m\u001b[0m\u001b[0m\n\u001b[1;32m   2477\u001b[0m         updated = session.run(fetches=fetches, feed_dict=feed_dict,\n\u001b[0;32m-> 2478\u001b[0;31m                               **self.session_kwargs)\n\u001b[0m\u001b[1;32m   2479\u001b[0m         \u001b[0;32mreturn\u001b[0m \u001b[0mupdated\u001b[0m\u001b[0;34m[\u001b[0m\u001b[0;34m:\u001b[0m\u001b[0mlen\u001b[0m\u001b[0;34m(\u001b[0m\u001b[0mself\u001b[0m\u001b[0;34m.\u001b[0m\u001b[0moutputs\u001b[0m\u001b[0;34m)\u001b[0m\u001b[0;34m]\u001b[0m\u001b[0;34m\u001b[0m\u001b[0m\n\u001b[1;32m   2480\u001b[0m \u001b[0;34m\u001b[0m\u001b[0m\n",
      "\u001b[0;32m/home/casapanshop/anaconda2/lib/python2.7/site-packages/tensorflow/python/client/session.pyc\u001b[0m in \u001b[0;36mrun\u001b[0;34m(self, fetches, feed_dict, options, run_metadata)\u001b[0m\n\u001b[1;32m    903\u001b[0m     \u001b[0;32mtry\u001b[0m\u001b[0;34m:\u001b[0m\u001b[0;34m\u001b[0m\u001b[0m\n\u001b[1;32m    904\u001b[0m       result = self._run(None, fetches, feed_dict, options_ptr,\n\u001b[0;32m--> 905\u001b[0;31m                          run_metadata_ptr)\n\u001b[0m\u001b[1;32m    906\u001b[0m       \u001b[0;32mif\u001b[0m \u001b[0mrun_metadata\u001b[0m\u001b[0;34m:\u001b[0m\u001b[0;34m\u001b[0m\u001b[0m\n\u001b[1;32m    907\u001b[0m         \u001b[0mproto_data\u001b[0m \u001b[0;34m=\u001b[0m \u001b[0mtf_session\u001b[0m\u001b[0;34m.\u001b[0m\u001b[0mTF_GetBuffer\u001b[0m\u001b[0;34m(\u001b[0m\u001b[0mrun_metadata_ptr\u001b[0m\u001b[0;34m)\u001b[0m\u001b[0;34m\u001b[0m\u001b[0m\n",
      "\u001b[0;32m/home/casapanshop/anaconda2/lib/python2.7/site-packages/tensorflow/python/client/session.pyc\u001b[0m in \u001b[0;36m_run\u001b[0;34m(self, handle, fetches, feed_dict, options, run_metadata)\u001b[0m\n\u001b[1;32m   1138\u001b[0m     \u001b[0;32mif\u001b[0m \u001b[0mfinal_fetches\u001b[0m \u001b[0;32mor\u001b[0m \u001b[0mfinal_targets\u001b[0m \u001b[0;32mor\u001b[0m \u001b[0;34m(\u001b[0m\u001b[0mhandle\u001b[0m \u001b[0;32mand\u001b[0m \u001b[0mfeed_dict_tensor\u001b[0m\u001b[0;34m)\u001b[0m\u001b[0;34m:\u001b[0m\u001b[0;34m\u001b[0m\u001b[0m\n\u001b[1;32m   1139\u001b[0m       results = self._do_run(handle, final_targets, final_fetches,\n\u001b[0;32m-> 1140\u001b[0;31m                              feed_dict_tensor, options, run_metadata)\n\u001b[0m\u001b[1;32m   1141\u001b[0m     \u001b[0;32melse\u001b[0m\u001b[0;34m:\u001b[0m\u001b[0;34m\u001b[0m\u001b[0m\n\u001b[1;32m   1142\u001b[0m       \u001b[0mresults\u001b[0m \u001b[0;34m=\u001b[0m \u001b[0;34m[\u001b[0m\u001b[0;34m]\u001b[0m\u001b[0;34m\u001b[0m\u001b[0m\n",
      "\u001b[0;32m/home/casapanshop/anaconda2/lib/python2.7/site-packages/tensorflow/python/client/session.pyc\u001b[0m in \u001b[0;36m_do_run\u001b[0;34m(self, handle, target_list, fetch_list, feed_dict, options, run_metadata)\u001b[0m\n\u001b[1;32m   1319\u001b[0m     \u001b[0;32mif\u001b[0m \u001b[0mhandle\u001b[0m \u001b[0;32mis\u001b[0m \u001b[0mNone\u001b[0m\u001b[0;34m:\u001b[0m\u001b[0;34m\u001b[0m\u001b[0m\n\u001b[1;32m   1320\u001b[0m       return self._do_call(_run_fn, feeds, fetches, targets, options,\n\u001b[0;32m-> 1321\u001b[0;31m                            run_metadata)\n\u001b[0m\u001b[1;32m   1322\u001b[0m     \u001b[0;32melse\u001b[0m\u001b[0;34m:\u001b[0m\u001b[0;34m\u001b[0m\u001b[0m\n\u001b[1;32m   1323\u001b[0m       \u001b[0;32mreturn\u001b[0m \u001b[0mself\u001b[0m\u001b[0;34m.\u001b[0m\u001b[0m_do_call\u001b[0m\u001b[0;34m(\u001b[0m\u001b[0m_prun_fn\u001b[0m\u001b[0;34m,\u001b[0m \u001b[0mhandle\u001b[0m\u001b[0;34m,\u001b[0m \u001b[0mfeeds\u001b[0m\u001b[0;34m,\u001b[0m \u001b[0mfetches\u001b[0m\u001b[0;34m)\u001b[0m\u001b[0;34m\u001b[0m\u001b[0m\n",
      "\u001b[0;32m/home/casapanshop/anaconda2/lib/python2.7/site-packages/tensorflow/python/client/session.pyc\u001b[0m in \u001b[0;36m_do_call\u001b[0;34m(self, fn, *args)\u001b[0m\n\u001b[1;32m   1325\u001b[0m   \u001b[0;32mdef\u001b[0m \u001b[0m_do_call\u001b[0m\u001b[0;34m(\u001b[0m\u001b[0mself\u001b[0m\u001b[0;34m,\u001b[0m \u001b[0mfn\u001b[0m\u001b[0;34m,\u001b[0m \u001b[0;34m*\u001b[0m\u001b[0margs\u001b[0m\u001b[0;34m)\u001b[0m\u001b[0;34m:\u001b[0m\u001b[0;34m\u001b[0m\u001b[0m\n\u001b[1;32m   1326\u001b[0m     \u001b[0;32mtry\u001b[0m\u001b[0;34m:\u001b[0m\u001b[0;34m\u001b[0m\u001b[0m\n\u001b[0;32m-> 1327\u001b[0;31m       \u001b[0;32mreturn\u001b[0m \u001b[0mfn\u001b[0m\u001b[0;34m(\u001b[0m\u001b[0;34m*\u001b[0m\u001b[0margs\u001b[0m\u001b[0;34m)\u001b[0m\u001b[0;34m\u001b[0m\u001b[0m\n\u001b[0m\u001b[1;32m   1328\u001b[0m     \u001b[0;32mexcept\u001b[0m \u001b[0merrors\u001b[0m\u001b[0;34m.\u001b[0m\u001b[0mOpError\u001b[0m \u001b[0;32mas\u001b[0m \u001b[0me\u001b[0m\u001b[0;34m:\u001b[0m\u001b[0;34m\u001b[0m\u001b[0m\n\u001b[1;32m   1329\u001b[0m       \u001b[0mmessage\u001b[0m \u001b[0;34m=\u001b[0m \u001b[0mcompat\u001b[0m\u001b[0;34m.\u001b[0m\u001b[0mas_text\u001b[0m\u001b[0;34m(\u001b[0m\u001b[0me\u001b[0m\u001b[0;34m.\u001b[0m\u001b[0mmessage\u001b[0m\u001b[0;34m)\u001b[0m\u001b[0;34m\u001b[0m\u001b[0m\n",
      "\u001b[0;32m/home/casapanshop/anaconda2/lib/python2.7/site-packages/tensorflow/python/client/session.pyc\u001b[0m in \u001b[0;36m_run_fn\u001b[0;34m(feed_dict, fetch_list, target_list, options, run_metadata)\u001b[0m\n\u001b[1;32m   1310\u001b[0m       \u001b[0mself\u001b[0m\u001b[0;34m.\u001b[0m\u001b[0m_extend_graph\u001b[0m\u001b[0;34m(\u001b[0m\u001b[0;34m)\u001b[0m\u001b[0;34m\u001b[0m\u001b[0m\n\u001b[1;32m   1311\u001b[0m       return self._call_tf_sessionrun(\n\u001b[0;32m-> 1312\u001b[0;31m           options, feed_dict, fetch_list, target_list, run_metadata)\n\u001b[0m\u001b[1;32m   1313\u001b[0m \u001b[0;34m\u001b[0m\u001b[0m\n\u001b[1;32m   1314\u001b[0m     \u001b[0;32mdef\u001b[0m \u001b[0m_prun_fn\u001b[0m\u001b[0;34m(\u001b[0m\u001b[0mhandle\u001b[0m\u001b[0;34m,\u001b[0m \u001b[0mfeed_dict\u001b[0m\u001b[0;34m,\u001b[0m \u001b[0mfetch_list\u001b[0m\u001b[0;34m)\u001b[0m\u001b[0;34m:\u001b[0m\u001b[0;34m\u001b[0m\u001b[0m\n",
      "\u001b[0;32m/home/casapanshop/anaconda2/lib/python2.7/site-packages/tensorflow/python/client/session.pyc\u001b[0m in \u001b[0;36m_call_tf_sessionrun\u001b[0;34m(self, options, feed_dict, fetch_list, target_list, run_metadata)\u001b[0m\n\u001b[1;32m   1418\u001b[0m         return tf_session.TF_Run(\n\u001b[1;32m   1419\u001b[0m             \u001b[0mself\u001b[0m\u001b[0;34m.\u001b[0m\u001b[0m_session\u001b[0m\u001b[0;34m,\u001b[0m \u001b[0moptions\u001b[0m\u001b[0;34m,\u001b[0m \u001b[0mfeed_dict\u001b[0m\u001b[0;34m,\u001b[0m \u001b[0mfetch_list\u001b[0m\u001b[0;34m,\u001b[0m \u001b[0mtarget_list\u001b[0m\u001b[0;34m,\u001b[0m\u001b[0;34m\u001b[0m\u001b[0m\n\u001b[0;32m-> 1420\u001b[0;31m             status, run_metadata)\n\u001b[0m\u001b[1;32m   1421\u001b[0m \u001b[0;34m\u001b[0m\u001b[0m\n\u001b[1;32m   1422\u001b[0m   \u001b[0;32mdef\u001b[0m \u001b[0m_call_tf_sessionprun\u001b[0m\u001b[0;34m(\u001b[0m\u001b[0mself\u001b[0m\u001b[0;34m,\u001b[0m \u001b[0mhandle\u001b[0m\u001b[0;34m,\u001b[0m \u001b[0mfeed_dict\u001b[0m\u001b[0;34m,\u001b[0m \u001b[0mfetch_list\u001b[0m\u001b[0;34m)\u001b[0m\u001b[0;34m:\u001b[0m\u001b[0;34m\u001b[0m\u001b[0m\n",
      "\u001b[0;31mKeyboardInterrupt\u001b[0m: "
     ]
    }
   ],
   "source": [
    "optimizer_ = keras.optimizers.SGD(lr=0.001,momentum=0.9) \n",
    "model.compile(loss='categorical_crossentropy', optimizer=optimizer_, metrics=['accuracy'])\n",
    "\n",
    "model.fit(x_train, y_train, batch_size=128, nb_epoch=12, verbose=1, validation_data=(x_test, y_test))"
   ]
  },
  {
   "cell_type": "code",
   "execution_count": 82,
   "metadata": {
    "scrolled": true
   },
   "outputs": [
    {
     "name": "stdout",
     "output_type": "stream",
     "text": [
      "Train on 50000 samples, validate on 10000 samples\n",
      "Epoch 1/15\n",
      "50000/50000 [==============================] - 12s 241us/step - loss: 4.3803 - acc: 0.0417 - val_loss: 3.9261 - val_acc: 0.1070\n",
      "Epoch 2/15\n",
      "50000/50000 [==============================] - 10s 201us/step - loss: 3.8220 - acc: 0.1171 - val_loss: 3.5267 - val_acc: 0.1739\n",
      "Epoch 3/15\n",
      "50000/50000 [==============================] - 10s 206us/step - loss: 3.4593 - acc: 0.1766 - val_loss: 3.2071 - val_acc: 0.2358\n",
      "Epoch 4/15\n",
      "50000/50000 [==============================] - 10s 206us/step - loss: 3.1303 - acc: 0.2400 - val_loss: 2.9454 - val_acc: 0.2828\n",
      "Epoch 5/15\n",
      "50000/50000 [==============================] - 10s 205us/step - loss: 2.8717 - acc: 0.2886 - val_loss: 2.7466 - val_acc: 0.3213\n",
      "Epoch 6/15\n",
      "50000/50000 [==============================] - 10s 199us/step - loss: 2.6496 - acc: 0.3307 - val_loss: 2.5653 - val_acc: 0.3541\n",
      "Epoch 7/15\n",
      "50000/50000 [==============================] - 10s 203us/step - loss: 2.4342 - acc: 0.3780 - val_loss: 2.5406 - val_acc: 0.3666\n",
      "Epoch 8/15\n",
      "50000/50000 [==============================] - 10s 208us/step - loss: 2.2312 - acc: 0.4187 - val_loss: 2.4248 - val_acc: 0.3925\n",
      "Epoch 9/15\n",
      "50000/50000 [==============================] - 10s 203us/step - loss: 2.0416 - acc: 0.4611 - val_loss: 2.3726 - val_acc: 0.3997\n",
      "Epoch 10/15\n",
      "50000/50000 [==============================] - 10s 200us/step - loss: 1.8397 - acc: 0.5038 - val_loss: 2.3977 - val_acc: 0.4008\n",
      "Epoch 11/15\n",
      "50000/50000 [==============================] - 10s 202us/step - loss: 1.6403 - acc: 0.5503 - val_loss: 2.4034 - val_acc: 0.4086\n",
      "Epoch 12/15\n",
      "50000/50000 [==============================] - 10s 204us/step - loss: 1.4564 - acc: 0.5903 - val_loss: 2.4180 - val_acc: 0.4082\n",
      "Epoch 13/15\n",
      "50000/50000 [==============================] - 10s 202us/step - loss: 1.2726 - acc: 0.6364 - val_loss: 2.4682 - val_acc: 0.4145\n",
      "Epoch 14/15\n",
      "50000/50000 [==============================] - 10s 199us/step - loss: 1.1175 - acc: 0.6743 - val_loss: 2.5692 - val_acc: 0.4032\n",
      "Epoch 15/15\n",
      "50000/50000 [==============================] - 10s 198us/step - loss: 0.9554 - acc: 0.7169 - val_loss: 2.6113 - val_acc: 0.4058\n"
     ]
    },
    {
     "data": {
      "text/plain": [
       "<keras.callbacks.History at 0x7f81b55c6250>"
      ]
     },
     "execution_count": 82,
     "metadata": {},
     "output_type": "execute_result"
    }
   ],
   "source": [
    "optimizer_ = keras.optimizers.SGD(lr=0.01,momentum=0.9) #probar con lr =0.1 sino gg\n",
    "model.compile(loss='categorical_crossentropy', optimizer=optimizer_, metrics=['accuracy'])\n",
    "\n",
    "model.fit(x_train, y_train, batch_size=128, nb_epoch=15, verbose=1, validation_data=(x_test, y_test))"
   ]
  },
  {
   "cell_type": "code",
   "execution_count": 162,
   "metadata": {},
   "outputs": [
    {
     "name": "stdout",
     "output_type": "stream",
     "text": [
      "('Test accuracy:', 0.4068)\n"
     ]
    }
   ],
   "source": [
    "score = model.evaluate(x_test, y_test,verbose=0)\n",
    "print('Test accuracy:', score[1])"
   ]
  },
  {
   "cell_type": "code",
   "execution_count": null,
   "metadata": {},
   "outputs": [],
   "source": [
    "#donde dropout?"
   ]
  },
  {
   "cell_type": "markdown",
   "metadata": {},
   "source": [
    "## autoencoder pre training"
   ]
  },
  {
   "cell_type": "code",
   "execution_count": 23,
   "metadata": {
    "scrolled": true
   },
   "outputs": [
    {
     "name": "stdout",
     "output_type": "stream",
     "text": [
      "_________________________________________________________________\n",
      "Layer (type)                 Output Shape              Param #   \n",
      "=================================================================\n",
      "input_12 (InputLayer)        (None, 32, 32, 3)         0         \n",
      "_________________________________________________________________\n",
      "conv2d_32 (Conv2D)           (None, 32, 32, 32)        896       \n",
      "_________________________________________________________________\n",
      "conv2d_33 (Conv2D)           (None, 32, 32, 3)         867       \n",
      "=================================================================\n",
      "Total params: 1,763\n",
      "Trainable params: 1,763\n",
      "Non-trainable params: 0\n",
      "_________________________________________________________________\n",
      "Train on 50000 samples, validate on 10000 samples\n",
      "Epoch 1/15\n",
      "50000/50000 [==============================] - 9s 185us/step - loss: 0.5555 - val_loss: 0.5309\n",
      "Epoch 2/15\n",
      "50000/50000 [==============================] - 9s 175us/step - loss: 0.5310 - val_loss: 0.5294\n",
      "Epoch 3/15\n",
      "50000/50000 [==============================] - 8s 170us/step - loss: 0.5302 - val_loss: 0.5291\n",
      "Epoch 4/15\n",
      "50000/50000 [==============================] - 9s 176us/step - loss: 0.5299 - val_loss: 0.5286\n",
      "Epoch 5/15\n",
      "50000/50000 [==============================] - 8s 168us/step - loss: 0.5296 - val_loss: 0.5288\n",
      "Epoch 6/15\n",
      "50000/50000 [==============================] - 9s 172us/step - loss: 0.5295 - val_loss: 0.5285\n",
      "Epoch 7/15\n",
      "50000/50000 [==============================] - 8s 168us/step - loss: 0.5294 - val_loss: 0.5282\n",
      "Epoch 8/15\n",
      "50000/50000 [==============================] - 9s 179us/step - loss: 0.5293 - val_loss: 0.5282\n",
      "Epoch 9/15\n",
      "50000/50000 [==============================] - 9s 176us/step - loss: 0.5292 - val_loss: 0.5281\n",
      "Epoch 10/15\n",
      "50000/50000 [==============================] - 9s 178us/step - loss: 0.5292 - val_loss: 0.5280\n",
      "Epoch 11/15\n",
      "50000/50000 [==============================] - 9s 176us/step - loss: 0.5291 - val_loss: 0.5280\n",
      "Epoch 12/15\n",
      "50000/50000 [==============================] - 9s 180us/step - loss: 0.5290 - val_loss: 0.5284\n",
      "Epoch 13/15\n",
      "50000/50000 [==============================] - 9s 170us/step - loss: 0.5289 - val_loss: 0.5278\n",
      "Epoch 14/15\n",
      "50000/50000 [==============================] - 9s 177us/step - loss: 0.5288 - val_loss: 0.5277\n",
      "Epoch 15/15\n",
      "50000/50000 [==============================] - 9s 176us/step - loss: 0.5288 - val_loss: 0.5276\n"
     ]
    }
   ],
   "source": [
    "#model.add(Conv2D(32, (3, 3), padding='same',input_shape=x_train.shape[1:],activation='relu'))\n",
    "#model.add(Conv2D(32, (3, 3),padding='same',activation='relu'))\n",
    "#model.add(MaxPooling2D(pool_size=(2, 2)))\n",
    "\n",
    "from keras.layers import Input\n",
    "from keras.models import Model\n",
    "\n",
    "input_img = Input(shape=x_train.shape[1:])\n",
    "\n",
    "encoded1 = Conv2D(32, (3, 3), activation='relu', padding='same')(input_img)\n",
    "#x = MaxPooling2D((2, 2), border_mode='same')(x)\n",
    "#x = Conv2D(8, 3, 3, activation='relu', border_mode='same')(x)$\n",
    "#encoded = MaxPooling2D((2, 2))(x)\n",
    "\n",
    "decoded1 = Conv2D(3, (3, 3), activation='sigmoid', padding='same')(encoded1)\n",
    "#x = UpSampling2D((2, 2))(x)\n",
    "#x = Conv2D(16, 3, 3, activation='relu', border_mode='same')(x)\n",
    "#x = UpSampling2D((2, 2))(x)\n",
    "#decoded = Conv2D(1, 3, 3, activation='sigmoid', border_mode='same')(x)\n",
    "\n",
    "autoencoder1 = Model(input_img, decoded1)\n",
    "autoencoder1.compile(optimizer='adam', loss='binary_crossentropy')\n",
    "autoencoder1.summary()\n",
    "\n",
    "autoencoder1.fit(x_train, x_train, epochs=15, batch_size=128,validation_data=(x_test, x_test))\n",
    "autoencoder1.save('autoencoder_layer1.h5')"
   ]
  },
  {
   "cell_type": "code",
   "execution_count": 26,
   "metadata": {},
   "outputs": [
    {
     "data": {
      "image/png": "[encoded data removed]",
      "text/plain": [
       "<matplotlib.figure.Figure at 0x7f5958127410>"
      ]
     },
     "metadata": {},
     "output_type": "display_data"
    }
   ],
   "source": [
    "import matplotlib.pyplot as plt\n",
    "plt.imshow(autoencoder1.predict(x_train[:10])[0])\n",
    "plt.show()"
   ]
  },
  {
   "cell_type": "code",
   "execution_count": 5,
   "metadata": {},
   "outputs": [
    {
     "name": "stderr",
     "output_type": "stream",
     "text": [
      "/home/casapanshop/anaconda2/lib/python2.7/site-packages/keras/models.py:255: UserWarning: No training configuration found in save file: the model was *not* compiled. Compile it manually.\n",
      "  warnings.warn('No training configuration found in save file: '\n"
     ]
    }
   ],
   "source": [
    "from keras.models import load_model\n",
    "encoder1 = load_model(\"encoder_layer1.h5\")"
   ]
  },
  {
   "cell_type": "code",
   "execution_count": 7,
   "metadata": {},
   "outputs": [],
   "source": [
    "x_train_encoded1 = encoder1.predict(x_train) #FORWARD PASS DATA THROUGH FIRST ENCODER\n",
    "#x_test_encoded1 = encoder1.predict(x_test)"
   ]
  },
  {
   "cell_type": "code",
   "execution_count": 58,
   "metadata": {},
   "outputs": [
    {
     "data": {
      "text/plain": [
       "<tf.Tensor 'input_12:0' shape=(?, 32, 32, 3) dtype=float32>"
      ]
     },
     "execution_count": 58,
     "metadata": {},
     "output_type": "execute_result"
    }
   ],
   "source": [
    "autoencoder1.input"
   ]
  },
  {
   "cell_type": "code",
   "execution_count": 66,
   "metadata": {},
   "outputs": [
    {
     "name": "stdout",
     "output_type": "stream",
     "text": [
      "_________________________________________________________________\n",
      "Layer (type)                 Output Shape              Param #   \n",
      "=================================================================\n",
      "input_12 (InputLayer)        (None, 32, 32, 3)         0         \n",
      "_________________________________________________________________\n",
      "conv2d_32 (Conv2D)           (None, 32, 32, 32)        896       \n",
      "_________________________________________________________________\n",
      "conv2d_55 (Conv2D)           (None, 32, 32, 32)        9248      \n",
      "_________________________________________________________________\n",
      "conv2d_56 (Conv2D)           (None, 32, 32, 32)        9248      \n",
      "_________________________________________________________________\n",
      "conv2d_33 (Conv2D)           (None, 32, 32, 3)         867       \n",
      "=================================================================\n",
      "Total params: 20,259\n",
      "Trainable params: 18,496\n",
      "Non-trainable params: 1,763\n",
      "_________________________________________________________________\n",
      "Train on 50000 samples, validate on 10000 samples\n",
      "Epoch 1/10\n",
      "50000/50000 [==============================] - 11s 217us/step - loss: 0.0048 - val_loss: 0.0010\n",
      "Epoch 2/10\n",
      "50000/50000 [==============================] - 10s 209us/step - loss: 7.5698e-04 - val_loss: 5.6500e-04\n",
      "Epoch 3/10\n",
      "50000/50000 [==============================] - 10s 206us/step - loss: 5.4103e-04 - val_loss: 4.6798e-04\n",
      "Epoch 4/10\n",
      "50000/50000 [==============================] - 10s 207us/step - loss: 4.3165e-04 - val_loss: 3.5990e-04\n",
      "Epoch 5/10\n",
      "50000/50000 [==============================] - 10s 201us/step - loss: 3.7138e-04 - val_loss: 3.0664e-04\n",
      "Epoch 6/10\n",
      "50000/50000 [==============================] - 10s 200us/step - loss: 3.2299e-04 - val_loss: 2.6724e-04\n",
      "Epoch 7/10\n",
      "50000/50000 [==============================] - 10s 202us/step - loss: 2.9131e-04 - val_loss: 2.2916e-04\n",
      "Epoch 8/10\n",
      "50000/50000 [==============================] - 10s 205us/step - loss: 2.5372e-04 - val_loss: 9.6090e-04\n",
      "Epoch 9/10\n",
      "50000/50000 [==============================] - 10s 200us/step - loss: 2.4349e-04 - val_loss: 1.8590e-04\n",
      "Epoch 10/10\n",
      "50000/50000 [==============================] - 10s 204us/step - loss: 2.0387e-04 - val_loss: 1.8699e-04\n"
     ]
    }
   ],
   "source": [
    "###AUTOENCODER 2\n",
    "#x_train_encoded1 = encoder1.predict(x_train) #FORWARD PASS DATA THROUGH FIRST ENCODER\n",
    "#x_test_encoded1 = encoder1.predict(x_test)\n",
    "\n",
    "\n",
    "#input_img2 = Input(shape=encoder1.output_shape)#x_train_encoded1.shape[1:])\n",
    "encoded1 = autoencoder1.layers[1](autoencoder1.input)\n",
    "#AUTOENCODER2\n",
    "encoded2 = Conv2D(32, (3, 3), activation='relu', padding='same')(encoded1) #sin filtros ni activaciones\n",
    "decoded2 = Conv2D(32, (3, 3), activation='relu', padding='same')(encoded2) #sin foltros ni activaciones\n",
    "#finish autoencoder2\n",
    "decoded1 = autoencoder1.layers[-1](decoded2)\n",
    "\n",
    "\n",
    "autoencoder2 = Model(autoencoder1.input, decoded1) #all model\n",
    "\n",
    "#primer autoencoder fijo\n",
    "autoencoder2.layers[1].trainable=False\n",
    "autoencoder2.layers[-1].trainable=False\n",
    "\n",
    "autoencoder2.compile(optimizer='adam', loss='mse')\n",
    "autoencoder2.summary()\n",
    "\n",
    "autoencoder2.fit(x_train, x_train, epochs=10, batch_size=128,validation_data=(x_test, x_test))\n",
    "autoencoder2.save('autoencoder_layer2.h5')\n",
    "#encoder2.save('encoder_layer2.h5')"
   ]
  },
  {
   "cell_type": "code",
   "execution_count": 83,
   "metadata": {},
   "outputs": [
    {
     "name": "stdout",
     "output_type": "stream",
     "text": [
      "_________________________________________________________________\n",
      "Layer (type)                 Output Shape              Param #   \n",
      "=================================================================\n",
      "conv2d_77 (Conv2D)           (None, 32, 32, 32)        896       \n",
      "_________________________________________________________________\n",
      "conv2d_78 (Conv2D)           (None, 32, 32, 32)        9248      \n",
      "_________________________________________________________________\n",
      "max_pooling2d_15 (MaxPooling (None, 16, 16, 32)        0         \n",
      "_________________________________________________________________\n",
      "conv2d_79 (Conv2D)           (None, 16, 16, 64)        18496     \n",
      "_________________________________________________________________\n",
      "conv2d_80 (Conv2D)           (None, 16, 16, 64)        36928     \n",
      "_________________________________________________________________\n",
      "max_pooling2d_16 (MaxPooling (None, 8, 8, 64)          0         \n",
      "_________________________________________________________________\n",
      "flatten_8 (Flatten)          (None, 4096)              0         \n",
      "_________________________________________________________________\n",
      "dense_15 (Dense)             (None, 1024)              4195328   \n",
      "_________________________________________________________________\n",
      "dropout_8 (Dropout)          (None, 1024)              0         \n",
      "_________________________________________________________________\n",
      "dense_16 (Dense)             (None, 100)               102500    \n",
      "=================================================================\n",
      "Total params: 4,363,396\n",
      "Trainable params: 4,363,396\n",
      "Non-trainable params: 0\n",
      "_________________________________________________________________\n"
     ]
    }
   ],
   "source": [
    "#FINE TUNNING\n",
    "model = Sequential()\n",
    "model.add(Conv2D(32, (3, 3), padding='same',input_shape=x_train.shape[1:],activation='relu'))\n",
    "model.layers[-1].set_weights(autoencoder1.layers[1].get_weights())\n",
    "model.add(Conv2D(32, (3, 3),padding='same',activation='relu'))\n",
    "model.layers[-1].set_weights(autoencoder2.layers[2].get_weights())\n",
    "#...#rest of the model\n",
    "model.add(MaxPooling2D(pool_size=(2, 2)))\n",
    "\n",
    "model.add(Conv2D(64, (3, 3),padding='same',activation='relu'))\n",
    "model.add(Conv2D(64, (3, 3),padding='same',activation='relu'))\n",
    "model.add(MaxPooling2D(pool_size=(2, 2)))\n",
    "\n",
    "model.add(Flatten())\n",
    "model.add(Dense(1024,activation='relu'))\n",
    "model.add(Dropout(0.5))\n",
    "model.add(Dense(100,activation='softmax'))\n",
    "model.summary()"
   ]
  },
  {
   "cell_type": "code",
   "execution_count": 74,
   "metadata": {
    "scrolled": true
   },
   "outputs": [
    {
     "name": "stdout",
     "output_type": "stream",
     "text": [
      "Train on 50000 samples, validate on 10000 samples\n",
      "Epoch 1/15\n",
      "50000/50000 [==============================] - 11s 220us/step - loss: 1.9828 - acc: 0.4754 - val_loss: 2.5458 - val_acc: 0.3751\n",
      "Epoch 2/15\n",
      "50000/50000 [==============================] - 10s 209us/step - loss: 1.9276 - acc: 0.4863 - val_loss: 2.5223 - val_acc: 0.3797\n",
      "Epoch 3/15\n",
      "50000/50000 [==============================] - 10s 202us/step - loss: 1.8734 - acc: 0.4965 - val_loss: 2.5309 - val_acc: 0.3808\n",
      "Epoch 4/15\n",
      "50000/50000 [==============================] - 10s 198us/step - loss: 1.8094 - acc: 0.5133 - val_loss: 2.5425 - val_acc: 0.3793\n",
      "Epoch 5/15\n",
      "50000/50000 [==============================] - 10s 199us/step - loss: 1.7526 - acc: 0.5237 - val_loss: 2.5217 - val_acc: 0.3900\n",
      "Epoch 6/15\n",
      "50000/50000 [==============================] - 10s 198us/step - loss: 1.7020 - acc: 0.5375 - val_loss: 2.5517 - val_acc: 0.3869\n",
      "Epoch 7/15\n",
      "50000/50000 [==============================] - 10s 200us/step - loss: 1.6378 - acc: 0.5512 - val_loss: 2.5577 - val_acc: 0.3866\n",
      "Epoch 8/15\n",
      "50000/50000 [==============================] - 10s 204us/step - loss: 1.5873 - acc: 0.5612 - val_loss: 2.5747 - val_acc: 0.3884\n",
      "Epoch 9/15\n",
      "50000/50000 [==============================] - 10s 207us/step - loss: 1.5315 - acc: 0.5761 - val_loss: 2.5419 - val_acc: 0.3863\n",
      "Epoch 10/15\n",
      "50000/50000 [==============================] - 10s 200us/step - loss: 1.4794 - acc: 0.5852 - val_loss: 2.5905 - val_acc: 0.3868\n",
      "Epoch 11/15\n",
      "50000/50000 [==============================] - 10s 200us/step - loss: 1.4240 - acc: 0.5996 - val_loss: 2.6062 - val_acc: 0.3893\n",
      "Epoch 12/15\n",
      "50000/50000 [==============================] - 10s 205us/step - loss: 1.3736 - acc: 0.6116 - val_loss: 2.6237 - val_acc: 0.3902\n",
      "Epoch 13/15\n",
      "50000/50000 [==============================] - 10s 208us/step - loss: 1.3190 - acc: 0.6237 - val_loss: 2.6302 - val_acc: 0.3876\n",
      "Epoch 14/15\n",
      "50000/50000 [==============================] - 11s 211us/step - loss: 1.2588 - acc: 0.6369 - val_loss: 2.6634 - val_acc: 0.3933\n",
      "Epoch 15/15\n",
      "50000/50000 [==============================] - 11s 212us/step - loss: 1.2100 - acc: 0.6509 - val_loss: 2.6563 - val_acc: 0.3932\n"
     ]
    },
    {
     "data": {
      "text/plain": [
       "<keras.callbacks.History at 0x7f81a99ba5d0>"
      ]
     },
     "execution_count": 74,
     "metadata": {},
     "output_type": "execute_result"
    }
   ],
   "source": [
    "optimizer_ = keras.optimizers.SGD(lr=0.001,momentum=0.9) \n",
    "model.compile(loss='categorical_crossentropy', optimizer=optimizer_, metrics=['accuracy'])\n",
    "\n",
    "model.fit(x_train, y_train, batch_size=128, epochs=15, verbose=1, validation_data=(x_test, y_test))"
   ]
  },
  {
   "cell_type": "code",
   "execution_count": 84,
   "metadata": {
    "scrolled": true
   },
   "outputs": [
    {
     "name": "stdout",
     "output_type": "stream",
     "text": [
      "Train on 50000 samples, validate on 10000 samples\n",
      "Epoch 1/15\n",
      "50000/50000 [==============================] - 11s 228us/step - loss: 4.1847 - acc: 0.0677 - val_loss: 3.6828 - val_acc: 0.1488\n",
      "Epoch 2/15\n",
      "50000/50000 [==============================] - 10s 203us/step - loss: 3.5751 - acc: 0.1623 - val_loss: 3.2868 - val_acc: 0.2164\n",
      "Epoch 3/15\n",
      "50000/50000 [==============================] - 10s 202us/step - loss: 3.2138 - acc: 0.2268 - val_loss: 3.0133 - val_acc: 0.2741\n",
      "Epoch 4/15\n",
      "50000/50000 [==============================] - 10s 199us/step - loss: 2.9405 - acc: 0.2766 - val_loss: 2.7977 - val_acc: 0.3075\n",
      "Epoch 5/15\n",
      "50000/50000 [==============================] - 10s 198us/step - loss: 2.6887 - acc: 0.3296 - val_loss: 2.6567 - val_acc: 0.3383\n",
      "Epoch 6/15\n",
      "50000/50000 [==============================] - 10s 199us/step - loss: 2.4533 - acc: 0.3745 - val_loss: 2.5309 - val_acc: 0.3641\n",
      "Epoch 7/15\n",
      "50000/50000 [==============================] - 10s 199us/step - loss: 2.2378 - acc: 0.4178 - val_loss: 2.4718 - val_acc: 0.3827\n",
      "Epoch 8/15\n",
      "50000/50000 [==============================] - 10s 201us/step - loss: 2.0271 - acc: 0.4618 - val_loss: 2.4239 - val_acc: 0.3912\n",
      "Epoch 9/15\n",
      "50000/50000 [==============================] - 10s 201us/step - loss: 1.8242 - acc: 0.5072 - val_loss: 2.4248 - val_acc: 0.3965\n",
      "Epoch 10/15\n",
      "50000/50000 [==============================] - 10s 199us/step - loss: 1.6164 - acc: 0.5544 - val_loss: 2.4347 - val_acc: 0.4008\n",
      "Epoch 11/15\n",
      "50000/50000 [==============================] - 10s 199us/step - loss: 1.4273 - acc: 0.5957 - val_loss: 2.5305 - val_acc: 0.3877\n",
      "Epoch 12/15\n",
      "50000/50000 [==============================] - 10s 198us/step - loss: 1.2488 - acc: 0.6416 - val_loss: 2.5065 - val_acc: 0.4010\n",
      "Epoch 13/15\n",
      "50000/50000 [==============================] - 10s 197us/step - loss: 1.0688 - acc: 0.6851 - val_loss: 2.6491 - val_acc: 0.3986\n",
      "Epoch 14/15\n",
      "50000/50000 [==============================] - 10s 198us/step - loss: 0.9316 - acc: 0.7221 - val_loss: 2.7557 - val_acc: 0.4011\n",
      "Epoch 15/15\n",
      "50000/50000 [==============================] - 10s 196us/step - loss: 0.8042 - acc: 0.7591 - val_loss: 2.7959 - val_acc: 0.4046\n"
     ]
    },
    {
     "data": {
      "text/plain": [
       "<keras.callbacks.History at 0x7f81b41c94d0>"
      ]
     },
     "execution_count": 84,
     "metadata": {},
     "output_type": "execute_result"
    }
   ],
   "source": [
    "optimizer_ = keras.optimizers.SGD(lr=0.01,momentum=0.9) #probar con lr =0.1 sino gg\n",
    "model.compile(loss='categorical_crossentropy', optimizer=optimizer_, metrics=['accuracy'])\n",
    "\n",
    "model.fit(x_train, y_train, batch_size=128, epochs=15, verbose=1, validation_data=(x_test, y_test))"
   ]
  },
  {
   "cell_type": "code",
   "execution_count": 85,
   "metadata": {},
   "outputs": [
    {
     "name": "stdout",
     "output_type": "stream",
     "text": [
      "('Test accuracy:', 0.4046)\n"
     ]
    }
   ],
   "source": [
    "score = model.evaluate(x_test, y_test,verbose=0)\n",
    "print('Test accuracy:', score[1])"
   ]
  },
  {
   "cell_type": "code",
   "execution_count": null,
   "metadata": {},
   "outputs": [],
   "source": []
  },
  {
   "cell_type": "markdown",
   "metadata": {},
   "source": [
    "## Transfer learning pre training"
   ]
  },
  {
   "cell_type": "code",
   "execution_count": 87,
   "metadata": {},
   "outputs": [
    {
     "name": "stdout",
     "output_type": "stream",
     "text": [
      "Downloading data from https://github.com/fchollet/deep-learning-models/releases/download/v0.1/vgg16_weights_tf_dim_ordering_tf_kernels_notop.h5\n",
      "58892288/58889256 [==============================] - 13s 0us/step\n",
      "58900480/58889256 [==============================] - 13s 0us/step\n"
     ]
    }
   ],
   "source": [
    "from keras.models import Sequential\n",
    "from keras.layers import Dense,Input,Flatten,Dropout\n",
    "from keras.optimizers import SGD\n",
    "from keras.applications import VGG16\n",
    "\n",
    "#LOAD PRETRAINED MODEL \n",
    "input_tensor=Input(shape=x_train.shape[1:])\n",
    "modelVGG = VGG16(weights='imagenet', include_top=False,input_tensor=input_tensor )\n",
    "features_train = modelVGG.predict(x_train)\n",
    "features_test = modelVGG.predict(x_test)"
   ]
  },
  {
   "cell_type": "code",
   "execution_count": 29,
   "metadata": {},
   "outputs": [
    {
     "name": "stdout",
     "output_type": "stream",
     "text": [
      "_________________________________________________________________\n",
      "Layer (type)                 Output Shape              Param #   \n",
      "=================================================================\n",
      "input_3 (InputLayer)         (None, 32, 32, 3)         0         \n",
      "_________________________________________________________________\n",
      "block1_conv1 (Conv2D)        (None, 32, 32, 64)        1792      \n",
      "_________________________________________________________________\n",
      "block1_conv2 (Conv2D)        (None, 32, 32, 64)        36928     \n",
      "_________________________________________________________________\n",
      "block1_pool (MaxPooling2D)   (None, 16, 16, 64)        0         \n",
      "_________________________________________________________________\n",
      "block2_conv1 (Conv2D)        (None, 16, 16, 128)       73856     \n",
      "_________________________________________________________________\n",
      "block2_conv2 (Conv2D)        (None, 16, 16, 128)       147584    \n",
      "_________________________________________________________________\n",
      "block2_pool (MaxPooling2D)   (None, 8, 8, 128)         0         \n",
      "_________________________________________________________________\n",
      "block3_conv1 (Conv2D)        (None, 8, 8, 256)         295168    \n",
      "_________________________________________________________________\n",
      "block3_conv2 (Conv2D)        (None, 8, 8, 256)         590080    \n",
      "_________________________________________________________________\n",
      "block3_conv3 (Conv2D)        (None, 8, 8, 256)         590080    \n",
      "_________________________________________________________________\n",
      "block3_pool (MaxPooling2D)   (None, 4, 4, 256)         0         \n",
      "_________________________________________________________________\n",
      "block4_conv1 (Conv2D)        (None, 4, 4, 512)         1180160   \n",
      "_________________________________________________________________\n",
      "block4_conv2 (Conv2D)        (None, 4, 4, 512)         2359808   \n",
      "_________________________________________________________________\n",
      "block4_conv3 (Conv2D)        (None, 4, 4, 512)         2359808   \n",
      "_________________________________________________________________\n",
      "block4_pool (MaxPooling2D)   (None, 2, 2, 512)         0         \n",
      "_________________________________________________________________\n",
      "block5_conv1 (Conv2D)        (None, 2, 2, 512)         2359808   \n",
      "_________________________________________________________________\n",
      "block5_conv2 (Conv2D)        (None, 2, 2, 512)         2359808   \n",
      "_________________________________________________________________\n",
      "block5_conv3 (Conv2D)        (None, 2, 2, 512)         2359808   \n",
      "_________________________________________________________________\n",
      "block5_pool (MaxPooling2D)   (None, 1, 1, 512)         0         \n",
      "=================================================================\n",
      "Total params: 14,714,688\n",
      "Trainable params: 14,714,688\n",
      "Non-trainable params: 0\n",
      "_________________________________________________________________\n"
     ]
    }
   ],
   "source": [
    "modelVGG.summary()"
   ]
  },
  {
   "cell_type": "code",
   "execution_count": 40,
   "metadata": {},
   "outputs": [],
   "source": [
    "features_test = modelVGG.predict(x_test)"
   ]
  },
  {
   "cell_type": "code",
   "execution_count": 88,
   "metadata": {},
   "outputs": [],
   "source": [
    "from keras.layers import BatchNormalization\n",
    "#https://keras.io/layers/normalization/"
   ]
  },
  {
   "cell_type": "code",
   "execution_count": 89,
   "metadata": {
    "scrolled": true
   },
   "outputs": [
    {
     "name": "stdout",
     "output_type": "stream",
     "text": [
      "_________________________________________________________________\n",
      "Layer (type)                 Output Shape              Param #   \n",
      "=================================================================\n",
      "flatten_9 (Flatten)          (None, 512)               0         \n",
      "_________________________________________________________________\n",
      "batch_normalization_1 (Batch (None, 512)               2048      \n",
      "_________________________________________________________________\n",
      "dense_17 (Dense)             (None, 1024)              525312    \n",
      "_________________________________________________________________\n",
      "batch_normalization_2 (Batch (None, 1024)              4096      \n",
      "_________________________________________________________________\n",
      "dropout_9 (Dropout)          (None, 1024)              0         \n",
      "_________________________________________________________________\n",
      "dense_18 (Dense)             (None, 100)               102500    \n",
      "=================================================================\n",
      "Total params: 633,956\n",
      "Trainable params: 630,884\n",
      "Non-trainable params: 3,072\n",
      "_________________________________________________________________\n",
      "Train on 50000 samples, validate on 10000 samples\n",
      "Epoch 1/20\n",
      "50000/50000 [==============================] - 5s 104us/step - loss: 3.7336 - acc: 0.2008 - val_loss: 2.8729 - val_acc: 0.3102\n",
      "Epoch 2/20\n",
      "50000/50000 [==============================] - 4s 71us/step - loss: 2.9664 - acc: 0.2894 - val_loss: 2.6952 - val_acc: 0.3401\n",
      "Epoch 3/20\n",
      "50000/50000 [==============================] - 4s 70us/step - loss: 2.7265 - acc: 0.3256 - val_loss: 2.6503 - val_acc: 0.3478\n",
      "Epoch 4/20\n",
      "50000/50000 [==============================] - 4s 73us/step - loss: 2.5915 - acc: 0.3483 - val_loss: 2.6056 - val_acc: 0.3561\n",
      "Epoch 5/20\n",
      "50000/50000 [==============================] - 4s 71us/step - loss: 2.4803 - acc: 0.3658 - val_loss: 2.5987 - val_acc: 0.3619\n",
      "Epoch 6/20\n",
      "50000/50000 [==============================] - 4s 72us/step - loss: 2.3946 - acc: 0.3812 - val_loss: 2.5673 - val_acc: 0.3641\n",
      "Epoch 7/20\n",
      "50000/50000 [==============================] - 4s 71us/step - loss: 2.3273 - acc: 0.3958 - val_loss: 2.5533 - val_acc: 0.3714\n",
      "Epoch 8/20\n",
      "50000/50000 [==============================] - 4s 74us/step - loss: 2.2501 - acc: 0.4109 - val_loss: 2.5607 - val_acc: 0.3752\n",
      "Epoch 9/20\n",
      "50000/50000 [==============================] - 4s 71us/step - loss: 2.1946 - acc: 0.4225 - val_loss: 2.5570 - val_acc: 0.3748\n",
      "Epoch 10/20\n",
      "50000/50000 [==============================] - 4s 79us/step - loss: 2.1323 - acc: 0.4362 - val_loss: 2.5576 - val_acc: 0.3713\n",
      "Epoch 11/20\n",
      "50000/50000 [==============================] - 5s 94us/step - loss: 2.0826 - acc: 0.4462 - val_loss: 2.5419 - val_acc: 0.3794\n",
      "Epoch 12/20\n",
      "50000/50000 [==============================] - 4s 79us/step - loss: 2.0293 - acc: 0.4558 - val_loss: 2.5586 - val_acc: 0.3804\n",
      "Epoch 13/20\n",
      "50000/50000 [==============================] - 4s 75us/step - loss: 1.9801 - acc: 0.4678 - val_loss: 2.5713 - val_acc: 0.3776\n",
      "Epoch 14/20\n",
      "50000/50000 [==============================] - 4s 76us/step - loss: 1.9334 - acc: 0.4772 - val_loss: 2.5801 - val_acc: 0.3774\n",
      "Epoch 15/20\n",
      "50000/50000 [==============================] - 4s 76us/step - loss: 1.8848 - acc: 0.4880 - val_loss: 2.5780 - val_acc: 0.3844\n",
      "Epoch 16/20\n",
      "50000/50000 [==============================] - 4s 75us/step - loss: 1.8435 - acc: 0.4968 - val_loss: 2.5874 - val_acc: 0.3830\n",
      "Epoch 17/20\n",
      "50000/50000 [==============================] - 4s 71us/step - loss: 1.8003 - acc: 0.5041 - val_loss: 2.5903 - val_acc: 0.3863\n",
      "Epoch 18/20\n",
      "50000/50000 [==============================] - 4s 76us/step - loss: 1.7668 - acc: 0.5149 - val_loss: 2.6125 - val_acc: 0.3821\n",
      "Epoch 19/20\n",
      "50000/50000 [==============================] - 4s 72us/step - loss: 1.7331 - acc: 0.5195 - val_loss: 2.6400 - val_acc: 0.3776\n",
      "Epoch 20/20\n",
      "50000/50000 [==============================] - 4s 73us/step - loss: 1.6905 - acc: 0.5311 - val_loss: 2.6484 - val_acc: 0.3817\n"
     ]
    },
    {
     "data": {
      "text/plain": [
       "<keras.callbacks.History at 0x7f804c08cf90>"
      ]
     },
     "execution_count": 89,
     "metadata": {},
     "output_type": "execute_result"
    }
   ],
   "source": [
    "model = Sequential()\n",
    "model.add(Flatten(input_shape=features_train.shape[1:]))\n",
    "model.add(BatchNormalization())\n",
    "model.add(Dense(1024, activation='relu'))\n",
    "model.add(BatchNormalization())\n",
    "model.add(Dropout(0.5))\n",
    "model.add(Dense(100, activation='softmax'))\n",
    "model.summary()\n",
    "\n",
    "optimizer_ = SGD(lr=0.01,momentum=0.9)\n",
    "model.compile(optimizer=optimizer_,loss='categorical_crossentropy', metrics=['accuracy'])\n",
    "model.fit(features_train, y_train,nb_epoch=20, batch_size=128,verbose=1,validation_data=(features_test,y_test))"
   ]
  },
  {
   "cell_type": "code",
   "execution_count": 57,
   "metadata": {},
   "outputs": [
    {
     "name": "stdout",
     "output_type": "stream",
     "text": [
      "('Test accuracy:', 0.3852)\n"
     ]
    }
   ],
   "source": [
    "score = model.evaluate(features_test, y_test,verbose=0)\n",
    "print('Test accuracy:', score[1])"
   ]
  },
  {
   "cell_type": "markdown",
   "metadata": {},
   "source": [
    "### fine tunning the last layers of vgg?"
   ]
  },
  {
   "cell_type": "code",
   "execution_count": 91,
   "metadata": {},
   "outputs": [
    {
     "name": "stdout",
     "output_type": "stream",
     "text": [
      "_________________________________________________________________\n",
      "Layer (type)                 Output Shape              Param #   \n",
      "=================================================================\n",
      "conv2d_84 (Conv2D)           (None, 2, 2, 512)         2359808   \n",
      "_________________________________________________________________\n",
      "conv2d_85 (Conv2D)           (None, 2, 2, 512)         2359808   \n",
      "_________________________________________________________________\n",
      "conv2d_86 (Conv2D)           (None, 2, 2, 512)         2359808   \n",
      "_________________________________________________________________\n",
      "max_pooling2d_18 (MaxPooling (None, 1, 1, 512)         0         \n",
      "_________________________________________________________________\n",
      "flatten_11 (Flatten)         (None, 512)               0         \n",
      "_________________________________________________________________\n",
      "batch_normalization_5 (Batch (None, 512)               2048      \n",
      "_________________________________________________________________\n",
      "dense_21 (Dense)             (None, 1024)              525312    \n",
      "_________________________________________________________________\n",
      "batch_normalization_6 (Batch (None, 1024)              4096      \n",
      "_________________________________________________________________\n",
      "dropout_11 (Dropout)         (None, 1024)              0         \n",
      "_________________________________________________________________\n",
      "dense_22 (Dense)             (None, 100)               102500    \n",
      "=================================================================\n",
      "Total params: 7,713,380\n",
      "Trainable params: 7,710,308\n",
      "Non-trainable params: 3,072\n",
      "_________________________________________________________________\n"
     ]
    }
   ],
   "source": [
    "#LOAD PRETRAINED MODEL \n",
    "input_tensor=Input(shape=x_train.shape[1:])\n",
    "modelVGG = VGG16(weights='imagenet', include_top=False,input_tensor=input_tensor )\n",
    "\n",
    "salida_vgg = modelVGG.get_layer('block4_pool').output_shape\n",
    "\n",
    "model = Sequential()\n",
    "model.add(Conv2D(512,(3, 3),input_shape=salida_vgg[1:],activation='relu',padding='same'))\n",
    "model.add(Conv2D(512,(3, 3),activation='relu',padding='same'))\n",
    "model.add(Conv2D(512,(3, 3),activation='relu',padding='same'))\n",
    "model.add(MaxPooling2D((2, 2),strides=(2,2)))    \n",
    "\n",
    "model.add(Flatten())\n",
    "model.add(BatchNormalization())\n",
    "model.add(Dense(1024, activation='relu'))\n",
    "model.add(BatchNormalization())\n",
    "model.add(Dropout(0.5))\n",
    "model.add(Dense(100, activation='softmax'))\n",
    "model.summary()\n",
    "\n",
    "#delete last 4 layers of VGG16 and transfer the weight to new model\n",
    "modelVGG.layers.pop() #delete last maxpooling\n",
    "import numpy as np\n",
    "for i in np.arange(2,-1,-1):\n",
    "    last = modelVGG.layers.pop()\n",
    "    model.layers[i].set_weights(last.get_weights())\n",
    "    \n",
    "from keras.models import Model\n",
    "crop_modelVGG = Model(inputs=modelVGG.input, outputs=modelVGG.layers[-1].output)"
   ]
  },
  {
   "cell_type": "code",
   "execution_count": 92,
   "metadata": {},
   "outputs": [],
   "source": [
    "features_train = crop_modelVGG.predict(x_train)\n",
    "features_test = crop_modelVGG.predict(x_test)"
   ]
  },
  {
   "cell_type": "code",
   "execution_count": 155,
   "metadata": {},
   "outputs": [
    {
     "data": {
      "text/plain": [
       "(50000, 2, 2, 512)"
      ]
     },
     "execution_count": 155,
     "metadata": {},
     "output_type": "execute_result"
    }
   ],
   "source": [
    "features_train.shape"
   ]
  },
  {
   "cell_type": "code",
   "execution_count": 93,
   "metadata": {
    "scrolled": true
   },
   "outputs": [
    {
     "name": "stdout",
     "output_type": "stream",
     "text": [
      "Train on 50000 samples, validate on 10000 samples\n",
      "Epoch 1/20\n",
      "50000/50000 [==============================] - 15s 302us/step - loss: 3.5809 - acc: 0.2015 - val_loss: 4.7692 - val_acc: 0.1631\n",
      "Epoch 2/20\n",
      "50000/50000 [==============================] - 13s 253us/step - loss: 2.7858 - acc: 0.3194 - val_loss: 3.2118 - val_acc: 0.2866\n",
      "Epoch 3/20\n",
      "50000/50000 [==============================] - 12s 250us/step - loss: 2.5351 - acc: 0.3682 - val_loss: 2.6870 - val_acc: 0.3395\n",
      "Epoch 4/20\n",
      "50000/50000 [==============================] - 13s 259us/step - loss: 2.3536 - acc: 0.3985 - val_loss: 2.7065 - val_acc: 0.3362\n",
      "Epoch 5/20\n",
      "50000/50000 [==============================] - 13s 255us/step - loss: 2.2071 - acc: 0.4284 - val_loss: 2.4731 - val_acc: 0.3952\n",
      "Epoch 6/20\n",
      "50000/50000 [==============================] - 12s 246us/step - loss: 2.1143 - acc: 0.4436 - val_loss: 2.4339 - val_acc: 0.3989\n",
      "Epoch 7/20\n",
      "50000/50000 [==============================] - 12s 243us/step - loss: 1.9857 - acc: 0.4658 - val_loss: 2.3049 - val_acc: 0.4176\n",
      "Epoch 8/20\n",
      "50000/50000 [==============================] - 12s 247us/step - loss: 1.8771 - acc: 0.4875 - val_loss: 2.2773 - val_acc: 0.4267\n",
      "Epoch 9/20\n",
      "50000/50000 [==============================] - 12s 245us/step - loss: 1.7824 - acc: 0.5076 - val_loss: 2.1439 - val_acc: 0.4488\n",
      "Epoch 10/20\n",
      "50000/50000 [==============================] - 12s 242us/step - loss: 1.6928 - acc: 0.5293 - val_loss: 2.3146 - val_acc: 0.4303\n",
      "Epoch 11/20\n",
      "50000/50000 [==============================] - 12s 246us/step - loss: 1.6218 - acc: 0.5468 - val_loss: 2.0940 - val_acc: 0.4668\n",
      "Epoch 12/20\n",
      "50000/50000 [==============================] - 12s 244us/step - loss: 1.5204 - acc: 0.5670 - val_loss: 2.2377 - val_acc: 0.4610\n",
      "Epoch 13/20\n",
      "50000/50000 [==============================] - 12s 244us/step - loss: 1.4519 - acc: 0.5837 - val_loss: 2.2402 - val_acc: 0.4522\n",
      "Epoch 14/20\n",
      "50000/50000 [==============================] - 12s 242us/step - loss: 1.3858 - acc: 0.5999 - val_loss: 2.2485 - val_acc: 0.4556\n",
      "Epoch 15/20\n",
      "50000/50000 [==============================] - 12s 248us/step - loss: 1.3046 - acc: 0.6177 - val_loss: 2.2838 - val_acc: 0.4649\n",
      "Epoch 16/20\n",
      "50000/50000 [==============================] - 12s 245us/step - loss: 1.2456 - acc: 0.6331 - val_loss: 2.4006 - val_acc: 0.4603\n",
      "Epoch 17/20\n",
      "50000/50000 [==============================] - 12s 243us/step - loss: 1.1647 - acc: 0.6528 - val_loss: 2.4660 - val_acc: 0.4487\n",
      "Epoch 18/20\n",
      "50000/50000 [==============================] - 12s 249us/step - loss: 1.0998 - acc: 0.6711 - val_loss: 2.5454 - val_acc: 0.4491\n",
      "Epoch 19/20\n",
      "50000/50000 [==============================] - 12s 246us/step - loss: 1.0377 - acc: 0.6884 - val_loss: 2.4834 - val_acc: 0.4585\n",
      "Epoch 20/20\n",
      "50000/50000 [==============================] - 12s 247us/step - loss: 0.9671 - acc: 0.7055 - val_loss: 2.6953 - val_acc: 0.4481\n"
     ]
    },
    {
     "data": {
      "text/plain": [
       "<keras.callbacks.History at 0x7f804f5466d0>"
      ]
     },
     "execution_count": 93,
     "metadata": {},
     "output_type": "execute_result"
    }
   ],
   "source": [
    "#ejecucion con 1060\n",
    "optimizer_ = SGD(lr=0.01,momentum=0.9)\n",
    "model.compile(optimizer=optimizer_,loss='categorical_crossentropy', metrics=['accuracy'])\n",
    "model.fit(features_train, y_train,nb_epoch=20, batch_size=128,verbose=1,validation_data=(features_test,y_test))"
   ]
  },
  {
   "cell_type": "code",
   "execution_count": 154,
   "metadata": {
    "scrolled": true
   },
   "outputs": [
    {
     "name": "stdout",
     "output_type": "stream",
     "text": [
      "Train on 50000 samples, validate on 10000 samples\n",
      "Epoch 1/20\n",
      "50000/50000 [==============================] - 71s 1ms/step - loss: 3.5162 - acc: 0.2141 - val_loss: 4.5538 - val_acc: 0.1687\n",
      "Epoch 2/20\n",
      "50000/50000 [==============================] - 68s 1ms/step - loss: 2.7403 - acc: 0.3285 - val_loss: 3.3330 - val_acc: 0.2599\n",
      "Epoch 3/20\n",
      "50000/50000 [==============================] - 70s 1ms/step - loss: 2.4660 - acc: 0.3810 - val_loss: 3.0097 - val_acc: 0.3091\n",
      "Epoch 4/20\n",
      "50000/50000 [==============================] - 69s 1ms/step - loss: 2.3159 - acc: 0.4078 - val_loss: 2.3625 - val_acc: 0.3901\n",
      "Epoch 5/20\n",
      "50000/50000 [==============================] - 68s 1ms/step - loss: 2.1864 - acc: 0.4350 - val_loss: 2.6770 - val_acc: 0.3600\n",
      "Epoch 6/20\n",
      "50000/50000 [==============================] - 69s 1ms/step - loss: 2.0560 - acc: 0.4586 - val_loss: 2.2441 - val_acc: 0.4212\n",
      "Epoch 7/20\n",
      "50000/50000 [==============================] - 70s 1ms/step - loss: 1.9507 - acc: 0.4754 - val_loss: 2.6159 - val_acc: 0.3780\n",
      "Epoch 8/20\n",
      "50000/50000 [==============================] - 70s 1ms/step - loss: 1.8337 - acc: 0.4964 - val_loss: 2.2827 - val_acc: 0.4357\n",
      "Epoch 9/20\n",
      "50000/50000 [==============================] - 70s 1ms/step - loss: 1.7313 - acc: 0.5201 - val_loss: 2.2304 - val_acc: 0.4448\n",
      "Epoch 10/20\n",
      "50000/50000 [==============================] - 70s 1ms/step - loss: 1.6515 - acc: 0.5417 - val_loss: 2.2368 - val_acc: 0.4501\n",
      "Epoch 11/20\n",
      "50000/50000 [==============================] - 74s 1ms/step - loss: 1.5710 - acc: 0.5571 - val_loss: 2.3132 - val_acc: 0.4378\n",
      "Epoch 12/20\n",
      "50000/50000 [==============================] - 71s 1ms/step - loss: 1.4942 - acc: 0.5753 - val_loss: 2.3122 - val_acc: 0.4393\n",
      "Epoch 13/20\n",
      "50000/50000 [==============================] - 69s 1ms/step - loss: 1.4184 - acc: 0.5906 - val_loss: 2.2882 - val_acc: 0.4622\n",
      "Epoch 14/20\n",
      "50000/50000 [==============================] - 69s 1ms/step - loss: 1.3487 - acc: 0.6087 - val_loss: 2.2598 - val_acc: 0.4641\n",
      "Epoch 15/20\n",
      "50000/50000 [==============================] - 69s 1ms/step - loss: 1.2801 - acc: 0.6266 - val_loss: 2.2770 - val_acc: 0.4644\n",
      "Epoch 16/20\n",
      "50000/50000 [==============================] - 69s 1ms/step - loss: 1.2069 - acc: 0.6428 - val_loss: 2.3270 - val_acc: 0.4538\n",
      "Epoch 17/20\n",
      "50000/50000 [==============================] - 69s 1ms/step - loss: 1.1306 - acc: 0.6638 - val_loss: 2.4070 - val_acc: 0.4600\n",
      "Epoch 18/20\n",
      "50000/50000 [==============================] - 70s 1ms/step - loss: 1.0667 - acc: 0.6823 - val_loss: 2.5149 - val_acc: 0.4582\n",
      "Epoch 19/20\n",
      "50000/50000 [==============================] - 73s 1ms/step - loss: 0.9954 - acc: 0.6989 - val_loss: 2.4954 - val_acc: 0.4579\n",
      "Epoch 20/20\n",
      "50000/50000 [==============================] - 71s 1ms/step - loss: 0.9306 - acc: 0.7145 - val_loss: 2.5532 - val_acc: 0.4643\n"
     ]
    },
    {
     "data": {
      "text/plain": [
       "<keras.callbacks.History at 0x7f6d8f96ee90>"
      ]
     },
     "execution_count": 154,
     "metadata": {},
     "output_type": "execute_result"
    }
   ],
   "source": [
    "optimizer_ = SGD(lr=0.01,momentum=0.9,decay=1e-6)\n",
    "model.compile(optimizer=optimizer_,loss='categorical_crossentropy', metrics=['accuracy'])\n",
    "model.fit(features_train, y_train,nb_epoch=20, batch_size=128,verbose=1,validation_data=(features_test,y_test))"
   ]
  },
  {
   "cell_type": "code",
   "execution_count": 156,
   "metadata": {},
   "outputs": [
    {
     "name": "stdout",
     "output_type": "stream",
     "text": [
      "('Test accuracy:', 0.4643)\n"
     ]
    }
   ],
   "source": [
    "score = model.evaluate(features_test, y_test,verbose=0)\n",
    "print('Test accuracy:', score[1])"
   ]
  }
 ],
 "metadata": {
  "kernelspec": {
   "display_name": "Python 2",
   "language": "python",
   "name": "python2"
  },
  "language_info": {
   "codemirror_mode": {
    "name": "ipython",
    "version": 2
   },
   "file_extension": ".py",
   "mimetype": "text/x-python",
   "name": "python",
   "nbconvert_exporter": "python",
   "pygments_lexer": "ipython2",
   "version": "2.7.14"
  }
 },
 "nbformat": 4,
 "nbformat_minor": 2
}
