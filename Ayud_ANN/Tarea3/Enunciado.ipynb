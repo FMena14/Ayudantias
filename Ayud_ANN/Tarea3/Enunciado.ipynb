{
 "cells": [
  {
   "cell_type": "markdown",
   "metadata": {},
   "source": [
    "dropout y regularizacion (batch normalization) en CNN  \n",
    "redes recurrentes tradicionales  \n",
    "redes recurrente (texto)  \n",
    "autoencoder (tradicional)  \n",
    "autoencoder (convolucional)\n",
    "\n",
    "1 redes recurrentes en series de tiempo  \n",
    "2 Redes recurrentes sobre texto  \n",
    "3 Autoencoder  \n",
    "4 regulerazacion en CNN -meter batch normalization con transferlearning\n"
   ]
  }
 ],
 "metadata": {
  "kernelspec": {
   "display_name": "Python 2",
   "language": "python",
   "name": "python2"
  },
  "language_info": {
   "codemirror_mode": {
    "name": "ipython",
    "version": 2
   },
   "file_extension": ".py",
   "mimetype": "text/x-python",
   "name": "python",
   "nbconvert_exporter": "python",
   "pygments_lexer": "ipython2",
   "version": "2.7.14"
  }
 },
 "nbformat": 4,
 "nbformat_minor": 2
}
