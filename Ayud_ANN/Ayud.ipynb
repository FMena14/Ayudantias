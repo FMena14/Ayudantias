{
 "cells": [
  {
   "cell_type": "markdown",
   "metadata": {},
   "source": [
    "<img src=\"http://www.exalumnos.usm.cl/wp-content/uploads/2015/06/Isotipo-Negro.gif\" title=\"Title text\" width=\"20%\" height=\"20%\" />\n",
    "\n",
    "\n",
    "<hr style=\"height:2px;border:none\"/>\n",
    "<h1 align='center'> INF-395/477 Redes Neuronales Artificiales I-2018 </h1>\n",
    "\n",
    "<H3 align='center'> Ayudantía - Redes Neuronales </H3>\n",
    "<hr style=\"height:2px;border:none\"/>\n",
    "\n",
    "**Temas**  \n",
    "* Arquitecturas, Algoritmos y Aplicaciones Recientes.\n",
    " \n",
    "\n",
    "\n",
    "<hr style=\"height:2px;border:none\"/>\n",
    "\n",
    "https://adeshpande3.github.io/The-9-Deep-Learning-Papers-You-Need-To-Know-About.html\n",
    "\n",
    "* ImageNet\n",
    "    * Alexnet\n",
    "    * VGG\n",
    "    * ResNet\n",
    "    * Inception\n",
    "    * Facebook -pretrain (https://research.fb.com/publications/exploring-the-limits-of-weakly-supervised-pretraining/)\n",
    "    \n",
    "* Atentions models -recurrent\n",
    "\n",
    "* GANs\n",
    "\n",
    "* VQA\n",
    "Demo: http://visualqa.csail.mit.edu/\n",
    "Upload demo: https://vqa.cloudcv.org/\n",
    "* YOLO .. ./darknet detector demo cfg/coco.data cfg/yolov3.cfg yolov3.weights\n",
    "Demo : https://pjreddie.com/darknet/yolo/"
   ]
  },
  {
   "cell_type": "code",
   "execution_count": null,
   "metadata": {},
   "outputs": [],
   "source": []
  }
 ],
 "metadata": {
  "kernelspec": {
   "display_name": "Python 2",
   "language": "python",
   "name": "python2"
  },
  "language_info": {
   "codemirror_mode": {
    "name": "ipython",
    "version": 2
   },
   "file_extension": ".py",
   "mimetype": "text/x-python",
   "name": "python",
   "nbconvert_exporter": "python",
   "pygments_lexer": "ipython2",
   "version": "2.7.14"
  }
 },
 "nbformat": 4,
 "nbformat_minor": 2
}
